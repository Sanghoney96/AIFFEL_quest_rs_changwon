{
 "cells": [
  {
   "cell_type": "code",
   "execution_count": 1,
   "id": "c942bc31",
   "metadata": {},
   "outputs": [],
   "source": [
    "#단어집합 5,000개, 10,000개, 15,000개"
   ]
  },
  {
   "cell_type": "code",
   "execution_count": 2,
   "id": "be3df3b9",
   "metadata": {},
   "outputs": [],
   "source": [
    "from tensorflow.keras.datasets import reuters\n",
    "import matplotlib.pyplot as plt\n",
    "import seaborn as sns\n",
    "import numpy as np\n",
    "import pandas as pd"
   ]
  },
  {
   "cell_type": "code",
   "execution_count": 3,
   "id": "672416f9",
   "metadata": {
    "scrolled": true
   },
   "outputs": [
    {
     "name": "stdout",
     "output_type": "stream",
     "text": [
      "Downloading data from https://storage.googleapis.com/tensorflow/tf-keras-datasets/reuters.npz\n",
      "2113536/2110848 [==============================] - 0s 0us/step\n",
      "2121728/2110848 [==============================] - 0s 0us/step\n"
     ]
    }
   ],
   "source": [
    "(x_train_5000, y_train_5000), (x_test_5000, y_test_5000) = reuters.load_data(num_words=5000, test_split=0.2)\n",
    "(x_train_10000, y_train_10000), (x_test_10000, y_test_10000) = reuters.load_data(num_words=10000, test_split=0.2)\n",
    "(x_train_15000, y_train_15000), (x_test_15000, y_test_15000) = reuters.load_data(num_words=15000, test_split=0.2)"
   ]
  },
  {
   "cell_type": "code",
   "execution_count": 4,
   "id": "d0543338",
   "metadata": {},
   "outputs": [
    {
     "name": "stdout",
     "output_type": "stream",
     "text": [
      "훈련 샘플의 수: 8982\n",
      "테스트 샘플의 수: 2246\n"
     ]
    }
   ],
   "source": [
    "# 샘플 개수 확인\n",
    "print('훈련 샘플의 수: {}'.format(len(x_train_5000)))\n",
    "print('테스트 샘플의 수: {}'.format(len(x_test_5000)))"
   ]
  },
  {
   "cell_type": "code",
   "execution_count": 5,
   "id": "2baa3902",
   "metadata": {},
   "outputs": [
    {
     "data": {
      "text/plain": [
       "46"
      ]
     },
     "execution_count": 5,
     "metadata": {},
     "output_type": "execute_result"
    }
   ],
   "source": [
    "# 클래스 개수 확인\n",
    "\n",
    "num_classes = len(set(y_train_5000))\n",
    "num_classes"
   ]
  },
  {
   "cell_type": "code",
   "execution_count": 6,
   "id": "f524a342",
   "metadata": {},
   "outputs": [
    {
     "name": "stdout",
     "output_type": "stream",
     "text": [
      "단어집합 뉴스의 최대 길이 :2376\n",
      "단어집합 뉴스의 평균 길이 :145.5398574927633\n"
     ]
    }
   ],
   "source": [
    "print('단어집합 뉴스의 최대 길이 :{}'.format(max(len(l) for l in x_train_5000)))\n",
    "print('단어집합 뉴스의 평균 길이 :{}'.format(sum(map(len, x_train_5000))/len(x_train_5000)))"
   ]
  },
  {
   "cell_type": "code",
   "execution_count": 7,
   "id": "81c3a43f",
   "metadata": {},
   "outputs": [
    {
     "data": {
      "image/png": "[encoded data removed]",
      "text/plain": [
       "<Figure size 1080x360 with 3 Axes>"
      ]
     },
     "metadata": {
      "needs_background": "light"
     },
     "output_type": "display_data"
    }
   ],
   "source": [
    "# 뉴스 문장 길이 확인\n",
    "\n",
    "plt.figure(figsize=(15, 5))\n",
    "\n",
    "plt.subplot(1, 3, 1)\n",
    "plt.hist([len(s) for s in x_train_5000], bins=50)\n",
    "plt.xlabel('length of samples')\n",
    "plt.ylabel('number of samples')\n",
    "\n",
    "plt.subplot(1, 3, 2)\n",
    "plt.hist([len(s) for s in x_train_10000], bins=50)\n",
    "plt.xlabel('length of samples')\n",
    "plt.ylabel('number of samples')\n",
    "\n",
    "plt.subplot(1, 3, 3)\n",
    "plt.hist([len(s) for s in x_train_15000], bins=50)\n",
    "plt.xlabel('length of samples')\n",
    "plt.ylabel('number of samples')\n",
    "\n",
    "plt.show()"
   ]
  },
  {
   "cell_type": "code",
   "execution_count": 8,
   "id": "1741f0a9",
   "metadata": {
    "scrolled": true
   },
   "outputs": [
    {
     "data": {
      "image/png": "[encoded data removed]",
      "text/plain": [
       "<Figure size 792x360 with 1 Axes>"
      ]
     },
     "metadata": {
      "needs_background": "light"
     },
     "output_type": "display_data"
    }
   ],
   "source": [
    "# 클래스 분포 확인\n",
    "\n",
    "fig, axe = plt.subplots(ncols=1)\n",
    "fig.set_size_inches(11,5)\n",
    "sns.countplot(x=y_train_10000)\n",
    "plt.show()"
   ]
  },
  {
   "cell_type": "code",
   "execution_count": 9,
   "id": "356d996c",
   "metadata": {},
   "outputs": [
    {
     "data": {
      "text/plain": [
       "(array([ 0,  1,  2,  3,  4,  5,  6,  7,  8,  9, 10, 11, 12, 13, 14, 15, 16,\n",
       "        17, 18, 19, 20, 21, 22, 23, 24, 25, 26, 27, 28, 29, 30, 31, 32, 33,\n",
       "        34, 35, 36, 37, 38, 39, 40, 41, 42, 43, 44, 45]),\n",
       " array([  55,  432,   74, 3159, 1949,   17,   48,   16,  139,  101,  124,\n",
       "         390,   49,  172,   26,   20,  444,   39,   66,  549,  269,  100,\n",
       "          15,   41,   62,   92,   24,   15,   48,   19,   45,   39,   32,\n",
       "          11,   50,   10,   49,   19,   19,   24,   36,   30,   13,   21,\n",
       "          12,   18]))"
      ]
     },
     "execution_count": 9,
     "metadata": {},
     "output_type": "execute_result"
    }
   ],
   "source": [
    "# 각 클래스별 개수 확인\n",
    "\n",
    "np.unique(y_train_10000, return_counts=True)"
   ]
  },
  {
   "cell_type": "code",
   "execution_count": 10,
   "id": "6ddeb5d3",
   "metadata": {},
   "outputs": [
    {
     "name": "stdout",
     "output_type": "stream",
     "text": [
      "Downloading data from https://storage.googleapis.com/tensorflow/tf-keras-datasets/reuters_word_index.json\n",
      "557056/550378 [==============================] - 0s 0us/step\n",
      "565248/550378 [==============================] - 0s 0us/step\n"
     ]
    }
   ],
   "source": [
    "# 정수 시퀀스를 텍스트로 변환한 단어사전 생성\n",
    "word_index = reuters.get_word_index(path=\"reuters_word_index.json\")"
   ]
  },
  {
   "cell_type": "code",
   "execution_count": 11,
   "id": "e4094f88",
   "metadata": {},
   "outputs": [
    {
     "data": {
      "text/plain": [
       "30979"
      ]
     },
     "execution_count": 11,
     "metadata": {},
     "output_type": "execute_result"
    }
   ],
   "source": [
    "len(word_index.items())"
   ]
  },
  {
   "cell_type": "code",
   "execution_count": 12,
   "id": "d20c49ae",
   "metadata": {},
   "outputs": [
    {
     "data": {
      "text/plain": [
       "13"
      ]
     },
     "execution_count": 12,
     "metadata": {},
     "output_type": "execute_result"
    }
   ],
   "source": [
    "word_index['it']"
   ]
  },
  {
   "cell_type": "code",
   "execution_count": 13,
   "id": "087e3e69",
   "metadata": {},
   "outputs": [],
   "source": [
    "# 시퀀스-단어 사전 생성(특이토큰 3개는 인덱스에서 제외)\n",
    "index_to_word = { index+3 : word for word, index in word_index.items() }"
   ]
  },
  {
   "cell_type": "code",
   "execution_count": 14,
   "id": "47dfc5ce",
   "metadata": {},
   "outputs": [],
   "source": [
    "# 특이토큰에 인덱스 할당\n",
    "for index, token in enumerate((\"<pad>\", \"<sos>\", \"<unk>\")):\n",
    "  index_to_word[index]=token"
   ]
  },
  {
   "cell_type": "code",
   "execution_count": 15,
   "id": "b2d71630",
   "metadata": {},
   "outputs": [
    {
     "name": "stdout",
     "output_type": "stream",
     "text": [
      "<pad>\n",
      "<sos>\n",
      "<unk>\n"
     ]
    }
   ],
   "source": [
    "print(index_to_word[0])\n",
    "print(index_to_word[1])\n",
    "print(index_to_word[2])"
   ]
  },
  {
   "cell_type": "code",
   "execution_count": 16,
   "id": "f15e1374",
   "metadata": {},
   "outputs": [
    {
     "name": "stdout",
     "output_type": "stream",
     "text": [
      "<sos> generale de banque sa lt <unk> <unk> and lt heller overseas corp of chicago have each taken 50 pct stakes in <unk> company sa <unk> factors generale de banque said in a statement it gave no financial details of the transaction sa <unk> <unk> turnover in 1986 was 17 5 billion belgian francs reuter 3\n"
     ]
    }
   ],
   "source": [
    "# 1번 기사를 단어사전 5,000개를 활용하여 텍스트로 복원\n",
    "print(' '.join([index_to_word[index] for index in x_train_5000[1]]))"
   ]
  },
  {
   "cell_type": "code",
   "execution_count": 17,
   "id": "3dcb3001",
   "metadata": {},
   "outputs": [
    {
     "name": "stdout",
     "output_type": "stream",
     "text": [
      "<sos> generale de banque sa lt <unk> br and lt heller overseas corp of chicago have each taken 50 pct stakes in <unk> company sa <unk> factors generale de banque said in a statement it gave no financial details of the transaction sa <unk> <unk> turnover in 1986 was 17 5 billion belgian francs reuter 3\n"
     ]
    }
   ],
   "source": [
    "# 1번 기사를 단어사전 10,000개를 활용하여 텍스트로 복원\n",
    "print(' '.join([index_to_word[index] for index in x_train_10000[1]]))"
   ]
  },
  {
   "cell_type": "code",
   "execution_count": 18,
   "id": "c204ecad",
   "metadata": {},
   "outputs": [
    {
     "name": "stdout",
     "output_type": "stream",
     "text": [
      "<sos> generale de banque sa lt <unk> br and lt heller overseas corp of chicago have each taken 50 pct stakes in <unk> company sa belgo factors generale de banque said in a statement it gave no financial details of the transaction sa belgo <unk> turnover in 1986 was 17 5 billion belgian francs reuter 3\n"
     ]
    }
   ],
   "source": [
    "# 1번 기사를 단어사전 15,000개를 활용하여 텍스트로 복원\n",
    "print(' '.join([index_to_word[index] for index in x_train_15000[1]]))"
   ]
  },
  {
   "cell_type": "code",
   "execution_count": 19,
   "id": "ac57c465",
   "metadata": {},
   "outputs": [],
   "source": [
    "# br, belgo 등의 단어가 unk 처리됨"
   ]
  },
  {
   "cell_type": "code",
   "execution_count": 20,
   "id": "c37c5fb2",
   "metadata": {},
   "outputs": [
    {
     "name": "stdout",
     "output_type": "stream",
     "text": [
      "the transaction is expected to be completed\n"
     ]
    }
   ],
   "source": [
    "print(' '.join([index_to_word[index] for index in [4, 587, 23, 133, 6, 30, 515]]))"
   ]
  },
  {
   "cell_type": "code",
   "execution_count": 21,
   "id": "0a611eec",
   "metadata": {},
   "outputs": [],
   "source": [
    "# 5,000개 단어사전을 사용하여 학습데이터 및 테스트데이터 텍스트 변환\n",
    "\n",
    "train_decoded = []\n",
    "for i in range(len(x_train_5000)):\n",
    "    t = ' '.join([index_to_word[index] for index in x_train_5000[i]])\n",
    "    train_decoded.append(t)\n",
    "\n",
    "x_train_5000 = train_decoded\n",
    "\n",
    "test_decoded = []\n",
    "for i in range(len(x_test_5000)):\n",
    "    t = ' '.join([index_to_word[index] for index in x_test_5000[i]])\n",
    "    test_decoded.append(t)\n",
    "\n",
    "x_test_5000 = test_decoded"
   ]
  },
  {
   "cell_type": "code",
   "execution_count": 22,
   "id": "e65dc82a",
   "metadata": {},
   "outputs": [],
   "source": [
    "# 10,000개 단어사전을 사용하여 학습데이터 및 테스트데이터 텍스트 변환\n",
    "\n",
    "train_decoded = []\n",
    "for i in range(len(x_train_10000)):\n",
    "    t = ' '.join([index_to_word[index] for index in x_train_10000[i]])\n",
    "    train_decoded.append(t)\n",
    "\n",
    "x_train_10000 = train_decoded\n",
    "\n",
    "test_decoded = []\n",
    "for i in range(len(x_test_10000)):\n",
    "    t = ' '.join([index_to_word[index] for index in x_test_10000[i]])\n",
    "    test_decoded.append(t)\n",
    "\n",
    "x_test_10000 = test_decoded"
   ]
  },
  {
   "cell_type": "code",
   "execution_count": 23,
   "id": "a7b9b0c7",
   "metadata": {},
   "outputs": [],
   "source": [
    "# 15,000개 단어사전을 사용하여 학습데이터 및 테스트데이터 텍스트 변환\n",
    "\n",
    "train_decoded = []\n",
    "for i in range(len(x_train_15000)):\n",
    "    t = ' '.join([index_to_word[index] for index in x_train_15000[i]])\n",
    "    train_decoded.append(t)\n",
    "\n",
    "x_train_15000 = train_decoded\n",
    "\n",
    "test_decoded = []\n",
    "for i in range(len(x_test_15000)):\n",
    "    t = ' '.join([index_to_word[index] for index in x_test_15000[i]])\n",
    "    test_decoded.append(t)\n",
    "\n",
    "x_test_15000 = test_decoded"
   ]
  },
  {
   "cell_type": "code",
   "execution_count": 24,
   "id": "cd1a01e0",
   "metadata": {
    "scrolled": true
   },
   "outputs": [
    {
     "name": "stdout",
     "output_type": "stream",
     "text": [
      "['<sos> <unk> <unk> said as a result of its december acquisition of space co it expects earnings per share in 1987 of 1 15 to 1 30 dlrs per share up from 70 cts in 1986 the company said pretax net should rise to nine to 10 mln dlrs from six mln dlrs in 1986 and rental operation revenues to 19 to 22 mln dlrs from 12 5 mln dlrs it said cash flow per share this year should be 2 50 to three dlrs reuter 3', '<sos> generale de banque sa lt <unk> br and lt heller overseas corp of chicago have each taken 50 pct stakes in <unk> company sa <unk> factors generale de banque said in a statement it gave no financial details of the transaction sa <unk> <unk> turnover in 1986 was 17 5 billion belgian francs reuter 3', '<sos> shr 3 28 dlrs vs 22 cts shr diluted 2 99 dlrs vs 22 cts net 46 0 mln vs 3 328 000 avg shrs 14 0 mln vs 15 2 mln year shr 5 41 dlrs vs 1 56 dlrs shr diluted 4 94 dlrs vs 1 50 dlrs net 78 2 mln vs 25 9 mln avg shrs 14 5 mln vs 15 1 mln note earnings per share reflect the two for one split effective january 6 1987 per share amounts are calculated after preferred stock dividends loss continuing operations for the qtr 1986 includes gains of sale of investments in <unk> corp of 14 mln dlrs and associated companies of 4 189 000 less writedowns of investments in national <unk> inc of 11 8 mln and <unk> corp of 15 6 mln reuter 3', \"<sos> the farmers home administration the u s agriculture department's farm lending arm could lose about seven billion dlrs in outstanding principal on its severely <unk> borrowers or about one fourth of its farm loan portfolio the general accounting office gao said in remarks prepared for delivery to the senate agriculture committee brian crowley senior associate director of gao also said that a preliminary analysis of proposed changes in <unk> financial eligibility standards indicated as many as one half of <unk> borrowers who received new loans from the agency in 1986 would be <unk> under the proposed system the agency has proposed evaluating <unk> credit using a variety of financial ratios instead of relying solely on <unk> ability senate agriculture committee chairman patrick leahy d vt <unk> the proposed eligibility changes telling <unk> administrator <unk> clark at a hearing that they would mark a dramatic shift in the agency's purpose away from being farmers' lender of last resort toward becoming a big city bank but clark defended the new regulations saying the agency had a responsibility to <unk> its 70 billion dlr loan portfolio in a <unk> yet <unk> manner crowley of gao <unk> <unk> arm said the proposed credit <unk> system attempted to ensure that <unk> would make loans only to borrowers who had a reasonable change of repaying their debt reuter 3\", '<sos> seton co said its board has received a proposal from chairman and chief executive officer philip d <unk> to acquire seton for 15 75 dlrs per share in cash seton said the acquisition bid is subject to <unk> arranging the necessary financing it said he intends to ask other members of senior management to participate the company said <unk> owns 30 pct of seton stock and other management members another 7 5 pct seton said it has formed an independent board committee to consider the offer and has deferred the annual meeting it had scheduled for march 31 reuter 3']\n",
      "\n",
      "\n",
      "['<sos> the great atlantic and pacific tea co said its three year 345 mln dlr capital program will be be substantially increased to <unk> growth and expansion plans for <unk> inc and <unk> inc over the next two years a and p said the acquisition of <unk> in august 1986 and <unk> in december helped us achieve better than expected results in the fourth quarter ended february 28 its net income from continuing operations jumped 52 6 pct to 20 7 mln dlrs or 55 cts a share in the latest quarter as sales increased 48 3 pct to 1 58 billion dlrs a and p gave no details on the expanded capital program but it did say it completed the first year of the program during 1986 a and p is 52 4 pct owned by lt <unk> <unk> of west germany reuter 3', \"<sos> philippine sugar production in the 1987 88 crop year ending august has been set at 1 6 mln tonnes up from a provisional 1 3 mln tonnes this year sugar regulatory administration <unk> chairman <unk> yulo said yulo told reuters a survey during the current milling season which ends next month showed the 1986 87 estimate would almost certainly be met he said at least 1 2 mln tonnes of the 1987 88 crop would be earmarked for domestic consumption yulo said about 130 000 tonnes would be set aside for the u s sugar quota 150 000 tonnes for strategic reserves and 50 000 tonnes would be sold on the world market he said if the government approved a long standing <unk> recommendation to manufacture ethanol the project would take up another 150 000 tonnes slightly raising the target the government for its own reasons has been delaying approval of the project but we expect it to come through by july yulo said ethanol could make up five pct of gasoline cutting the oil import bill by about 300 mln pesos yulo said three major philippine <unk> were ready to start manufacturing ethanol if the project was approved the ethanol project would result in employment for about 100 000 people sharply reducing those thrown out of work by depressed world sugar prices and a <unk> domestic industry production quotas set for the first time in 1987 88 had been submitted to president corazon aquino i think the president would rather wait <unk> the new congress <unk> after the may elections he said but there is really no need for such quotas we are right now producing just slightly over our own consumption level the producers have never enjoyed such high prices yulo said adding sugar was currently selling locally for 320 pesos per <unk> up from 190 pesos last august yulo said prices were driven up because of speculation following the <unk> bid to control production we are no longer concerned so much with the world market he said adding producers in the <unk> region had learned from their <unk> and diversified into corn and <unk> farming and <unk> production he said diversification into products other than ethanol was also possible within the sugar industry the <unk> long ago <unk> their <unk> yulo said they have 300 sugar mills compared with our 41 but they <unk> many of them and diversified production we want to call this a <unk> <unk> instead of the sugar industry he said sugarcane could be fed to pigs and livestock used for <unk> <unk> or used in room <unk> when you cut sugarcane you don't even have to produce sugar he said yulo said the philippines was lobbying for a renewal of the international sugar agreement which expired in 1984 as a major sugar producer we are urging them to write a new agreement which would revive world prices yulo said if there is no agreement world prices will always be depressed particularly because the european community is <unk> its producers and dumping sugar on the markets he said current world prices holding steady at about 7 60 cents per pound were <unk> for the philippines where production costs ranged from 12 to 14 cents a pound if the price holds steady for a while at 7 60 cents i expect the level to rise to about 11 cents a pound by the end of this year he said yulo said economists forecast a bullish sugar market by 1990 with world consumption <unk> production he said sugar markets were holding up despite <unk> from artificial sweeteners and high fructose corn syrup but we are not happy with the reagan administration he said since <unk> we have been regular suppliers of sugar to the u s in 1982 when they restored the quota system they cut <unk> in half without any justification manila was <unk> watching washington's moves to cut domestic support prices to 12 cents a pound from 18 cents the u s agriculture department last december slashed its 12 month 1987 sugar import quota from the philippines to 143 780 short tons from 231 660 short tons in 1986 yulo said despite next year's increased production target some philippine mills were expected to shut down at least four of the 41 mills were not working during the 1986 87 season he said we expect two or three more to follow suit during the next season reuter 3\", \"<sos> the agriculture department's widening of louisiana gulf differentials will affect county posted prices for number two yellow corn in ten states a usda official said all counties in iowa will be affected as will counties which use the gulf to price corn in illinois indiana tennessee kentucky missouri mississippi arkansas alabama and louisiana said <unk> <unk> deputy director of commodity operations division for the usda usda last night notified the grain industry that effective immediately all gulf differentials used to price interior corn would be widened on a sliding scale basis of four to eight cts depending on what the differential is usda's action was taken to lower excessively high posted county prices for corn caused by high gulf prices we've been following this louisiana gulf situation for a month and we don't think it's going to get back in line in any nearby time <unk> said <unk> said usda will probably narrow back the gulf differentials when and if gulf prices <unk> if we're off the mark now because we're too high wouldn't we be as much off the mark if we're too low he said while forecasting more adjustments if gulf prices fall <unk> said no other changes in usda's price system are being planned right now we don't tinker we don't make changes <unk> and we don't make changes often he said reuter 3\", '<sos> <unk> <unk> oil and gas partnership said it completed the sale of interests in two major oil and gas fields to lt energy assets international corp for 21 mln dlrs the company said it sold about one half of its 50 pct interest in the oak hill and north <unk> fields its two largest producing properties it said it used about 20 mln dlrs of the proceeds to <unk> principal on its senior secured notes semi annual principal payments on the remaining 40 mln dlrs of notes have been satisfied until december 1988 as a result it said the company said the note agreements were amended to reflect an easing of some financial covenants and an increase of interest to 13 5 pct from 13 0 pct until december 1990 it said the <unk> exercise price for 1 125 000 warrants was also reduced to 50 cts from 1 50 dlrs the company said energy assets agreed to share the costs of increasing production at the oak hill field reuter 3', '<sos> strong south <unk> winds were keeping many vessels trapped in the ice off the finnish and swedish coasts in one of the worst icy periods in the baltic for many years the finnish board of navigation said in finland and sweden up to 50 vessels were reported to be stuck in the ice and even the largest of the <unk> <unk> were having difficulties in breaking through to the <unk> ships <unk> officials said however icy conditions in the southern baltic at the soviet oil ports of <unk> and <unk> had eased they said weather officials in neighbouring sweden said the icy conditions in the baltic were the worst for 30 years with ships fighting a losing battle to keep moving in the coastal stretches of the gulf of <unk> which <unk> finland and sweden the ice is up to one <unk> thick with <unk> and <unk> packing it into almost <unk> walls three metres high swedish <unk> officials said weather forecasts say winds may ease during the weekend but a further drop in temperature could bring shipping to a standstill the officials said reuter 3']\n"
     ]
    }
   ],
   "source": [
    "print(x_train_10000[:5])\n",
    "print('\\n')\n",
    "print(x_test_10000[:5])"
   ]
  },
  {
   "cell_type": "code",
   "execution_count": 25,
   "id": "3191852c",
   "metadata": {},
   "outputs": [],
   "source": [
    "from sklearn.feature_extraction.text import CountVectorizer\n",
    "from sklearn.feature_extraction.text import TfidfTransformer"
   ]
  },
  {
   "cell_type": "code",
   "execution_count": 26,
   "id": "f15639fc",
   "metadata": {},
   "outputs": [
    {
     "name": "stdout",
     "output_type": "stream",
     "text": [
      "(8982, 4867)\n",
      "(8982, 9670)\n",
      "(8982, 14227)\n"
     ]
    }
   ],
   "source": [
    "# 학습데이터 DTM 생성\n",
    "\n",
    "dtmvector_5000 = CountVectorizer()\n",
    "dtmvector_10000 = CountVectorizer()\n",
    "dtmvector_15000 = CountVectorizer()\n",
    "\n",
    "x_train_5000_dtm = dtmvector_5000.fit_transform(x_train_5000)\n",
    "x_train_10000_dtm = dtmvector_10000.fit_transform(x_train_10000)\n",
    "x_train_15000_dtm = dtmvector_15000.fit_transform(x_train_15000)\n",
    "\n",
    "print(x_train_5000_dtm.shape)\n",
    "print(x_train_10000_dtm.shape)\n",
    "print(x_train_15000_dtm.shape)"
   ]
  },
  {
   "cell_type": "code",
   "execution_count": 27,
   "id": "b7ee392d",
   "metadata": {},
   "outputs": [
    {
     "name": "stdout",
     "output_type": "stream",
     "text": [
      "(8982, 4867)\n",
      "(8982, 9670)\n",
      "(8982, 14227)\n"
     ]
    }
   ],
   "source": [
    "# 학습데이터 TF-IDF 생성\n",
    "\n",
    "tfidf_transformer_5000 = TfidfTransformer()\n",
    "tfidf_transformer_10000 = TfidfTransformer()\n",
    "tfidf_transformer_15000 = TfidfTransformer()\n",
    "\n",
    "x_train_5000_tfidfv = tfidf_transformer_5000.fit_transform(x_train_5000_dtm)\n",
    "x_train_10000_tfidfv = tfidf_transformer_10000.fit_transform(x_train_10000_dtm)\n",
    "x_train_15000_tfidfv = tfidf_transformer_15000.fit_transform(x_train_15000_dtm)\n",
    "\n",
    "print(x_train_5000_tfidfv.shape)\n",
    "print(x_train_10000_tfidfv.shape)\n",
    "print(x_train_15000_tfidfv.shape)"
   ]
  },
  {
   "cell_type": "code",
   "execution_count": 28,
   "id": "de773aa4",
   "metadata": {},
   "outputs": [
    {
     "name": "stdout",
     "output_type": "stream",
     "text": [
      "(2246, 4867)\n",
      "(2246, 9670)\n",
      "(2246, 14227)\n"
     ]
    }
   ],
   "source": [
    "# 테스트데이터 DTM 생성\n",
    "\n",
    "x_test_5000_dtm = dtmvector_5000.transform(x_test_5000)\n",
    "x_test_10000_dtm = dtmvector_10000.transform(x_test_10000)\n",
    "x_test_15000_dtm = dtmvector_15000.transform(x_test_15000)\n",
    "\n",
    "print(x_test_5000_dtm.shape)\n",
    "print(x_test_10000_dtm.shape)\n",
    "print(x_test_15000_dtm.shape)"
   ]
  },
  {
   "cell_type": "code",
   "execution_count": 29,
   "id": "a33e0147",
   "metadata": {},
   "outputs": [
    {
     "name": "stdout",
     "output_type": "stream",
     "text": [
      "(2246, 4867)\n",
      "(2246, 9670)\n",
      "(2246, 14227)\n"
     ]
    }
   ],
   "source": [
    "# 테스트데이터 TF-IDF 생성\n",
    "\n",
    "x_test_5000_tfidfv = tfidf_transformer_5000.transform(x_test_5000_dtm)\n",
    "x_test_10000_tfidfv = tfidf_transformer_10000.transform(x_test_10000_dtm)\n",
    "x_test_15000_tfidfv = tfidf_transformer_15000.transform(x_test_15000_dtm)\n",
    "\n",
    "print(x_test_5000_tfidfv.shape)\n",
    "print(x_test_10000_tfidfv.shape)\n",
    "print(x_test_15000_tfidfv.shape)"
   ]
  },
  {
   "cell_type": "code",
   "execution_count": 30,
   "id": "0d767021",
   "metadata": {},
   "outputs": [],
   "source": [
    "from sklearn.linear_model import LogisticRegression, SGDClassifier\n",
    "from sklearn.naive_bayes import ComplementNB\n",
    "from sklearn.tree import DecisionTreeClassifier\n",
    "from sklearn.ensemble import RandomForestClassifier\n",
    "from sklearn.ensemble import GradientBoostingClassifier\n",
    "from sklearn.ensemble import VotingClassifier\n",
    "from sklearn.svm import LinearSVC\n",
    "from sklearn.metrics import accuracy_score, classification_report"
   ]
  },
  {
   "cell_type": "code",
   "execution_count": 31,
   "id": "1f979861",
   "metadata": {},
   "outputs": [],
   "source": [
    "def model_train_evaluate(model, x_train, y_train, x_test, y_test, model_name=\"Model\"):\n",
    "\n",
    "    # 모델 학습\n",
    "    model.fit(x_train, y_train)\n",
    "    \n",
    "    # 예측\n",
    "    predicted = model.predict(x_test)\n",
    "    \n",
    "    # 평가\n",
    "    report = classification_report(y_test, predicted, output_dict=True)\n",
    "    \n",
    "    # 결과 출력\n",
    "    print(f\"\\n=== {model_name} 결과 ===\")\n",
    "    print(f\"정확도 (Accuracy): {report['accuracy']:.4f}\")\n",
    "    print(f\"단순평균 F1 점수 (Macro Avg F1): {report['macro avg']['f1-score']:.4f}\")\n",
    "    print(f\"가중평균 F1 점수 (Weighted Avg F1): {report['weighted avg']['f1-score']:.4f}\")"
   ]
  },
  {
   "cell_type": "code",
   "execution_count": 32,
   "id": "8a7a0fb9",
   "metadata": {},
   "outputs": [],
   "source": [
    "# 각 모델 정의\n",
    "\n",
    "# 첫번째 모델 컴플리먼트 나이브 베이즈\n",
    "cnb_5000 = ComplementNB()\n",
    "cnb_10000 = ComplementNB()\n",
    "cnb_15000 = ComplementNB()\n",
    "\n",
    "# 두번째 로지스틱 회귀\n",
    "lr_5000 = LogisticRegression(C=1000, penalty='l2', max_iter=3000)\n",
    "lr_10000 = LogisticRegression(C=1000, penalty='l2', max_iter=3000)\n",
    "lr_15000 = LogisticRegression(C=1000, penalty='l2', max_iter=3000)\n",
    "\n",
    "# 세번째 서포트 벡터 머신\n",
    "lsvc_5000 = LinearSVC(C=1000, penalty='l2', max_iter=3000, dual=False)\n",
    "lsvc_10000 = LinearSVC(C=1000, penalty='l2', max_iter=3000, dual=False)\n",
    "lsvc_15000 = LinearSVC(C=1000, penalty='l2', max_iter=3000, dual=False)\n",
    "\n",
    "# 네번째 랜덤 포레스트\n",
    "rf_5000 = RandomForestClassifier(n_estimators=5, random_state=42)\n",
    "rf_10000 = RandomForestClassifier(n_estimators=5, random_state=42)\n",
    "rf_15000 = RandomForestClassifier(n_estimators=5, random_state=42)\n",
    "\n",
    "# 다섯번째 그래디언트 부스팅\n",
    "gb_5000 = GradientBoostingClassifier(random_state=42)\n",
    "gb_10000 = GradientBoostingClassifier(random_state=42)\n",
    "gb_15000 = GradientBoostingClassifier(random_state=42)"
   ]
  },
  {
   "cell_type": "code",
   "execution_count": 33,
   "id": "302b9d7a",
   "metadata": {},
   "outputs": [
    {
     "name": "stderr",
     "output_type": "stream",
     "text": [
      "/opt/conda/lib/python3.9/site-packages/sklearn/metrics/_classification.py:1308: UndefinedMetricWarning: Precision and F-score are ill-defined and being set to 0.0 in labels with no predicted samples. Use `zero_division` parameter to control this behavior.\n",
      "  _warn_prf(average, modifier, msg_start, len(result))\n",
      "/opt/conda/lib/python3.9/site-packages/sklearn/metrics/_classification.py:1308: UndefinedMetricWarning: Precision and F-score are ill-defined and being set to 0.0 in labels with no predicted samples. Use `zero_division` parameter to control this behavior.\n",
      "  _warn_prf(average, modifier, msg_start, len(result))\n",
      "/opt/conda/lib/python3.9/site-packages/sklearn/metrics/_classification.py:1308: UndefinedMetricWarning: Precision and F-score are ill-defined and being set to 0.0 in labels with no predicted samples. Use `zero_division` parameter to control this behavior.\n",
      "  _warn_prf(average, modifier, msg_start, len(result))\n",
      "/opt/conda/lib/python3.9/site-packages/sklearn/metrics/_classification.py:1308: UndefinedMetricWarning: Precision and F-score are ill-defined and being set to 0.0 in labels with no predicted samples. Use `zero_division` parameter to control this behavior.\n",
      "  _warn_prf(average, modifier, msg_start, len(result))\n",
      "/opt/conda/lib/python3.9/site-packages/sklearn/metrics/_classification.py:1308: UndefinedMetricWarning: Precision and F-score are ill-defined and being set to 0.0 in labels with no predicted samples. Use `zero_division` parameter to control this behavior.\n",
      "  _warn_prf(average, modifier, msg_start, len(result))\n",
      "/opt/conda/lib/python3.9/site-packages/sklearn/metrics/_classification.py:1308: UndefinedMetricWarning: Precision and F-score are ill-defined and being set to 0.0 in labels with no predicted samples. Use `zero_division` parameter to control this behavior.\n",
      "  _warn_prf(average, modifier, msg_start, len(result))\n",
      "/opt/conda/lib/python3.9/site-packages/sklearn/metrics/_classification.py:1308: UndefinedMetricWarning: Precision and F-score are ill-defined and being set to 0.0 in labels with no predicted samples. Use `zero_division` parameter to control this behavior.\n",
      "  _warn_prf(average, modifier, msg_start, len(result))\n",
      "/opt/conda/lib/python3.9/site-packages/sklearn/metrics/_classification.py:1308: UndefinedMetricWarning: Precision and F-score are ill-defined and being set to 0.0 in labels with no predicted samples. Use `zero_division` parameter to control this behavior.\n",
      "  _warn_prf(average, modifier, msg_start, len(result))\n",
      "/opt/conda/lib/python3.9/site-packages/sklearn/metrics/_classification.py:1308: UndefinedMetricWarning: Precision and F-score are ill-defined and being set to 0.0 in labels with no predicted samples. Use `zero_division` parameter to control this behavior.\n",
      "  _warn_prf(average, modifier, msg_start, len(result))\n"
     ]
    },
    {
     "name": "stdout",
     "output_type": "stream",
     "text": [
      "\n",
      "=== ComplementNB (5000 단어) 결과 ===\n",
      "정확도 (Accuracy): 0.7707\n",
      "단순평균 F1 점수 (Macro Avg F1): 0.4820\n",
      "가중평균 F1 점수 (Weighted Avg F1): 0.7459\n",
      "\n",
      "=== ComplementNB (10000 단어) 결과 ===\n",
      "정확도 (Accuracy): 0.7707\n",
      "단순평균 F1 점수 (Macro Avg F1): 0.4784\n",
      "가중평균 F1 점수 (Weighted Avg F1): 0.7457\n",
      "\n",
      "=== ComplementNB (15000 단어) 결과 ===\n",
      "정확도 (Accuracy): 0.7720\n",
      "단순평균 F1 점수 (Macro Avg F1): 0.4668\n",
      "가중평균 F1 점수 (Weighted Avg F1): 0.7448\n"
     ]
    },
    {
     "name": "stderr",
     "output_type": "stream",
     "text": [
      "/opt/conda/lib/python3.9/site-packages/sklearn/metrics/_classification.py:1308: UndefinedMetricWarning: Precision and F-score are ill-defined and being set to 0.0 in labels with no predicted samples. Use `zero_division` parameter to control this behavior.\n",
      "  _warn_prf(average, modifier, msg_start, len(result))\n",
      "/opt/conda/lib/python3.9/site-packages/sklearn/metrics/_classification.py:1308: UndefinedMetricWarning: Precision and F-score are ill-defined and being set to 0.0 in labels with no predicted samples. Use `zero_division` parameter to control this behavior.\n",
      "  _warn_prf(average, modifier, msg_start, len(result))\n",
      "/opt/conda/lib/python3.9/site-packages/sklearn/metrics/_classification.py:1308: UndefinedMetricWarning: Precision and F-score are ill-defined and being set to 0.0 in labels with no predicted samples. Use `zero_division` parameter to control this behavior.\n",
      "  _warn_prf(average, modifier, msg_start, len(result))\n"
     ]
    },
    {
     "name": "stdout",
     "output_type": "stream",
     "text": [
      "\n",
      "=== LogisticRegression (5000 단어) 결과 ===\n",
      "정확도 (Accuracy): 0.8068\n",
      "단순평균 F1 점수 (Macro Avg F1): 0.6426\n",
      "가중평균 F1 점수 (Weighted Avg F1): 0.8009\n"
     ]
    },
    {
     "name": "stderr",
     "output_type": "stream",
     "text": [
      "/opt/conda/lib/python3.9/site-packages/sklearn/metrics/_classification.py:1308: UndefinedMetricWarning: Precision and F-score are ill-defined and being set to 0.0 in labels with no predicted samples. Use `zero_division` parameter to control this behavior.\n",
      "  _warn_prf(average, modifier, msg_start, len(result))\n",
      "/opt/conda/lib/python3.9/site-packages/sklearn/metrics/_classification.py:1308: UndefinedMetricWarning: Precision and F-score are ill-defined and being set to 0.0 in labels with no predicted samples. Use `zero_division` parameter to control this behavior.\n",
      "  _warn_prf(average, modifier, msg_start, len(result))\n",
      "/opt/conda/lib/python3.9/site-packages/sklearn/metrics/_classification.py:1308: UndefinedMetricWarning: Precision and F-score are ill-defined and being set to 0.0 in labels with no predicted samples. Use `zero_division` parameter to control this behavior.\n",
      "  _warn_prf(average, modifier, msg_start, len(result))\n"
     ]
    },
    {
     "name": "stdout",
     "output_type": "stream",
     "text": [
      "\n",
      "=== LogisticRegression (10000 단어) 결과 ===\n",
      "정확도 (Accuracy): 0.8126\n",
      "단순평균 F1 점수 (Macro Avg F1): 0.6658\n",
      "가중평균 F1 점수 (Weighted Avg F1): 0.8069\n"
     ]
    },
    {
     "name": "stderr",
     "output_type": "stream",
     "text": [
      "/opt/conda/lib/python3.9/site-packages/sklearn/metrics/_classification.py:1308: UndefinedMetricWarning: Precision and F-score are ill-defined and being set to 0.0 in labels with no predicted samples. Use `zero_division` parameter to control this behavior.\n",
      "  _warn_prf(average, modifier, msg_start, len(result))\n",
      "/opt/conda/lib/python3.9/site-packages/sklearn/metrics/_classification.py:1308: UndefinedMetricWarning: Precision and F-score are ill-defined and being set to 0.0 in labels with no predicted samples. Use `zero_division` parameter to control this behavior.\n",
      "  _warn_prf(average, modifier, msg_start, len(result))\n",
      "/opt/conda/lib/python3.9/site-packages/sklearn/metrics/_classification.py:1308: UndefinedMetricWarning: Precision and F-score are ill-defined and being set to 0.0 in labels with no predicted samples. Use `zero_division` parameter to control this behavior.\n",
      "  _warn_prf(average, modifier, msg_start, len(result))\n"
     ]
    },
    {
     "name": "stdout",
     "output_type": "stream",
     "text": [
      "\n",
      "=== LogisticRegression (15000 단어) 결과 ===\n",
      "정확도 (Accuracy): 0.8139\n",
      "단순평균 F1 점수 (Macro Avg F1): 0.6632\n",
      "가중평균 F1 점수 (Weighted Avg F1): 0.8082\n"
     ]
    },
    {
     "name": "stderr",
     "output_type": "stream",
     "text": [
      "/opt/conda/lib/python3.9/site-packages/sklearn/metrics/_classification.py:1308: UndefinedMetricWarning: Precision and F-score are ill-defined and being set to 0.0 in labels with no predicted samples. Use `zero_division` parameter to control this behavior.\n",
      "  _warn_prf(average, modifier, msg_start, len(result))\n",
      "/opt/conda/lib/python3.9/site-packages/sklearn/metrics/_classification.py:1308: UndefinedMetricWarning: Precision and F-score are ill-defined and being set to 0.0 in labels with no predicted samples. Use `zero_division` parameter to control this behavior.\n",
      "  _warn_prf(average, modifier, msg_start, len(result))\n",
      "/opt/conda/lib/python3.9/site-packages/sklearn/metrics/_classification.py:1308: UndefinedMetricWarning: Precision and F-score are ill-defined and being set to 0.0 in labels with no predicted samples. Use `zero_division` parameter to control this behavior.\n",
      "  _warn_prf(average, modifier, msg_start, len(result))\n"
     ]
    },
    {
     "name": "stdout",
     "output_type": "stream",
     "text": [
      "\n",
      "=== LinearSVC (5000 단어) 결과 ===\n",
      "정확도 (Accuracy): 0.7934\n",
      "단순평균 F1 점수 (Macro Avg F1): 0.6359\n",
      "가중평균 F1 점수 (Weighted Avg F1): 0.7892\n",
      "\n",
      "=== LinearSVC (10000 단어) 결과 ===\n",
      "정확도 (Accuracy): 0.8037\n",
      "단순평균 F1 점수 (Macro Avg F1): 0.6569\n",
      "가중평균 F1 점수 (Weighted Avg F1): 0.7992\n",
      "\n",
      "=== LinearSVC (15000 단어) 결과 ===\n",
      "정확도 (Accuracy): 0.8041\n",
      "단순평균 F1 점수 (Macro Avg F1): 0.6744\n",
      "가중평균 F1 점수 (Weighted Avg F1): 0.8000\n"
     ]
    },
    {
     "name": "stderr",
     "output_type": "stream",
     "text": [
      "/opt/conda/lib/python3.9/site-packages/sklearn/metrics/_classification.py:1308: UndefinedMetricWarning: Precision and F-score are ill-defined and being set to 0.0 in labels with no predicted samples. Use `zero_division` parameter to control this behavior.\n",
      "  _warn_prf(average, modifier, msg_start, len(result))\n",
      "/opt/conda/lib/python3.9/site-packages/sklearn/metrics/_classification.py:1308: UndefinedMetricWarning: Precision and F-score are ill-defined and being set to 0.0 in labels with no predicted samples. Use `zero_division` parameter to control this behavior.\n",
      "  _warn_prf(average, modifier, msg_start, len(result))\n",
      "/opt/conda/lib/python3.9/site-packages/sklearn/metrics/_classification.py:1308: UndefinedMetricWarning: Precision and F-score are ill-defined and being set to 0.0 in labels with no predicted samples. Use `zero_division` parameter to control this behavior.\n",
      "  _warn_prf(average, modifier, msg_start, len(result))\n"
     ]
    },
    {
     "name": "stdout",
     "output_type": "stream",
     "text": [
      "\n",
      "=== RandomForestClassifier (5000 단어) 결과 ===\n",
      "정확도 (Accuracy): 0.6932\n",
      "단순평균 F1 점수 (Macro Avg F1): 0.3098\n",
      "가중평균 F1 점수 (Weighted Avg F1): 0.6663\n"
     ]
    },
    {
     "name": "stderr",
     "output_type": "stream",
     "text": [
      "/opt/conda/lib/python3.9/site-packages/sklearn/metrics/_classification.py:1308: UndefinedMetricWarning: Precision and F-score are ill-defined and being set to 0.0 in labels with no predicted samples. Use `zero_division` parameter to control this behavior.\n",
      "  _warn_prf(average, modifier, msg_start, len(result))\n",
      "/opt/conda/lib/python3.9/site-packages/sklearn/metrics/_classification.py:1308: UndefinedMetricWarning: Precision and F-score are ill-defined and being set to 0.0 in labels with no predicted samples. Use `zero_division` parameter to control this behavior.\n",
      "  _warn_prf(average, modifier, msg_start, len(result))\n",
      "/opt/conda/lib/python3.9/site-packages/sklearn/metrics/_classification.py:1308: UndefinedMetricWarning: Precision and F-score are ill-defined and being set to 0.0 in labels with no predicted samples. Use `zero_division` parameter to control this behavior.\n",
      "  _warn_prf(average, modifier, msg_start, len(result))\n"
     ]
    },
    {
     "name": "stdout",
     "output_type": "stream",
     "text": [
      "\n",
      "=== RandomForestClassifier (10000 단어) 결과 ===\n",
      "정확도 (Accuracy): 0.6776\n",
      "단순평균 F1 점수 (Macro Avg F1): 0.2913\n",
      "가중평균 F1 점수 (Weighted Avg F1): 0.6448\n"
     ]
    },
    {
     "name": "stderr",
     "output_type": "stream",
     "text": [
      "/opt/conda/lib/python3.9/site-packages/sklearn/metrics/_classification.py:1308: UndefinedMetricWarning: Precision and F-score are ill-defined and being set to 0.0 in labels with no predicted samples. Use `zero_division` parameter to control this behavior.\n",
      "  _warn_prf(average, modifier, msg_start, len(result))\n",
      "/opt/conda/lib/python3.9/site-packages/sklearn/metrics/_classification.py:1308: UndefinedMetricWarning: Precision and F-score are ill-defined and being set to 0.0 in labels with no predicted samples. Use `zero_division` parameter to control this behavior.\n",
      "  _warn_prf(average, modifier, msg_start, len(result))\n",
      "/opt/conda/lib/python3.9/site-packages/sklearn/metrics/_classification.py:1308: UndefinedMetricWarning: Precision and F-score are ill-defined and being set to 0.0 in labels with no predicted samples. Use `zero_division` parameter to control this behavior.\n",
      "  _warn_prf(average, modifier, msg_start, len(result))\n"
     ]
    },
    {
     "name": "stdout",
     "output_type": "stream",
     "text": [
      "\n",
      "=== RandomForestClassifier (15000 단어) 결과 ===\n",
      "정확도 (Accuracy): 0.6741\n",
      "단순평균 F1 점수 (Macro Avg F1): 0.3146\n",
      "가중평균 F1 점수 (Weighted Avg F1): 0.6479\n",
      "\n",
      "=== GradientBoostingClassifier (5000 단어) 결과 ===\n",
      "정확도 (Accuracy): 0.7685\n",
      "단순평균 F1 점수 (Macro Avg F1): 0.5875\n",
      "가중평균 F1 점수 (Weighted Avg F1): 0.7675\n",
      "\n",
      "=== GradientBoostingClassifier (10000 단어) 결과 ===\n",
      "정확도 (Accuracy): 0.7707\n",
      "단순평균 F1 점수 (Macro Avg F1): 0.5758\n",
      "가중평균 F1 점수 (Weighted Avg F1): 0.7665\n",
      "\n",
      "=== GradientBoostingClassifier (15000 단어) 결과 ===\n",
      "정확도 (Accuracy): 0.7663\n",
      "단순평균 F1 점수 (Macro Avg F1): 0.5691\n",
      "가중평균 F1 점수 (Weighted Avg F1): 0.7633\n"
     ]
    }
   ],
   "source": [
    "# 모델 학습 및 평가\n",
    "\n",
    "model_train_evaluate(cnb_5000, x_train_5000_tfidfv, y_train_5000, x_test_5000_tfidfv, y_test_5000, \"ComplementNB (5000 단어)\")\n",
    "model_train_evaluate(cnb_10000, x_train_10000_tfidfv, y_train_10000, x_test_10000_tfidfv, y_test_10000, \"ComplementNB (10000 단어)\")\n",
    "model_train_evaluate(cnb_15000, x_train_15000_tfidfv, y_train_15000, x_test_15000_tfidfv, y_test_15000, \"ComplementNB (15000 단어)\")\n",
    "\n",
    "model_train_evaluate(lr_5000, x_train_5000_tfidfv, y_train_5000, x_test_5000_tfidfv, y_test_5000, \"LogisticRegression (5000 단어)\")\n",
    "model_train_evaluate(lr_10000, x_train_10000_tfidfv, y_train_10000, x_test_10000_tfidfv, y_test_10000, \"LogisticRegression (10000 단어)\")\n",
    "model_train_evaluate(lr_15000, x_train_15000_tfidfv, y_train_15000, x_test_15000_tfidfv, y_test_15000, \"LogisticRegression (15000 단어)\")\n",
    "\n",
    "model_train_evaluate(lsvc_5000, x_train_5000_tfidfv, y_train_5000, x_test_5000_tfidfv, y_test_5000, \"LinearSVC (5000 단어)\")\n",
    "model_train_evaluate(lsvc_10000, x_train_10000_tfidfv, y_train_10000, x_test_10000_tfidfv, y_test_10000, \"LinearSVC (10000 단어)\")\n",
    "model_train_evaluate(lsvc_15000, x_train_15000_tfidfv, y_train_15000, x_test_15000_tfidfv, y_test_15000, \"LinearSVC (15000 단어)\")\n",
    "\n",
    "model_train_evaluate(rf_5000, x_train_5000_tfidfv, y_train_5000, x_test_5000_tfidfv, y_test_5000, \"RandomForestClassifier (5000 단어)\")\n",
    "model_train_evaluate(rf_10000, x_train_10000_tfidfv, y_train_10000, x_test_10000_tfidfv, y_test_10000, \"RandomForestClassifier (10000 단어)\")\n",
    "model_train_evaluate(rf_15000, x_train_15000_tfidfv, y_train_15000, x_test_15000_tfidfv, y_test_15000, \"RandomForestClassifier (15000 단어)\")\n",
    "\n",
    "model_train_evaluate(gb_5000, x_train_5000_tfidfv, y_train_5000, x_test_5000_tfidfv, y_test_5000, \"GradientBoostingClassifier (5000 단어)\")\n",
    "model_train_evaluate(gb_10000, x_train_10000_tfidfv, y_train_10000, x_test_10000_tfidfv, y_test_10000, \"GradientBoostingClassifier (10000 단어)\")\n",
    "model_train_evaluate(gb_15000, x_train_15000_tfidfv, y_train_15000, x_test_15000_tfidfv, y_test_15000, \"GradientBoostingClassifier (15000 단어)\")"
   ]
  },
  {
   "cell_type": "code",
   "execution_count": 34,
   "id": "102ad820",
   "metadata": {},
   "outputs": [],
   "source": [
    "# 위 5개 모델 중 SVC를 제외한 4개 모델로 보팅 모델 구성\n",
    "\n",
    "voting_5000 =  VotingClassifier(estimators=[('cnb_5000', cnb_5000),\n",
    "                                            ('lr_5000', lr_5000),\n",
    "                                            \n",
    "                                            ('rf_5000', rf_5000),\n",
    "                                            ('gb_5000', gb_5000)],\n",
    "                                voting='soft')\n",
    "\n",
    "voting_10000 =  VotingClassifier(estimators=[('cnb_10000', cnb_10000),\n",
    "                                            ('lr_10000', lr_10000),\n",
    "                                            \n",
    "                                            ('rf_10000', rf_10000),\n",
    "                                            ('gb_10000', gb_10000)],\n",
    "                                voting='soft')\n",
    "\n",
    "voting_15000 =  VotingClassifier(estimators=[('cnb_15000', cnb_15000),\n",
    "                                            ('lr_15000', lr_15000),\n",
    "                                            \n",
    "                                            ('rf_15000', rf_15000),\n",
    "                                            ('gb_15000', gb_15000)],\n",
    "                                voting='soft')"
   ]
  },
  {
   "cell_type": "code",
   "execution_count": 35,
   "id": "53c204cc",
   "metadata": {},
   "outputs": [],
   "source": [
    "#from sklearn.svm import SVC"
   ]
  },
  {
   "cell_type": "code",
   "execution_count": 37,
   "id": "21680d7c",
   "metadata": {},
   "outputs": [
    {
     "data": {
      "text/plain": [
       "'\\nsvc_5000 = SVC(C=1000, max_iter=3000, probability=True)\\nsvc_10000 = SVC(C=1000, max_iter=3000, probability=True)\\nsvc_15000 = SVC(C=1000, max_iter=3000, probability=True)\\n\\nmodel_train_evaluate(svc_5000, x_train_5000_tfidfv, y_train_5000, x_test_5000_tfidfv, y_test_5000, \"SVC (5000 단어)\")\\nmodel_train_evaluate(svc_10000, x_train_10000_tfidfv, y_train_10000, x_test_10000_tfidfv, y_test_10000, \"SVC (10000 단어)\")\\nmodel_train_evaluate(svc_15000, x_train_15000_tfidfv, y_train_15000, x_test_15000_tfidfv, y_test_15000, \"SVC (15000 단어)\")\\n'"
      ]
     },
     "execution_count": 37,
     "metadata": {},
     "output_type": "execute_result"
    }
   ],
   "source": [
    "# 서포트 벡터 머신\n",
    "'''\n",
    "svc_5000 = SVC(C=1000, max_iter=3000, probability=True)\n",
    "svc_10000 = SVC(C=1000, max_iter=3000, probability=True)\n",
    "svc_15000 = SVC(C=1000, max_iter=3000, probability=True)\n",
    "\n",
    "model_train_evaluate(svc_5000, x_train_5000_tfidfv, y_train_5000, x_test_5000_tfidfv, y_test_5000, \"SVC (5000 단어)\")\n",
    "model_train_evaluate(svc_10000, x_train_10000_tfidfv, y_train_10000, x_test_10000_tfidfv, y_test_10000, \"SVC (10000 단어)\")\n",
    "model_train_evaluate(svc_15000, x_train_15000_tfidfv, y_train_15000, x_test_15000_tfidfv, y_test_15000, \"SVC (15000 단어)\")\n",
    "'''"
   ]
  },
  {
   "cell_type": "code",
   "execution_count": 38,
   "id": "880131aa",
   "metadata": {},
   "outputs": [
    {
     "name": "stdout",
     "output_type": "stream",
     "text": [
      "\n",
      "=== VotingClassifier (5000 단어) 결과 ===\n",
      "정확도 (Accuracy): 0.8143\n",
      "단순평균 F1 점수 (Macro Avg F1): 0.6503\n",
      "가중평균 F1 점수 (Weighted Avg F1): 0.8090\n",
      "\n",
      "=== VotingClassifier (10000 단어) 결과 ===\n",
      "정확도 (Accuracy): 0.8126\n",
      "단순평균 F1 점수 (Macro Avg F1): 0.6283\n",
      "가중평균 F1 점수 (Weighted Avg F1): 0.8069\n",
      "\n",
      "=== VotingClassifier (15000 단어) 결과 ===\n",
      "정확도 (Accuracy): 0.8130\n",
      "단순평균 F1 점수 (Macro Avg F1): 0.6300\n",
      "가중평균 F1 점수 (Weighted Avg F1): 0.8077\n"
     ]
    }
   ],
   "source": [
    "# 보팅모델 평가\n",
    "\n",
    "model_train_evaluate(voting_5000, x_train_5000_tfidfv, y_train_5000, x_test_5000_tfidfv, y_test_5000, \"VotingClassifier (5000 단어)\")\n",
    "model_train_evaluate(voting_10000, x_train_10000_tfidfv, y_train_10000, x_test_10000_tfidfv, y_test_10000, \"VotingClassifier (10000 단어)\")\n",
    "model_train_evaluate(voting_15000, x_train_15000_tfidfv, y_train_15000, x_test_15000_tfidfv, y_test_15000, \"VotingClassifier (15000 단어)\")"
   ]
  },
  {
   "cell_type": "markdown",
   "id": "b80eec59",
   "metadata": {},
   "source": [
    "#### 결과\n",
    "\n",
    "##### 컴플리먼트 나이브베이즈\n",
    "- 5000 단어 :  정확도 0.7707, 단순평균 F1 점수 0.4820, 가중평균 F1 점수 0.7459\n",
    "- 10000 단어 : 정확도 0.7707, 단순평균 F1 점수 0.4784, 가중평균 F1 점수 0.7457\n",
    "- 15000 단어 : 정확도 0.7720, 단순평균 F1 점수 0.4668, 가중평균 F1 점수 0.7448\n",
    "\n",
    "##### 로지스틱 회귀\n",
    "- 5000 단어 :  정확도 0.8068, 단순평균 F1 점수 0.6426, 가중평균 F1 점수 0.8009\n",
    "- 10000 단어 : 정확도 0.8126, 단순평균 F1 점수 0.6658, 가중평균 F1 점수 0.8069\n",
    "- 15000 단어 : 정확도 0.8139, 단순평균 F1 점수 0.6632, 가중평균 F1 점수 0.8082\n",
    "\n",
    "##### 선형 서포트벡터머신\n",
    "- 5000 단어 :  정확도 0.7934, 단순평균 F1 점수 0.6359, 가중평균 F1 점수 0.7892\n",
    "- 10000 단어 : 정확도 0.8037, 단순평균 F1 점수 0.6569, 가중평균 F1 점수 0.7992\n",
    "- 15000 단어 : 정확도 0.8041, 단순평균 F1 점수 0.6744, 가중평균 F1 점수 0.8000\n",
    "\n",
    "##### 서포트벡터머신 ?\n",
    "\n",
    "##### 랜덤 포레스트\n",
    "- 5000 단어 :  정확도 0.6932, 단순평균 F1 점수 0.3098, 가중평균 F1 점수 0.6663\n",
    "- 10000 단어 : 정확도 0.6776, 단순평균 F1 점수 0.2913, 가중평균 F1 점수 0.6448\n",
    "- 15000 단어 : 정확도 0.6741, 단순평균 F1 점수 0.3146, 가중평균 F1 점수 0.6479\n",
    "\n",
    "##### 그래디언트 부스팅\n",
    "- 5000 단어 :  정확도 0.7685, 단순평균 F1 점수 0.5875, 가중평균 F1 점수 0.7675\n",
    "- 10000 단어 : 정확도 0.7707, 단순평균 F1 점수 0.5758, 가중평균 F1 점수 0.7665\n",
    "- 15000 단어 : 정확도 0.7663, 단순평균 F1 점수 0.5691, 가중평균 F1 점수 0.7633\n",
    "\n",
    "#### 4개 모델 보팅\n",
    "- 5000 단어 :  정확도 0.8143, 단순평균 F1 점수 0.6503, 가중평균 F1 점수 0.8090\n",
    "- 10000 단어 : 정확도 0.8126, 단순평균 F1 점수 0.6283, 가중평균 F1 점수 0.8069\n",
    "- 15000 단어 : 정확도 0.8130, 단순평균 F1 점수 0.6300, 가중평균 F1 점수 0.8077"
   ]
  },
  {
   "cell_type": "code",
   "execution_count": 3,
   "id": "b847fca1",
   "metadata": {},
   "outputs": [
    {
     "data": {
      "image/png": "[encoded data removed]",
      "text/plain": [
       "<Figure size 1296x432 with 3 Axes>"
      ]
     },
     "metadata": {
      "needs_background": "light"
     },
     "output_type": "display_data"
    }
   ],
   "source": [
    "import matplotlib.pyplot as plt\n",
    "\n",
    "# x축 값 (단어 수)\n",
    "x = [5000, 10000, 15000]\n",
    "\n",
    "# 모델별 정확도, 단순평균 F1, 가중평균 F1 점수\n",
    "models = {\n",
    "    'CNB': {\n",
    "        'accuracy': [0.7707, 0.7707, 0.7720],\n",
    "        'f1_macro': [0.4820, 0.4784, 0.4668],\n",
    "        'f1_weighted': [0.7459, 0.7457, 0.7448]\n",
    "    },\n",
    "    'LR': {\n",
    "        'accuracy': [0.8068, 0.8126, 0.8139],\n",
    "        'f1_macro': [0.6426, 0.6658, 0.6632],\n",
    "        'f1_weighted': [0.8009, 0.8069, 0.8082]\n",
    "    },\n",
    "    'LSVM': {\n",
    "        'accuracy': [0.7934, 0.8037, 0.8041],\n",
    "        'f1_macro': [0.6359, 0.6569, 0.6744],\n",
    "        'f1_weighted': [0.7892, 0.7992, 0.8000]\n",
    "    },\n",
    "    'RF': {\n",
    "        'accuracy': [0.6932, 0.6776, 0.6741],\n",
    "        'f1_macro': [0.3098, 0.2913, 0.3146],\n",
    "        'f1_weighted': [0.6663, 0.6448, 0.6479]\n",
    "    },\n",
    "    'GB': {\n",
    "        'accuracy': [0.7685, 0.7707, 0.7663],\n",
    "        'f1_macro': [0.5875, 0.5758, 0.5691],\n",
    "        'f1_weighted': [0.7675, 0.7665, 0.7633]\n",
    "    },\n",
    "    'VOTING': {\n",
    "        'accuracy': [0.8143, 0.8126, 0.8130],\n",
    "        'f1_macro': [0.6503, 0.6283, 0.6300],\n",
    "        'f1_weighted': [0.8090, 0.8069, 0.8077]\n",
    "    }\n",
    "}\n",
    "\n",
    "# 시각화\n",
    "fig, axes = plt.subplots(1, 3, figsize=(18, 6), sharex=True)\n",
    "\n",
    "# 정확도 그래프\n",
    "for model_name, metrics in models.items():\n",
    "    axes[0].plot(x, metrics['accuracy'], marker='o', label=model_name)\n",
    "axes[0].set_title('Accuracy')\n",
    "axes[0].set_xlabel('vocab_size')\n",
    "axes[0].set_ylabel('acc')\n",
    "axes[0].legend()\n",
    "\n",
    "# 단순평균 F1 그래프\n",
    "for model_name, metrics in models.items():\n",
    "    axes[1].plot(x, metrics['f1_macro'], marker='o', label=model_name)\n",
    "axes[1].set_title('Macro F1')\n",
    "axes[1].set_xlabel('vocab_size')\n",
    "axes[1].set_ylabel('Macro F1')\n",
    "\n",
    "# 가중평균 F1 그래프\n",
    "for model_name, metrics in models.items():\n",
    "    axes[2].plot(x, metrics['f1_weighted'], marker='o', label=model_name)\n",
    "axes[2].set_title('Weighted F1')\n",
    "axes[2].set_xlabel('vocab_size')\n",
    "axes[2].set_ylabel('Weighted F1')\n",
    "\n",
    "plt.tight_layout()\n",
    "plt.show()"
   ]
  },
  {
   "cell_type": "markdown",
   "id": "cf413710",
   "metadata": {},
   "source": [
    "#### 결론\n",
    "\n",
    "- 사용된 단어의 수는 성능이 가장 안좋은 랜덤포레스트를 제외하고는 큰 차이가 발생하진 않았음\n",
    "- 보팅은 단순평균F1을 제외한 정확도와 가중평균F1에서 가장 좋은 스코어를 기록하였음\n",
    "- 선형회귀 모델은 3개 평가지표에서 고르게 좋은 성능을 보임"
   ]
  }
 ],
 "metadata": {
  "kernelspec": {
   "display_name": "Python 3 (ipykernel)",
   "language": "python",
   "name": "python3"
  },
  "language_info": {
   "codemirror_mode": {
    "name": "ipython",
    "version": 3
   },
   "file_extension": ".py",
   "mimetype": "text/x-python",
   "name": "python",
   "nbconvert_exporter": "python",
   "pygments_lexer": "ipython3",
   "version": "3.9.7"
  }
 },
 "nbformat": 4,
 "nbformat_minor": 5
}
