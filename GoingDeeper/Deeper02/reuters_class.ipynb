{
 "cells": [
  {
   "cell_type": "code",
   "execution_count": 1,
   "id": "6986859c",
   "metadata": {},
   "outputs": [],
   "source": [
    "#단어집합 5,000개, 10,000개, 15,000개"
   ]
  },
  {
   "cell_type": "code",
   "execution_count": 4,
   "id": "890f4072",
   "metadata": {},
   "outputs": [],
   "source": [
    "from tensorflow.keras.datasets import reuters\n",
    "import matplotlib.pyplot as plt\n",
    "import seaborn as sns\n",
    "import numpy as np\n",
    "import pandas as pd"
   ]
  },
  {
   "cell_type": "code",
   "execution_count": 3,
   "id": "b292f30a",
   "metadata": {
    "scrolled": true
   },
   "outputs": [],
   "source": [
    "(x_train_5000, y_train_5000), (x_test_5000, y_test_5000) = reuters.load_data(num_words=5000, test_split=0.2)\n",
    "(x_train_10000, y_train_10000), (x_test_10000, y_test_10000) = reuters.load_data(num_words=10000, test_split=0.2)\n",
    "(x_train_15000, y_train_15000), (x_test_15000, y_test_15000) = reuters.load_data(num_words=15000, test_split=0.2)"
   ]
  },
  {
   "cell_type": "code",
   "execution_count": 4,
   "id": "8648a82b",
   "metadata": {},
   "outputs": [
    {
     "name": "stdout",
     "output_type": "stream",
     "text": [
      "훈련 샘플의 수: 8982\n",
      "테스트 샘플의 수: 2246\n"
     ]
    }
   ],
   "source": [
    "# 샘플 개수 확인\n",
    "print('훈련 샘플의 수: {}'.format(len(x_train_5000)))\n",
    "print('테스트 샘플의 수: {}'.format(len(x_test_5000)))"
   ]
  },
  {
   "cell_type": "code",
   "execution_count": 7,
   "id": "ce01a5de",
   "metadata": {},
   "outputs": [
    {
     "ename": "NameError",
     "evalue": "name 'y_train_5000' is not defined",
     "output_type": "error",
     "traceback": [
      "\u001b[0;31m---------------------------------------------------------------------------\u001b[0m",
      "\u001b[0;31mNameError\u001b[0m                                 Traceback (most recent call last)",
      "\u001b[0;32m/tmp/ipykernel_981/101531062.py\u001b[0m in \u001b[0;36m<module>\u001b[0;34m\u001b[0m\n\u001b[1;32m      1\u001b[0m \u001b[0;31m# 클래스 개수 확인\u001b[0m\u001b[0;34m\u001b[0m\u001b[0;34m\u001b[0m\u001b[0m\n\u001b[1;32m      2\u001b[0m \u001b[0;34m\u001b[0m\u001b[0m\n\u001b[0;32m----> 3\u001b[0;31m \u001b[0mnum_classes\u001b[0m \u001b[0;34m=\u001b[0m \u001b[0mlen\u001b[0m\u001b[0;34m(\u001b[0m\u001b[0mset\u001b[0m\u001b[0;34m(\u001b[0m\u001b[0my_train_5000\u001b[0m\u001b[0;34m)\u001b[0m\u001b[0;34m)\u001b[0m\u001b[0;34m\u001b[0m\u001b[0;34m\u001b[0m\u001b[0m\n\u001b[0m\u001b[1;32m      4\u001b[0m \u001b[0mnum_classes\u001b[0m\u001b[0;34m\u001b[0m\u001b[0;34m\u001b[0m\u001b[0m\n",
      "\u001b[0;31mNameError\u001b[0m: name 'y_train_5000' is not defined"
     ]
    }
   ],
   "source": [
    "# 클래스 개수 확인\n",
    "\n",
    "num_classes = len(set(y_train_5000))\n",
    "num_classes"
   ]
  },
  {
   "cell_type": "code",
   "execution_count": 6,
   "id": "7ecef2fc",
   "metadata": {},
   "outputs": [
    {
     "name": "stdout",
     "output_type": "stream",
     "text": [
      "5,000개 단어집합 뉴스의 최대 길이 :2376\n",
      "5,000개 단어집합 뉴스의 평균 길이 :145.5398574927633\n",
      "10,000개 단어집합 뉴스의 최대 길이 :2376\n",
      "10,000개 단어집합 뉴스의 평균 길이 :145.5398574927633\n",
      "15,000개 단어집합 뉴스의 최대 길이 :2376\n",
      "15,000개 단어집합 뉴스의 평균 길이 :145.5398574927633\n"
     ]
    }
   ],
   "source": [
    "print('단어집합 뉴스의 최대 길이 :{}'.format(max(len(l) for l in x_train_5000)))\n",
    "print('단어집합 뉴스의 평균 길이 :{}'.format(sum(map(len, x_train_5000))/len(x_train_5000)))"
   ]
  },
  {
   "cell_type": "code",
   "execution_count": 7,
   "id": "14f86736",
   "metadata": {},
   "outputs": [
    {
     "data": {
      "image/png": "[encoded data removed]",
      "text/plain": [
       "<Figure size 1080x360 with 3 Axes>"
      ]
     },
     "metadata": {
      "needs_background": "light"
     },
     "output_type": "display_data"
    }
   ],
   "source": [
    "# 뉴스 문장 길이 확인\n",
    "\n",
    "plt.figure(figsize=(15, 5))\n",
    "\n",
    "plt.subplot(1, 3, 1)\n",
    "plt.hist([len(s) for s in x_train_5000], bins=50)\n",
    "plt.xlabel('length of samples')\n",
    "plt.ylabel('number of samples')\n",
    "\n",
    "plt.subplot(1, 3, 2)\n",
    "plt.hist([len(s) for s in x_train_10000], bins=50)\n",
    "plt.xlabel('length of samples')\n",
    "plt.ylabel('number of samples')\n",
    "\n",
    "plt.subplot(1, 3, 3)\n",
    "plt.hist([len(s) for s in x_train_15000], bins=50)\n",
    "plt.xlabel('length of samples')\n",
    "plt.ylabel('number of samples')\n",
    "\n",
    "plt.show()"
   ]
  },
  {
   "cell_type": "code",
   "execution_count": 8,
   "id": "a34ce3fd",
   "metadata": {
    "scrolled": true
   },
   "outputs": [
    {
     "data": {
      "image/png": "[encoded data removed]",
      "text/plain": [
       "<Figure size 792x360 with 1 Axes>"
      ]
     },
     "metadata": {
      "needs_background": "light"
     },
     "output_type": "display_data"
    }
   ],
   "source": [
    "# 클래스 분포 확인\n",
    "\n",
    "fig, axe = plt.subplots(ncols=1)\n",
    "fig.set_size_inches(11,5)\n",
    "sns.countplot(x=y_train_10000)\n",
    "plt.show()"
   ]
  },
  {
   "cell_type": "code",
   "execution_count": 9,
   "id": "cb31387f",
   "metadata": {},
   "outputs": [
    {
     "data": {
      "text/plain": [
       "(array([ 0,  1,  2,  3,  4,  5,  6,  7,  8,  9, 10, 11, 12, 13, 14, 15, 16,\n",
       "        17, 18, 19, 20, 21, 22, 23, 24, 25, 26, 27, 28, 29, 30, 31, 32, 33,\n",
       "        34, 35, 36, 37, 38, 39, 40, 41, 42, 43, 44, 45]),\n",
       " array([  55,  432,   74, 3159, 1949,   17,   48,   16,  139,  101,  124,\n",
       "         390,   49,  172,   26,   20,  444,   39,   66,  549,  269,  100,\n",
       "          15,   41,   62,   92,   24,   15,   48,   19,   45,   39,   32,\n",
       "          11,   50,   10,   49,   19,   19,   24,   36,   30,   13,   21,\n",
       "          12,   18]))"
      ]
     },
     "execution_count": 9,
     "metadata": {},
     "output_type": "execute_result"
    }
   ],
   "source": [
    "# 각 클래스별 개수 확인\n",
    "\n",
    "np.unique(y_train_10000, return_counts=True)"
   ]
  },
  {
   "cell_type": "code",
   "execution_count": 10,
   "id": "7d4a7e3b",
   "metadata": {},
   "outputs": [],
   "source": [
    "# 정수 시퀀스를 텍스트로 변환한 단어사전 생성\n",
    "word_index = reuters.get_word_index(path=\"reuters_word_index.json\")"
   ]
  },
  {
   "cell_type": "code",
   "execution_count": 11,
   "id": "a8d65e3c",
   "metadata": {},
   "outputs": [
    {
     "data": {
      "text/plain": [
       "30979"
      ]
     },
     "execution_count": 11,
     "metadata": {},
     "output_type": "execute_result"
    }
   ],
   "source": [
    "len(word_index.items())"
   ]
  },
  {
   "cell_type": "code",
   "execution_count": 12,
   "id": "02a5804f",
   "metadata": {},
   "outputs": [
    {
     "data": {
      "text/plain": [
       "13"
      ]
     },
     "execution_count": 12,
     "metadata": {},
     "output_type": "execute_result"
    }
   ],
   "source": [
    "word_index['it']"
   ]
  },
  {
   "cell_type": "code",
   "execution_count": 13,
   "id": "518504b8",
   "metadata": {},
   "outputs": [],
   "source": [
    "# 시퀀스-단어 사전 생성(특이토큰 3개는 인덱스에서 제외)\n",
    "index_to_word = { index+3 : word for word, index in word_index.items() }"
   ]
  },
  {
   "cell_type": "code",
   "execution_count": 14,
   "id": "43820aa7",
   "metadata": {},
   "outputs": [],
   "source": [
    "# 특이토큰에 인덱스 할당\n",
    "for index, token in enumerate((\"<pad>\", \"<sos>\", \"<unk>\")):\n",
    "  index_to_word[index]=token"
   ]
  },
  {
   "cell_type": "code",
   "execution_count": 15,
   "id": "a72b264a",
   "metadata": {},
   "outputs": [
    {
     "name": "stdout",
     "output_type": "stream",
     "text": [
      "<pad>\n",
      "<sos>\n",
      "<unk>\n"
     ]
    }
   ],
   "source": [
    "print(index_to_word[0])\n",
    "print(index_to_word[1])\n",
    "print(index_to_word[2])"
   ]
  },
  {
   "cell_type": "code",
   "execution_count": 16,
   "id": "3b47d854",
   "metadata": {},
   "outputs": [
    {
     "name": "stdout",
     "output_type": "stream",
     "text": [
      "<sos> generale de banque sa lt <unk> <unk> and lt heller overseas corp of chicago have each taken 50 pct stakes in <unk> company sa <unk> factors generale de banque said in a statement it gave no financial details of the transaction sa <unk> <unk> turnover in 1986 was 17 5 billion belgian francs reuter 3\n"
     ]
    }
   ],
   "source": [
    "# 1번 기사를 단어사전 5,000개를 활용하여 텍스트로 복원\n",
    "print(' '.join([index_to_word[index] for index in x_train_5000[1]]))"
   ]
  },
  {
   "cell_type": "code",
   "execution_count": 17,
   "id": "06b00863",
   "metadata": {},
   "outputs": [
    {
     "name": "stdout",
     "output_type": "stream",
     "text": [
      "<sos> generale de banque sa lt <unk> br and lt heller overseas corp of chicago have each taken 50 pct stakes in <unk> company sa <unk> factors generale de banque said in a statement it gave no financial details of the transaction sa <unk> <unk> turnover in 1986 was 17 5 billion belgian francs reuter 3\n"
     ]
    }
   ],
   "source": [
    "# 1번 기사를 단어사전 10,000개를 활용하여 텍스트로 복원\n",
    "print(' '.join([index_to_word[index] for index in x_train_10000[1]]))"
   ]
  },
  {
   "cell_type": "code",
   "execution_count": 18,
   "id": "c3e30204",
   "metadata": {},
   "outputs": [
    {
     "name": "stdout",
     "output_type": "stream",
     "text": [
      "<sos> generale de banque sa lt <unk> br and lt heller overseas corp of chicago have each taken 50 pct stakes in <unk> company sa belgo factors generale de banque said in a statement it gave no financial details of the transaction sa belgo <unk> turnover in 1986 was 17 5 billion belgian francs reuter 3\n"
     ]
    }
   ],
   "source": [
    "# 1번 기사를 단어사전 15,000개를 활용하여 텍스트로 복원\n",
    "print(' '.join([index_to_word[index] for index in x_train_15000[1]]))"
   ]
  },
  {
   "cell_type": "code",
   "execution_count": 19,
   "id": "6365ceca",
   "metadata": {},
   "outputs": [],
   "source": [
    "# br, belgo 등의 단어가 unk 처리됨"
   ]
  },
  {
   "cell_type": "code",
   "execution_count": 20,
   "id": "5c62c021",
   "metadata": {},
   "outputs": [
    {
     "name": "stdout",
     "output_type": "stream",
     "text": [
      "the transaction is expected to be completed\n"
     ]
    }
   ],
   "source": [
    "print(' '.join([index_to_word[index] for index in [4, 587, 23, 133, 6, 30, 515]]))"
   ]
  },
  {
   "cell_type": "code",
   "execution_count": 21,
   "id": "f6d9238e",
   "metadata": {},
   "outputs": [],
   "source": [
    "# 5,000개 단어사전을 사용하여 학습데이터 및 테스트데이터 텍스트 변환\n",
    "\n",
    "train_decoded = []\n",
    "for i in range(len(x_train_5000)):\n",
    "    t = ' '.join([index_to_word[index] for index in x_train_5000[i]])\n",
    "    train_decoded.append(t)\n",
    "\n",
    "x_train_5000 = train_decoded\n",
    "\n",
    "test_decoded = []\n",
    "for i in range(len(x_test_5000)):\n",
    "    t = ' '.join([index_to_word[index] for index in x_test_5000[i]])\n",
    "    test_decoded.append(t)\n",
    "\n",
    "x_test_5000 = test_decoded"
   ]
  },
  {
   "cell_type": "code",
   "execution_count": 22,
   "id": "5189264c",
   "metadata": {},
   "outputs": [],
   "source": [
    "# 10,000개 단어사전을 사용하여 학습데이터 및 테스트데이터 텍스트 변환\n",
    "\n",
    "train_decoded = []\n",
    "for i in range(len(x_train_10000)):\n",
    "    t = ' '.join([index_to_word[index] for index in x_train_10000[i]])\n",
    "    train_decoded.append(t)\n",
    "\n",
    "x_train_10000 = train_decoded\n",
    "\n",
    "test_decoded = []\n",
    "for i in range(len(x_test_10000)):\n",
    "    t = ' '.join([index_to_word[index] for index in x_test_10000[i]])\n",
    "    test_decoded.append(t)\n",
    "\n",
    "x_test_10000 = test_decoded"
   ]
  },
  {
   "cell_type": "code",
   "execution_count": 23,
   "id": "4c910233",
   "metadata": {},
   "outputs": [],
   "source": [
    "# 15,000개 단어사전을 사용하여 학습데이터 및 테스트데이터 텍스트 변환\n",
    "\n",
    "train_decoded = []\n",
    "for i in range(len(x_train_15000)):\n",
    "    t = ' '.join([index_to_word[index] for index in x_train_15000[i]])\n",
    "    train_decoded.append(t)\n",
    "\n",
    "x_train_15000 = train_decoded\n",
    "\n",
    "test_decoded = []\n",
    "for i in range(len(x_test_15000)):\n",
    "    t = ' '.join([index_to_word[index] for index in x_test_15000[i]])\n",
    "    test_decoded.append(t)\n",
    "\n",
    "x_test_15000 = test_decoded"
   ]
  },
  {
   "cell_type": "code",
   "execution_count": 24,
   "id": "df2e4d1d",
   "metadata": {
    "scrolled": true
   },
   "outputs": [
    {
     "name": "stdout",
     "output_type": "stream",
     "text": [
      "['<sos> <unk> <unk> said as a result of its december acquisition of space co it expects earnings per share in 1987 of 1 15 to 1 30 dlrs per share up from 70 cts in 1986 the company said pretax net should rise to nine to 10 mln dlrs from six mln dlrs in 1986 and rental operation revenues to 19 to 22 mln dlrs from 12 5 mln dlrs it said cash flow per share this year should be 2 50 to three dlrs reuter 3', '<sos> generale de banque sa lt <unk> br and lt heller overseas corp of chicago have each taken 50 pct stakes in <unk> company sa <unk> factors generale de banque said in a statement it gave no financial details of the transaction sa <unk> <unk> turnover in 1986 was 17 5 billion belgian francs reuter 3', '<sos> shr 3 28 dlrs vs 22 cts shr diluted 2 99 dlrs vs 22 cts net 46 0 mln vs 3 328 000 avg shrs 14 0 mln vs 15 2 mln year shr 5 41 dlrs vs 1 56 dlrs shr diluted 4 94 dlrs vs 1 50 dlrs net 78 2 mln vs 25 9 mln avg shrs 14 5 mln vs 15 1 mln note earnings per share reflect the two for one split effective january 6 1987 per share amounts are calculated after preferred stock dividends loss continuing operations for the qtr 1986 includes gains of sale of investments in <unk> corp of 14 mln dlrs and associated companies of 4 189 000 less writedowns of investments in national <unk> inc of 11 8 mln and <unk> corp of 15 6 mln reuter 3', \"<sos> the farmers home administration the u s agriculture department's farm lending arm could lose about seven billion dlrs in outstanding principal on its severely <unk> borrowers or about one fourth of its farm loan portfolio the general accounting office gao said in remarks prepared for delivery to the senate agriculture committee brian crowley senior associate director of gao also said that a preliminary analysis of proposed changes in <unk> financial eligibility standards indicated as many as one half of <unk> borrowers who received new loans from the agency in 1986 would be <unk> under the proposed system the agency has proposed evaluating <unk> credit using a variety of financial ratios instead of relying solely on <unk> ability senate agriculture committee chairman patrick leahy d vt <unk> the proposed eligibility changes telling <unk> administrator <unk> clark at a hearing that they would mark a dramatic shift in the agency's purpose away from being farmers' lender of last resort toward becoming a big city bank but clark defended the new regulations saying the agency had a responsibility to <unk> its 70 billion dlr loan portfolio in a <unk> yet <unk> manner crowley of gao <unk> <unk> arm said the proposed credit <unk> system attempted to ensure that <unk> would make loans only to borrowers who had a reasonable change of repaying their debt reuter 3\", '<sos> seton co said its board has received a proposal from chairman and chief executive officer philip d <unk> to acquire seton for 15 75 dlrs per share in cash seton said the acquisition bid is subject to <unk> arranging the necessary financing it said he intends to ask other members of senior management to participate the company said <unk> owns 30 pct of seton stock and other management members another 7 5 pct seton said it has formed an independent board committee to consider the offer and has deferred the annual meeting it had scheduled for march 31 reuter 3']\n",
      "\n",
      "\n",
      "['<sos> the great atlantic and pacific tea co said its three year 345 mln dlr capital program will be be substantially increased to <unk> growth and expansion plans for <unk> inc and <unk> inc over the next two years a and p said the acquisition of <unk> in august 1986 and <unk> in december helped us achieve better than expected results in the fourth quarter ended february 28 its net income from continuing operations jumped 52 6 pct to 20 7 mln dlrs or 55 cts a share in the latest quarter as sales increased 48 3 pct to 1 58 billion dlrs a and p gave no details on the expanded capital program but it did say it completed the first year of the program during 1986 a and p is 52 4 pct owned by lt <unk> <unk> of west germany reuter 3', \"<sos> philippine sugar production in the 1987 88 crop year ending august has been set at 1 6 mln tonnes up from a provisional 1 3 mln tonnes this year sugar regulatory administration <unk> chairman <unk> yulo said yulo told reuters a survey during the current milling season which ends next month showed the 1986 87 estimate would almost certainly be met he said at least 1 2 mln tonnes of the 1987 88 crop would be earmarked for domestic consumption yulo said about 130 000 tonnes would be set aside for the u s sugar quota 150 000 tonnes for strategic reserves and 50 000 tonnes would be sold on the world market he said if the government approved a long standing <unk> recommendation to manufacture ethanol the project would take up another 150 000 tonnes slightly raising the target the government for its own reasons has been delaying approval of the project but we expect it to come through by july yulo said ethanol could make up five pct of gasoline cutting the oil import bill by about 300 mln pesos yulo said three major philippine <unk> were ready to start manufacturing ethanol if the project was approved the ethanol project would result in employment for about 100 000 people sharply reducing those thrown out of work by depressed world sugar prices and a <unk> domestic industry production quotas set for the first time in 1987 88 had been submitted to president corazon aquino i think the president would rather wait <unk> the new congress <unk> after the may elections he said but there is really no need for such quotas we are right now producing just slightly over our own consumption level the producers have never enjoyed such high prices yulo said adding sugar was currently selling locally for 320 pesos per <unk> up from 190 pesos last august yulo said prices were driven up because of speculation following the <unk> bid to control production we are no longer concerned so much with the world market he said adding producers in the <unk> region had learned from their <unk> and diversified into corn and <unk> farming and <unk> production he said diversification into products other than ethanol was also possible within the sugar industry the <unk> long ago <unk> their <unk> yulo said they have 300 sugar mills compared with our 41 but they <unk> many of them and diversified production we want to call this a <unk> <unk> instead of the sugar industry he said sugarcane could be fed to pigs and livestock used for <unk> <unk> or used in room <unk> when you cut sugarcane you don't even have to produce sugar he said yulo said the philippines was lobbying for a renewal of the international sugar agreement which expired in 1984 as a major sugar producer we are urging them to write a new agreement which would revive world prices yulo said if there is no agreement world prices will always be depressed particularly because the european community is <unk> its producers and dumping sugar on the markets he said current world prices holding steady at about 7 60 cents per pound were <unk> for the philippines where production costs ranged from 12 to 14 cents a pound if the price holds steady for a while at 7 60 cents i expect the level to rise to about 11 cents a pound by the end of this year he said yulo said economists forecast a bullish sugar market by 1990 with world consumption <unk> production he said sugar markets were holding up despite <unk> from artificial sweeteners and high fructose corn syrup but we are not happy with the reagan administration he said since <unk> we have been regular suppliers of sugar to the u s in 1982 when they restored the quota system they cut <unk> in half without any justification manila was <unk> watching washington's moves to cut domestic support prices to 12 cents a pound from 18 cents the u s agriculture department last december slashed its 12 month 1987 sugar import quota from the philippines to 143 780 short tons from 231 660 short tons in 1986 yulo said despite next year's increased production target some philippine mills were expected to shut down at least four of the 41 mills were not working during the 1986 87 season he said we expect two or three more to follow suit during the next season reuter 3\", \"<sos> the agriculture department's widening of louisiana gulf differentials will affect county posted prices for number two yellow corn in ten states a usda official said all counties in iowa will be affected as will counties which use the gulf to price corn in illinois indiana tennessee kentucky missouri mississippi arkansas alabama and louisiana said <unk> <unk> deputy director of commodity operations division for the usda usda last night notified the grain industry that effective immediately all gulf differentials used to price interior corn would be widened on a sliding scale basis of four to eight cts depending on what the differential is usda's action was taken to lower excessively high posted county prices for corn caused by high gulf prices we've been following this louisiana gulf situation for a month and we don't think it's going to get back in line in any nearby time <unk> said <unk> said usda will probably narrow back the gulf differentials when and if gulf prices <unk> if we're off the mark now because we're too high wouldn't we be as much off the mark if we're too low he said while forecasting more adjustments if gulf prices fall <unk> said no other changes in usda's price system are being planned right now we don't tinker we don't make changes <unk> and we don't make changes often he said reuter 3\", '<sos> <unk> <unk> oil and gas partnership said it completed the sale of interests in two major oil and gas fields to lt energy assets international corp for 21 mln dlrs the company said it sold about one half of its 50 pct interest in the oak hill and north <unk> fields its two largest producing properties it said it used about 20 mln dlrs of the proceeds to <unk> principal on its senior secured notes semi annual principal payments on the remaining 40 mln dlrs of notes have been satisfied until december 1988 as a result it said the company said the note agreements were amended to reflect an easing of some financial covenants and an increase of interest to 13 5 pct from 13 0 pct until december 1990 it said the <unk> exercise price for 1 125 000 warrants was also reduced to 50 cts from 1 50 dlrs the company said energy assets agreed to share the costs of increasing production at the oak hill field reuter 3', '<sos> strong south <unk> winds were keeping many vessels trapped in the ice off the finnish and swedish coasts in one of the worst icy periods in the baltic for many years the finnish board of navigation said in finland and sweden up to 50 vessels were reported to be stuck in the ice and even the largest of the <unk> <unk> were having difficulties in breaking through to the <unk> ships <unk> officials said however icy conditions in the southern baltic at the soviet oil ports of <unk> and <unk> had eased they said weather officials in neighbouring sweden said the icy conditions in the baltic were the worst for 30 years with ships fighting a losing battle to keep moving in the coastal stretches of the gulf of <unk> which <unk> finland and sweden the ice is up to one <unk> thick with <unk> and <unk> packing it into almost <unk> walls three metres high swedish <unk> officials said weather forecasts say winds may ease during the weekend but a further drop in temperature could bring shipping to a standstill the officials said reuter 3']\n"
     ]
    }
   ],
   "source": [
    "print(x_train_10000[:5])\n",
    "print('\\n')\n",
    "print(x_test_10000[:5])"
   ]
  },
  {
   "cell_type": "code",
   "execution_count": 25,
   "id": "ca3ee2db",
   "metadata": {},
   "outputs": [],
   "source": [
    "from sklearn.feature_extraction.text import CountVectorizer\n",
    "from sklearn.feature_extraction.text import TfidfTransformer"
   ]
  },
  {
   "cell_type": "code",
   "execution_count": 34,
   "id": "fe0c9855",
   "metadata": {},
   "outputs": [
    {
     "name": "stdout",
     "output_type": "stream",
     "text": [
      "(8982, 4867)\n",
      "(8982, 9670)\n",
      "(8982, 14227)\n"
     ]
    }
   ],
   "source": [
    "# 학습데이터 DTM 생성\n",
    "\n",
    "dtmvector_5000 = CountVectorizer()\n",
    "dtmvector_10000 = CountVectorizer()\n",
    "dtmvector_15000 = CountVectorizer()\n",
    "\n",
    "x_train_5000_dtm = dtmvector_5000.fit_transform(x_train_5000)\n",
    "x_train_10000_dtm = dtmvector_10000.fit_transform(x_train_10000)\n",
    "x_train_15000_dtm = dtmvector_15000.fit_transform(x_train_15000)\n",
    "\n",
    "print(x_train_5000_dtm.shape)\n",
    "print(x_train_10000_dtm.shape)\n",
    "print(x_train_15000_dtm.shape)"
   ]
  },
  {
   "cell_type": "code",
   "execution_count": 35,
   "id": "11498132",
   "metadata": {},
   "outputs": [
    {
     "name": "stdout",
     "output_type": "stream",
     "text": [
      "(8982, 4867)\n",
      "(8982, 9670)\n",
      "(8982, 14227)\n"
     ]
    }
   ],
   "source": [
    "# 학습데이터 TF-IDF 생성\n",
    "\n",
    "tfidf_transformer_5000 = TfidfTransformer()\n",
    "tfidf_transformer_10000 = TfidfTransformer()\n",
    "tfidf_transformer_15000 = TfidfTransformer()\n",
    "\n",
    "x_train_5000_tfidfv = tfidf_transformer_5000.fit_transform(x_train_5000_dtm)\n",
    "x_train_10000_tfidfv = tfidf_transformer_10000.fit_transform(x_train_10000_dtm)\n",
    "x_train_15000_tfidfv = tfidf_transformer_15000.fit_transform(x_train_15000_dtm)\n",
    "\n",
    "print(x_train_5000_tfidfv.shape)\n",
    "print(x_train_10000_tfidfv.shape)\n",
    "print(x_train_15000_tfidfv.shape)"
   ]
  },
  {
   "cell_type": "code",
   "execution_count": 36,
   "id": "8fea06ca",
   "metadata": {},
   "outputs": [
    {
     "name": "stdout",
     "output_type": "stream",
     "text": [
      "(2246, 4867)\n",
      "(2246, 9670)\n",
      "(2246, 14227)\n"
     ]
    }
   ],
   "source": [
    "# 테스트데이터 DTM 생성\n",
    "\n",
    "x_test_5000_dtm = dtmvector_5000.transform(x_test_5000)\n",
    "x_test_10000_dtm = dtmvector_10000.transform(x_test_10000)\n",
    "x_test_15000_dtm = dtmvector_15000.transform(x_test_15000)\n",
    "\n",
    "print(x_test_5000_dtm.shape)\n",
    "print(x_test_10000_dtm.shape)\n",
    "print(x_test_15000_dtm.shape)"
   ]
  },
  {
   "cell_type": "code",
   "execution_count": 37,
   "id": "e66490b9",
   "metadata": {},
   "outputs": [
    {
     "name": "stdout",
     "output_type": "stream",
     "text": [
      "(2246, 4867)\n",
      "(2246, 9670)\n",
      "(2246, 14227)\n"
     ]
    }
   ],
   "source": [
    "# 테스트데이터 TF-IDF 생성\n",
    "\n",
    "x_test_5000_tfidfv = tfidf_transformer_5000.transform(x_test_5000_dtm)\n",
    "x_test_10000_tfidfv = tfidf_transformer_10000.transform(x_test_10000_dtm)\n",
    "x_test_15000_tfidfv = tfidf_transformer_15000.transform(x_test_15000_dtm)\n",
    "\n",
    "print(x_test_5000_tfidfv.shape)\n",
    "print(x_test_10000_tfidfv.shape)\n",
    "print(x_test_15000_tfidfv.shape)"
   ]
  },
  {
   "cell_type": "code",
   "execution_count": 38,
   "id": "83ba9174",
   "metadata": {},
   "outputs": [],
   "source": [
    "from sklearn.linear_model import LogisticRegression, SGDClassifier\n",
    "from sklearn.naive_bayes import ComplementNB\n",
    "from sklearn.tree import DecisionTreeClassifier\n",
    "from sklearn.ensemble import RandomForestClassifier\n",
    "from sklearn.ensemble import GradientBoostingClassifier\n",
    "from sklearn.ensemble import VotingClassifier\n",
    "from sklearn.svm import LinearSVC\n",
    "from sklearn.metrics import accuracy_score, classification_report"
   ]
  },
  {
   "cell_type": "code",
   "execution_count": 48,
   "id": "dc80c72b",
   "metadata": {},
   "outputs": [],
   "source": [
    "def model_train_evaluate(model, x_train, y_train, x_test, y_test, model_name=\"Model\"):\n",
    "\n",
    "    # 모델 학습\n",
    "    model.fit(x_train, y_train)\n",
    "    \n",
    "    # 예측\n",
    "    predicted = model.predict(x_test)\n",
    "    \n",
    "    # 평가\n",
    "    report = classification_report(y_test, predicted, output_dict=True)\n",
    "    \n",
    "    # 결과 출력\n",
    "    print(f\"\\n=== {model_name} 결과 ===\")\n",
    "    print(f\"정확도 (Accuracy): {report['accuracy']:.4f}\")\n",
    "    print(f\"단순평균 F1 점수 (Macro Avg F1): {report['macro avg']['f1-score']:.4f}\")\n",
    "    print(f\"가중평균 F1 점수 (Weighted Avg F1): {report['weighted avg']['f1-score']:.4f}\")"
   ]
  },
  {
   "cell_type": "code",
   "execution_count": 46,
   "id": "43eb2f5b",
   "metadata": {},
   "outputs": [],
   "source": [
    "# 각 모델 정의\n",
    "\n",
    "# 첫번째 모델 컴플리먼트 나이브 베이즈\n",
    "cnb_5000 = ComplementNB()\n",
    "cnb_10000 = ComplementNB()\n",
    "cnb_15000 = ComplementNB()\n",
    "\n",
    "# 두번째 로지스틱 회귀\n",
    "lr_5000 = LogisticRegression(C=1000, penalty='l2', max_iter=3000)\n",
    "lr_10000 = LogisticRegression(C=1000, penalty='l2', max_iter=3000)\n",
    "lr_15000 = LogisticRegression(C=1000, penalty='l2', max_iter=3000)\n",
    "\n",
    "# 세번째 서포트 벡터 머신\n",
    "lsvc_5000 = LinearSVC(C=1000, penalty='l2', max_iter=3000, dual=False, probability=True)\n",
    "lsvc_10000 = LinearSVC(C=1000, penalty='l2', max_iter=3000, dual=False, probability=True)\n",
    "lsvc_15000 = LinearSVC(C=1000, penalty='l2', max_iter=3000, dual=False, probability=True)\n",
    "\n",
    "# 네번째 랜덤 포레스트\n",
    "rf_5000 = RandomForestClassifier(n_estimators=5, random_state=42)\n",
    "rf_10000 = RandomForestClassifier(n_estimators=5, random_state=42)\n",
    "rf_15000 = RandomForestClassifier(n_estimators=5, random_state=42)\n",
    "\n",
    "# 다섯번째 그래디언트 부스팅\n",
    "gb_5000 = GradientBoostingClassifier(random_state=42)\n",
    "gb_10000 = GradientBoostingClassifier(random_state=42)\n",
    "gb_15000 = GradientBoostingClassifier(random_state=42)"
   ]
  },
  {
   "cell_type": "code",
   "execution_count": 50,
   "id": "d7d1f7bf",
   "metadata": {},
   "outputs": [
    {
     "name": "stderr",
     "output_type": "stream",
     "text": [
      "/opt/conda/lib/python3.9/site-packages/sklearn/metrics/_classification.py:1308: UndefinedMetricWarning: Precision and F-score are ill-defined and being set to 0.0 in labels with no predicted samples. Use `zero_division` parameter to control this behavior.\n",
      "  _warn_prf(average, modifier, msg_start, len(result))\n",
      "/opt/conda/lib/python3.9/site-packages/sklearn/metrics/_classification.py:1308: UndefinedMetricWarning: Precision and F-score are ill-defined and being set to 0.0 in labels with no predicted samples. Use `zero_division` parameter to control this behavior.\n",
      "  _warn_prf(average, modifier, msg_start, len(result))\n",
      "/opt/conda/lib/python3.9/site-packages/sklearn/metrics/_classification.py:1308: UndefinedMetricWarning: Precision and F-score are ill-defined and being set to 0.0 in labels with no predicted samples. Use `zero_division` parameter to control this behavior.\n",
      "  _warn_prf(average, modifier, msg_start, len(result))\n",
      "/opt/conda/lib/python3.9/site-packages/sklearn/metrics/_classification.py:1308: UndefinedMetricWarning: Precision and F-score are ill-defined and being set to 0.0 in labels with no predicted samples. Use `zero_division` parameter to control this behavior.\n",
      "  _warn_prf(average, modifier, msg_start, len(result))\n",
      "/opt/conda/lib/python3.9/site-packages/sklearn/metrics/_classification.py:1308: UndefinedMetricWarning: Precision and F-score are ill-defined and being set to 0.0 in labels with no predicted samples. Use `zero_division` parameter to control this behavior.\n",
      "  _warn_prf(average, modifier, msg_start, len(result))\n",
      "/opt/conda/lib/python3.9/site-packages/sklearn/metrics/_classification.py:1308: UndefinedMetricWarning: Precision and F-score are ill-defined and being set to 0.0 in labels with no predicted samples. Use `zero_division` parameter to control this behavior.\n",
      "  _warn_prf(average, modifier, msg_start, len(result))\n",
      "/opt/conda/lib/python3.9/site-packages/sklearn/metrics/_classification.py:1308: UndefinedMetricWarning: Precision and F-score are ill-defined and being set to 0.0 in labels with no predicted samples. Use `zero_division` parameter to control this behavior.\n",
      "  _warn_prf(average, modifier, msg_start, len(result))\n",
      "/opt/conda/lib/python3.9/site-packages/sklearn/metrics/_classification.py:1308: UndefinedMetricWarning: Precision and F-score are ill-defined and being set to 0.0 in labels with no predicted samples. Use `zero_division` parameter to control this behavior.\n",
      "  _warn_prf(average, modifier, msg_start, len(result))\n",
      "/opt/conda/lib/python3.9/site-packages/sklearn/metrics/_classification.py:1308: UndefinedMetricWarning: Precision and F-score are ill-defined and being set to 0.0 in labels with no predicted samples. Use `zero_division` parameter to control this behavior.\n",
      "  _warn_prf(average, modifier, msg_start, len(result))\n"
     ]
    },
    {
     "name": "stdout",
     "output_type": "stream",
     "text": [
      "\n",
      "=== ComplementNB (5000 단어) 결과 ===\n",
      "정확도 (Accuracy): 0.7707\n",
      "단순평균 F1 점수 (Macro Avg F1): 0.4820\n",
      "가중평균 F1 점수 (Weighted Avg F1): 0.7459\n",
      "\n",
      "=== ComplementNB (10000 단어) 결과 ===\n",
      "정확도 (Accuracy): 0.7707\n",
      "단순평균 F1 점수 (Macro Avg F1): 0.4784\n",
      "가중평균 F1 점수 (Weighted Avg F1): 0.7457\n",
      "\n",
      "=== ComplementNB (15000 단어) 결과 ===\n",
      "정확도 (Accuracy): 0.7720\n",
      "단순평균 F1 점수 (Macro Avg F1): 0.4668\n",
      "가중평균 F1 점수 (Weighted Avg F1): 0.7448\n"
     ]
    },
    {
     "name": "stderr",
     "output_type": "stream",
     "text": [
      "/opt/conda/lib/python3.9/site-packages/sklearn/metrics/_classification.py:1308: UndefinedMetricWarning: Precision and F-score are ill-defined and being set to 0.0 in labels with no predicted samples. Use `zero_division` parameter to control this behavior.\n",
      "  _warn_prf(average, modifier, msg_start, len(result))\n",
      "/opt/conda/lib/python3.9/site-packages/sklearn/metrics/_classification.py:1308: UndefinedMetricWarning: Precision and F-score are ill-defined and being set to 0.0 in labels with no predicted samples. Use `zero_division` parameter to control this behavior.\n",
      "  _warn_prf(average, modifier, msg_start, len(result))\n",
      "/opt/conda/lib/python3.9/site-packages/sklearn/metrics/_classification.py:1308: UndefinedMetricWarning: Precision and F-score are ill-defined and being set to 0.0 in labels with no predicted samples. Use `zero_division` parameter to control this behavior.\n",
      "  _warn_prf(average, modifier, msg_start, len(result))\n"
     ]
    },
    {
     "name": "stdout",
     "output_type": "stream",
     "text": [
      "\n",
      "=== LogisticRegression (5000 단어) 결과 ===\n",
      "정확도 (Accuracy): 0.8068\n",
      "단순평균 F1 점수 (Macro Avg F1): 0.6426\n",
      "가중평균 F1 점수 (Weighted Avg F1): 0.8009\n"
     ]
    },
    {
     "name": "stderr",
     "output_type": "stream",
     "text": [
      "/opt/conda/lib/python3.9/site-packages/sklearn/metrics/_classification.py:1308: UndefinedMetricWarning: Precision and F-score are ill-defined and being set to 0.0 in labels with no predicted samples. Use `zero_division` parameter to control this behavior.\n",
      "  _warn_prf(average, modifier, msg_start, len(result))\n",
      "/opt/conda/lib/python3.9/site-packages/sklearn/metrics/_classification.py:1308: UndefinedMetricWarning: Precision and F-score are ill-defined and being set to 0.0 in labels with no predicted samples. Use `zero_division` parameter to control this behavior.\n",
      "  _warn_prf(average, modifier, msg_start, len(result))\n",
      "/opt/conda/lib/python3.9/site-packages/sklearn/metrics/_classification.py:1308: UndefinedMetricWarning: Precision and F-score are ill-defined and being set to 0.0 in labels with no predicted samples. Use `zero_division` parameter to control this behavior.\n",
      "  _warn_prf(average, modifier, msg_start, len(result))\n"
     ]
    },
    {
     "name": "stdout",
     "output_type": "stream",
     "text": [
      "\n",
      "=== LogisticRegression (10000 단어) 결과 ===\n",
      "정확도 (Accuracy): 0.8126\n",
      "단순평균 F1 점수 (Macro Avg F1): 0.6658\n",
      "가중평균 F1 점수 (Weighted Avg F1): 0.8069\n"
     ]
    },
    {
     "name": "stderr",
     "output_type": "stream",
     "text": [
      "/opt/conda/lib/python3.9/site-packages/sklearn/metrics/_classification.py:1308: UndefinedMetricWarning: Precision and F-score are ill-defined and being set to 0.0 in labels with no predicted samples. Use `zero_division` parameter to control this behavior.\n",
      "  _warn_prf(average, modifier, msg_start, len(result))\n",
      "/opt/conda/lib/python3.9/site-packages/sklearn/metrics/_classification.py:1308: UndefinedMetricWarning: Precision and F-score are ill-defined and being set to 0.0 in labels with no predicted samples. Use `zero_division` parameter to control this behavior.\n",
      "  _warn_prf(average, modifier, msg_start, len(result))\n",
      "/opt/conda/lib/python3.9/site-packages/sklearn/metrics/_classification.py:1308: UndefinedMetricWarning: Precision and F-score are ill-defined and being set to 0.0 in labels with no predicted samples. Use `zero_division` parameter to control this behavior.\n",
      "  _warn_prf(average, modifier, msg_start, len(result))\n"
     ]
    },
    {
     "name": "stdout",
     "output_type": "stream",
     "text": [
      "\n",
      "=== LogisticRegression (15000 단어) 결과 ===\n",
      "정확도 (Accuracy): 0.8139\n",
      "단순평균 F1 점수 (Macro Avg F1): 0.6632\n",
      "가중평균 F1 점수 (Weighted Avg F1): 0.8082\n"
     ]
    },
    {
     "name": "stderr",
     "output_type": "stream",
     "text": [
      "/opt/conda/lib/python3.9/site-packages/sklearn/metrics/_classification.py:1308: UndefinedMetricWarning: Precision and F-score are ill-defined and being set to 0.0 in labels with no predicted samples. Use `zero_division` parameter to control this behavior.\n",
      "  _warn_prf(average, modifier, msg_start, len(result))\n",
      "/opt/conda/lib/python3.9/site-packages/sklearn/metrics/_classification.py:1308: UndefinedMetricWarning: Precision and F-score are ill-defined and being set to 0.0 in labels with no predicted samples. Use `zero_division` parameter to control this behavior.\n",
      "  _warn_prf(average, modifier, msg_start, len(result))\n",
      "/opt/conda/lib/python3.9/site-packages/sklearn/metrics/_classification.py:1308: UndefinedMetricWarning: Precision and F-score are ill-defined and being set to 0.0 in labels with no predicted samples. Use `zero_division` parameter to control this behavior.\n",
      "  _warn_prf(average, modifier, msg_start, len(result))\n"
     ]
    },
    {
     "name": "stdout",
     "output_type": "stream",
     "text": [
      "\n",
      "=== LinearSVC (5000 단어) 결과 ===\n",
      "정확도 (Accuracy): 0.7934\n",
      "단순평균 F1 점수 (Macro Avg F1): 0.6359\n",
      "가중평균 F1 점수 (Weighted Avg F1): 0.7892\n",
      "\n",
      "=== LinearSVC (10000 단어) 결과 ===\n",
      "정확도 (Accuracy): 0.8037\n",
      "단순평균 F1 점수 (Macro Avg F1): 0.6569\n",
      "가중평균 F1 점수 (Weighted Avg F1): 0.7992\n",
      "\n",
      "=== LinearSVC (15000 단어) 결과 ===\n",
      "정확도 (Accuracy): 0.8041\n",
      "단순평균 F1 점수 (Macro Avg F1): 0.6744\n",
      "가중평균 F1 점수 (Weighted Avg F1): 0.8000\n"
     ]
    },
    {
     "name": "stderr",
     "output_type": "stream",
     "text": [
      "/opt/conda/lib/python3.9/site-packages/sklearn/metrics/_classification.py:1308: UndefinedMetricWarning: Precision and F-score are ill-defined and being set to 0.0 in labels with no predicted samples. Use `zero_division` parameter to control this behavior.\n",
      "  _warn_prf(average, modifier, msg_start, len(result))\n",
      "/opt/conda/lib/python3.9/site-packages/sklearn/metrics/_classification.py:1308: UndefinedMetricWarning: Precision and F-score are ill-defined and being set to 0.0 in labels with no predicted samples. Use `zero_division` parameter to control this behavior.\n",
      "  _warn_prf(average, modifier, msg_start, len(result))\n",
      "/opt/conda/lib/python3.9/site-packages/sklearn/metrics/_classification.py:1308: UndefinedMetricWarning: Precision and F-score are ill-defined and being set to 0.0 in labels with no predicted samples. Use `zero_division` parameter to control this behavior.\n",
      "  _warn_prf(average, modifier, msg_start, len(result))\n"
     ]
    },
    {
     "name": "stdout",
     "output_type": "stream",
     "text": [
      "\n",
      "=== RandomForestClassifier (5000 단어) 결과 ===\n",
      "정확도 (Accuracy): 0.6932\n",
      "단순평균 F1 점수 (Macro Avg F1): 0.3098\n",
      "가중평균 F1 점수 (Weighted Avg F1): 0.6663\n"
     ]
    },
    {
     "name": "stderr",
     "output_type": "stream",
     "text": [
      "/opt/conda/lib/python3.9/site-packages/sklearn/metrics/_classification.py:1308: UndefinedMetricWarning: Precision and F-score are ill-defined and being set to 0.0 in labels with no predicted samples. Use `zero_division` parameter to control this behavior.\n",
      "  _warn_prf(average, modifier, msg_start, len(result))\n",
      "/opt/conda/lib/python3.9/site-packages/sklearn/metrics/_classification.py:1308: UndefinedMetricWarning: Precision and F-score are ill-defined and being set to 0.0 in labels with no predicted samples. Use `zero_division` parameter to control this behavior.\n",
      "  _warn_prf(average, modifier, msg_start, len(result))\n",
      "/opt/conda/lib/python3.9/site-packages/sklearn/metrics/_classification.py:1308: UndefinedMetricWarning: Precision and F-score are ill-defined and being set to 0.0 in labels with no predicted samples. Use `zero_division` parameter to control this behavior.\n",
      "  _warn_prf(average, modifier, msg_start, len(result))\n"
     ]
    },
    {
     "name": "stdout",
     "output_type": "stream",
     "text": [
      "\n",
      "=== RandomForestClassifier (10000 단어) 결과 ===\n",
      "정확도 (Accuracy): 0.6776\n",
      "단순평균 F1 점수 (Macro Avg F1): 0.2913\n",
      "가중평균 F1 점수 (Weighted Avg F1): 0.6448\n"
     ]
    },
    {
     "name": "stderr",
     "output_type": "stream",
     "text": [
      "/opt/conda/lib/python3.9/site-packages/sklearn/metrics/_classification.py:1308: UndefinedMetricWarning: Precision and F-score are ill-defined and being set to 0.0 in labels with no predicted samples. Use `zero_division` parameter to control this behavior.\n",
      "  _warn_prf(average, modifier, msg_start, len(result))\n",
      "/opt/conda/lib/python3.9/site-packages/sklearn/metrics/_classification.py:1308: UndefinedMetricWarning: Precision and F-score are ill-defined and being set to 0.0 in labels with no predicted samples. Use `zero_division` parameter to control this behavior.\n",
      "  _warn_prf(average, modifier, msg_start, len(result))\n",
      "/opt/conda/lib/python3.9/site-packages/sklearn/metrics/_classification.py:1308: UndefinedMetricWarning: Precision and F-score are ill-defined and being set to 0.0 in labels with no predicted samples. Use `zero_division` parameter to control this behavior.\n",
      "  _warn_prf(average, modifier, msg_start, len(result))\n"
     ]
    },
    {
     "name": "stdout",
     "output_type": "stream",
     "text": [
      "\n",
      "=== RandomForestClassifier (15000 단어) 결과 ===\n",
      "정확도 (Accuracy): 0.6741\n",
      "단순평균 F1 점수 (Macro Avg F1): 0.3146\n",
      "가중평균 F1 점수 (Weighted Avg F1): 0.6479\n",
      "\n",
      "=== GradientBoostingClassifier (5000 단어) 결과 ===\n",
      "정확도 (Accuracy): 0.7685\n",
      "단순평균 F1 점수 (Macro Avg F1): 0.5875\n",
      "가중평균 F1 점수 (Weighted Avg F1): 0.7675\n",
      "\n",
      "=== GradientBoostingClassifier (10000 단어) 결과 ===\n",
      "정확도 (Accuracy): 0.7707\n",
      "단순평균 F1 점수 (Macro Avg F1): 0.5758\n",
      "가중평균 F1 점수 (Weighted Avg F1): 0.7665\n",
      "\n",
      "=== GradientBoostingClassifier (15000 단어) 결과 ===\n",
      "정확도 (Accuracy): 0.7663\n",
      "단순평균 F1 점수 (Macro Avg F1): 0.5691\n",
      "가중평균 F1 점수 (Weighted Avg F1): 0.7633\n"
     ]
    }
   ],
   "source": [
    "# 모델 학습 및 평가\n",
    "\n",
    "model_train_evaluate(cnb_5000, x_train_5000_tfidfv, y_train_5000, x_test_5000_tfidfv, y_test_5000, \"ComplementNB (5000 단어)\")\n",
    "model_train_evaluate(cnb_10000, x_train_10000_tfidfv, y_train_10000, x_test_10000_tfidfv, y_test_10000, \"ComplementNB (10000 단어)\")\n",
    "model_train_evaluate(cnb_15000, x_train_15000_tfidfv, y_train_15000, x_test_15000_tfidfv, y_test_15000, \"ComplementNB (15000 단어)\")\n",
    "\n",
    "model_train_evaluate(lr_5000, x_train_5000_tfidfv, y_train_5000, x_test_5000_tfidfv, y_test_5000, \"LogisticRegression (5000 단어)\")\n",
    "model_train_evaluate(lr_10000, x_train_10000_tfidfv, y_train_10000, x_test_10000_tfidfv, y_test_10000, \"LogisticRegression (10000 단어)\")\n",
    "model_train_evaluate(lr_15000, x_train_15000_tfidfv, y_train_15000, x_test_15000_tfidfv, y_test_15000, \"LogisticRegression (15000 단어)\")\n",
    "\n",
    "model_train_evaluate(lsvc_5000, x_train_5000_tfidfv, y_train_5000, x_test_5000_tfidfv, y_test_5000, \"LinearSVC (5000 단어)\")\n",
    "model_train_evaluate(lsvc_10000, x_train_10000_tfidfv, y_train_10000, x_test_10000_tfidfv, y_test_10000, \"LinearSVC (10000 단어)\")\n",
    "model_train_evaluate(lsvc_15000, x_train_15000_tfidfv, y_train_15000, x_test_15000_tfidfv, y_test_15000, \"LinearSVC (15000 단어)\")\n",
    "\n",
    "model_train_evaluate(rf_5000, x_train_5000_tfidfv, y_train_5000, x_test_5000_tfidfv, y_test_5000, \"RandomForestClassifier (5000 단어)\")\n",
    "model_train_evaluate(rf_10000, x_train_10000_tfidfv, y_train_10000, x_test_10000_tfidfv, y_test_10000, \"RandomForestClassifier (10000 단어)\")\n",
    "model_train_evaluate(rf_15000, x_train_15000_tfidfv, y_train_15000, x_test_15000_tfidfv, y_test_15000, \"RandomForestClassifier (15000 단어)\")\n",
    "\n",
    "model_train_evaluate(gb_5000, x_train_5000_tfidfv, y_train_5000, x_test_5000_tfidfv, y_test_5000, \"GradientBoostingClassifier (5000 단어)\")\n",
    "model_train_evaluate(gb_10000, x_train_10000_tfidfv, y_train_10000, x_test_10000_tfidfv, y_test_10000, \"GradientBoostingClassifier (10000 단어)\")\n",
    "model_train_evaluate(gb_15000, x_train_15000_tfidfv, y_train_15000, x_test_15000_tfidfv, y_test_15000, \"GradientBoostingClassifier (15000 단어)\")"
   ]
  },
  {
   "cell_type": "code",
   "execution_count": 59,
   "id": "31457885",
   "metadata": {},
   "outputs": [],
   "source": [
    "# 위 5개 모델 중 SVC를 제외한 4개 모델로 보팅 모델 구성\n",
    "\n",
    "voting_5000 =  VotingClassifier(estimators=[('cnb_5000', cnb_5000),\n",
    "                                            ('lr_5000', lr_5000),\n",
    "                                            \n",
    "                                            ('rf_5000', rf_5000),\n",
    "                                            ('gb_5000', gb_5000)],\n",
    "                                voting='soft')\n",
    "\n",
    "voting_10000 =  VotingClassifier(estimators=[('cnb_10000', cnb_10000),\n",
    "                                            ('lr_10000', lr_10000),\n",
    "                                            \n",
    "                                            ('rf_10000', rf_10000),\n",
    "                                            ('gb_10000', gb_10000)],\n",
    "                                voting='soft')\n",
    "\n",
    "voting_15000 =  VotingClassifier(estimators=[('cnb_15000', cnb_15000),\n",
    "                                            ('lr_15000', lr_15000),\n",
    "                                            \n",
    "                                            ('rf_15000', rf_15000),\n",
    "                                            ('gb_15000', gb_15000)],\n",
    "                                voting='soft')"
   ]
  },
  {
   "cell_type": "code",
   "execution_count": 55,
   "id": "22d644b3",
   "metadata": {},
   "outputs": [],
   "source": [
    "from sklearn.svm import SVC"
   ]
  },
  {
   "cell_type": "code",
   "execution_count": 58,
   "id": "60abbb83",
   "metadata": {
    "collapsed": true
   },
   "outputs": [
    {
     "ename": "KeyboardInterrupt",
     "evalue": "",
     "output_type": "error",
     "traceback": [
      "\u001b[0;31m---------------------------------------------------------------------------\u001b[0m",
      "\u001b[0;31mKeyboardInterrupt\u001b[0m                         Traceback (most recent call last)",
      "\u001b[0;32m/tmp/ipykernel_188/606942563.py\u001b[0m in \u001b[0;36m<module>\u001b[0;34m\u001b[0m\n\u001b[1;32m      4\u001b[0m \u001b[0msvc_15000\u001b[0m \u001b[0;34m=\u001b[0m \u001b[0mSVC\u001b[0m\u001b[0;34m(\u001b[0m\u001b[0mC\u001b[0m\u001b[0;34m=\u001b[0m\u001b[0;36m1000\u001b[0m\u001b[0;34m,\u001b[0m \u001b[0mmax_iter\u001b[0m\u001b[0;34m=\u001b[0m\u001b[0;36m3000\u001b[0m\u001b[0;34m,\u001b[0m \u001b[0mprobability\u001b[0m\u001b[0;34m=\u001b[0m\u001b[0;32mTrue\u001b[0m\u001b[0;34m)\u001b[0m\u001b[0;34m\u001b[0m\u001b[0;34m\u001b[0m\u001b[0m\n\u001b[1;32m      5\u001b[0m \u001b[0;34m\u001b[0m\u001b[0m\n\u001b[0;32m----> 6\u001b[0;31m \u001b[0mmodel_train_evaluate\u001b[0m\u001b[0;34m(\u001b[0m\u001b[0msvc_5000\u001b[0m\u001b[0;34m,\u001b[0m \u001b[0mx_train_5000_tfidfv\u001b[0m\u001b[0;34m,\u001b[0m \u001b[0my_train_5000\u001b[0m\u001b[0;34m,\u001b[0m \u001b[0mx_test_5000_tfidfv\u001b[0m\u001b[0;34m,\u001b[0m \u001b[0my_test_5000\u001b[0m\u001b[0;34m,\u001b[0m \u001b[0;34m\"SVC (5000 단어)\"\u001b[0m\u001b[0;34m)\u001b[0m\u001b[0;34m\u001b[0m\u001b[0;34m\u001b[0m\u001b[0m\n\u001b[0m\u001b[1;32m      7\u001b[0m \u001b[0mmodel_train_evaluate\u001b[0m\u001b[0;34m(\u001b[0m\u001b[0msvc_10000\u001b[0m\u001b[0;34m,\u001b[0m \u001b[0mx_train_10000_tfidfv\u001b[0m\u001b[0;34m,\u001b[0m \u001b[0my_train_10000\u001b[0m\u001b[0;34m,\u001b[0m \u001b[0mx_test_10000_tfidfv\u001b[0m\u001b[0;34m,\u001b[0m \u001b[0my_test_10000\u001b[0m\u001b[0;34m,\u001b[0m \u001b[0;34m\"SVC (10000 단어)\"\u001b[0m\u001b[0;34m)\u001b[0m\u001b[0;34m\u001b[0m\u001b[0;34m\u001b[0m\u001b[0m\n\u001b[1;32m      8\u001b[0m \u001b[0mmodel_train_evaluate\u001b[0m\u001b[0;34m(\u001b[0m\u001b[0msvc_15000\u001b[0m\u001b[0;34m,\u001b[0m \u001b[0mx_train_15000_tfidfv\u001b[0m\u001b[0;34m,\u001b[0m \u001b[0my_train_15000\u001b[0m\u001b[0;34m,\u001b[0m \u001b[0mx_test_15000_tfidfv\u001b[0m\u001b[0;34m,\u001b[0m \u001b[0my_test_15000\u001b[0m\u001b[0;34m,\u001b[0m \u001b[0;34m\"SVC (15000 단어)\"\u001b[0m\u001b[0;34m)\u001b[0m\u001b[0;34m\u001b[0m\u001b[0;34m\u001b[0m\u001b[0m\n",
      "\u001b[0;32m/tmp/ipykernel_188/2056909539.py\u001b[0m in \u001b[0;36mmodel_train_evaluate\u001b[0;34m(model, x_train, y_train, x_test, y_test, model_name)\u001b[0m\n\u001b[1;32m      2\u001b[0m \u001b[0;34m\u001b[0m\u001b[0m\n\u001b[1;32m      3\u001b[0m     \u001b[0;31m# 모델 학습\u001b[0m\u001b[0;34m\u001b[0m\u001b[0;34m\u001b[0m\u001b[0m\n\u001b[0;32m----> 4\u001b[0;31m     \u001b[0mmodel\u001b[0m\u001b[0;34m.\u001b[0m\u001b[0mfit\u001b[0m\u001b[0;34m(\u001b[0m\u001b[0mx_train\u001b[0m\u001b[0;34m,\u001b[0m \u001b[0my_train\u001b[0m\u001b[0;34m)\u001b[0m\u001b[0;34m\u001b[0m\u001b[0;34m\u001b[0m\u001b[0m\n\u001b[0m\u001b[1;32m      5\u001b[0m \u001b[0;34m\u001b[0m\u001b[0m\n\u001b[1;32m      6\u001b[0m     \u001b[0;31m# 예측\u001b[0m\u001b[0;34m\u001b[0m\u001b[0;34m\u001b[0m\u001b[0m\n",
      "\u001b[0;32m/opt/conda/lib/python3.9/site-packages/sklearn/svm/_base.py\u001b[0m in \u001b[0;36mfit\u001b[0;34m(self, X, y, sample_weight)\u001b[0m\n\u001b[1;32m    253\u001b[0m \u001b[0;34m\u001b[0m\u001b[0m\n\u001b[1;32m    254\u001b[0m         \u001b[0mseed\u001b[0m \u001b[0;34m=\u001b[0m \u001b[0mrnd\u001b[0m\u001b[0;34m.\u001b[0m\u001b[0mrandint\u001b[0m\u001b[0;34m(\u001b[0m\u001b[0mnp\u001b[0m\u001b[0;34m.\u001b[0m\u001b[0miinfo\u001b[0m\u001b[0;34m(\u001b[0m\u001b[0;34m\"i\"\u001b[0m\u001b[0;34m)\u001b[0m\u001b[0;34m.\u001b[0m\u001b[0mmax\u001b[0m\u001b[0;34m)\u001b[0m\u001b[0;34m\u001b[0m\u001b[0;34m\u001b[0m\u001b[0m\n\u001b[0;32m--> 255\u001b[0;31m         \u001b[0mfit\u001b[0m\u001b[0;34m(\u001b[0m\u001b[0mX\u001b[0m\u001b[0;34m,\u001b[0m \u001b[0my\u001b[0m\u001b[0;34m,\u001b[0m \u001b[0msample_weight\u001b[0m\u001b[0;34m,\u001b[0m \u001b[0msolver_type\u001b[0m\u001b[0;34m,\u001b[0m \u001b[0mkernel\u001b[0m\u001b[0;34m,\u001b[0m \u001b[0mrandom_seed\u001b[0m\u001b[0;34m=\u001b[0m\u001b[0mseed\u001b[0m\u001b[0;34m)\u001b[0m\u001b[0;34m\u001b[0m\u001b[0;34m\u001b[0m\u001b[0m\n\u001b[0m\u001b[1;32m    256\u001b[0m         \u001b[0;31m# see comment on the other call to np.iinfo in this file\u001b[0m\u001b[0;34m\u001b[0m\u001b[0;34m\u001b[0m\u001b[0m\n\u001b[1;32m    257\u001b[0m \u001b[0;34m\u001b[0m\u001b[0m\n",
      "\u001b[0;32m/opt/conda/lib/python3.9/site-packages/sklearn/svm/_base.py\u001b[0m in \u001b[0;36m_sparse_fit\u001b[0;34m(self, X, y, sample_weight, solver_type, kernel, random_seed)\u001b[0m\n\u001b[1;32m    353\u001b[0m             \u001b[0mself\u001b[0m\u001b[0;34m.\u001b[0m\u001b[0m_probB\u001b[0m\u001b[0;34m,\u001b[0m\u001b[0;34m\u001b[0m\u001b[0;34m\u001b[0m\u001b[0m\n\u001b[1;32m    354\u001b[0m             \u001b[0mself\u001b[0m\u001b[0;34m.\u001b[0m\u001b[0mfit_status_\u001b[0m\u001b[0;34m,\u001b[0m\u001b[0;34m\u001b[0m\u001b[0;34m\u001b[0m\u001b[0m\n\u001b[0;32m--> 355\u001b[0;31m         \u001b[0;34m)\u001b[0m \u001b[0;34m=\u001b[0m \u001b[0mlibsvm_sparse\u001b[0m\u001b[0;34m.\u001b[0m\u001b[0mlibsvm_sparse_train\u001b[0m\u001b[0;34m(\u001b[0m\u001b[0;34m\u001b[0m\u001b[0;34m\u001b[0m\u001b[0m\n\u001b[0m\u001b[1;32m    356\u001b[0m             \u001b[0mX\u001b[0m\u001b[0;34m.\u001b[0m\u001b[0mshape\u001b[0m\u001b[0;34m[\u001b[0m\u001b[0;36m1\u001b[0m\u001b[0;34m]\u001b[0m\u001b[0;34m,\u001b[0m\u001b[0;34m\u001b[0m\u001b[0;34m\u001b[0m\u001b[0m\n\u001b[1;32m    357\u001b[0m             \u001b[0mX\u001b[0m\u001b[0;34m.\u001b[0m\u001b[0mdata\u001b[0m\u001b[0;34m,\u001b[0m\u001b[0;34m\u001b[0m\u001b[0;34m\u001b[0m\u001b[0m\n",
      "\u001b[0;32msklearn/svm/_libsvm_sparse.pyx\u001b[0m in \u001b[0;36msklearn.svm._libsvm_sparse.libsvm_sparse_train\u001b[0;34m()\u001b[0m\n",
      "\u001b[0;32m/opt/conda/lib/python3.9/site-packages/scipy/sparse/compressed.py\u001b[0m in \u001b[0;36m__init__\u001b[0;34m(self, arg1, shape, dtype, copy)\u001b[0m\n\u001b[1;32m     25\u001b[0m     \u001b[0;34m\"\"\"base matrix class for compressed row- and column-oriented matrices\"\"\"\u001b[0m\u001b[0;34m\u001b[0m\u001b[0;34m\u001b[0m\u001b[0m\n\u001b[1;32m     26\u001b[0m \u001b[0;34m\u001b[0m\u001b[0m\n\u001b[0;32m---> 27\u001b[0;31m     \u001b[0;32mdef\u001b[0m \u001b[0m__init__\u001b[0m\u001b[0;34m(\u001b[0m\u001b[0mself\u001b[0m\u001b[0;34m,\u001b[0m \u001b[0marg1\u001b[0m\u001b[0;34m,\u001b[0m \u001b[0mshape\u001b[0m\u001b[0;34m=\u001b[0m\u001b[0;32mNone\u001b[0m\u001b[0;34m,\u001b[0m \u001b[0mdtype\u001b[0m\u001b[0;34m=\u001b[0m\u001b[0;32mNone\u001b[0m\u001b[0;34m,\u001b[0m \u001b[0mcopy\u001b[0m\u001b[0;34m=\u001b[0m\u001b[0;32mFalse\u001b[0m\u001b[0;34m)\u001b[0m\u001b[0;34m:\u001b[0m\u001b[0;34m\u001b[0m\u001b[0;34m\u001b[0m\u001b[0m\n\u001b[0m\u001b[1;32m     28\u001b[0m         \u001b[0m_data_matrix\u001b[0m\u001b[0;34m.\u001b[0m\u001b[0m__init__\u001b[0m\u001b[0;34m(\u001b[0m\u001b[0mself\u001b[0m\u001b[0;34m)\u001b[0m\u001b[0;34m\u001b[0m\u001b[0;34m\u001b[0m\u001b[0m\n\u001b[1;32m     29\u001b[0m \u001b[0;34m\u001b[0m\u001b[0m\n",
      "\u001b[0;31mKeyboardInterrupt\u001b[0m: "
     ]
    }
   ],
   "source": [
    "# 세번째 서포트 벡터 머신\n",
    "svc_5000 = SVC(C=1000, max_iter=3000, probability=True)\n",
    "svc_10000 = SVC(C=1000, max_iter=3000, probability=True)\n",
    "svc_15000 = SVC(C=1000, max_iter=3000, probability=True)\n",
    "\n",
    "model_train_evaluate(svc_5000, x_train_5000_tfidfv, y_train_5000, x_test_5000_tfidfv, y_test_5000, \"SVC (5000 단어)\")\n",
    "model_train_evaluate(svc_10000, x_train_10000_tfidfv, y_train_10000, x_test_10000_tfidfv, y_test_10000, \"SVC (10000 단어)\")\n",
    "model_train_evaluate(svc_15000, x_train_15000_tfidfv, y_train_15000, x_test_15000_tfidfv, y_test_15000, \"SVC (15000 단어)\")"
   ]
  },
  {
   "cell_type": "code",
   "execution_count": null,
   "id": "ccaf38e7",
   "metadata": {},
   "outputs": [],
   "source": [
    "# 보팅모델 평가\n",
    "\n",
    "model_train_evaluate(voting_5000, x_train_5000_tfidfv, y_train_5000, x_test_5000_tfidfv, y_test_5000, \"VotingClassifier (5000 단어)\")\n",
    "model_train_evaluate(voting_10000, x_train_10000_tfidfv, y_train_10000, x_test_10000_tfidfv, y_test_10000, \"VotingClassifier (10000 단어)\")\n",
    "model_train_evaluate(voting_15000, x_train_15000_tfidfv, y_train_15000, x_test_15000_tfidfv, y_test_15000, \"VotingClassifier (15000 단어)\")"
   ]
  },
  {
   "cell_type": "markdown",
   "id": "998067ea",
   "metadata": {},
   "source": [
    "#### 결과\n",
    "\n",
    "##### 컴플리먼트 나이브베이즈\n",
    "- 5000 단어 :  정확도 0.7707, 단순평균 F1 점수 0.4820, 가중평균 F1 점수 0.7459\n",
    "- 10000 단어 : 정확도 0.7707, 단순평균 F1 점수 0.4784, 가중평균 F1 점수 0.7457\n",
    "- 15000 단어 : 정확도 0.7720, 단순평균 F1 점수 0.4668, 가중평균 F1 점수 0.7448\n",
    "\n",
    "##### 로지스틱 회귀\n",
    "- 5000 단어 :  정확도 0.8068, 단순평균 F1 점수 0.6426, 가중평균 F1 점수 0.8009\n",
    "- 10000 단어 : 정확도 0.8126, 단순평균 F1 점수 0.6658, 가중평균 F1 점수 0.8069\n",
    "- 15000 단어 : 정확도 0.8139, 단순평균 F1 점수 0.6632, 가중평균 F1 점수 0.8082\n",
    "\n",
    "##### 선형 서포트벡터머신\n",
    "- 5000 단어 :  정확도 0.7934, 단순평균 F1 점수 0.6359, 가중평균 F1 점수 0.7892\n",
    "- 10000 단어 : 정확도 0.8037, 단순평균 F1 점수 0.6569, 가중평균 F1 점수 0.7992\n",
    "- 15000 단어 : 정확도 0.8041, 단순평균 F1 점수 0.6744, 가중평균 F1 점수 0.8000\n",
    "\n",
    "##### 서포트벡터머신 ?\n",
    "\n",
    "##### 랜덤 포레스트\n",
    "- 5000 단어 :  정확도 0.6932, 단순평균 F1 점수 0.3098, 가중평균 F1 점수 0.6663\n",
    "- 10000 단어 : 정확도 0.6776, 단순평균 F1 점수 0.2913, 가중평균 F1 점수 0.6448\n",
    "- 15000 단어 : 정확도 0.6741, 단순평균 F1 점수 0.3146, 가중평균 F1 점수 0.6479\n",
    "\n",
    "##### 그래디언트 부스팅\n",
    "- 5000 단어 :  정확도 0.7685, 단순평균 F1 점수 0.5875, 가중평균 F1 점수 0.7675\n",
    "- 10000 단어 : 정확도 0.7707, 단순평균 F1 점수 0.5758, 가중평균 F1 점수 0.7665\n",
    "- 15000 단어 : 정확도 0.7663, 단순평균 F1 점수 0.5691, 가중평균 F1 점수 0.7633\n"
   ]
  },
  {
   "cell_type": "markdown",
   "id": "49d5472b",
   "metadata": {},
   "source": [
    "#### 딥러닝 CNN 모델로 로이터 뉴스 클래스 분류"
   ]
  },
  {
   "cell_type": "code",
   "execution_count": 1,
   "id": "4d0f71b2",
   "metadata": {},
   "outputs": [],
   "source": [
    "from tensorflow import keras\n",
    "from keras.models import Sequential\n",
    "from tensorflow.keras.preprocessing.sequence import pad_sequences\n",
    "from tensorflow.keras.layers import Conv1D, Dense, MaxPool1D, Flatten, GlobalMaxPooling1D\n",
    "from tensorflow.keras.layers import Embedding, Dropout\n",
    "from tensorflow.keras.utils import to_categorical"
   ]
  },
  {
   "cell_type": "code",
   "execution_count": 2,
   "id": "a9897021",
   "metadata": {},
   "outputs": [],
   "source": [
    "# 문장 최대 길이 300\n",
    "max_len = 300"
   ]
  },
  {
   "cell_type": "code",
   "execution_count": 5,
   "id": "fb146813",
   "metadata": {},
   "outputs": [],
   "source": [
    "(encoded_x_train_5000, encoded_y_train_5000), (encoded_x_test_5000, encoded_y_test_5000) = reuters.load_data(num_words=5000, test_split=0.2)\n",
    "(encoded_x_train_10000, encoded_y_train_10000), (encoded_x_test_10000, encoded_y_test_10000) = reuters.load_data(num_words=10000, test_split=0.2)\n",
    "(encoded_x_train_15000, encoded_y_train_15000), (encoded_x_test_15000, encoded_y_test_15000) = reuters.load_data(num_words=15000, test_split=0.2)\n",
    "\n",
    "# 데이터 전처리\n",
    "encoded_x_train_5000 = pad_sequences(encoded_x_train_5000, maxlen=max_len, padding='post')\n",
    "encoded_x_train_10000 = pad_sequences(encoded_x_train_10000, maxlen=max_len, padding='post')\n",
    "encoded_x_train_15000 = pad_sequences(encoded_x_train_15000, maxlen=max_len, padding='post')\n",
    "\n",
    "encoded_x_test_5000 = pad_sequences(encoded_x_test_5000, maxlen=max_len, padding='post')\n",
    "encoded_x_test_10000 = pad_sequences(encoded_x_test_10000, maxlen=max_len, padding='post')\n",
    "encoded_x_test_15000 = pad_sequences(encoded_x_test_15000, maxlen=max_len, padding='post')"
   ]
  },
  {
   "cell_type": "code",
   "execution_count": 8,
   "id": "f9bc9624",
   "metadata": {},
   "outputs": [],
   "source": [
    "# 레이블 원-핫 인코딩\n",
    "y_train_5000 = to_categorical(encoded_y_train_5000, 46)\n",
    "y_test_5000 = to_categorical(encoded_y_test_5000, 46)\n",
    "\n",
    "y_train_10000 = to_categorical(encoded_y_train_10000, 46)\n",
    "y_test_10000 = to_categorical(encoded_y_test_10000, 46)\n",
    "\n",
    "y_train_15000 = to_categorical(encoded_y_train_15000, 46)\n",
    "y_test_15000 = to_categorical(encoded_y_test_15000, 46)"
   ]
  },
  {
   "cell_type": "code",
   "execution_count": 9,
   "id": "7aa775b4",
   "metadata": {},
   "outputs": [],
   "source": [
    "from tensorflow.keras import backend as K"
   ]
  },
  {
   "cell_type": "code",
   "execution_count": 10,
   "id": "8369c81e",
   "metadata": {},
   "outputs": [],
   "source": [
    "#  F1 스코어 정의\n",
    "def f1_score_macro(y_true, y_pred):\n",
    "    y_pred = K.round(y_pred)\n",
    "    tp = K.sum(K.cast(y_true * y_pred, 'float'), axis=0)\n",
    "    fp = K.sum(K.cast((1-y_true) * y_pred, 'float'), axis=0)\n",
    "    fn = K.sum(K.cast(y_true * (1-y_pred), 'float'), axis=0)\n",
    "\n",
    "    p = tp / (tp + fp + K.epsilon())\n",
    "    r = tp / (tp + fn + K.epsilon())\n",
    "\n",
    "    f1 = 2 * p * r / (p + r + K.epsilon())\n",
    "    return K.mean(f1)  # 평균 F1 스코어\n",
    "\n",
    "def f1_score_weighted(y_true, y_pred):\n",
    "    y_pred = K.round(y_pred)\n",
    "    tp = K.sum(K.cast(y_true * y_pred, 'float'), axis=0)\n",
    "    fp = K.sum(K.cast((1-y_true) * y_pred, 'float'), axis=0)\n",
    "    fn = K.sum(K.cast(y_true * (1-y_pred), 'float'), axis=0)\n",
    "\n",
    "    p = tp / (tp + fp + K.epsilon())\n",
    "    r = tp / (tp + fn + K.epsilon())\n",
    "\n",
    "    f1 = 2 * p * r / (p + r + K.epsilon())\n",
    "    weights = K.sum(y_true, axis=0) / K.sum(y_true)\n",
    "    return K.sum(f1 * weights)  # 가중 F1 스코어"
   ]
  },
  {
   "cell_type": "code",
   "execution_count": 12,
   "id": "c038ff56",
   "metadata": {},
   "outputs": [],
   "source": [
    "# 모델 생성\n",
    "model_cnn_5000 = Sequential([\n",
    "    Embedding(input_dim=5000, output_dim=128, input_length=max_len),\n",
    "    Conv1D(128, 5, activation='relu'),        # 1D 합성곱층 (필터 수, 커널 크기)\n",
    "    GlobalMaxPooling1D(),                     # 최대 풀링\n",
    "    Dense(128, activation='relu'),\n",
    "    Dropout(0.3),                             # 과적합 방지\n",
    "    Dense(46, activation='softmax')  # 다중 클래스 분류\n",
    "])\n",
    "model_cnn_5000.compile(optimizer='adam',\n",
    "              loss='categorical_crossentropy',\n",
    "              metrics=['accuracy', f1_score_macro, f1_score_weighted])\n",
    "\n",
    "model_cnn_10000 = Sequential([\n",
    "    Embedding(input_dim=10000, output_dim=128, input_length=max_len),\n",
    "    Conv1D(128, 5, activation='relu'),        # 1D 합성곱층 (필터 수, 커널 크기)\n",
    "    GlobalMaxPooling1D(),                     # 최대 풀링\n",
    "    Dense(128, activation='relu'),\n",
    "    Dropout(0.3),                             # 과적합 방지\n",
    "    Dense(46, activation='softmax')  # 다중 클래스 분류\n",
    "])\n",
    "model_cnn_10000.compile(optimizer='adam',\n",
    "              loss='categorical_crossentropy',\n",
    "              metrics=['accuracy', f1_score_macro, f1_score_weighted])\n",
    "\n",
    "model_cnn_15000 = Sequential([\n",
    "    Embedding(input_dim=15000, output_dim=128, input_length=max_len),\n",
    "    Conv1D(128, 5, activation='relu'),        # 1D 합성곱층 (필터 수, 커널 크기)\n",
    "    GlobalMaxPooling1D(),                     # 최대 풀링\n",
    "    Dense(128, activation='relu'),\n",
    "    Dropout(0.3),                             # 과적합 방지\n",
    "    Dense(46, activation='softmax')  # 다중 클래스 분류\n",
    "])\n",
    "model_cnn_15000.compile(optimizer='adam', \n",
    "              loss='categorical_crossentropy', \n",
    "              metrics=['accuracy', f1_score_macro, f1_score_weighted])"
   ]
  },
  {
   "cell_type": "code",
   "execution_count": 13,
   "id": "811a00dd",
   "metadata": {},
   "outputs": [],
   "source": [
    "# 조기종료 생성\n",
    "\n",
    "early_stopping = keras.callbacks.EarlyStopping(monitor='val_loss', patience=3, restore_best_weights=True)"
   ]
  },
  {
   "cell_type": "code",
   "execution_count": 14,
   "id": "d4c196dd",
   "metadata": {
    "scrolled": true
   },
   "outputs": [
    {
     "name": "stdout",
     "output_type": "stream",
     "text": [
      "Epoch 1/10\n",
      "141/141 [==============================] - 5s 10ms/step - loss: 2.1324 - accuracy: 0.4905 - f1_score_macro: 0.0257 - f1_score_weighted: 0.3483 - val_loss: 1.5720 - val_accuracy: 0.6447 - val_f1_score_macro: 0.0478 - val_f1_score_weighted: 0.5329\n",
      "Epoch 2/10\n",
      "141/141 [==============================] - 1s 7ms/step - loss: 1.3451 - accuracy: 0.6878 - f1_score_macro: 0.0765 - f1_score_weighted: 0.6054 - val_loss: 1.2462 - val_accuracy: 0.6955 - val_f1_score_macro: 0.0932 - val_f1_score_weighted: 0.6521\n",
      "Epoch 3/10\n",
      "141/141 [==============================] - 1s 7ms/step - loss: 1.0368 - accuracy: 0.7526 - f1_score_macro: 0.1107 - f1_score_weighted: 0.6909 - val_loss: 1.0405 - val_accuracy: 0.7551 - val_f1_score_macro: 0.1249 - val_f1_score_weighted: 0.6940\n",
      "Epoch 4/10\n",
      "141/141 [==============================] - 1s 7ms/step - loss: 0.7871 - accuracy: 0.8106 - f1_score_macro: 0.1547 - f1_score_weighted: 0.7539 - val_loss: 0.9446 - val_accuracy: 0.7801 - val_f1_score_macro: 0.1524 - val_f1_score_weighted: 0.7223\n",
      "Epoch 5/10\n",
      "141/141 [==============================] - 1s 7ms/step - loss: 0.6043 - accuracy: 0.8481 - f1_score_macro: 0.1880 - f1_score_weighted: 0.7997 - val_loss: 0.9254 - val_accuracy: 0.7801 - val_f1_score_macro: 0.1744 - val_f1_score_weighted: 0.7421\n",
      "Epoch 6/10\n",
      "141/141 [==============================] - 1s 7ms/step - loss: 0.4680 - accuracy: 0.8768 - f1_score_macro: 0.2138 - f1_score_weighted: 0.8301 - val_loss: 0.9524 - val_accuracy: 0.7907 - val_f1_score_macro: 0.1830 - val_f1_score_weighted: 0.7490\n",
      "Epoch 7/10\n",
      "141/141 [==============================] - 1s 7ms/step - loss: 0.3679 - accuracy: 0.9036 - f1_score_macro: 0.2419 - f1_score_weighted: 0.8637 - val_loss: 0.9501 - val_accuracy: 0.7912 - val_f1_score_macro: 0.1941 - val_f1_score_weighted: 0.7596\n",
      "Epoch 8/10\n",
      "141/141 [==============================] - 1s 7ms/step - loss: 0.2955 - accuracy: 0.9236 - f1_score_macro: 0.2715 - f1_score_weighted: 0.8939 - val_loss: 0.9833 - val_accuracy: 0.7890 - val_f1_score_macro: 0.1981 - val_f1_score_weighted: 0.7617\n",
      "Epoch 1/10\n",
      "141/141 [==============================] - 2s 8ms/step - loss: 2.1135 - accuracy: 0.5020 - f1_score_macro: 0.0261 - f1_score_weighted: 0.3570 - val_loss: 1.5760 - val_accuracy: 0.6429 - val_f1_score_macro: 0.0405 - val_f1_score_weighted: 0.5224\n",
      "Epoch 2/10\n",
      "141/141 [==============================] - 1s 7ms/step - loss: 1.3502 - accuracy: 0.6864 - f1_score_macro: 0.0728 - f1_score_weighted: 0.6039 - val_loss: 1.2321 - val_accuracy: 0.6981 - val_f1_score_macro: 0.0888 - val_f1_score_weighted: 0.6399\n",
      "Epoch 3/10\n",
      "141/141 [==============================] - 1s 7ms/step - loss: 1.0253 - accuracy: 0.7593 - f1_score_macro: 0.1116 - f1_score_weighted: 0.6924 - val_loss: 1.0386 - val_accuracy: 0.7556 - val_f1_score_macro: 0.1316 - val_f1_score_weighted: 0.6957\n",
      "Epoch 4/10\n",
      "141/141 [==============================] - 1s 7ms/step - loss: 0.7670 - accuracy: 0.8179 - f1_score_macro: 0.1571 - f1_score_weighted: 0.7592 - val_loss: 0.9594 - val_accuracy: 0.7703 - val_f1_score_macro: 0.1503 - val_f1_score_weighted: 0.7217\n",
      "Epoch 5/10\n",
      "141/141 [==============================] - 1s 7ms/step - loss: 0.5774 - accuracy: 0.8564 - f1_score_macro: 0.1909 - f1_score_weighted: 0.8073 - val_loss: 0.9450 - val_accuracy: 0.7689 - val_f1_score_macro: 0.1659 - val_f1_score_weighted: 0.7337\n",
      "Epoch 6/10\n",
      "141/141 [==============================] - 1s 7ms/step - loss: 0.4338 - accuracy: 0.8906 - f1_score_macro: 0.2268 - f1_score_weighted: 0.8502 - val_loss: 0.9606 - val_accuracy: 0.7854 - val_f1_score_macro: 0.1804 - val_f1_score_weighted: 0.7506\n",
      "Epoch 7/10\n",
      "141/141 [==============================] - 1s 7ms/step - loss: 0.3403 - accuracy: 0.9152 - f1_score_macro: 0.2515 - f1_score_weighted: 0.8758 - val_loss: 0.9714 - val_accuracy: 0.7845 - val_f1_score_macro: 0.1944 - val_f1_score_weighted: 0.7593\n",
      "Epoch 8/10\n",
      "141/141 [==============================] - 1s 7ms/step - loss: 0.2736 - accuracy: 0.9301 - f1_score_macro: 0.2780 - f1_score_weighted: 0.9014 - val_loss: 1.0166 - val_accuracy: 0.7965 - val_f1_score_macro: 0.2000 - val_f1_score_weighted: 0.7602\n",
      "Epoch 1/10\n",
      "141/141 [==============================] - 2s 9ms/step - loss: 2.1416 - accuracy: 0.4836 - f1_score_macro: 0.0244 - f1_score_weighted: 0.3363 - val_loss: 1.6192 - val_accuracy: 0.6024 - val_f1_score_macro: 0.0458 - val_f1_score_weighted: 0.5294\n",
      "Epoch 2/10\n",
      "141/141 [==============================] - 1s 7ms/step - loss: 1.3660 - accuracy: 0.6828 - f1_score_macro: 0.0710 - f1_score_weighted: 0.5953 - val_loss: 1.2555 - val_accuracy: 0.6959 - val_f1_score_macro: 0.0891 - val_f1_score_weighted: 0.6416\n",
      "Epoch 3/10\n",
      "141/141 [==============================] - 1s 7ms/step - loss: 1.0371 - accuracy: 0.7512 - f1_score_macro: 0.1132 - f1_score_weighted: 0.6908 - val_loss: 1.0922 - val_accuracy: 0.7409 - val_f1_score_macro: 0.1156 - val_f1_score_weighted: 0.6830\n",
      "Epoch 4/10\n",
      "141/141 [==============================] - 1s 8ms/step - loss: 0.7783 - accuracy: 0.8135 - f1_score_macro: 0.1515 - f1_score_weighted: 0.7562 - val_loss: 0.9993 - val_accuracy: 0.7698 - val_f1_score_macro: 0.1460 - val_f1_score_weighted: 0.7150\n",
      "Epoch 5/10\n",
      "141/141 [==============================] - 1s 7ms/step - loss: 0.5654 - accuracy: 0.8624 - f1_score_macro: 0.1956 - f1_score_weighted: 0.8143 - val_loss: 0.9738 - val_accuracy: 0.7769 - val_f1_score_macro: 0.1699 - val_f1_score_weighted: 0.7333\n",
      "Epoch 6/10\n",
      "141/141 [==============================] - 1s 7ms/step - loss: 0.4361 - accuracy: 0.8900 - f1_score_macro: 0.2225 - f1_score_weighted: 0.8473 - val_loss: 0.9718 - val_accuracy: 0.7841 - val_f1_score_macro: 0.1893 - val_f1_score_weighted: 0.7504\n",
      "Epoch 7/10\n",
      "141/141 [==============================] - 1s 7ms/step - loss: 0.3359 - accuracy: 0.9161 - f1_score_macro: 0.2578 - f1_score_weighted: 0.8783 - val_loss: 1.0087 - val_accuracy: 0.7890 - val_f1_score_macro: 0.1967 - val_f1_score_weighted: 0.7572\n",
      "Epoch 8/10\n",
      "141/141 [==============================] - 1s 7ms/step - loss: 0.2761 - accuracy: 0.9289 - f1_score_macro: 0.2784 - f1_score_weighted: 0.9020 - val_loss: 1.0325 - val_accuracy: 0.7939 - val_f1_score_macro: 0.1992 - val_f1_score_weighted: 0.7580\n",
      "Epoch 9/10\n",
      "141/141 [==============================] - 1s 7ms/step - loss: 0.2378 - accuracy: 0.9399 - f1_score_macro: 0.2990 - f1_score_weighted: 0.9168 - val_loss: 1.0449 - val_accuracy: 0.7872 - val_f1_score_macro: 0.2068 - val_f1_score_weighted: 0.7651\n"
     ]
    }
   ],
   "source": [
    "# 모델 학습\n",
    "history_5000 = model_cnn_5000.fit(encoded_x_train_5000, y_train_5000,\n",
    "                    epochs=10,\n",
    "                    batch_size=64,\n",
    "                    validation_data=(encoded_x_test_5000, y_test_5000),\n",
    "                    callbacks = [early_stopping])\n",
    "\n",
    "history_10000 = model_cnn_10000.fit(encoded_x_train_10000, y_train_10000,\n",
    "                    epochs=10,\n",
    "                    batch_size=64,\n",
    "                    validation_data=(encoded_x_test_10000, y_test_10000),\n",
    "                    callbacks = [early_stopping])\n",
    "\n",
    "history_15000 = model_cnn_15000.fit(encoded_x_train_15000, y_train_15000,\n",
    "                    epochs=10,\n",
    "                    batch_size=64,\n",
    "                    validation_data=(encoded_x_test_15000, y_test_15000),\n",
    "                    callbacks = [early_stopping])"
   ]
  },
  {
   "cell_type": "code",
   "execution_count": 133,
   "id": "23a3daa9",
   "metadata": {},
   "outputs": [],
   "source": [
    "encoded_x_test_5000 = encoded_x_test_5000.astype('float32')\n",
    "encoded_x_test_10000 = encoded_x_test_10000.astype('float32')\n",
    "encoded_x_test_15000 = encoded_x_test_15000.astype('float32')"
   ]
  },
  {
   "cell_type": "code",
   "execution_count": 134,
   "id": "2ada8fc6",
   "metadata": {},
   "outputs": [
    {
     "ename": "InvalidArgumentError",
     "evalue": "cannot compute Mul as input #1(zero-based) was expected to be a float tensor but is a double tensor [Op:Mul]",
     "output_type": "error",
     "traceback": [
      "\u001b[0;31m---------------------------------------------------------------------------\u001b[0m",
      "\u001b[0;31mInvalidArgumentError\u001b[0m                      Traceback (most recent call last)",
      "\u001b[0;32m/tmp/ipykernel_188/1532781953.py\u001b[0m in \u001b[0;36m<module>\u001b[0;34m\u001b[0m\n\u001b[1;32m      5\u001b[0m \u001b[0;34m\u001b[0m\u001b[0m\n\u001b[1;32m      6\u001b[0m \u001b[0maccuracy_5000\u001b[0m \u001b[0;34m=\u001b[0m \u001b[0maccuracy_score\u001b[0m\u001b[0;34m(\u001b[0m\u001b[0my_test_classes_5000\u001b[0m\u001b[0;34m,\u001b[0m \u001b[0my_pred_classes_5000\u001b[0m\u001b[0;34m)\u001b[0m\u001b[0;34m\u001b[0m\u001b[0;34m\u001b[0m\u001b[0m\n\u001b[0;32m----> 7\u001b[0;31m \u001b[0mweighted_f1_5000\u001b[0m \u001b[0;34m=\u001b[0m \u001b[0mf1_score_weighted\u001b[0m\u001b[0;34m(\u001b[0m\u001b[0my_test_classes_5000\u001b[0m\u001b[0;34m,\u001b[0m \u001b[0my_pred_classes_5000\u001b[0m\u001b[0;34m)\u001b[0m\u001b[0;34m\u001b[0m\u001b[0;34m\u001b[0m\u001b[0m\n\u001b[0m\u001b[1;32m      8\u001b[0m \u001b[0mmacro_f1_5000\u001b[0m \u001b[0;34m=\u001b[0m \u001b[0mf1_score_macro\u001b[0m\u001b[0;34m(\u001b[0m\u001b[0my_test_classes_5000\u001b[0m\u001b[0;34m,\u001b[0m \u001b[0my_pred_classes_5000\u001b[0m\u001b[0;34m)\u001b[0m\u001b[0;34m\u001b[0m\u001b[0;34m\u001b[0m\u001b[0m\n\u001b[1;32m      9\u001b[0m \u001b[0;34m\u001b[0m\u001b[0m\n",
      "\u001b[0;32m/tmp/ipykernel_188/633681013.py\u001b[0m in \u001b[0;36mf1_score_weighted\u001b[0;34m(y_true, y_pred)\u001b[0m\n\u001b[1;32m     23\u001b[0m     \u001b[0mf1\u001b[0m \u001b[0;34m=\u001b[0m \u001b[0;36m2\u001b[0m \u001b[0;34m*\u001b[0m \u001b[0mp\u001b[0m \u001b[0;34m*\u001b[0m \u001b[0mr\u001b[0m \u001b[0;34m/\u001b[0m \u001b[0;34m(\u001b[0m\u001b[0mp\u001b[0m \u001b[0;34m+\u001b[0m \u001b[0mr\u001b[0m \u001b[0;34m+\u001b[0m \u001b[0mK\u001b[0m\u001b[0;34m.\u001b[0m\u001b[0mepsilon\u001b[0m\u001b[0;34m(\u001b[0m\u001b[0;34m)\u001b[0m\u001b[0;34m)\u001b[0m\u001b[0;34m\u001b[0m\u001b[0;34m\u001b[0m\u001b[0m\n\u001b[1;32m     24\u001b[0m     \u001b[0mweights\u001b[0m \u001b[0;34m=\u001b[0m \u001b[0mK\u001b[0m\u001b[0;34m.\u001b[0m\u001b[0msum\u001b[0m\u001b[0;34m(\u001b[0m\u001b[0my_true\u001b[0m\u001b[0;34m,\u001b[0m \u001b[0maxis\u001b[0m\u001b[0;34m=\u001b[0m\u001b[0;36m0\u001b[0m\u001b[0;34m)\u001b[0m \u001b[0;34m/\u001b[0m \u001b[0mK\u001b[0m\u001b[0;34m.\u001b[0m\u001b[0msum\u001b[0m\u001b[0;34m(\u001b[0m\u001b[0my_true\u001b[0m\u001b[0;34m)\u001b[0m\u001b[0;34m\u001b[0m\u001b[0;34m\u001b[0m\u001b[0m\n\u001b[0;32m---> 25\u001b[0;31m     \u001b[0;32mreturn\u001b[0m \u001b[0mK\u001b[0m\u001b[0;34m.\u001b[0m\u001b[0msum\u001b[0m\u001b[0;34m(\u001b[0m\u001b[0mf1\u001b[0m \u001b[0;34m*\u001b[0m \u001b[0mweights\u001b[0m\u001b[0;34m)\u001b[0m  \u001b[0;31m# 가중 F1 스코어\u001b[0m\u001b[0;34m\u001b[0m\u001b[0;34m\u001b[0m\u001b[0m\n\u001b[0m",
      "\u001b[0;32m/opt/conda/lib/python3.9/site-packages/tensorflow/python/ops/math_ops.py\u001b[0m in \u001b[0;36mbinary_op_wrapper\u001b[0;34m(x, y)\u001b[0m\n\u001b[1;32m   1365\u001b[0m         \u001b[0;31m#   r_binary_op_wrapper use different force_same_dtype values.\u001b[0m\u001b[0;34m\u001b[0m\u001b[0;34m\u001b[0m\u001b[0m\n\u001b[1;32m   1366\u001b[0m         \u001b[0mx\u001b[0m\u001b[0;34m,\u001b[0m \u001b[0my\u001b[0m \u001b[0;34m=\u001b[0m \u001b[0mmaybe_promote_tensors\u001b[0m\u001b[0;34m(\u001b[0m\u001b[0mx\u001b[0m\u001b[0;34m,\u001b[0m \u001b[0my\u001b[0m\u001b[0;34m,\u001b[0m \u001b[0mforce_same_dtype\u001b[0m\u001b[0;34m=\u001b[0m\u001b[0;32mFalse\u001b[0m\u001b[0;34m)\u001b[0m\u001b[0;34m\u001b[0m\u001b[0;34m\u001b[0m\u001b[0m\n\u001b[0;32m-> 1367\u001b[0;31m         \u001b[0;32mreturn\u001b[0m \u001b[0mfunc\u001b[0m\u001b[0;34m(\u001b[0m\u001b[0mx\u001b[0m\u001b[0;34m,\u001b[0m \u001b[0my\u001b[0m\u001b[0;34m,\u001b[0m \u001b[0mname\u001b[0m\u001b[0;34m=\u001b[0m\u001b[0mname\u001b[0m\u001b[0;34m)\u001b[0m\u001b[0;34m\u001b[0m\u001b[0;34m\u001b[0m\u001b[0m\n\u001b[0m\u001b[1;32m   1368\u001b[0m       \u001b[0;32mexcept\u001b[0m \u001b[0;34m(\u001b[0m\u001b[0mTypeError\u001b[0m\u001b[0;34m,\u001b[0m \u001b[0mValueError\u001b[0m\u001b[0;34m)\u001b[0m \u001b[0;32mas\u001b[0m \u001b[0me\u001b[0m\u001b[0;34m:\u001b[0m\u001b[0;34m\u001b[0m\u001b[0;34m\u001b[0m\u001b[0m\n\u001b[1;32m   1369\u001b[0m         \u001b[0;31m# Even if dispatching the op failed, the RHS may be a tensor aware\u001b[0m\u001b[0;34m\u001b[0m\u001b[0;34m\u001b[0m\u001b[0m\n",
      "\u001b[0;32m/opt/conda/lib/python3.9/site-packages/tensorflow/python/ops/math_ops.py\u001b[0m in \u001b[0;36m_mul_dispatch\u001b[0;34m(x, y, name)\u001b[0m\n\u001b[1;32m   1708\u001b[0m     \u001b[0;32mreturn\u001b[0m \u001b[0msparse_tensor\u001b[0m\u001b[0;34m.\u001b[0m\u001b[0mSparseTensor\u001b[0m\u001b[0;34m(\u001b[0m\u001b[0my\u001b[0m\u001b[0;34m.\u001b[0m\u001b[0mindices\u001b[0m\u001b[0;34m,\u001b[0m \u001b[0mnew_vals\u001b[0m\u001b[0;34m,\u001b[0m \u001b[0my\u001b[0m\u001b[0;34m.\u001b[0m\u001b[0mdense_shape\u001b[0m\u001b[0;34m)\u001b[0m\u001b[0;34m\u001b[0m\u001b[0;34m\u001b[0m\u001b[0m\n\u001b[1;32m   1709\u001b[0m   \u001b[0;32melse\u001b[0m\u001b[0;34m:\u001b[0m\u001b[0;34m\u001b[0m\u001b[0;34m\u001b[0m\u001b[0m\n\u001b[0;32m-> 1710\u001b[0;31m     \u001b[0;32mreturn\u001b[0m \u001b[0mmultiply\u001b[0m\u001b[0;34m(\u001b[0m\u001b[0mx\u001b[0m\u001b[0;34m,\u001b[0m \u001b[0my\u001b[0m\u001b[0;34m,\u001b[0m \u001b[0mname\u001b[0m\u001b[0;34m=\u001b[0m\u001b[0mname\u001b[0m\u001b[0;34m)\u001b[0m\u001b[0;34m\u001b[0m\u001b[0;34m\u001b[0m\u001b[0m\n\u001b[0m\u001b[1;32m   1711\u001b[0m \u001b[0;34m\u001b[0m\u001b[0m\n\u001b[1;32m   1712\u001b[0m \u001b[0;34m\u001b[0m\u001b[0m\n",
      "\u001b[0;32m/opt/conda/lib/python3.9/site-packages/tensorflow/python/util/dispatch.py\u001b[0m in \u001b[0;36mwrapper\u001b[0;34m(*args, **kwargs)\u001b[0m\n\u001b[1;32m    204\u001b[0m     \u001b[0;34m\"\"\"Call target, and fall back on dispatchers if there is a TypeError.\"\"\"\u001b[0m\u001b[0;34m\u001b[0m\u001b[0;34m\u001b[0m\u001b[0m\n\u001b[1;32m    205\u001b[0m     \u001b[0;32mtry\u001b[0m\u001b[0;34m:\u001b[0m\u001b[0;34m\u001b[0m\u001b[0;34m\u001b[0m\u001b[0m\n\u001b[0;32m--> 206\u001b[0;31m       \u001b[0;32mreturn\u001b[0m \u001b[0mtarget\u001b[0m\u001b[0;34m(\u001b[0m\u001b[0;34m*\u001b[0m\u001b[0margs\u001b[0m\u001b[0;34m,\u001b[0m \u001b[0;34m**\u001b[0m\u001b[0mkwargs\u001b[0m\u001b[0;34m)\u001b[0m\u001b[0;34m\u001b[0m\u001b[0;34m\u001b[0m\u001b[0m\n\u001b[0m\u001b[1;32m    207\u001b[0m     \u001b[0;32mexcept\u001b[0m \u001b[0;34m(\u001b[0m\u001b[0mTypeError\u001b[0m\u001b[0;34m,\u001b[0m \u001b[0mValueError\u001b[0m\u001b[0;34m)\u001b[0m\u001b[0;34m:\u001b[0m\u001b[0;34m\u001b[0m\u001b[0;34m\u001b[0m\u001b[0m\n\u001b[1;32m    208\u001b[0m       \u001b[0;31m# Note: convert_to_eager_tensor currently raises a ValueError, not a\u001b[0m\u001b[0;34m\u001b[0m\u001b[0;34m\u001b[0m\u001b[0m\n",
      "\u001b[0;32m/opt/conda/lib/python3.9/site-packages/tensorflow/python/ops/math_ops.py\u001b[0m in \u001b[0;36mmultiply\u001b[0;34m(x, y, name)\u001b[0m\n\u001b[1;32m    528\u001b[0m   \"\"\"\n\u001b[1;32m    529\u001b[0m \u001b[0;34m\u001b[0m\u001b[0m\n\u001b[0;32m--> 530\u001b[0;31m   \u001b[0;32mreturn\u001b[0m \u001b[0mgen_math_ops\u001b[0m\u001b[0;34m.\u001b[0m\u001b[0mmul\u001b[0m\u001b[0;34m(\u001b[0m\u001b[0mx\u001b[0m\u001b[0;34m,\u001b[0m \u001b[0my\u001b[0m\u001b[0;34m,\u001b[0m \u001b[0mname\u001b[0m\u001b[0;34m)\u001b[0m\u001b[0;34m\u001b[0m\u001b[0;34m\u001b[0m\u001b[0m\n\u001b[0m\u001b[1;32m    531\u001b[0m \u001b[0;34m\u001b[0m\u001b[0m\n\u001b[1;32m    532\u001b[0m \u001b[0;34m\u001b[0m\u001b[0m\n",
      "\u001b[0;32m/opt/conda/lib/python3.9/site-packages/tensorflow/python/ops/gen_math_ops.py\u001b[0m in \u001b[0;36mmul\u001b[0;34m(x, y, name)\u001b[0m\n\u001b[1;32m   6234\u001b[0m       \u001b[0;32mreturn\u001b[0m \u001b[0m_result\u001b[0m\u001b[0;34m\u001b[0m\u001b[0;34m\u001b[0m\u001b[0m\n\u001b[1;32m   6235\u001b[0m     \u001b[0;32mexcept\u001b[0m \u001b[0m_core\u001b[0m\u001b[0;34m.\u001b[0m\u001b[0m_NotOkStatusException\u001b[0m \u001b[0;32mas\u001b[0m \u001b[0me\u001b[0m\u001b[0;34m:\u001b[0m\u001b[0;34m\u001b[0m\u001b[0;34m\u001b[0m\u001b[0m\n\u001b[0;32m-> 6236\u001b[0;31m       \u001b[0m_ops\u001b[0m\u001b[0;34m.\u001b[0m\u001b[0mraise_from_not_ok_status\u001b[0m\u001b[0;34m(\u001b[0m\u001b[0me\u001b[0m\u001b[0;34m,\u001b[0m \u001b[0mname\u001b[0m\u001b[0;34m)\u001b[0m\u001b[0;34m\u001b[0m\u001b[0;34m\u001b[0m\u001b[0m\n\u001b[0m\u001b[1;32m   6237\u001b[0m     \u001b[0;32mexcept\u001b[0m \u001b[0m_core\u001b[0m\u001b[0;34m.\u001b[0m\u001b[0m_FallbackException\u001b[0m\u001b[0;34m:\u001b[0m\u001b[0;34m\u001b[0m\u001b[0;34m\u001b[0m\u001b[0m\n\u001b[1;32m   6238\u001b[0m       \u001b[0;32mpass\u001b[0m\u001b[0;34m\u001b[0m\u001b[0;34m\u001b[0m\u001b[0m\n",
      "\u001b[0;32m/opt/conda/lib/python3.9/site-packages/tensorflow/python/framework/ops.py\u001b[0m in \u001b[0;36mraise_from_not_ok_status\u001b[0;34m(e, name)\u001b[0m\n\u001b[1;32m   6939\u001b[0m   \u001b[0mmessage\u001b[0m \u001b[0;34m=\u001b[0m \u001b[0me\u001b[0m\u001b[0;34m.\u001b[0m\u001b[0mmessage\u001b[0m \u001b[0;34m+\u001b[0m \u001b[0;34m(\u001b[0m\u001b[0;34m\" name: \"\u001b[0m \u001b[0;34m+\u001b[0m \u001b[0mname\u001b[0m \u001b[0;32mif\u001b[0m \u001b[0mname\u001b[0m \u001b[0;32mis\u001b[0m \u001b[0;32mnot\u001b[0m \u001b[0;32mNone\u001b[0m \u001b[0;32melse\u001b[0m \u001b[0;34m\"\"\u001b[0m\u001b[0;34m)\u001b[0m\u001b[0;34m\u001b[0m\u001b[0;34m\u001b[0m\u001b[0m\n\u001b[1;32m   6940\u001b[0m   \u001b[0;31m# pylint: disable=protected-access\u001b[0m\u001b[0;34m\u001b[0m\u001b[0;34m\u001b[0m\u001b[0m\n\u001b[0;32m-> 6941\u001b[0;31m   \u001b[0msix\u001b[0m\u001b[0;34m.\u001b[0m\u001b[0mraise_from\u001b[0m\u001b[0;34m(\u001b[0m\u001b[0mcore\u001b[0m\u001b[0;34m.\u001b[0m\u001b[0m_status_to_exception\u001b[0m\u001b[0;34m(\u001b[0m\u001b[0me\u001b[0m\u001b[0;34m.\u001b[0m\u001b[0mcode\u001b[0m\u001b[0;34m,\u001b[0m \u001b[0mmessage\u001b[0m\u001b[0;34m)\u001b[0m\u001b[0;34m,\u001b[0m \u001b[0;32mNone\u001b[0m\u001b[0;34m)\u001b[0m\u001b[0;34m\u001b[0m\u001b[0;34m\u001b[0m\u001b[0m\n\u001b[0m\u001b[1;32m   6942\u001b[0m   \u001b[0;31m# pylint: enable=protected-access\u001b[0m\u001b[0;34m\u001b[0m\u001b[0;34m\u001b[0m\u001b[0m\n\u001b[1;32m   6943\u001b[0m \u001b[0;34m\u001b[0m\u001b[0m\n",
      "\u001b[0;32m/opt/conda/lib/python3.9/site-packages/six.py\u001b[0m in \u001b[0;36mraise_from\u001b[0;34m(value, from_value)\u001b[0m\n",
      "\u001b[0;31mInvalidArgumentError\u001b[0m: cannot compute Mul as input #1(zero-based) was expected to be a float tensor but is a double tensor [Op:Mul]"
     ]
    }
   ],
   "source": [
    "# 에러 발생지점\n",
    "# 5,000개 단어로 학습시킨 결과\n",
    "y_pred_5000 = model_cnn_5000.predict(encoded_x_test_5000)\n",
    "y_pred_classes_5000 = np.argmax(y_pred_5000, axis=1)\n",
    "y_test_classes_5000 = np.argmax(y_test_5000, axis=1)\n",
    "\n",
    "accuracy_5000 = accuracy_score(y_test_classes_5000, y_pred_classes_5000)\n",
    "weighted_f1_5000 = f1_score_weighted(y_test_classes_5000, y_pred_classes_5000)\n",
    "macro_f1_5000 = f1_score_macro(y_test_classes_5000, y_pred_classes_5000)\n",
    "\n",
    "print(f'Accuracy: {accuracy_5000:.4f}')\n",
    "print(f'Weighted F1 Score: {weighted_f1_5000:.4f}')\n",
    "print(f'Macro F1 Score: {macro_f1_5000:.4f}')"
   ]
  },
  {
   "cell_type": "code",
   "execution_count": 115,
   "id": "a530e6d9",
   "metadata": {
    "scrolled": true
   },
   "outputs": [
    {
     "ename": "InvalidArgumentError",
     "evalue": "cannot compute Mul as input #1(zero-based) was expected to be a float tensor but is a double tensor [Op:Mul]",
     "output_type": "error",
     "traceback": [
      "\u001b[0;31m---------------------------------------------------------------------------\u001b[0m",
      "\u001b[0;31mInvalidArgumentError\u001b[0m                      Traceback (most recent call last)",
      "\u001b[0;32m/tmp/ipykernel_188/1351059695.py\u001b[0m in \u001b[0;36m<module>\u001b[0;34m\u001b[0m\n\u001b[1;32m      6\u001b[0m \u001b[0;34m\u001b[0m\u001b[0m\n\u001b[1;32m      7\u001b[0m \u001b[0maccuracy_5000\u001b[0m \u001b[0;34m=\u001b[0m \u001b[0maccuracy_score\u001b[0m\u001b[0;34m(\u001b[0m\u001b[0my_test_classes\u001b[0m\u001b[0;34m,\u001b[0m \u001b[0my_pred_classes_5000\u001b[0m\u001b[0;34m)\u001b[0m\u001b[0;34m\u001b[0m\u001b[0;34m\u001b[0m\u001b[0m\n\u001b[0;32m----> 8\u001b[0;31m \u001b[0mweighted_f1_5000\u001b[0m \u001b[0;34m=\u001b[0m \u001b[0mf1_score_weighted\u001b[0m\u001b[0;34m(\u001b[0m\u001b[0my_test_classes\u001b[0m\u001b[0;34m,\u001b[0m \u001b[0my_pred_classes_5000\u001b[0m\u001b[0;34m)\u001b[0m\u001b[0;34m\u001b[0m\u001b[0;34m\u001b[0m\u001b[0m\n\u001b[0m\u001b[1;32m      9\u001b[0m \u001b[0mmacro_f1_5000\u001b[0m \u001b[0;34m=\u001b[0m \u001b[0mf1_score_macro\u001b[0m\u001b[0;34m(\u001b[0m\u001b[0my_test_classes\u001b[0m\u001b[0;34m,\u001b[0m \u001b[0my_pred_classes_5000\u001b[0m\u001b[0;34m)\u001b[0m\u001b[0;34m\u001b[0m\u001b[0;34m\u001b[0m\u001b[0m\n\u001b[1;32m     10\u001b[0m \u001b[0;34m\u001b[0m\u001b[0m\n",
      "\u001b[0;32m/tmp/ipykernel_188/633681013.py\u001b[0m in \u001b[0;36mf1_score_weighted\u001b[0;34m(y_true, y_pred)\u001b[0m\n\u001b[1;32m     23\u001b[0m     \u001b[0mf1\u001b[0m \u001b[0;34m=\u001b[0m \u001b[0;36m2\u001b[0m \u001b[0;34m*\u001b[0m \u001b[0mp\u001b[0m \u001b[0;34m*\u001b[0m \u001b[0mr\u001b[0m \u001b[0;34m/\u001b[0m \u001b[0;34m(\u001b[0m\u001b[0mp\u001b[0m \u001b[0;34m+\u001b[0m \u001b[0mr\u001b[0m \u001b[0;34m+\u001b[0m \u001b[0mK\u001b[0m\u001b[0;34m.\u001b[0m\u001b[0mepsilon\u001b[0m\u001b[0;34m(\u001b[0m\u001b[0;34m)\u001b[0m\u001b[0;34m)\u001b[0m\u001b[0;34m\u001b[0m\u001b[0;34m\u001b[0m\u001b[0m\n\u001b[1;32m     24\u001b[0m     \u001b[0mweights\u001b[0m \u001b[0;34m=\u001b[0m \u001b[0mK\u001b[0m\u001b[0;34m.\u001b[0m\u001b[0msum\u001b[0m\u001b[0;34m(\u001b[0m\u001b[0my_true\u001b[0m\u001b[0;34m,\u001b[0m \u001b[0maxis\u001b[0m\u001b[0;34m=\u001b[0m\u001b[0;36m0\u001b[0m\u001b[0;34m)\u001b[0m \u001b[0;34m/\u001b[0m \u001b[0mK\u001b[0m\u001b[0;34m.\u001b[0m\u001b[0msum\u001b[0m\u001b[0;34m(\u001b[0m\u001b[0my_true\u001b[0m\u001b[0;34m)\u001b[0m\u001b[0;34m\u001b[0m\u001b[0;34m\u001b[0m\u001b[0m\n\u001b[0;32m---> 25\u001b[0;31m     \u001b[0;32mreturn\u001b[0m \u001b[0mK\u001b[0m\u001b[0;34m.\u001b[0m\u001b[0msum\u001b[0m\u001b[0;34m(\u001b[0m\u001b[0mf1\u001b[0m \u001b[0;34m*\u001b[0m \u001b[0mweights\u001b[0m\u001b[0;34m)\u001b[0m  \u001b[0;31m# 가중 F1 스코어\u001b[0m\u001b[0;34m\u001b[0m\u001b[0;34m\u001b[0m\u001b[0m\n\u001b[0m",
      "\u001b[0;32m/opt/conda/lib/python3.9/site-packages/tensorflow/python/ops/math_ops.py\u001b[0m in \u001b[0;36mbinary_op_wrapper\u001b[0;34m(x, y)\u001b[0m\n\u001b[1;32m   1365\u001b[0m         \u001b[0;31m#   r_binary_op_wrapper use different force_same_dtype values.\u001b[0m\u001b[0;34m\u001b[0m\u001b[0;34m\u001b[0m\u001b[0m\n\u001b[1;32m   1366\u001b[0m         \u001b[0mx\u001b[0m\u001b[0;34m,\u001b[0m \u001b[0my\u001b[0m \u001b[0;34m=\u001b[0m \u001b[0mmaybe_promote_tensors\u001b[0m\u001b[0;34m(\u001b[0m\u001b[0mx\u001b[0m\u001b[0;34m,\u001b[0m \u001b[0my\u001b[0m\u001b[0;34m,\u001b[0m \u001b[0mforce_same_dtype\u001b[0m\u001b[0;34m=\u001b[0m\u001b[0;32mFalse\u001b[0m\u001b[0;34m)\u001b[0m\u001b[0;34m\u001b[0m\u001b[0;34m\u001b[0m\u001b[0m\n\u001b[0;32m-> 1367\u001b[0;31m         \u001b[0;32mreturn\u001b[0m \u001b[0mfunc\u001b[0m\u001b[0;34m(\u001b[0m\u001b[0mx\u001b[0m\u001b[0;34m,\u001b[0m \u001b[0my\u001b[0m\u001b[0;34m,\u001b[0m \u001b[0mname\u001b[0m\u001b[0;34m=\u001b[0m\u001b[0mname\u001b[0m\u001b[0;34m)\u001b[0m\u001b[0;34m\u001b[0m\u001b[0;34m\u001b[0m\u001b[0m\n\u001b[0m\u001b[1;32m   1368\u001b[0m       \u001b[0;32mexcept\u001b[0m \u001b[0;34m(\u001b[0m\u001b[0mTypeError\u001b[0m\u001b[0;34m,\u001b[0m \u001b[0mValueError\u001b[0m\u001b[0;34m)\u001b[0m \u001b[0;32mas\u001b[0m \u001b[0me\u001b[0m\u001b[0;34m:\u001b[0m\u001b[0;34m\u001b[0m\u001b[0;34m\u001b[0m\u001b[0m\n\u001b[1;32m   1369\u001b[0m         \u001b[0;31m# Even if dispatching the op failed, the RHS may be a tensor aware\u001b[0m\u001b[0;34m\u001b[0m\u001b[0;34m\u001b[0m\u001b[0m\n",
      "\u001b[0;32m/opt/conda/lib/python3.9/site-packages/tensorflow/python/ops/math_ops.py\u001b[0m in \u001b[0;36m_mul_dispatch\u001b[0;34m(x, y, name)\u001b[0m\n\u001b[1;32m   1708\u001b[0m     \u001b[0;32mreturn\u001b[0m \u001b[0msparse_tensor\u001b[0m\u001b[0;34m.\u001b[0m\u001b[0mSparseTensor\u001b[0m\u001b[0;34m(\u001b[0m\u001b[0my\u001b[0m\u001b[0;34m.\u001b[0m\u001b[0mindices\u001b[0m\u001b[0;34m,\u001b[0m \u001b[0mnew_vals\u001b[0m\u001b[0;34m,\u001b[0m \u001b[0my\u001b[0m\u001b[0;34m.\u001b[0m\u001b[0mdense_shape\u001b[0m\u001b[0;34m)\u001b[0m\u001b[0;34m\u001b[0m\u001b[0;34m\u001b[0m\u001b[0m\n\u001b[1;32m   1709\u001b[0m   \u001b[0;32melse\u001b[0m\u001b[0;34m:\u001b[0m\u001b[0;34m\u001b[0m\u001b[0;34m\u001b[0m\u001b[0m\n\u001b[0;32m-> 1710\u001b[0;31m     \u001b[0;32mreturn\u001b[0m \u001b[0mmultiply\u001b[0m\u001b[0;34m(\u001b[0m\u001b[0mx\u001b[0m\u001b[0;34m,\u001b[0m \u001b[0my\u001b[0m\u001b[0;34m,\u001b[0m \u001b[0mname\u001b[0m\u001b[0;34m=\u001b[0m\u001b[0mname\u001b[0m\u001b[0;34m)\u001b[0m\u001b[0;34m\u001b[0m\u001b[0;34m\u001b[0m\u001b[0m\n\u001b[0m\u001b[1;32m   1711\u001b[0m \u001b[0;34m\u001b[0m\u001b[0m\n\u001b[1;32m   1712\u001b[0m \u001b[0;34m\u001b[0m\u001b[0m\n",
      "\u001b[0;32m/opt/conda/lib/python3.9/site-packages/tensorflow/python/util/dispatch.py\u001b[0m in \u001b[0;36mwrapper\u001b[0;34m(*args, **kwargs)\u001b[0m\n\u001b[1;32m    204\u001b[0m     \u001b[0;34m\"\"\"Call target, and fall back on dispatchers if there is a TypeError.\"\"\"\u001b[0m\u001b[0;34m\u001b[0m\u001b[0;34m\u001b[0m\u001b[0m\n\u001b[1;32m    205\u001b[0m     \u001b[0;32mtry\u001b[0m\u001b[0;34m:\u001b[0m\u001b[0;34m\u001b[0m\u001b[0;34m\u001b[0m\u001b[0m\n\u001b[0;32m--> 206\u001b[0;31m       \u001b[0;32mreturn\u001b[0m \u001b[0mtarget\u001b[0m\u001b[0;34m(\u001b[0m\u001b[0;34m*\u001b[0m\u001b[0margs\u001b[0m\u001b[0;34m,\u001b[0m \u001b[0;34m**\u001b[0m\u001b[0mkwargs\u001b[0m\u001b[0;34m)\u001b[0m\u001b[0;34m\u001b[0m\u001b[0;34m\u001b[0m\u001b[0m\n\u001b[0m\u001b[1;32m    207\u001b[0m     \u001b[0;32mexcept\u001b[0m \u001b[0;34m(\u001b[0m\u001b[0mTypeError\u001b[0m\u001b[0;34m,\u001b[0m \u001b[0mValueError\u001b[0m\u001b[0;34m)\u001b[0m\u001b[0;34m:\u001b[0m\u001b[0;34m\u001b[0m\u001b[0;34m\u001b[0m\u001b[0m\n\u001b[1;32m    208\u001b[0m       \u001b[0;31m# Note: convert_to_eager_tensor currently raises a ValueError, not a\u001b[0m\u001b[0;34m\u001b[0m\u001b[0;34m\u001b[0m\u001b[0m\n",
      "\u001b[0;32m/opt/conda/lib/python3.9/site-packages/tensorflow/python/ops/math_ops.py\u001b[0m in \u001b[0;36mmultiply\u001b[0;34m(x, y, name)\u001b[0m\n\u001b[1;32m    528\u001b[0m   \"\"\"\n\u001b[1;32m    529\u001b[0m \u001b[0;34m\u001b[0m\u001b[0m\n\u001b[0;32m--> 530\u001b[0;31m   \u001b[0;32mreturn\u001b[0m \u001b[0mgen_math_ops\u001b[0m\u001b[0;34m.\u001b[0m\u001b[0mmul\u001b[0m\u001b[0;34m(\u001b[0m\u001b[0mx\u001b[0m\u001b[0;34m,\u001b[0m \u001b[0my\u001b[0m\u001b[0;34m,\u001b[0m \u001b[0mname\u001b[0m\u001b[0;34m)\u001b[0m\u001b[0;34m\u001b[0m\u001b[0;34m\u001b[0m\u001b[0m\n\u001b[0m\u001b[1;32m    531\u001b[0m \u001b[0;34m\u001b[0m\u001b[0m\n\u001b[1;32m    532\u001b[0m \u001b[0;34m\u001b[0m\u001b[0m\n",
      "\u001b[0;32m/opt/conda/lib/python3.9/site-packages/tensorflow/python/ops/gen_math_ops.py\u001b[0m in \u001b[0;36mmul\u001b[0;34m(x, y, name)\u001b[0m\n\u001b[1;32m   6234\u001b[0m       \u001b[0;32mreturn\u001b[0m \u001b[0m_result\u001b[0m\u001b[0;34m\u001b[0m\u001b[0;34m\u001b[0m\u001b[0m\n\u001b[1;32m   6235\u001b[0m     \u001b[0;32mexcept\u001b[0m \u001b[0m_core\u001b[0m\u001b[0;34m.\u001b[0m\u001b[0m_NotOkStatusException\u001b[0m \u001b[0;32mas\u001b[0m \u001b[0me\u001b[0m\u001b[0;34m:\u001b[0m\u001b[0;34m\u001b[0m\u001b[0;34m\u001b[0m\u001b[0m\n\u001b[0;32m-> 6236\u001b[0;31m       \u001b[0m_ops\u001b[0m\u001b[0;34m.\u001b[0m\u001b[0mraise_from_not_ok_status\u001b[0m\u001b[0;34m(\u001b[0m\u001b[0me\u001b[0m\u001b[0;34m,\u001b[0m \u001b[0mname\u001b[0m\u001b[0;34m)\u001b[0m\u001b[0;34m\u001b[0m\u001b[0;34m\u001b[0m\u001b[0m\n\u001b[0m\u001b[1;32m   6237\u001b[0m     \u001b[0;32mexcept\u001b[0m \u001b[0m_core\u001b[0m\u001b[0;34m.\u001b[0m\u001b[0m_FallbackException\u001b[0m\u001b[0;34m:\u001b[0m\u001b[0;34m\u001b[0m\u001b[0;34m\u001b[0m\u001b[0m\n\u001b[1;32m   6238\u001b[0m       \u001b[0;32mpass\u001b[0m\u001b[0;34m\u001b[0m\u001b[0;34m\u001b[0m\u001b[0m\n",
      "\u001b[0;32m/opt/conda/lib/python3.9/site-packages/tensorflow/python/framework/ops.py\u001b[0m in \u001b[0;36mraise_from_not_ok_status\u001b[0;34m(e, name)\u001b[0m\n\u001b[1;32m   6939\u001b[0m   \u001b[0mmessage\u001b[0m \u001b[0;34m=\u001b[0m \u001b[0me\u001b[0m\u001b[0;34m.\u001b[0m\u001b[0mmessage\u001b[0m \u001b[0;34m+\u001b[0m \u001b[0;34m(\u001b[0m\u001b[0;34m\" name: \"\u001b[0m \u001b[0;34m+\u001b[0m \u001b[0mname\u001b[0m \u001b[0;32mif\u001b[0m \u001b[0mname\u001b[0m \u001b[0;32mis\u001b[0m \u001b[0;32mnot\u001b[0m \u001b[0;32mNone\u001b[0m \u001b[0;32melse\u001b[0m \u001b[0;34m\"\"\u001b[0m\u001b[0;34m)\u001b[0m\u001b[0;34m\u001b[0m\u001b[0;34m\u001b[0m\u001b[0m\n\u001b[1;32m   6940\u001b[0m   \u001b[0;31m# pylint: disable=protected-access\u001b[0m\u001b[0;34m\u001b[0m\u001b[0;34m\u001b[0m\u001b[0m\n\u001b[0;32m-> 6941\u001b[0;31m   \u001b[0msix\u001b[0m\u001b[0;34m.\u001b[0m\u001b[0mraise_from\u001b[0m\u001b[0;34m(\u001b[0m\u001b[0mcore\u001b[0m\u001b[0;34m.\u001b[0m\u001b[0m_status_to_exception\u001b[0m\u001b[0;34m(\u001b[0m\u001b[0me\u001b[0m\u001b[0;34m.\u001b[0m\u001b[0mcode\u001b[0m\u001b[0;34m,\u001b[0m \u001b[0mmessage\u001b[0m\u001b[0;34m)\u001b[0m\u001b[0;34m,\u001b[0m \u001b[0;32mNone\u001b[0m\u001b[0;34m)\u001b[0m\u001b[0;34m\u001b[0m\u001b[0;34m\u001b[0m\u001b[0m\n\u001b[0m\u001b[1;32m   6942\u001b[0m   \u001b[0;31m# pylint: enable=protected-access\u001b[0m\u001b[0;34m\u001b[0m\u001b[0;34m\u001b[0m\u001b[0m\n\u001b[1;32m   6943\u001b[0m \u001b[0;34m\u001b[0m\u001b[0m\n",
      "\u001b[0;32m/opt/conda/lib/python3.9/site-packages/six.py\u001b[0m in \u001b[0;36mraise_from\u001b[0;34m(value, from_value)\u001b[0m\n",
      "\u001b[0;31mInvalidArgumentError\u001b[0m: cannot compute Mul as input #1(zero-based) was expected to be a float tensor but is a double tensor [Op:Mul]"
     ]
    }
   ],
   "source": [
    "# 5,000개 단어로 학습시킨 결과\n",
    "\n",
    "y_pred_5000 = model_cnn_5000.predict(encoded_x_test_5000)\n",
    "y_pred_classes_5000 = np.argmax(y_pred_5000, axis=1)\n",
    "y_test_classes = np.argmax(y_test, axis=1)\n",
    "\n",
    "accuracy_5000 = accuracy_score(y_test_classes, y_pred_classes_5000)\n",
    "weighted_f1_5000 = f1_score_weighted(y_test_classes, y_pred_classes_5000)\n",
    "macro_f1_5000 = f1_score_macro(y_test_classes, y_pred_classes_5000)\n",
    "\n",
    "print(f'Accuracy: {accuracy_5000:.4f}')\n",
    "print(f'Weighted F1 Score: {weighted_f1_5000:.4f}')\n",
    "print(f'Macro F1 Score: {macro_f1_5000:.4f}')"
   ]
  },
  {
   "cell_type": "code",
   "execution_count": null,
   "id": "ec9ac90f",
   "metadata": {},
   "outputs": [],
   "source": [
    "# 10,000개 단어로 학습시킨 결과\n",
    "\n",
    "y_pred_10000 = model_cnn_10000.predict(encoded_x_test_10000)\n",
    "y_pred_classes_10000 = np.argmax(y_pred_10000, axis=1)\n",
    "\n",
    "accuracy_10000 = accuracy_score(y_test_classes, y_pred_classes_10000)\n",
    "weighted_f1_10000 = f1_score(y_test_classes, y_pred_classes_10000, average='weighted')\n",
    "macro_f1_10000 = f1_score(y_test_classes, y_pred_classes_10000, average='macro')\n",
    "\n",
    "print(f'Accuracy: {accuracy_10000:.4f}')\n",
    "print(f'Weighted F1 Score: {weighted_f1_10000:.4f}')\n",
    "print(f'Macro F1 Score: {macro_f1_10000:.4f}')"
   ]
  },
  {
   "cell_type": "code",
   "execution_count": null,
   "id": "0a9b2cb9",
   "metadata": {},
   "outputs": [],
   "source": [
    "# 15,000개 단어로 학습시킨 결과\n",
    "\n",
    "y_pred_15000 = model_cnn_15000.predict(encoded_x_test_15000)\n",
    "y_pred_classes_10000 = np.argmax(y_pred_15000, axis=1)\n",
    "\n",
    "accuracy_15000 = accuracy_score(y_test_classes, y_pred_classes_15000)\n",
    "weighted_f1_15000 = f1_score(y_test_classes, y_pred_classes_15000, average='weighted')\n",
    "macro_f1_15000 = f1_score(y_test_classes, y_pred_classes_15000, average='macro')\n",
    "\n",
    "print(f'Accuracy: {accuracy_15000:.4f}')\n",
    "print(f'Weighted F1 Score: {weighted_f1_15000:.4f}')\n",
    "print(f'Macro F1 Score: {macro_f1_15000:.4f}')"
   ]
  },
  {
   "cell_type": "code",
   "execution_count": null,
   "id": "73888913",
   "metadata": {},
   "outputs": [],
   "source": [
    "# 평가지표 시각화\n",
    "\n",
    "plt.figure(figsize=(15, 10))\n",
    "\n",
    "plt.subplot(1,3,1)\n",
    "plt.bar(['Accuracy', 'Macro F1 Score', 'Weighted F1 Score'],\n",
    "        [accuracy_5000, weighted_f1_5000, macro_f1_5000], color=['blue', 'green', 'orange'])\n",
    "plt.title('Vocab_size:5000 Evaluation Metrics')\n",
    "plt.xlabel('Metrics')\n",
    "plt.ylabel('Score')\n",
    "\n",
    "plt.subplot(1,3,2)\n",
    "plt.bar(['Accuracy', 'Macro F1 Score', 'Weighted F1 Score'],\n",
    "        [accuracy_10000, weighted_f1_10000, macro_f1_10000], color=['blue', 'green', 'orange'])\n",
    "plt.title('Vocab_size:10000 Evaluation Metrics')\n",
    "plt.xlabel('Metrics')\n",
    "plt.ylabel('Score')\n",
    "\n",
    "plt.subplot(1,3,3)\n",
    "plt.bar(['Accuracy', 'Macro F1 Score', 'Weighted F1 Score'],\n",
    "        [accuracy_15000, weighted_f1_15000, macro_f1_15000], color=['blue', 'green', 'orange'])\n",
    "plt.title('Vocab_size:15000 Evaluation Metrics')\n",
    "plt.xlabel('Metrics')\n",
    "plt.ylabel('Score')"
   ]
  }
 ],
 "metadata": {
  "kernelspec": {
   "display_name": "Python 3 (ipykernel)",
   "language": "python",
   "name": "python3"
  },
  "language_info": {
   "codemirror_mode": {
    "name": "ipython",
    "version": 3
   },
   "file_extension": ".py",
   "mimetype": "text/x-python",
   "name": "python",
   "nbconvert_exporter": "python",
   "pygments_lexer": "ipython3",
   "version": "3.9.7"
  }
 },
 "nbformat": 4,
 "nbformat_minor": 5
}
