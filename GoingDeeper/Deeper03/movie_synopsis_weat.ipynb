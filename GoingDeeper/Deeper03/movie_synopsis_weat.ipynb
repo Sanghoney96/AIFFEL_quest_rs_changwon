{
 "cells": [
  {
   "cell_type": "code",
   "execution_count": 1,
   "id": "661fe37a",
   "metadata": {},
   "outputs": [],
   "source": [
    "import numpy as np\n",
    "from numpy import dot\n",
    "from numpy.linalg import norm"
   ]
  },
  {
   "cell_type": "code",
   "execution_count": 6,
   "id": "1989be88",
   "metadata": {},
   "outputs": [],
   "source": [
    "from sklearn.decomposition import PCA\n",
    "import matplotlib.pyplot as plt\n",
    "import os"
   ]
  },
  {
   "cell_type": "markdown",
   "id": "869b3ef5",
   "metadata": {},
   "source": [
    "#### 임베딩 벡터 만들기"
   ]
  },
  {
   "cell_type": "code",
   "execution_count": 7,
   "id": "1a38110e",
   "metadata": {
    "scrolled": true
   },
   "outputs": [
    {
     "name": "stdout",
     "output_type": "stream",
     "text": [
      "사운드 엔지니어 상우(유지태 분)는 치매에 걸린 할머니(백성희 분)와\n",
      " 젊은 시절 상처한 한 아버지(박인환 분), 고모(신신애 분)와 함께 살고 있다.\n",
      " 어느 겨울 그는 지방 방송국 라디오 PD 은수(이영애 분)를 만난다.\n",
      " 자연의 소리를 채집해 틀어주는 라디오 프로그램을 준비하는 은수는 상우와 녹음 여행을 떠난다.\n",
      " 자연스레 가까워지는 두 사람은 어느 날, 은수의 아파트에서 밤을 보낸다.\n",
      " 너무 쉽게 사랑에 빠진 두 사람... 상우는 주체할 수 없을 정도로 그녀에게 빨려든다.\n",
      " 그러나 겨울에 만난 두 사람의 관계는 봄을 지나 여름을 맞이하면서 삐걱거린다.\n",
      " 이혼 경험이 있는 은수는 상우에게 결혼할 생각이 없다며 부담스러운 표정을 내비친다.\n",
      " \"어떻게 사랑이 변하니?...\"라고 묻는 상우에게 은수는 그저 \"헤어져\" 라고 단호하게 말한다.\n",
      " 영원히 변할 것 같지 않던 사랑이 변하고, 그 사실을 받아들이지 못하는 상우는 어찌 할 바를 모른다.\n",
      " 은수를 잊지 못하는 상우는 미련과 집착의 감정을 이기지 못하고 서울과 강릉을 오간다.\n",
      "유사 이래 연령, 성별, 빈부의 차이와 정치적인 입장을 불문하고 일거에 국민을 통합해 온 '애국심'이라는 성역에 일침을 가하는 다큐멘터리. 재작년 전국 민족민주 유가족협의회의 장기농성을 다룬 인상적인 다큐멘터리 <민들레>를 만들었던 독립영화집단 '빨간 눈사람'이 우리 사회 구석구석을 발빠르게 돌아다니며 애국심과 민족주의가 강요되는 현장을 발굴하여 카메라에 담았다. 박홍 서강대 명예총장, 이도형 '한국논단' 발행인, 축구해설자 신문선, 홍세화, 박노해 등 사회 각계의 '스타'들이 등장해 저마다의 확고한 신념을 성토한다. 감독 이경순과 최하동하는 이 작품을 위해 3년간 백여 명을 인터뷰했다고 한다. 2001 올해의 독립영화상 수상.\n",
      " 민족과 국가란 공동체에서 부단히 권력과 부를 얻는 자, 나아가 민족과 국가란 공동체에서 얻은 신분과 부귀를 영원히 그의 자손에게 대물림하려는 자, 그래서 민족과 국가란 공동체를 부단히 유지해야만 하는 자, 따라서 민족과 국가란 공동체의 당위성과 개인의 가치를 초월하는 그 존엄성을 끝도 없이 창조하고 되뇌어야 하는 자, 종국에는 민족과 국가란 공동체에 속해 있다고 태내에서부터 세뇌된 모든 이들의 삶과 행동에서 영원히 자기복제되는 순환의 고리, 영생하는 애국의 원동력은 그 순환의 골에서 온다.\n",
      "엽기적인 살인사건이 발생한 장소를 관광하는 투어팀. 그 팀에서 관광객들은 살인사건과 관련하여 히스테리컬한 반응을 보이는데 과연 이들의 정체는? (Tourists see whrer a murder take place. They respond hysterically to the murder…what are they?)\n",
      " 제46회 발라돌리드 국제영화제 (2001, 스페인)\n",
      "착하지만 엉뚱한 태희(배두나 분), 예쁜 깍쟁이 혜주(이요원 분), 그림을 잘 그리는 지영(옥지영 분), 명랑한 쌍둥이 비류(이은실 분)와 온조(이은주 분)는 단짝친구들. 늘 함께였던 그들이지만 스무 살이 되면서 길이 달라진다. 증권회사에 입사한 혜주는 성공한 커리어우먼의 야심을 키우고 미술에 재능이 있는 지영은 유학을 꿈꾼다. 한편 태희는 봉사활동에서 알게 된 뇌성마비 시인을 좋아하는데...\n",
      "  어느 날 지영이 길 잃은 새끼 고양이 티티를 만남면서 스무 살 그녀들의 삶에 고양이 한 마리가 끼어들게 된다. 혼자 있길 좋아하고, 쉽게 마음을 열지 않는 신비로운 동물 고양이. 고양이를 닮은 스무 살 그녀들. 고양이 티티와 함께 한 시간동안 삶은 예상못한 방향으로 흘러가지만 마침내 그녀들만의 해결책을 찾게 되는데... 사랑스런 몽상가 태희, 아름다운 야심가 혜주, 신비로운 아웃사이더 지영. 마지막으로 고양이를 부탁받은 사람은 누구일까?\n",
      "인도 등 아시아 식민지에 처음 발을 디딘 뒤 여행하고 “경영”한 이들은 과연 누구였을까? 과거의 이미지들은, 이민과 인종 문제, ‘오리엔탈리즘’이 격렬히 충돌하고 있는 현재와 강력하게 공명한다.\n",
      " [제19회 인디다큐페스티발]\n",
      "홀로 살아가는 미국 할머니와 한국 할머니의 이야기. 공원에서 가끔 마주치게 되는 그들은 비록 언어 소통의 어려움을 겪지만 시간이 흘러감에 따라 서로 가까워져 그들의 외로움과 우정을 공유하게 된다. 겨울이 지나고 봄이 왔을 때 길가의 민들레 홀씨는 삶의 이치를 말해주듯 한 할머니의 주위를 맴돈다. (Two elderly widows, an American and a Korean, frequent the same park in Philadelphia and attempt a friendship, though the Korean widow speaks no English. Driven by loneliness and a spark of hope, they persevere within the limits of body language, and the outcome poses a question of life as fundamental as a flower.)\n"
     ]
    }
   ],
   "source": [
    "# 데이터 불러오기\n",
    "with open(os.getenv('HOME')+'/aiffel/weat/synopsis.txt', 'r') as file:\n",
    "    for i in range(20):\n",
    "        print(file.readline(), end='')"
   ]
  },
  {
   "cell_type": "code",
   "execution_count": 8,
   "id": "61b985fc",
   "metadata": {},
   "outputs": [],
   "source": [
    "from konlpy.tag import Okt"
   ]
  },
  {
   "cell_type": "code",
   "execution_count": 11,
   "id": "ba187c54",
   "metadata": {},
   "outputs": [],
   "source": [
    "# 불러온 데이터 토크나이징\n",
    "okt = Okt()\n",
    "tokenized = []\n",
    "with open(os.getenv('HOME')+'/aiffel/weat/synopsis.txt', 'r') as file:\n",
    "    while True:\n",
    "        line = file.readline()\n",
    "        if not line: break\n",
    "        words = okt.pos(line, stem=True, norm=True)\n",
    "        res = []\n",
    "        for w in words:\n",
    "            if w[1] in [\"Noun\"]:      # \"Adjective\", \"Verb\" 등을 포함할 수도 있습니다.\n",
    "                res.append(w[0])    # 명사일 때만 tokenized 에 저장하게 됩니다. \n",
    "        tokenized.append(res)"
   ]
  },
  {
   "cell_type": "code",
   "execution_count": 9,
   "id": "968731c8",
   "metadata": {},
   "outputs": [],
   "source": [
    "from gensim.models import Word2Vec"
   ]
  },
  {
   "cell_type": "code",
   "execution_count": 12,
   "id": "15d10cfe",
   "metadata": {},
   "outputs": [
    {
     "data": {
      "text/plain": [
       "[('작품', 0.893237829208374),\n",
       " ('다큐멘터리', 0.867577075958252),\n",
       " ('드라마', 0.8388077020645142),\n",
       " ('영화로', 0.8086660504341125),\n",
       " ('형식', 0.7978646755218506),\n",
       " ('코미디', 0.7956613302230835),\n",
       " ('주제', 0.7853346467018127),\n",
       " ('소재', 0.7796995043754578),\n",
       " ('설정', 0.7784978747367859),\n",
       " ('감동', 0.7737659215927124)]"
      ]
     },
     "execution_count": 12,
     "metadata": {},
     "output_type": "execute_result"
    }
   ],
   "source": [
    "# 임베딩 모델 \n",
    "model = Word2Vec(tokenized, vector_size=100, window=5, min_count=3, sg=0)  \n",
    "model.wv.most_similar(positive=['영화'])"
   ]
  },
  {
   "cell_type": "markdown",
   "id": "f02759bd",
   "metadata": {},
   "source": [
    "#### 토픽별 대표단어 추출 및 WEAT 스코어"
   ]
  },
  {
   "cell_type": "markdown",
   "id": "e888d7d3",
   "metadata": {},
   "source": [
    "##### 예술영화와 일반영화에서 등장하는 단어들로 WEAT스코어 구하기"
   ]
  },
  {
   "cell_type": "code",
   "execution_count": 20,
   "id": "960a19ef",
   "metadata": {},
   "outputs": [],
   "source": [
    "# 코사인 유사도와 위트 스코어\n",
    "\n",
    "def cos_sim(i, j):\n",
    "    return dot(i, j.T)/(norm(i)*norm(j))\n",
    "\n",
    "def s(w, A, B):\n",
    "    c_a = cos_sim(w, A)\n",
    "    c_b = cos_sim(w, B)\n",
    "    mean_A = np.mean(c_a, axis=-1)\n",
    "    mean_B = np.mean(c_b, axis=-1)\n",
    "    return mean_A - mean_B #, c_a, c_b"
   ]
  },
  {
   "cell_type": "code",
   "execution_count": 21,
   "id": "7f46608f",
   "metadata": {},
   "outputs": [],
   "source": [
    "def weat_score(X, Y, A, B):\n",
    "    \n",
    "    s_X = s(X, A, B)\n",
    "    s_Y = s(Y, A, B)\n",
    "\n",
    "    mean_X = np.mean(s_X)\n",
    "    mean_Y = np.mean(s_Y)\n",
    "    \n",
    "    std_dev = np.std(np.concatenate([s_X, s_Y], axis=0))\n",
    "    \n",
    "    return  (mean_X-mean_Y)/std_dev"
   ]
  },
  {
   "cell_type": "code",
   "execution_count": 22,
   "id": "fe74c8b6",
   "metadata": {},
   "outputs": [],
   "source": [
    "# 예술영화와 일반영화 줄거리 불러오기\n",
    "art_txt = 'synopsis_art.txt'\n",
    "gen_txt = 'synopsis_gen.txt'"
   ]
  },
  {
   "cell_type": "code",
   "execution_count": 14,
   "id": "020f04ae",
   "metadata": {},
   "outputs": [],
   "source": [
    "from gensim.corpora import Dictionary\n",
    "from gensim.models import LdaModel\n",
    "from sklearn.cluster import KMeans"
   ]
  },
  {
   "cell_type": "code",
   "execution_count": 15,
   "id": "5debe34a",
   "metadata": {},
   "outputs": [],
   "source": [
    "# 리스트 반환하는 토크나이징 함수 생성\n",
    "def read_token_list(file_name):\n",
    "    \n",
    "    okt = Okt()\n",
    "    result = []\n",
    "    with open(os.getenv('HOME')+'/aiffel/weat/'+file_name, 'r') as fread: \n",
    "        print(file_name, '파일을 읽고 있습니다.')\n",
    "        while True:\n",
    "            line = fread.readline()\n",
    "            if not line: break\n",
    "            tokenlist = okt.pos(line, stem=True, norm=True)\n",
    "            for word in tokenlist:\n",
    "                if word[1] in [\"Noun\"]:  # 명사만 추출\n",
    "                    result.append(word[0])\n",
    "    return result"
   ]
  },
  {
   "cell_type": "code",
   "execution_count": 16,
   "id": "1f0208cb",
   "metadata": {},
   "outputs": [
    {
     "name": "stdout",
     "output_type": "stream",
     "text": [
      "synopsis_art.txt 파일을 읽고 있습니다.\n",
      "synopsis_gen.txt 파일을 읽고 있습니다.\n"
     ]
    }
   ],
   "source": [
    "# 토크나이징 후 리스트형태로 저장\n",
    "art_list = read_token_list(art_txt)\n",
    "gen_list = read_token_list(gen_txt)"
   ]
  },
  {
   "cell_type": "code",
   "execution_count": 17,
   "id": "6d4380ef",
   "metadata": {},
   "outputs": [],
   "source": [
    "# 예술영화 토큰과 일반영화 대표단어\n",
    "art_tokens = [word for word in art_list if word in model.wv]\n",
    "gen_tokens = [word for word in gen_list if word in model.wv]"
   ]
  },
  {
   "cell_type": "code",
   "execution_count": 18,
   "id": "f57d7157",
   "metadata": {},
   "outputs": [],
   "source": [
    "# 두개 토픽별 단어 결합\n",
    "lda_docs = [art_tokens, gen_tokens]"
   ]
  },
  {
   "cell_type": "code",
   "execution_count": 23,
   "id": "21ca8d16",
   "metadata": {},
   "outputs": [],
   "source": [
    "# 단어사전 생성\n",
    "lda_dict = Dictionary(lda_docs)\n",
    "lda_corp = [lda_dict.doc2bow(doc) for doc in lda_docs]"
   ]
  },
  {
   "cell_type": "code",
   "execution_count": 24,
   "id": "9467c050",
   "metadata": {},
   "outputs": [],
   "source": [
    "# LDA 모델 학습 - 2개 토픽\n",
    "lda = LdaModel(corpus=lda_corp,\n",
    "    num_topics=2,  # 원하는 토픽 개수\n",
    "    id2word=lda_dict,\n",
    "    passes=15,\n",
    "    iterations=200,\n",
    "    alpha=0.01,  # 문서당 소수의 토픽만 포함하도록 설정\n",
    "    eta=0.01,  # 토픽별 단어가 최대한 다르게 나오도록 설정\n",
    "    random_state=42\n",
    ")"
   ]
  },
  {
   "cell_type": "code",
   "execution_count": 25,
   "id": "0eaeb24b",
   "metadata": {
    "scrolled": false
   },
   "outputs": [
    {
     "name": "stdout",
     "output_type": "stream",
     "text": [
      "(0, '0.019*\"그\" + 0.010*\"것\" + 0.009*\"이\" + 0.008*\"자신\" + 0.008*\"그녀\" + 0.008*\"영화제\" + 0.007*\"제\" + 0.007*\"수\" + 0.006*\"위해\" + 0.006*\"사람\" + 0.006*\"시작\" + 0.005*\"국제\" + 0.005*\"날\" + 0.005*\"영화\" + 0.004*\"집\" + 0.004*\"친구\" + 0.004*\"사랑\" + 0.004*\"남자\" + 0.004*\"알\" + 0.003*\"속\" + 0.003*\"이야기\" + 0.003*\"일\" + 0.003*\"두\" + 0.003*\"곳\" + 0.003*\"의\" + 0.003*\"대한\" + 0.003*\"서울\" + 0.003*\"여자\" + 0.003*\"살\" + 0.003*\"사건\" + 0.003*\"중\" + 0.003*\"남편\" + 0.002*\"후\" + 0.002*\"삶\" + 0.002*\"아이\" + 0.002*\"가족\" + 0.002*\"아버지\" + 0.002*\"말\" + 0.002*\"전\" + 0.002*\"다른\" + 0.002*\"은\" + 0.002*\"마을\" + 0.002*\"때\" + 0.002*\"시간\" + 0.002*\"엄마\" + 0.002*\"아들\" + 0.002*\"모든\" + 0.002*\"단편\" + 0.002*\"마음\" + 0.002*\"를\" + 0.002*\"위\" + 0.002*\"다시\" + 0.002*\"사실\" + 0.002*\"세계\" + 0.002*\"모습\" + 0.002*\"못\" + 0.002*\"작품\" + 0.002*\"생각\" + 0.002*\"통해\" + 0.002*\"서로\" + 0.002*\"더\" + 0.002*\"세상\" + 0.002*\"딸\" + 0.002*\"발견\" + 0.002*\"감독\" + 0.002*\"아내\" + 0.002*\"관계\" + 0.002*\"둘\" + 0.002*\"소녀\" + 0.002*\"사이\" + 0.002*\"안\" + 0.002*\"온\" + 0.002*\"하나\" + 0.002*\"우리\" + 0.002*\"애니메이션\" + 0.002*\"때문\" + 0.002*\"앞\" + 0.001*\"돈\" + 0.001*\"나\" + 0.001*\"등\" + 0.001*\"뒤\" + 0.001*\"세\" + 0.001*\"여성\" + 0.001*\"꿈\" + 0.001*\"향\" + 0.001*\"죽음\" + 0.001*\"과연\" + 0.001*\"점점\" + 0.001*\"인간\" + 0.001*\"채\" + 0.001*\"생활\" + 0.001*\"한편\" + 0.001*\"결혼\" + 0.001*\"밤\" + 0.001*\"상황\" + 0.001*\"눈\" + 0.001*\"모두\" + 0.001*\"몸\" + 0.001*\"기억\" + 0.001*\"명의\" + 0.001*\"소년\" + 0.001*\"여행\" + 0.001*\"가장\" + 0.001*\"간다\" + 0.001*\"순간\" + 0.001*\"분\" + 0.001*\"이제\" + 0.001*\"도시\" + 0.001*\"구\" + 0.001*\"비밀\" + 0.001*\"코\" + 0.001*\"학교\" + 0.001*\"과거\" + 0.001*\"가지\" + 0.001*\"이자\" + 0.001*\"경찰\" + 0.001*\"마지막\" + 0.001*\"미국\" + 0.001*\"동안\" + 0.001*\"전쟁\" + 0.001*\"주인공\" + 0.001*\"대해\" + 0.001*\"길\" + 0.001*\"존재\" + 0.001*\"현실\" + 0.001*\"연출\" + 0.001*\"사고\" + 0.001*\"살인\" + 0.001*\"일상\" + 0.001*\"어머니\" + 0.001*\"계속\" + 0.001*\"사회\" + 0.001*\"인생\" + 0.001*\"다큐멘터리\" + 0.001*\"또\" + 0.001*\"내\" + 0.001*\"부문\" + 0.001*\"섹스\" + 0.001*\"최고\" + 0.001*\"끝\" + 0.001*\"바로\" + 0.001*\"의도\" + 0.001*\"동생\" + 0.001*\"하루\" + 0.001*\"위기\" + 0.001*\"정체\" + 0.001*\"계획\" + 0.001*\"한국\" + 0.001*\"이후\" + 0.001*\"로\"')\n",
      "(1, '0.018*\"그\" + 0.009*\"것\" + 0.008*\"수\" + 0.008*\"그녀\" + 0.008*\"이\" + 0.008*\"자신\" + 0.008*\"시작\" + 0.007*\"위해\" + 0.007*\"사랑\" + 0.006*\"날\" + 0.006*\"사람\" + 0.004*\"영화\" + 0.004*\"의\" + 0.004*\"친구\" + 0.004*\"두\" + 0.004*\"남자\" + 0.004*\"속\" + 0.004*\"알\" + 0.003*\"집\" + 0.003*\"은\" + 0.003*\"살\" + 0.003*\"이야기\" + 0.003*\"가족\" + 0.003*\"곳\" + 0.003*\"일\" + 0.003*\"삶\" + 0.003*\"를\" + 0.003*\"마을\" + 0.003*\"사건\" + 0.003*\"세상\" + 0.003*\"마음\" + 0.003*\"아버지\" + 0.003*\"후\" + 0.003*\"아이\" + 0.002*\"여자\" + 0.002*\"엄마\" + 0.002*\"모든\" + 0.002*\"전\" + 0.002*\"대한\" + 0.002*\"서로\" + 0.002*\"영화제\" + 0.002*\"중\" + 0.002*\"과연\" + 0.002*\"말\" + 0.002*\"시간\" + 0.002*\"다시\" + 0.002*\"못\" + 0.002*\"아들\" + 0.002*\"딸\" + 0.002*\"소녀\" + 0.002*\"위\" + 0.002*\"아내\" + 0.002*\"제\" + 0.002*\"다른\" + 0.002*\"세계\" + 0.002*\"온\" + 0.002*\"세\" + 0.002*\"사실\" + 0.002*\"사이\" + 0.002*\"꿈\" + 0.002*\"더\" + 0.002*\"하나\" + 0.002*\"향\" + 0.002*\"앞\" + 0.002*\"남편\" + 0.002*\"때\" + 0.002*\"점점\" + 0.002*\"감독\" + 0.002*\"채\" + 0.002*\"뒤\" + 0.002*\"여행\" + 0.002*\"발견\" + 0.002*\"우리\" + 0.002*\"인생\" + 0.002*\"모두\" + 0.002*\"순간\" + 0.002*\"나\" + 0.002*\"눈\" + 0.002*\"둘\" + 0.002*\"가장\" + 0.001*\"안\" + 0.001*\"등\" + 0.001*\"통해\" + 0.001*\"모습\" + 0.001*\"마지막\" + 0.001*\"생활\" + 0.001*\"죽음\" + 0.001*\"기억\" + 0.001*\"아빠\" + 0.001*\"비밀\" + 0.001*\"학교\" + 0.001*\"돈\" + 0.001*\"음악\" + 0.001*\"한편\" + 0.001*\"과\" + 0.001*\"생각\" + 0.001*\"소년\" + 0.001*\"명의\" + 0.001*\"길\" + 0.001*\"도시\" + 0.001*\"국제\" + 0.001*\"때문\" + 0.001*\"전쟁\" + 0.001*\"사고\" + 0.001*\"결혼\" + 0.001*\"위기\" + 0.001*\"구\" + 0.001*\"내\" + 0.001*\"이제\" + 0.001*\"최고\" + 0.001*\"이자\" + 0.001*\"밤\" + 0.001*\"관계\" + 0.001*\"간다\" + 0.001*\"상황\" + 0.001*\"일상\" + 0.001*\"과거\" + 0.001*\"끝\" + 0.001*\"경찰\" + 0.001*\"미국\" + 0.001*\"현실\" + 0.001*\"결심\" + 0.001*\"단편\" + 0.001*\"운명\" + 0.001*\"단\" + 0.001*\"지금\" + 0.001*\"분\" + 0.001*\"하루\" + 0.001*\"여인\" + 0.001*\"이름\" + 0.001*\"이후\" + 0.001*\"로\" + 0.001*\"준비\" + 0.001*\"인간\" + 0.001*\"만난\" + 0.001*\"처음\" + 0.001*\"감정\" + 0.001*\"살인\" + 0.001*\"존재\" + 0.001*\"동안\" + 0.001*\"누구\" + 0.001*\"첫\" + 0.001*\"차\" + 0.001*\"작품\" + 0.001*\"몸\" + 0.001*\"명\" + 0.001*\"충격\" + 0.001*\"그린\" + 0.001*\"어머니\" + 0.001*\"가지\"')\n"
     ]
    }
   ],
   "source": [
    "# 주요 토픽 확인\n",
    "topics = lda.print_topics(num_words=150)\n",
    "for topic in topics:\n",
    "    print(topic)"
   ]
  },
  {
   "cell_type": "code",
   "execution_count": 26,
   "id": "44a0d5be",
   "metadata": {},
   "outputs": [],
   "source": [
    "# 예술, 일반 영화별 단어 저장 변수\n",
    "topic_words = {0: [], 1: []}"
   ]
  },
  {
   "cell_type": "code",
   "execution_count": 27,
   "id": "5dcfd99f",
   "metadata": {},
   "outputs": [],
   "source": [
    "# 토픽별 단어 저장\n",
    "for topic_id, words in lda.show_topics(num_topics=2, num_words=150, formatted=False):\n",
    "    topic_words[topic_id] = [word for word, _ in words]"
   ]
  },
  {
   "cell_type": "code",
   "execution_count": 28,
   "id": "d5e491aa",
   "metadata": {},
   "outputs": [
    {
     "name": "stdout",
     "output_type": "stream",
     "text": [
      "예술 영화에만 있는 단어: ['애니메이션', '대해', '주인공', '사회', '섹스', '계획', '다큐멘터리', '한국', '부문', '정체', '코', '바로', '동생', '의도', '연출', '계속', '서울', '또', '여성']\n",
      "일반 영화에만 있는 단어: ['지금', '첫', '과', '누구', '단', '충격', '여인', '음악', '결심', '만난', '아빠', '준비', '명', '처음', '이름', '감정', '운명', '그린', '차']\n"
     ]
    }
   ],
   "source": [
    "# 공통으로 등장하는 단어 삭제\n",
    "art_topic_words = set(topic_words[0]) - set(topic_words[1])  # 예술 영화에서만 등장하는 단어\n",
    "gen_topic_words = set(topic_words[1]) - set(topic_words[0])  # 일반 영화에서만 등장하는 단어\n",
    "\n",
    "print(\"예술 영화에만 있는 단어:\", list(art_topic_words))\n",
    "print(\"일반 영화에만 있는 단어:\", list(gen_topic_words))"
   ]
  },
  {
   "cell_type": "code",
   "execution_count": 30,
   "id": "7d59ff07",
   "metadata": {},
   "outputs": [],
   "source": [
    "#임베딩 모델에서 단어벡터 출력하는 함수\n",
    "def get_word_vectors(words, model):\n",
    "    return np.array([model.wv[word] for word in words if word in model.wv])"
   ]
  },
  {
   "cell_type": "code",
   "execution_count": 31,
   "id": "f297bfdd",
   "metadata": {},
   "outputs": [],
   "source": [
    "# '예술'와 '일반' 단어 벡터 가져오기\n",
    "X = get_word_vectors(['예술'], model)\n",
    "Y = get_word_vectors(['일반'], model)\n",
    "\n",
    "# 기준 단어 (예술 vs 일반)\n",
    "A = get_word_vectors(art_topic_words, model)  # 대중적인 영화 기준 단어\n",
    "B = get_word_vectors(gen_topic_words, model)  # 예술적인 영화 기준 단어"
   ]
  },
  {
   "cell_type": "code",
   "execution_count": 32,
   "id": "5f86d9ae",
   "metadata": {},
   "outputs": [
    {
     "name": "stdout",
     "output_type": "stream",
     "text": [
      "WEAT 스코어 (예술 vs 일반): -2.0\n"
     ]
    }
   ],
   "source": [
    "# WEAT 스코어 계산\n",
    "weat_result = round(weat_score(X, Y, A, B), 3)\n",
    "print(f\"WEAT 스코어 (예술 vs 일반): {weat_result}\")"
   ]
  },
  {
   "cell_type": "code",
   "execution_count": 33,
   "id": "31bae8b6",
   "metadata": {},
   "outputs": [
    {
     "data": {
      "text/plain": [
       "0.030432142"
      ]
     },
     "execution_count": 33,
     "metadata": {},
     "output_type": "execute_result"
    }
   ],
   "source": [
    "np.mean(s(get_word_vectors(['예술'], model), A, B))"
   ]
  },
  {
   "cell_type": "code",
   "execution_count": 34,
   "id": "50ebf068",
   "metadata": {},
   "outputs": [
    {
     "data": {
      "text/plain": [
       "0.046015583"
      ]
     },
     "execution_count": 34,
     "metadata": {},
     "output_type": "execute_result"
    }
   ],
   "source": [
    "np.mean(s(get_word_vectors(['일반'], model), A, B))"
   ]
  },
  {
   "cell_type": "code",
   "execution_count": 122,
   "id": "37be4937",
   "metadata": {},
   "outputs": [
    {
     "data": {
      "text/plain": [
       "0.0"
      ]
     },
     "execution_count": 122,
     "metadata": {},
     "output_type": "execute_result"
    }
   ],
   "source": [
    "np.std(s(get_word_vectors(['일반'], model), A, B))"
   ]
  },
  {
   "cell_type": "code",
   "execution_count": 35,
   "id": "c4132ed6",
   "metadata": {},
   "outputs": [],
   "source": [
    "# 단어 임베딩 평균\n",
    "s_X = s(get_word_vectors(['예술'], model), A, B)\n",
    "s_Y = s(get_word_vectors(['일반'], model), A, B)"
   ]
  },
  {
   "cell_type": "code",
   "execution_count": 36,
   "id": "281bcdbe",
   "metadata": {},
   "outputs": [
    {
     "data": {
      "text/plain": [
       "0.0077917203"
      ]
     },
     "execution_count": 36,
     "metadata": {},
     "output_type": "execute_result"
    }
   ],
   "source": [
    "# 단어 임베딩 표준편차\n",
    "np.std(np.concatenate([s_X, s_Y], axis=0))"
   ]
  },
  {
   "cell_type": "markdown",
   "id": "c0354c63",
   "metadata": {},
   "source": [
    "### 히스토그램으로 표현"
   ]
  },
  {
   "cell_type": "code",
   "execution_count": 42,
   "id": "37efeb7d",
   "metadata": {
    "scrolled": true
   },
   "outputs": [
    {
     "data": {
      "image/png": "[encoded data removed]",
      "text/plain": [
       "<Figure size 432x288 with 1 Axes>"
      ]
     },
     "metadata": {
      "needs_background": "light"
     },
     "output_type": "display_data"
    }
   ],
   "source": [
    "plt.hist(s_X, bins=20, alpha=0.5, label='art words')\n",
    "plt.hist(s_Y, bins=20, alpha=0.5, label='gen words')\n",
    "plt.legend()\n",
    "plt.xlabel('s-value')\n",
    "plt.ylabel('freq')\n",
    "plt.title('Art vs Gen s-value distribution')\n",
    "plt.show()"
   ]
  },
  {
   "cell_type": "markdown",
   "id": "3a989ebe",
   "metadata": {},
   "source": [
    "#### 2개 토픽에 대한 결과 확인\n",
    " - 2개 토픽('예술'과 '일반')으로 단어 분포를 살펴본 경우 토픽별 단어 분포가 뚜렷한 차이를 보이지 않음"
   ]
  },
  {
   "cell_type": "code",
   "execution_count": 44,
   "id": "dca1667a",
   "metadata": {},
   "outputs": [
    {
     "name": "stdout",
     "output_type": "stream",
     "text": [
      "(0, '0.009*\"그\" + 0.007*\"것\" + 0.006*\"이\" + 0.006*\"위해\" + 0.006*\"자신\" + 0.006*\"수\" + 0.005*\"시작\" + 0.005*\"그녀\" + 0.005*\"사람\" + 0.004*\"영화제\" + 0.004*\"사랑\" + 0.004*\"날\" + 0.004*\"제\" + 0.003*\"속\" + 0.003*\"영화\" + 0.003*\"친구\" + 0.003*\"남자\" + 0.003*\"집\" + 0.003*\"국제\" + 0.003*\"일\" + 0.002*\"두\" + 0.002*\"의\" + 0.002*\"알\" + 0.002*\"살\" + 0.002*\"곳\" + 0.002*\"이야기\" + 0.002*\"마을\" + 0.002*\"다른\" + 0.002*\"사건\" + 0.002*\"엄마\" + 0.002*\"삶\" + 0.002*\"가족\" + 0.002*\"남편\" + 0.002*\"마음\" + 0.002*\"말\" + 0.002*\"중\" + 0.002*\"아이\" + 0.002*\"여자\" + 0.002*\"시간\" + 0.002*\"후\" + 0.002*\"아버지\" + 0.002*\"때\" + 0.001*\"더\" + 0.001*\"단편\" + 0.001*\"아들\" + 0.001*\"모든\" + 0.001*\"다시\" + 0.001*\"서로\" + 0.001*\"대한\" + 0.001*\"안\" + 0.001*\"전\" + 0.001*\"은\" + 0.001*\"소녀\" + 0.001*\"감독\" + 0.001*\"채\" + 0.001*\"서울\" + 0.001*\"를\" + 0.001*\"등\" + 0.001*\"생각\" + 0.001*\"발견\" + 0.001*\"세상\" + 0.001*\"둘\" + 0.001*\"향\" + 0.001*\"사실\" + 0.001*\"위\" + 0.001*\"온\" + 0.001*\"통해\" + 0.001*\"모습\" + 0.001*\"딸\" + 0.001*\"도시\" + 0.001*\"하나\" + 0.001*\"결혼\" + 0.001*\"돈\" + 0.001*\"때문\" + 0.001*\"사이\" + 0.001*\"과연\" + 0.001*\"앞\" + 0.001*\"구\" + 0.001*\"나\" + 0.001*\"꿈\" + 0.001*\"모두\" + 0.001*\"못\" + 0.001*\"작품\" + 0.001*\"경찰\" + 0.001*\"아내\" + 0.001*\"생활\" + 0.001*\"뒤\" + 0.001*\"우리\" + 0.001*\"세\" + 0.001*\"학교\" + 0.001*\"과거\" + 0.001*\"사회\" + 0.001*\"소년\" + 0.001*\"세계\" + 0.001*\"한편\" + 0.001*\"죽음\" + 0.001*\"여성\" + 0.001*\"살인\" + 0.001*\"애니메이션\" + 0.001*\"가장\" + 0.001*\"다큐멘터리\" + 0.001*\"미국\" + 0.001*\"눈\" + 0.001*\"기억\" + 0.001*\"인생\" + 0.001*\"관계\" + 0.001*\"여행\" + 0.001*\"인간\" + 0.001*\"정체\" + 0.001*\"비밀\" + 0.001*\"코\" + 0.001*\"이자\" + 0.001*\"밤\" + 0.001*\"동안\" + 0.001*\"마지막\" + 0.001*\"또\" + 0.001*\"아빠\" + 0.001*\"점점\" + 0.001*\"순간\" + 0.001*\"이제\" + 0.001*\"명의\" + 0.001*\"차\" + 0.001*\"전쟁\" + 0.001*\"위기\" + 0.001*\"존재\" + 0.001*\"어머니\" + 0.001*\"현실\" + 0.001*\"몸\" + 0.001*\"적\" + 0.001*\"부부\" + 0.001*\"할머니\" + 0.001*\"갑자기\" + 0.001*\"분\" + 0.001*\"동생\" + 0.001*\"일상\" + 0.001*\"누구\" + 0.001*\"대해\" + 0.001*\"섹스\" + 0.001*\"상황\" + 0.001*\"한국\" + 0.001*\"팀\" + 0.001*\"길\" + 0.001*\"로\" + 0.001*\"내\" + 0.001*\"계획\" + 0.001*\"여인\" + 0.001*\"과\" + 0.001*\"힘\" + 0.001*\"명\" + 0.001*\"경쟁\"')\n",
      "(1, '0.017*\"그\" + 0.009*\"수\" + 0.009*\"시작\" + 0.008*\"그녀\" + 0.008*\"것\" + 0.008*\"자신\" + 0.008*\"이\" + 0.008*\"사랑\" + 0.007*\"위해\" + 0.007*\"날\" + 0.007*\"사람\" + 0.005*\"의\" + 0.004*\"두\" + 0.004*\"영화\" + 0.004*\"친구\" + 0.004*\"속\" + 0.004*\"은\" + 0.004*\"남자\" + 0.004*\"알\" + 0.003*\"살\" + 0.003*\"가족\" + 0.003*\"집\" + 0.003*\"를\" + 0.003*\"삶\" + 0.003*\"마을\" + 0.003*\"세상\" + 0.003*\"곳\" + 0.003*\"이야기\" + 0.003*\"마음\" + 0.003*\"일\" + 0.003*\"사건\" + 0.003*\"엄마\" + 0.003*\"모든\" + 0.003*\"아버지\" + 0.003*\"과연\" + 0.003*\"아이\" + 0.003*\"후\" + 0.002*\"서로\" + 0.002*\"전\" + 0.002*\"여자\" + 0.002*\"다시\" + 0.002*\"대한\" + 0.002*\"시간\" + 0.002*\"말\" + 0.002*\"소녀\" + 0.002*\"못\" + 0.002*\"아들\" + 0.002*\"딸\" + 0.002*\"중\" + 0.002*\"아내\" + 0.002*\"세\" + 0.002*\"위\" + 0.002*\"꿈\" + 0.002*\"온\" + 0.002*\"사이\" + 0.002*\"향\" + 0.002*\"다른\" + 0.002*\"세계\" + 0.002*\"더\" + 0.002*\"하나\" + 0.002*\"앞\" + 0.002*\"사실\" + 0.002*\"채\" + 0.002*\"인생\" + 0.002*\"점점\" + 0.002*\"여행\" + 0.002*\"뒤\" + 0.002*\"순간\" + 0.002*\"모두\" + 0.002*\"감독\" + 0.002*\"아빠\" + 0.002*\"가장\" + 0.002*\"눈\" + 0.002*\"마지막\" + 0.002*\"음악\" + 0.002*\"때\" + 0.002*\"우리\" + 0.002*\"발견\" + 0.002*\"나\" + 0.002*\"과\" + 0.002*\"등\" + 0.001*\"생활\" + 0.001*\"학교\" + 0.001*\"비밀\" + 0.001*\"기억\" + 0.001*\"남편\" + 0.001*\"안\" + 0.001*\"둘\" + 0.001*\"죽음\" + 0.001*\"길\" + 0.001*\"한편\" + 0.001*\"위기\" + 0.001*\"소년\" + 0.001*\"돈\" + 0.001*\"사고\" + 0.001*\"통해\" + 0.001*\"모습\" + 0.001*\"도시\" + 0.001*\"전쟁\" + 0.001*\"내\" + 0.001*\"명의\" + 0.001*\"최고\" + 0.001*\"구\" + 0.001*\"결혼\" + 0.001*\"단\" + 0.001*\"결심\" + 0.001*\"일상\" + 0.001*\"이제\" + 0.001*\"이자\" + 0.001*\"지금\" + 0.001*\"운명\" + 0.001*\"끝\" + 0.001*\"과거\" + 0.001*\"때문\" + 0.001*\"경찰\" + 0.001*\"여인\" + 0.001*\"현실\" + 0.001*\"생각\" + 0.001*\"미국\" + 0.001*\"이름\" + 0.001*\"간다\" + 0.001*\"밤\" + 0.001*\"준비\" + 0.001*\"하루\" + 0.001*\"상황\" + 0.001*\"로\" + 0.001*\"이후\" + 0.001*\"충격\" + 0.001*\"만난\" + 0.001*\"첫\" + 0.001*\"감정\" + 0.001*\"누구\" + 0.001*\"처음\" + 0.001*\"그린\" + 0.001*\"연인\" + 0.001*\"청년\" + 0.001*\"명\" + 0.001*\"분\" + 0.001*\"차\" + 0.001*\"살인\" + 0.001*\"관계\" + 0.001*\"번\" + 0.001*\"건\" + 0.001*\"상처\" + 0.001*\"존재\" + 0.001*\"동안\" + 0.001*\"파리\" + 0.001*\"프랑스\" + 0.001*\"인간\" + 0.001*\"희망\"')\n",
      "(2, '0.019*\"그\" + 0.010*\"것\" + 0.009*\"이\" + 0.008*\"자신\" + 0.008*\"그녀\" + 0.008*\"영화제\" + 0.007*\"제\" + 0.007*\"수\" + 0.006*\"위해\" + 0.006*\"사람\" + 0.006*\"시작\" + 0.005*\"국제\" + 0.005*\"날\" + 0.005*\"영화\" + 0.004*\"집\" + 0.004*\"친구\" + 0.004*\"사랑\" + 0.004*\"남자\" + 0.004*\"알\" + 0.003*\"속\" + 0.003*\"이야기\" + 0.003*\"일\" + 0.003*\"두\" + 0.003*\"곳\" + 0.003*\"의\" + 0.003*\"대한\" + 0.003*\"여자\" + 0.003*\"서울\" + 0.003*\"살\" + 0.003*\"사건\" + 0.003*\"중\" + 0.003*\"남편\" + 0.002*\"후\" + 0.002*\"삶\" + 0.002*\"아이\" + 0.002*\"가족\" + 0.002*\"아버지\" + 0.002*\"말\" + 0.002*\"전\" + 0.002*\"다른\" + 0.002*\"은\" + 0.002*\"마을\" + 0.002*\"때\" + 0.002*\"시간\" + 0.002*\"엄마\" + 0.002*\"아들\" + 0.002*\"모든\" + 0.002*\"마음\" + 0.002*\"단편\" + 0.002*\"를\" + 0.002*\"위\" + 0.002*\"사실\" + 0.002*\"다시\" + 0.002*\"세계\" + 0.002*\"못\" + 0.002*\"모습\" + 0.002*\"통해\" + 0.002*\"작품\" + 0.002*\"생각\" + 0.002*\"서로\" + 0.002*\"더\" + 0.002*\"세상\" + 0.002*\"딸\" + 0.002*\"발견\" + 0.002*\"감독\" + 0.002*\"아내\" + 0.002*\"관계\" + 0.002*\"둘\" + 0.002*\"소녀\" + 0.002*\"사이\" + 0.002*\"안\" + 0.002*\"온\" + 0.002*\"하나\" + 0.002*\"우리\" + 0.002*\"때문\" + 0.002*\"앞\" + 0.001*\"애니메이션\" + 0.001*\"돈\" + 0.001*\"나\" + 0.001*\"등\" + 0.001*\"뒤\" + 0.001*\"세\" + 0.001*\"여성\" + 0.001*\"꿈\" + 0.001*\"향\" + 0.001*\"죽음\" + 0.001*\"과연\" + 0.001*\"점점\" + 0.001*\"인간\" + 0.001*\"채\" + 0.001*\"생활\" + 0.001*\"한편\" + 0.001*\"밤\" + 0.001*\"결혼\" + 0.001*\"상황\" + 0.001*\"눈\" + 0.001*\"모두\" + 0.001*\"몸\" + 0.001*\"기억\" + 0.001*\"명의\" + 0.001*\"소년\" + 0.001*\"여행\" + 0.001*\"가장\" + 0.001*\"간다\" + 0.001*\"순간\" + 0.001*\"분\" + 0.001*\"이제\" + 0.001*\"도시\" + 0.001*\"구\" + 0.001*\"비밀\" + 0.001*\"코\" + 0.001*\"학교\" + 0.001*\"과거\" + 0.001*\"가지\" + 0.001*\"이자\" + 0.001*\"경찰\" + 0.001*\"마지막\" + 0.001*\"미국\" + 0.001*\"동안\" + 0.001*\"전쟁\" + 0.001*\"주인공\" + 0.001*\"길\" + 0.001*\"대해\" + 0.001*\"존재\" + 0.001*\"현실\" + 0.001*\"연출\" + 0.001*\"사고\" + 0.001*\"일상\" + 0.001*\"살인\" + 0.001*\"어머니\" + 0.001*\"계속\" + 0.001*\"인생\" + 0.001*\"사회\" + 0.001*\"다큐멘터리\" + 0.001*\"내\" + 0.001*\"또\" + 0.001*\"최고\" + 0.001*\"섹스\" + 0.001*\"부문\" + 0.001*\"끝\" + 0.001*\"바로\" + 0.001*\"동생\" + 0.001*\"하루\" + 0.001*\"위기\" + 0.001*\"계획\" + 0.001*\"한국\" + 0.001*\"정체\" + 0.001*\"이후\" + 0.001*\"의도\" + 0.001*\"로\"')\n"
     ]
    }
   ],
   "source": [
    "# LDA 모델 학습 - 3개 토픽\n",
    "lda_3 = LdaModel(corpus=lda_corp,\n",
    "    num_topics=3,  # 원하는 토픽 개수\n",
    "    id2word=lda_dict,\n",
    "    passes=15,\n",
    "    iterations=200,\n",
    "    alpha=0.01,  # 문서당 소수의 토픽만 포함하도록 설정\n",
    "    eta=0.01,  # 토픽별 단어가 최대한 다르게 나오도록 설정\n",
    "    random_state=42\n",
    ")\n",
    "\n",
    "# 주요 토픽 확인\n",
    "topics_3 = lda_3.print_topics(num_words=150)\n",
    "for topic in topics_3:\n",
    "    print(topic)"
   ]
  },
  {
   "cell_type": "code",
   "execution_count": 45,
   "id": "dfd4fcba",
   "metadata": {},
   "outputs": [],
   "source": [
    "# 예술, 일반 영화를 3개 토픽을 인덱스로 나누어 저장\n",
    "topic_words_3 = {0: [], 1: [], 2:[]}\n",
    "\n",
    "for topic_id, words in lda_3.show_topics(num_topics=3, num_words=150, formatted=False):\n",
    "    topic_words_3[topic_id] = [word for word, _ in words]"
   ]
  },
  {
   "cell_type": "code",
   "execution_count": 46,
   "id": "b055bb42",
   "metadata": {},
   "outputs": [
    {
     "name": "stdout",
     "output_type": "stream",
     "text": [
      "토픽 0에만 있는 단어: ['할머니', '힘', '팀', '경쟁', '갑자기', '부부', '적']\n",
      "토픽 1에만 있는 단어: ['지금', '첫', '프랑스', '청년', '단', '충격', '번', '음악', '결심', '파리', '만난', '준비', '처음', '이름', '감정', '연인', '상처', '운명', '그린', '건', '희망']\n",
      "토픽 2에만 있는 단어: ['의도', '부문', '연출', '주인공', '계속', '바로', '가지']\n"
     ]
    }
   ],
   "source": [
    "# 각 토픽의 단어 집합을 생성\n",
    "topic_0_words = set(topic_words_3[0])\n",
    "topic_1_words = set(topic_words_3[1])\n",
    "topic_2_words = set(topic_words_3[2])\n",
    "\n",
    "# 교집합을 찾기 (두 개 이상의 토픽에서 등장하는 단어들)\n",
    "common_words = (topic_0_words & topic_1_words) | (topic_1_words & topic_2_words) | (topic_2_words & topic_0_words)\n",
    "\n",
    "# 각 토픽에서만 등장하는 단어 추출\n",
    "unique_topic_0 = topic_0_words - common_words\n",
    "unique_topic_1 = topic_1_words - common_words\n",
    "unique_topic_2 = topic_2_words - common_words\n",
    "\n",
    "print(\"토픽 0에만 있는 단어:\", list(unique_topic_0))\n",
    "print(\"토픽 1에만 있는 단어:\", list(unique_topic_1))\n",
    "print(\"토픽 2에만 있는 단어:\", list(unique_topic_2))"
   ]
  },
  {
   "cell_type": "markdown",
   "id": "a776cdfd",
   "metadata": {},
   "source": [
    "#### 결론\n",
    "- 예술영화 시놉시스에서 등장하는 단어들과 일반영화 시놉시스에서 등장하는 단어들을 비교했을 때 뚜렷한 비교는 어려움\n",
    "- 토픽을 3개로 늘렸을 때에도 확인하기 어려움"
   ]
  },
  {
   "cell_type": "markdown",
   "id": "aee1250c",
   "metadata": {},
   "source": [
    "### 멜로로맨스, 액션, 공포 3개 시놉시스에서 등장하는 단어로 WEAT 구하기"
   ]
  },
  {
   "cell_type": "code",
   "execution_count": 47,
   "id": "c330655a",
   "metadata": {},
   "outputs": [
    {
     "name": "stdout",
     "output_type": "stream",
     "text": [
      "synopsis_romance.txt 파일을 읽고 있습니다.\n",
      "synopsis_action.txt 파일을 읽고 있습니다.\n",
      "synopsis_horror.txt 파일을 읽고 있습니다.\n"
     ]
    }
   ],
   "source": [
    "# 토크나이징 후 리스트형태로 저장\n",
    "romance_list = read_token_list('synopsis_romance.txt')\n",
    "action_list = read_token_list('synopsis_action.txt')\n",
    "horror_list = read_token_list('synopsis_horror.txt')\n",
    "\n",
    "# 각 시놉시스별 영화 대표단어\n",
    "romance_list = [word for word in romance_list if word in model.wv]\n",
    "action_list = [word for word in action_list if word in model.wv]\n",
    "horror_list = [word for word in horror_list if word in model.wv]"
   ]
  },
  {
   "cell_type": "code",
   "execution_count": 53,
   "id": "d63f0dac",
   "metadata": {},
   "outputs": [],
   "source": [
    "# 토픽별 단어 결합\n",
    "lda_docs_3 = [romance_list, action_list, horror_list]"
   ]
  },
  {
   "cell_type": "code",
   "execution_count": 54,
   "id": "cef25766",
   "metadata": {},
   "outputs": [],
   "source": [
    "# 단어사전 생성\n",
    "lda_dict_3 = Dictionary(lda_docs_3)\n",
    "lda_corp_3 = [lda_dict.doc2bow(doc) for doc in lda_docs_3]"
   ]
  },
  {
   "cell_type": "code",
   "execution_count": 55,
   "id": "b9f638b5",
   "metadata": {},
   "outputs": [
    {
     "name": "stdout",
     "output_type": "stream",
     "text": [
      "(0, '0.022*\"그\" + 0.011*\"것\" + 0.010*\"수\" + 0.009*\"이\" + 0.008*\"시작\" + 0.008*\"위해\" + 0.008*\"사람\" + 0.007*\"자신\" + 0.007*\"집\" + 0.007*\"친구\" + 0.007*\"그녀\" + 0.007*\"알\" + 0.006*\"날\" + 0.006*\"사건\" + 0.006*\"곳\" + 0.005*\"공포\" + 0.005*\"발견\" + 0.004*\"속\" + 0.004*\"죽음\" + 0.004*\"마을\" + 0.004*\"중\" + 0.003*\"후\" + 0.003*\"일\" + 0.003*\"남자\" + 0.003*\"가족\" + 0.003*\"영화\" + 0.003*\"밤\" + 0.003*\"의\" + 0.003*\"하나\" + 0.003*\"사실\" + 0.003*\"말\" + 0.003*\"소녀\" + 0.003*\"살인\" + 0.003*\"전\" + 0.003*\"아이\" + 0.003*\"좀비\" + 0.002*\"정체\" + 0.002*\"비밀\" + 0.002*\"이야기\" + 0.002*\"안\" + 0.002*\"살\" + 0.002*\"딸\" + 0.002*\"영화제\" + 0.002*\"점점\" + 0.002*\"살해\" + 0.002*\"명의\" + 0.002*\"모든\" + 0.002*\"온\" + 0.002*\"채\" + 0.002*\"시간\" + 0.002*\"때\" + 0.002*\"제\" + 0.002*\"여자\" + 0.002*\"이후\" + 0.002*\"두\" + 0.002*\"다시\" + 0.002*\"은\" + 0.002*\"저주\" + 0.002*\"다른\" + 0.002*\"모두\" + 0.002*\"사고\" + 0.002*\"피\" + 0.002*\"아버지\" + 0.002*\"엄마\" + 0.002*\"향\" + 0.002*\"의문\" + 0.002*\"대한\" + 0.002*\"명\" + 0.002*\"악령\" + 0.002*\"계속\" + 0.002*\"못\" + 0.002*\"더\" + 0.002*\"일행\" + 0.002*\"존재\" + 0.002*\"과연\" + 0.002*\"위\" + 0.002*\"둘\" + 0.002*\"를\" + 0.002*\"공격\" + 0.002*\"모습\" + 0.002*\"아들\" + 0.002*\"파티\" + 0.002*\"발생\" + 0.002*\"한편\" + 0.002*\"시체\" + 0.002*\"병원\" + 0.002*\"사랑\" + 0.002*\"아내\" + 0.002*\"앞\" + 0.002*\"분\" + 0.002*\"실종\" + 0.002*\"뒤\" + 0.002*\"악몽\" + 0.002*\"여행\" + 0.001*\"간다\" + 0.001*\"눈\" + 0.001*\"숲\" + 0.001*\"인간\" + 0.001*\"과거\" + 0.001*\"소리\" + 0.001*\"팀\" + 0.001*\"국제\" + 0.001*\"학교\" + 0.001*\"충격\" + 0.001*\"저택\" + 0.001*\"게임\" + 0.001*\"사이\" + 0.001*\"생각\" + 0.001*\"상황\" + 0.001*\"로부터\" + 0.001*\"악마\" + 0.001*\"탈출\" + 0.001*\"도시\" + 0.001*\"유령\" + 0.001*\"등\" + 0.001*\"영혼\" + 0.001*\"이사\" + 0.001*\"듯\" + 0.001*\"동생\" + 0.001*\"귀신\" + 0.001*\"이제\" + 0.001*\"로\" + 0.001*\"부부\" + 0.001*\"순간\" + 0.001*\"갑자기\" + 0.001*\"괴물\" + 0.001*\"목숨\" + 0.001*\"자살\" + 0.001*\"도착\" + 0.001*\"세\" + 0.001*\"가지\" + 0.001*\"학생\" + 0.001*\"통해\" + 0.001*\"차\" + 0.001*\"음\" + 0.001*\"현상\" + 0.001*\"무엇\" + 0.001*\"바이러스\" + 0.001*\"마지막\" + 0.001*\"사라\" + 0.001*\"몸\" + 0.001*\"구\" + 0.001*\"부천\" + 0.001*\"판타스틱\" + 0.001*\"길\" + 0.001*\"기운\" + 0.001*\"위협\" + 0.001*\"기억\" + 0.001*\"도움\" + 0.001*\"치료\"')\n",
      "(1, '0.007*\"그\" + 0.004*\"것\" + 0.004*\"그녀\" + 0.004*\"자신\" + 0.003*\"위해\" + 0.003*\"사랑\" + 0.003*\"이\" + 0.003*\"시작\" + 0.003*\"수\" + 0.002*\"날\" + 0.002*\"사람\" + 0.002*\"두\" + 0.002*\"집\" + 0.002*\"알\" + 0.002*\"남편\" + 0.002*\"를\" + 0.001*\"남자\" + 0.001*\"친구\" + 0.001*\"후\" + 0.001*\"의\" + 0.001*\"중\" + 0.001*\"아내\" + 0.001*\"곳\" + 0.001*\"사건\" + 0.001*\"은\" + 0.001*\"여자\" + 0.001*\"아버지\" + 0.001*\"속\" + 0.001*\"마음\" + 0.001*\"모든\" + 0.001*\"조직\" + 0.001*\"다른\" + 0.001*\"전\" + 0.001*\"영화\" + 0.001*\"일\" + 0.001*\"온\" + 0.001*\"점점\" + 0.001*\"못\" + 0.001*\"경찰\" + 0.001*\"말\" + 0.001*\"둘\" + 0.001*\"살\" + 0.001*\"딸\" + 0.001*\"때\" + 0.001*\"채\" + 0.001*\"서로\" + 0.001*\"위\" + 0.001*\"결혼\" + 0.001*\"시간\" + 0.001*\"구\" + 0.001*\"사실\" + 0.001*\"발견\" + 0.001*\"안\" + 0.001*\"가족\" + 0.001*\"아들\" + 0.001*\"제\" + 0.001*\"뒤\" + 0.001*\"다시\" + 0.001*\"죽음\" + 0.001*\"밤\" + 0.001*\"몸\" + 0.001*\"납치\" + 0.001*\"관계\" + 0.001*\"살인\" + 0.001*\"더\" + 0.001*\"향\" + 0.001*\"때문\" + 0.001*\"비밀\" + 0.001*\"엄마\" + 0.001*\"대한\" + 0.001*\"삶\" + 0.001*\"영화제\" + 0.001*\"생각\" + 0.001*\"돈\" + 0.001*\"모두\" + 0.001*\"전쟁\" + 0.001*\"과거\" + 0.001*\"상황\" + 0.001*\"최고\" + 0.001*\"사고\" + 0.001*\"이야기\" + 0.001*\"하나\" + 0.001*\"한편\" + 0.001*\"앞\" + 0.001*\"섹스\" + 0.001*\"아이\" + 0.001*\"명의\" + 0.001*\"분\" + 0.001*\"세계\" + 0.001*\"피\" + 0.001*\"코\" + 0.001*\"회사\" + 0.001*\"임무\" + 0.001*\"생활\" + 0.001*\"계획\" + 0.001*\"등\" + 0.001*\"정체\" + 0.001*\"사이\" + 0.001*\"간다\" + 0.001*\"과연\" + 0.001*\"마지막\" + 0.001*\"소녀\" + 0.001*\"세\" + 0.001*\"미국\" + 0.001*\"이제\" + 0.001*\"내\" + 0.000*\"기억\" + 0.000*\"운명\" + 0.000*\"모습\" + 0.000*\"팀\" + 0.000*\"목숨\" + 0.000*\"동료\" + 0.000*\"살해\" + 0.000*\"애인\" + 0.000*\"마을\" + 0.000*\"공격\" + 0.000*\"이자\" + 0.000*\"순간\" + 0.000*\"부부\" + 0.000*\"이후\" + 0.000*\"도움\" + 0.000*\"갑자기\" + 0.000*\"바로\" + 0.000*\"마약\" + 0.000*\"계속\" + 0.000*\"과\" + 0.000*\"위협\" + 0.000*\"명\" + 0.000*\"또\" + 0.000*\"발생\" + 0.000*\"요원\" + 0.000*\"눈\" + 0.000*\"제안\" + 0.000*\"카\" + 0.000*\"탈출\" + 0.000*\"인간\" + 0.000*\"나\" + 0.000*\"위기\" + 0.000*\"연인\" + 0.000*\"여인\" + 0.000*\"여행\" + 0.000*\"연애\" + 0.000*\"손\" + 0.000*\"가지\" + 0.000*\"동안\" + 0.000*\"동생\" + 0.000*\"범인\" + 0.000*\"통해\" + 0.000*\"간\" + 0.000*\"학교\"')\n",
      "(2, '0.020*\"그\" + 0.011*\"그녀\" + 0.009*\"자신\" + 0.009*\"것\" + 0.008*\"위해\" + 0.007*\"시작\" + 0.007*\"이\" + 0.007*\"수\" + 0.007*\"사랑\" + 0.006*\"날\" + 0.005*\"사람\" + 0.005*\"알\" + 0.005*\"남자\" + 0.004*\"집\" + 0.004*\"친구\" + 0.004*\"남편\" + 0.004*\"의\" + 0.003*\"두\" + 0.003*\"여자\" + 0.003*\"후\" + 0.003*\"중\" + 0.003*\"은\" + 0.003*\"일\" + 0.003*\"사건\" + 0.003*\"마음\" + 0.003*\"를\" + 0.003*\"조직\" + 0.003*\"곳\" + 0.003*\"아내\" + 0.003*\"사실\" + 0.002*\"아버지\" + 0.002*\"서로\" + 0.002*\"전\" + 0.002*\"속\" + 0.002*\"아들\" + 0.002*\"다시\" + 0.002*\"모든\" + 0.002*\"영화\" + 0.002*\"못\" + 0.002*\"딸\" + 0.002*\"경찰\" + 0.002*\"둘\" + 0.002*\"위\" + 0.002*\"살\" + 0.002*\"결혼\" + 0.002*\"다른\" + 0.002*\"때\" + 0.002*\"시간\" + 0.002*\"한편\" + 0.002*\"돈\" + 0.002*\"점점\" + 0.002*\"구\" + 0.002*\"말\" + 0.002*\"섹스\" + 0.002*\"뒤\" + 0.002*\"온\" + 0.002*\"사이\" + 0.002*\"가족\" + 0.002*\"관계\" + 0.002*\"향\" + 0.002*\"과연\" + 0.002*\"더\" + 0.002*\"비밀\" + 0.002*\"앞\" + 0.002*\"채\" + 0.002*\"전쟁\" + 0.002*\"생활\" + 0.002*\"분\" + 0.002*\"몸\" + 0.001*\"때문\" + 0.001*\"안\" + 0.001*\"대한\" + 0.001*\"목숨\" + 0.001*\"세상\" + 0.001*\"세계\" + 0.001*\"죽음\" + 0.001*\"밤\" + 0.001*\"발견\" + 0.001*\"엄마\" + 0.001*\"복수\" + 0.001*\"마을\" + 0.001*\"눈\" + 0.001*\"모습\" + 0.001*\"코\" + 0.001*\"생각\" + 0.001*\"최고\" + 0.001*\"상황\" + 0.001*\"삶\" + 0.001*\"이야기\" + 0.001*\"이자\" + 0.001*\"부부\" + 0.001*\"모두\" + 0.001*\"이제\" + 0.001*\"세\" + 0.001*\"하나\" + 0.001*\"살인\" + 0.001*\"과거\" + 0.001*\"회사\" + 0.001*\"과\" + 0.001*\"계획\" + 0.001*\"운명\" + 0.001*\"동료\" + 0.001*\"순간\" + 0.001*\"임무\" + 0.001*\"제\" + 0.001*\"납치\" + 0.001*\"팀\" + 0.001*\"유혹\" + 0.001*\"제안\" + 0.001*\"미국\" + 0.001*\"마지막\" + 0.001*\"위기\" + 0.001*\"건\" + 0.001*\"동생\" + 0.001*\"요원\" + 0.001*\"아이\" + 0.001*\"영화제\" + 0.001*\"명의\" + 0.001*\"정체\" + 0.001*\"사고\" + 0.001*\"적\" + 0.001*\"애인\" + 0.001*\"마약\" + 0.001*\"범죄\" + 0.001*\"등\" + 0.001*\"끝\" + 0.001*\"살해\" + 0.001*\"바로\" + 0.001*\"만난\" + 0.001*\"인간\" + 0.001*\"가장\" + 0.001*\"이후\" + 0.001*\"간다\" + 0.001*\"피\" + 0.001*\"단\" + 0.001*\"또\" + 0.001*\"계속\" + 0.001*\"기억\" + 0.001*\"음\" + 0.001*\"도움\" + 0.001*\"여행\" + 0.001*\"차\" + 0.001*\"꿈\" + 0.001*\"나\" + 0.001*\"위협\" + 0.001*\"감정\" + 0.001*\"소녀\" + 0.001*\"로\" + 0.001*\"존\" + 0.001*\"손\"')\n"
     ]
    }
   ],
   "source": [
    "# LDA 모델 학습 - 3개 토픽\n",
    "lda_3 = LdaModel(corpus=lda_corp_3,\n",
    "    num_topics=3,  # 원하는 토픽 개수\n",
    "    id2word=lda_dict,\n",
    "    passes=15,\n",
    "    iterations=200,\n",
    "    alpha=0.01,  # 문서당 소수의 토픽만 포함하도록 설정\n",
    "    eta=0.01,  # 토픽별 단어가 최대한 다르게 나오도록 설정\n",
    "    random_state=42\n",
    ")\n",
    "\n",
    "# 주요 토픽 확인\n",
    "topics_3 = lda_3.print_topics(num_words=150)\n",
    "for topic in topics_3:\n",
    "    print(topic)"
   ]
  },
  {
   "cell_type": "code",
   "execution_count": 56,
   "id": "e0b89359",
   "metadata": {},
   "outputs": [],
   "source": [
    "# 영화를 3개 토픽을 인덱스로 나누어 저장\n",
    "topic_words_3 = {0: [], 1: [], 2:[]}\n",
    "\n",
    "for topic_id, words in lda_3.show_topics(num_topics=3, num_words=150, formatted=False):\n",
    "    topic_words_3[topic_id] = [word for word, _ in words]"
   ]
  },
  {
   "cell_type": "code",
   "execution_count": 58,
   "id": "d5fc3824",
   "metadata": {},
   "outputs": [
    {
     "name": "stdout",
     "output_type": "stream",
     "text": [
      "토픽1에만 있는 단어: ['현상', '유령', '사라', '소리', '악몽', '저주', '의문', '도시', '숲', '실종', '일행', '공포', '영혼', '병원', '이사', '저택', '충격', '길', '국제', '악령', '존재', '기운', '바이러스', '듯', '도착', '치료', '악마', '좀비', '무엇', '괴물', '로부터', '부천', '자살', '시체', '귀신', '게임', '학생', '판타스틱', '파티']\n",
      "토픽2에만 있는 단어: ['연인', '범인', '내', '연애', '동안', '간', '여인', '카']\n",
      "토픽3에만 있는 단어: ['감정', '꿈', '유혹', '만난', '단', '복수', '존', '끝', '세상', '범죄', '적', '건', '가장']\n"
     ]
    }
   ],
   "source": [
    "# 각 토픽의 단어 집합을 생성\n",
    "topic_0_words = set(topic_words_3[0])\n",
    "topic_1_words = set(topic_words_3[1])\n",
    "topic_2_words = set(topic_words_3[2])\n",
    "\n",
    "# 교집합을 찾기 (두 개 이상의 토픽에서 등장하는 단어들)\n",
    "common_words = (topic_0_words & topic_1_words) | (topic_1_words & topic_2_words) | (topic_2_words & topic_0_words)\n",
    "\n",
    "# 각 토픽에서만 등장하는 단어 추출\n",
    "unique_topic_0 = topic_0_words - common_words\n",
    "unique_topic_1 = topic_1_words - common_words\n",
    "unique_topic_2 = topic_2_words - common_words\n",
    "\n",
    "print(\"토픽1에만 있는 단어:\", list(unique_topic_0))\n",
    "print(\"토픽2에만 있는 단어:\", list(unique_topic_1))\n",
    "print(\"토픽3에만 있는 단어:\", list(unique_topic_2))"
   ]
  },
  {
   "cell_type": "code",
   "execution_count": 62,
   "id": "af18c9ed",
   "metadata": {},
   "outputs": [],
   "source": [
    "A = get_word_vectors(['공포'], model)\n",
    "B = get_word_vectors(['로맨스'], model)\n",
    "C = get_word_vectors(['액션'], model)\n",
    "\n",
    "X = get_word_vectors(list(topic_0_words), model) \n",
    "Y = get_word_vectors(list(topic_1_words), model)  \n",
    "Z = get_word_vectors(list(topic_2_words), model)\n",
    "\n",
    "weat_01 = weat_score(X, Y, A, B)  \n",
    "weat_12 = weat_score(Y, Z, B, C)  \n",
    "weat_20 = weat_score(Z, X, C, A)"
   ]
  },
  {
   "cell_type": "code",
   "execution_count": 63,
   "id": "7010f626",
   "metadata": {},
   "outputs": [
    {
     "name": "stdout",
     "output_type": "stream",
     "text": [
      "WEAT Score (공포 vs 로맨스 영화): 0.2460000067949295\n",
      "WEAT Score (로맨스 vs 액션 영화): 0.006000000052154064\n",
      "WEAT Score (액션 vs 공포 영화): 0.23499999940395355\n"
     ]
    }
   ],
   "source": [
    "print(f\"WEAT Score (공포 vs 로맨스 영화): {round(weat_01, 3)}\")\n",
    "print(f\"WEAT Score (로맨스 vs 액션 영화): {round(weat_12, 3)}\")\n",
    "print(f\"WEAT Score (액션 vs 공포 영화): {round(weat_20, 3)}\")"
   ]
  },
  {
   "cell_type": "code",
   "execution_count": 64,
   "id": "7eea5e44",
   "metadata": {},
   "outputs": [],
   "source": [
    "# 단어 임베딩 평균\n",
    "s_X = s(X, A, B)\n",
    "s_Y = s(Y, B, C)\n",
    "s_Z = s(Z, C, A)"
   ]
  },
  {
   "cell_type": "code",
   "execution_count": 65,
   "id": "68982578",
   "metadata": {},
   "outputs": [
    {
     "data": {
      "image/png": "[encoded data removed]",
      "text/plain": [
       "<Figure size 432x288 with 1 Axes>"
      ]
     },
     "metadata": {
      "needs_background": "light"
     },
     "output_type": "display_data"
    }
   ],
   "source": [
    "plt.hist(s_X, bins=20, alpha=0.5, label='horror words')\n",
    "plt.hist(s_Y, bins=20, alpha=0.5, label='romance words')\n",
    "plt.hist(s_Z, bins=20, alpha=0.5, label='action words')\n",
    "plt.legend()\n",
    "plt.xlabel('s-value')\n",
    "plt.ylabel('freq')\n",
    "plt.title('\"horror\" vs \"romance\" vs \"action\" s-value distribution')\n",
    "plt.show()"
   ]
  },
  {
   "cell_type": "code",
   "execution_count": 67,
   "id": "7fef1445",
   "metadata": {},
   "outputs": [],
   "source": [
    "import seaborn as sns"
   ]
  },
  {
   "cell_type": "code",
   "execution_count": 69,
   "id": "fbab36de",
   "metadata": {},
   "outputs": [
    {
     "data": {
      "image/png": "[encoded data removed]",
      "text/plain": [
       "<Figure size 432x360 with 2 Axes>"
      ]
     },
     "metadata": {
      "needs_background": "light"
     },
     "output_type": "display_data"
    }
   ],
   "source": [
    "# WEAT 스코어 계산\n",
    "weat_scores = np.array([\n",
    "    [0, weat_01, weat_20],  # 공포 vs 로맨스, 공포 vs 액션\n",
    "    [weat_01, 0, weat_12],  # 로맨스 vs 공포, 로맨스 vs 액션\n",
    "    [weat_20, weat_12, 0]   # 액션 vs 공포, 액션 vs 로맨스\n",
    "])\n",
    "\n",
    "# 토픽 라벨 지정\n",
    "labels = ['horrow', 'romance', 'action']\n",
    "\n",
    "# 히트맵 생성\n",
    "plt.figure(figsize=(6, 5))\n",
    "sns.heatmap(weat_scores, annot=True, fmt=\".3f\", cmap=\"coolwarm\", xticklabels=labels, yticklabels=labels)\n",
    "\n",
    "# 그래프 설정\n",
    "plt.title(\"WEAT Score Heatmap\")\n",
    "plt.xlabel(\"Target Category\")\n",
    "plt.ylabel(\"Target Category\")\n",
    "plt.show()"
   ]
  },
  {
   "cell_type": "markdown",
   "id": "744b455d",
   "metadata": {},
   "source": [
    "#### 결론\n",
    "- 타겟과 속성을 바꾸니 어느 정도의 관계를 보였음\n",
    "- 공포는 로맨스, 액션 모두와 어느 정도의 편향을 보였지만 로맨스와 액션은 서로 큰 편향을 보이지 않음"
   ]
  }
 ],
 "metadata": {
  "kernelspec": {
   "display_name": "Python 3 (ipykernel)",
   "language": "python",
   "name": "python3"
  },
  "language_info": {
   "codemirror_mode": {
    "name": "ipython",
    "version": 3
   },
   "file_extension": ".py",
   "mimetype": "text/x-python",
   "name": "python",
   "nbconvert_exporter": "python",
   "pygments_lexer": "ipython3",
   "version": "3.9.7"
  }
 },
 "nbformat": 4,
 "nbformat_minor": 5
}
