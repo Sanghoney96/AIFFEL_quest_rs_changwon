{
 "cells": [
  {
   "cell_type": "code",
   "execution_count": 1,
   "id": "a4a4caf8",
   "metadata": {},
   "outputs": [],
   "source": [
    "import pandas as pd\n",
    "import numpy as np\n",
    "import tensorflow as tf\n",
    "import os "
   ]
  },
  {
   "cell_type": "code",
   "execution_count": 2,
   "id": "fb252b34",
   "metadata": {},
   "outputs": [],
   "source": [
    "from collections import Counter\n",
    "from konlpy.tag import Mecab"
   ]
  },
  {
   "cell_type": "code",
   "execution_count": 3,
   "id": "69750ae3",
   "metadata": {},
   "outputs": [],
   "source": [
    "train_data = pd.read_table('data/ratings_train.txt')\n",
    "test_data = pd.read_table('data/ratings_test.txt')"
   ]
  },
  {
   "cell_type": "code",
   "execution_count": 4,
   "id": "6903f025",
   "metadata": {
    "scrolled": true
   },
   "outputs": [
    {
     "data": {
      "text/html": [
       "<div>\n",
       "<style scoped>\n",
       "    .dataframe tbody tr th:only-of-type {\n",
       "        vertical-align: middle;\n",
       "    }\n",
       "\n",
       "    .dataframe tbody tr th {\n",
       "        vertical-align: top;\n",
       "    }\n",
       "\n",
       "    .dataframe thead th {\n",
       "        text-align: right;\n",
       "    }\n",
       "</style>\n",
       "<table border=\"1\" class=\"dataframe\">\n",
       "  <thead>\n",
       "    <tr style=\"text-align: right;\">\n",
       "      <th></th>\n",
       "      <th>id</th>\n",
       "      <th>document</th>\n",
       "      <th>label</th>\n",
       "    </tr>\n",
       "  </thead>\n",
       "  <tbody>\n",
       "    <tr>\n",
       "      <th>0</th>\n",
       "      <td>9976970</td>\n",
       "      <td>아 더빙.. 진짜 짜증나네요 목소리</td>\n",
       "      <td>0</td>\n",
       "    </tr>\n",
       "    <tr>\n",
       "      <th>1</th>\n",
       "      <td>3819312</td>\n",
       "      <td>흠...포스터보고 초딩영화줄....오버연기조차 가볍지 않구나</td>\n",
       "      <td>1</td>\n",
       "    </tr>\n",
       "    <tr>\n",
       "      <th>2</th>\n",
       "      <td>10265843</td>\n",
       "      <td>너무재밓었다그래서보는것을추천한다</td>\n",
       "      <td>0</td>\n",
       "    </tr>\n",
       "    <tr>\n",
       "      <th>3</th>\n",
       "      <td>9045019</td>\n",
       "      <td>교도소 이야기구먼 ..솔직히 재미는 없다..평점 조정</td>\n",
       "      <td>0</td>\n",
       "    </tr>\n",
       "    <tr>\n",
       "      <th>4</th>\n",
       "      <td>6483659</td>\n",
       "      <td>사이몬페그의 익살스런 연기가 돋보였던 영화!스파이더맨에서 늙어보이기만 했던 커스틴 ...</td>\n",
       "      <td>1</td>\n",
       "    </tr>\n",
       "  </tbody>\n",
       "</table>\n",
       "</div>"
      ],
      "text/plain": [
       "         id                                           document  label\n",
       "0   9976970                                아 더빙.. 진짜 짜증나네요 목소리      0\n",
       "1   3819312                  흠...포스터보고 초딩영화줄....오버연기조차 가볍지 않구나      1\n",
       "2  10265843                                  너무재밓었다그래서보는것을추천한다      0\n",
       "3   9045019                      교도소 이야기구먼 ..솔직히 재미는 없다..평점 조정      0\n",
       "4   6483659  사이몬페그의 익살스런 연기가 돋보였던 영화!스파이더맨에서 늙어보이기만 했던 커스틴 ...      1"
      ]
     },
     "execution_count": 4,
     "metadata": {},
     "output_type": "execute_result"
    }
   ],
   "source": [
    "train_data.head()"
   ]
  },
  {
   "cell_type": "code",
   "execution_count": 5,
   "id": "254c3f96",
   "metadata": {},
   "outputs": [],
   "source": [
    "tokenizer = Mecab()\n",
    "stopwords = ['의','가','이','은','들','는','좀','잘','걍','과','도','를','으로','자','에','와','한','하다']\n",
    "num_words = 20000"
   ]
  },
  {
   "cell_type": "code",
   "execution_count": 6,
   "id": "27c27801",
   "metadata": {},
   "outputs": [],
   "source": [
    "# 토큰화 및 불용어 제거\n",
    "def preprocess_text(text):\n",
    "\n",
    "    tokens = tokenizer.morphs(text)  # Mecab 토큰화\n",
    "    tokens = [word for word in tokens if word not in stopwords]  # 불용어 제거\n",
    "    return tokens\n",
    "\n",
    "# 단어 사전(word_to_index) 생성\n",
    "def build_vocab(tokenized_texts, num_words):\n",
    "\n",
    "    word_counts = Counter([word for tokens in tokenized_texts for word in tokens])  # 모든 단어의 빈도수 계산\n",
    "    most_common_words = word_counts.most_common(num_words - 4)  # 가장 많이 등장하는 단어 추출 (-2는 PAD/OOV 고려)\n",
    "    \n",
    "    word_to_index = {word: idx + 4 for idx, (word, _) in enumerate(most_common_words)}  # 인덱스 부여 (2부터 시작)\n",
    "    word_to_index[\"<PAD>\"] = 0\n",
    "    word_to_index[\"<BOS>\"] = 1\n",
    "    word_to_index[\"<UNK>\"] = 2  # unknown\n",
    "    word_to_index[\"<UNUSED>\"] = 3\n",
    "    return word_to_index\n",
    "\n",
    "# 텍스트를 인덱스 시퀀스로 변환\n",
    "def text_to_sequence(tokenized_texts, word_to_index):\n",
    "\n",
    "    return [[word_to_index.get(word, 1) for word in tokens] for tokens in tokenized_texts]  # OOV 처리를 위해 get 사용\n",
    "\n",
    "def load_data(train_data, test_data, num_words=num_words):\n",
    "\n",
    "    # 1. 중복 데이터 제거\n",
    "    train_data = train_data.drop_duplicates(subset=['document'])\n",
    "    test_data = test_data.drop_duplicates(subset=['document'])\n",
    "\n",
    "    # 2. NaN(결측치) 제거\n",
    "    train_data = train_data.dropna(subset=['document'])\n",
    "    test_data = test_data.dropna(subset=['document'])\n",
    "\n",
    "    # 3. 토큰화 및 불용어 제거\n",
    "    train_texts = [preprocess_text(text) for text in train_data['document']]\n",
    "    test_texts = [preprocess_text(text) for text in test_data['document']]\n",
    "\n",
    "    # 4. 단어 사전 생성\n",
    "    word_to_index = build_vocab(train_texts, num_words)\n",
    "\n",
    "    # 5. 텍스트를 인덱스 시퀀스로 변환\n",
    "    X_train = text_to_sequence(train_texts, word_to_index)\n",
    "    X_test = text_to_sequence(test_texts, word_to_index)\n",
    "\n",
    "    # 6. 레이블 데이터 가져오기\n",
    "    y_train = np.array(train_data['label'])\n",
    "    y_test = np.array(test_data['label'])\n",
    "\n",
    "    return X_train, y_train, X_test, y_test, word_to_index\n",
    "    \n",
    "X_train, y_train, X_test, y_test, word_to_index = load_data(train_data, test_data)"
   ]
  },
  {
   "cell_type": "code",
   "execution_count": 7,
   "id": "3fbfc56b",
   "metadata": {},
   "outputs": [],
   "source": [
    "import matplotlib.pyplot as plt"
   ]
  },
  {
   "cell_type": "code",
   "execution_count": 8,
   "id": "b1bcfbe4",
   "metadata": {
    "scrolled": true
   },
   "outputs": [
    {
     "name": "stdout",
     "output_type": "stream",
     "text": [
      "최소 문장 길이: 0\n",
      "최대 문장 길이: 116\n",
      "평균 문장 길이: 15.97\n",
      "상위 90% 문장의 최대 토큰 수: 33\n"
     ]
    },
    {
     "name": "stderr",
     "output_type": "stream",
     "text": [
      "/opt/conda/lib/python3.9/site-packages/matplotlib/backends/backend_agg.py:240: RuntimeWarning: Glyph 47928 missing from current font.\n",
      "  font.set_text(s, 0.0, flags=flags)\n",
      "/opt/conda/lib/python3.9/site-packages/matplotlib/backends/backend_agg.py:240: RuntimeWarning: Glyph 51109 missing from current font.\n",
      "  font.set_text(s, 0.0, flags=flags)\n",
      "/opt/conda/lib/python3.9/site-packages/matplotlib/backends/backend_agg.py:240: RuntimeWarning: Glyph 44600 missing from current font.\n",
      "  font.set_text(s, 0.0, flags=flags)\n",
      "/opt/conda/lib/python3.9/site-packages/matplotlib/backends/backend_agg.py:240: RuntimeWarning: Glyph 51060 missing from current font.\n",
      "  font.set_text(s, 0.0, flags=flags)\n",
      "/opt/conda/lib/python3.9/site-packages/matplotlib/backends/backend_agg.py:240: RuntimeWarning: Glyph 53664 missing from current font.\n",
      "  font.set_text(s, 0.0, flags=flags)\n",
      "/opt/conda/lib/python3.9/site-packages/matplotlib/backends/backend_agg.py:240: RuntimeWarning: Glyph 53360 missing from current font.\n",
      "  font.set_text(s, 0.0, flags=flags)\n",
      "/opt/conda/lib/python3.9/site-packages/matplotlib/backends/backend_agg.py:240: RuntimeWarning: Glyph 49688 missing from current font.\n",
      "  font.set_text(s, 0.0, flags=flags)\n",
      "/opt/conda/lib/python3.9/site-packages/matplotlib/backends/backend_agg.py:240: RuntimeWarning: Glyph 48516 missing from current font.\n",
      "  font.set_text(s, 0.0, flags=flags)\n",
      "/opt/conda/lib/python3.9/site-packages/matplotlib/backends/backend_agg.py:240: RuntimeWarning: Glyph 54252 missing from current font.\n",
      "  font.set_text(s, 0.0, flags=flags)\n",
      "/opt/conda/lib/python3.9/site-packages/matplotlib/backends/backend_agg.py:240: RuntimeWarning: Glyph 44060 missing from current font.\n",
      "  font.set_text(s, 0.0, flags=flags)\n",
      "/opt/conda/lib/python3.9/site-packages/matplotlib/backends/backend_agg.py:203: RuntimeWarning: Glyph 47928 missing from current font.\n",
      "  font.set_text(s, 0, flags=flags)\n",
      "/opt/conda/lib/python3.9/site-packages/matplotlib/backends/backend_agg.py:203: RuntimeWarning: Glyph 51109 missing from current font.\n",
      "  font.set_text(s, 0, flags=flags)\n",
      "/opt/conda/lib/python3.9/site-packages/matplotlib/backends/backend_agg.py:203: RuntimeWarning: Glyph 44600 missing from current font.\n",
      "  font.set_text(s, 0, flags=flags)\n",
      "/opt/conda/lib/python3.9/site-packages/matplotlib/backends/backend_agg.py:203: RuntimeWarning: Glyph 51060 missing from current font.\n",
      "  font.set_text(s, 0, flags=flags)\n",
      "/opt/conda/lib/python3.9/site-packages/matplotlib/backends/backend_agg.py:203: RuntimeWarning: Glyph 53664 missing from current font.\n",
      "  font.set_text(s, 0, flags=flags)\n",
      "/opt/conda/lib/python3.9/site-packages/matplotlib/backends/backend_agg.py:203: RuntimeWarning: Glyph 53360 missing from current font.\n",
      "  font.set_text(s, 0, flags=flags)\n",
      "/opt/conda/lib/python3.9/site-packages/matplotlib/backends/backend_agg.py:203: RuntimeWarning: Glyph 44060 missing from current font.\n",
      "  font.set_text(s, 0, flags=flags)\n",
      "/opt/conda/lib/python3.9/site-packages/matplotlib/backends/backend_agg.py:203: RuntimeWarning: Glyph 49688 missing from current font.\n",
      "  font.set_text(s, 0, flags=flags)\n",
      "/opt/conda/lib/python3.9/site-packages/matplotlib/backends/backend_agg.py:203: RuntimeWarning: Glyph 48516 missing from current font.\n",
      "  font.set_text(s, 0, flags=flags)\n",
      "/opt/conda/lib/python3.9/site-packages/matplotlib/backends/backend_agg.py:203: RuntimeWarning: Glyph 54252 missing from current font.\n",
      "  font.set_text(s, 0, flags=flags)\n"
     ]
    },
    {
     "data": {
      "image/png": "[encoded data removed]",
      "text/plain": [
       "<Figure size 720x360 with 1 Axes>"
      ]
     },
     "metadata": {
      "needs_background": "light"
     },
     "output_type": "display_data"
    }
   ],
   "source": [
    "def visualize_sentence_lengths(X_train, X_test):\n",
    "    \"\"\"문장 길이(토큰 개수) 분포 시각화 및 통계 계산\"\"\"\n",
    "    # 각 문장의 토큰 개수 계산\n",
    "    train_lengths = [len(seq) for seq in X_train]\n",
    "    test_lengths = [len(seq) for seq in X_test]\n",
    "    \n",
    "    # 훈련 데이터 & 테스트 데이터 문장 길이 합치기\n",
    "    all_lengths = np.array(train_lengths + test_lengths)\n",
    "\n",
    "    # 최소, 최대, 평균 문장 길이 출력\n",
    "    min_len = np.min(all_lengths)\n",
    "    max_len = np.max(all_lengths)\n",
    "    avg_len = np.mean(all_lengths)\n",
    "    percentile_90 = np.percentile(all_lengths, 90)  # 상위 90% 문장 길이\n",
    "    \n",
    "    print(f\"최소 문장 길이: {min_len}\")\n",
    "    print(f\"최대 문장 길이: {max_len}\")\n",
    "    print(f\"평균 문장 길이: {avg_len:.2f}\")\n",
    "    print(f\"상위 90% 문장의 최대 토큰 수: {percentile_90:.0f}\")\n",
    "\n",
    "    # 히스토그램 그리기\n",
    "    plt.figure(figsize=(10, 5))\n",
    "    plt.hist(all_lengths, bins=30, alpha=0.7, color='blue', edgecolor='black')\n",
    "    plt.axvline(percentile_90, color='red', linestyle='dashed', linewidth=2, label=f\"90% ≤ {percentile_90:.0f}\")\n",
    "    plt.title(\"문장 길이(토큰 수) 분포\")\n",
    "    plt.xlabel(\"문장 길이 (토큰 개수)\")\n",
    "    plt.ylabel(\"문장 개수\")\n",
    "    plt.legend()\n",
    "    plt.show()\n",
    "\n",
    "# 시각화 실행\n",
    "visualize_sentence_lengths(X_train, X_test)"
   ]
  },
  {
   "cell_type": "code",
   "execution_count": 9,
   "id": "9514d76e",
   "metadata": {},
   "outputs": [
    {
     "name": "stdout",
     "output_type": "stream",
     "text": [
      "🔹 전체 문장의 90% 이상을 포함하는 문장 길이(토큰 수): 55\n"
     ]
    }
   ],
   "source": [
    "def determine_sentence_length(X_train, X_test):\n",
    "    \"\"\"전체 문장의 90% 이상을 커버하는 문장 길이(토큰 수) 계산\"\"\"\n",
    "    \n",
    "    # 모든 문장의 길이(=토큰 수) 계산\n",
    "    sentence_lengths = [len(sentence) for sentence in X_train + X_test]\n",
    "\n",
    "    # 문장 길이 오름차순 정렬\n",
    "    sorted_lengths = np.sort(sentence_lengths)\n",
    "\n",
    "    # 누적 백분율 계산\n",
    "    cumulative_percent = np.cumsum(sorted_lengths) / np.sum(sorted_lengths)\n",
    "\n",
    "    # 90% 이상을 포함하는 문장 길이 찾기\n",
    "    sentence_length_90 = sorted_lengths[np.argmax(cumulative_percent >= 0.90)]\n",
    "\n",
    "    print(f\"🔹 전체 문장의 90% 이상을 포함하는 문장 길이(토큰 수): {sentence_length_90}\")\n",
    "\n",
    "    return sentence_length_90\n",
    "\n",
    "# 실행\n",
    "sentence_length_90 = determine_sentence_length(X_train, X_test)"
   ]
  },
  {
   "cell_type": "code",
   "execution_count": 10,
   "id": "e92b2c8b",
   "metadata": {},
   "outputs": [],
   "source": [
    "index_to_word = {index:word for word, index in word_to_index.items()}"
   ]
  },
  {
   "cell_type": "code",
   "execution_count": 11,
   "id": "90dd2a23",
   "metadata": {},
   "outputs": [
    {
     "data": {
      "text/plain": [
       "20000"
      ]
     },
     "execution_count": 11,
     "metadata": {},
     "output_type": "execute_result"
    }
   ],
   "source": [
    "len(index_to_word)"
   ]
  },
  {
   "cell_type": "code",
   "execution_count": 12,
   "id": "b0c1463d",
   "metadata": {},
   "outputs": [],
   "source": [
    "maxlen = sentence_length_90"
   ]
  },
  {
   "cell_type": "code",
   "execution_count": 13,
   "id": "e5195820",
   "metadata": {},
   "outputs": [],
   "source": [
    "x_train = tf.keras.preprocessing.sequence.pad_sequences(X_train,\n",
    "                                                        value=word_to_index[\"<PAD>\"],\n",
    "                                                        padding='pre', # 혹은 'pre'\n",
    "                                                        maxlen=maxlen)\n",
    "\n",
    "x_test = tf.keras.preprocessing.sequence.pad_sequences(X_test,\n",
    "                                                       value=word_to_index[\"<PAD>\"],\n",
    "                                                       padding='pre', # 혹은 'pre'\n",
    "                                                       maxlen=maxlen)"
   ]
  },
  {
   "cell_type": "code",
   "execution_count": 14,
   "id": "87f9f66b",
   "metadata": {},
   "outputs": [
    {
     "data": {
      "text/plain": [
       "(146182, 55)"
      ]
     },
     "execution_count": 14,
     "metadata": {},
     "output_type": "execute_result"
    }
   ],
   "source": [
    "x_train.shape"
   ]
  },
  {
   "cell_type": "code",
   "execution_count": 15,
   "id": "cd793b4a",
   "metadata": {},
   "outputs": [
    {
     "name": "stdout",
     "output_type": "stream",
     "text": [
      "Model: \"sequential\"\n",
      "_________________________________________________________________\n",
      "Layer (type)                 Output Shape              Param #   \n",
      "=================================================================\n",
      "embedding (Embedding)        (None, None, 50)          1000000   \n",
      "_________________________________________________________________\n",
      "lstm (LSTM)                  (None, None, 128)         91648     \n",
      "_________________________________________________________________\n",
      "dropout (Dropout)            (None, None, 128)         0         \n",
      "_________________________________________________________________\n",
      "lstm_1 (LSTM)                (None, None, 64)          49408     \n",
      "_________________________________________________________________\n",
      "dropout_1 (Dropout)          (None, None, 64)          0         \n",
      "_________________________________________________________________\n",
      "lstm_2 (LSTM)                (None, 32)                12416     \n",
      "_________________________________________________________________\n",
      "dense (Dense)                (None, 32)                1056      \n",
      "_________________________________________________________________\n",
      "dropout_2 (Dropout)          (None, 32)                0         \n",
      "_________________________________________________________________\n",
      "dense_1 (Dense)              (None, 16)                528       \n",
      "_________________________________________________________________\n",
      "dense_2 (Dense)              (None, 1)                 17        \n",
      "=================================================================\n",
      "Total params: 1,155,073\n",
      "Trainable params: 1,155,073\n",
      "Non-trainable params: 0\n",
      "_________________________________________________________________\n"
     ]
    }
   ],
   "source": [
    "# LSTM 모델\n",
    "\n",
    "vocab_size = 20000\n",
    "word_vector_dim = 50\n",
    "\n",
    "model_LSTM = tf.keras.Sequential()\n",
    "\n",
    "model_LSTM.add(tf.keras.layers.Embedding(vocab_size, word_vector_dim, input_shape=(None,)))\n",
    "\n",
    "model_LSTM.add(tf.keras.layers.LSTM(128, return_sequences=True))\n",
    "model_LSTM.add(tf.keras.layers.Dropout(0.1))  \n",
    "\n",
    "model_LSTM.add(tf.keras.layers.LSTM(64, return_sequences=True))\n",
    "model_LSTM.add(tf.keras.layers.Dropout(0.1))\n",
    "\n",
    "model_LSTM.add(tf.keras.layers.LSTM(32))\n",
    "\n",
    "model_LSTM.add(tf.keras.layers.Dense(32, activation='relu'))\n",
    "model_LSTM.add(tf.keras.layers.Dropout(0.1)) \n",
    "model_LSTM.add(tf.keras.layers.Dense(16, activation='relu'))\n",
    "model_LSTM.add(tf.keras.layers.Dense(1, activation='sigmoid'))  # 최종 이진 분류\n",
    "\n",
    "model_LSTM.summary()"
   ]
  },
  {
   "cell_type": "code",
   "execution_count": 16,
   "id": "76b50231",
   "metadata": {},
   "outputs": [
    {
     "data": {
      "text/plain": [
       "29236.4"
      ]
     },
     "execution_count": 16,
     "metadata": {},
     "output_type": "execute_result"
    }
   ],
   "source": [
    "# 전체 학습데이터 중 20%는 몇개?\n",
    "x_train.shape[0]*0.2"
   ]
  },
  {
   "cell_type": "code",
   "execution_count": 17,
   "id": "cb0a02c0",
   "metadata": {},
   "outputs": [
    {
     "name": "stdout",
     "output_type": "stream",
     "text": [
      "(116946, 55)\n",
      "(116946,)\n",
      "(29236, 55)\n",
      "(29236,)\n"
     ]
    }
   ],
   "source": [
    "val_index_num = 29236\n",
    "X_val = x_train[:val_index_num]   \n",
    "y_val = y_train[:val_index_num]\n",
    "\n",
    "partial_X_train = x_train[val_index_num:]  \n",
    "partial_y_train = y_train[val_index_num:]\n",
    "\n",
    "print(partial_X_train.shape)\n",
    "print(partial_y_train.shape)\n",
    "print(X_val.shape)\n",
    "print(y_val.shape)"
   ]
  },
  {
   "cell_type": "code",
   "execution_count": 18,
   "id": "023b0247",
   "metadata": {},
   "outputs": [],
   "source": [
    "from tensorflow.keras.callbacks import EarlyStopping, ModelCheckpoint, ReduceLROnPlateau\n",
    "from tensorflow.keras.models import load_model"
   ]
  },
  {
   "cell_type": "code",
   "execution_count": 19,
   "id": "b3d51ea0",
   "metadata": {},
   "outputs": [
    {
     "name": "stdout",
     "output_type": "stream",
     "text": [
      "Epoch 1/50\n",
      "229/229 [==============================] - 11s 26ms/step - loss: 0.4464 - accuracy: 0.7805 - val_loss: 0.3476 - val_accuracy: 0.8510\n",
      "Epoch 2/50\n",
      "229/229 [==============================] - 5s 22ms/step - loss: 0.3151 - accuracy: 0.8684 - val_loss: 0.3359 - val_accuracy: 0.8562\n",
      "Epoch 3/50\n",
      "229/229 [==============================] - 5s 22ms/step - loss: 0.2712 - accuracy: 0.8889 - val_loss: 0.3347 - val_accuracy: 0.8581\n",
      "Epoch 4/50\n",
      "229/229 [==============================] - 5s 22ms/step - loss: 0.2347 - accuracy: 0.9063 - val_loss: 0.3485 - val_accuracy: 0.8584\n",
      "Epoch 5/50\n",
      "229/229 [==============================] - 5s 22ms/step - loss: 0.2017 - accuracy: 0.9218 - val_loss: 0.3987 - val_accuracy: 0.8549\n",
      "Epoch 6/50\n",
      "229/229 [==============================] - 5s 22ms/step - loss: 0.1718 - accuracy: 0.9348 - val_loss: 0.4143 - val_accuracy: 0.8513\n",
      "\n",
      "Epoch 00006: ReduceLROnPlateau reducing learning rate to 0.0005000000237487257.\n",
      "Epoch 7/50\n",
      "229/229 [==============================] - 5s 22ms/step - loss: 0.1353 - accuracy: 0.9511 - val_loss: 0.4693 - val_accuracy: 0.8435\n",
      "Epoch 8/50\n",
      "229/229 [==============================] - 5s 22ms/step - loss: 0.1181 - accuracy: 0.9580 - val_loss: 0.5114 - val_accuracy: 0.8470\n"
     ]
    }
   ],
   "source": [
    "# 콜백 함수 설정\n",
    "callbacks = [\n",
    "    EarlyStopping(monitor='val_loss', patience=5, restore_best_weights=True),  # 5 epoch 동안 개선되지 않으면 조기 종료\n",
    "    ModelCheckpoint('LSTM_best_model.h5', save_best_only=True, monitor='val_loss', mode='min'),  # 최적 모델 저장\n",
    "    ReduceLROnPlateau(monitor='val_loss', factor=0.5, patience=3, verbose=1)  # 학습 정체 시 학습률 감소\n",
    "]\n",
    "\n",
    "# 모델 컴파일\n",
    "model_LSTM.compile(optimizer='adam',\n",
    "                   loss='binary_crossentropy',\n",
    "                   metrics=['accuracy'])\n",
    "\n",
    "epochs = 50\n",
    "\n",
    "# 모델 학습\n",
    "history_LSTM = model_LSTM.fit(partial_X_train,\n",
    "                              partial_y_train,\n",
    "                              epochs=epochs,\n",
    "                              batch_size=512,\n",
    "                              validation_data=(X_val, y_val),\n",
    "                              callbacks=callbacks,  # ✅ 콜백 추가\n",
    "                              verbose=1)\n"
   ]
  },
  {
   "cell_type": "code",
   "execution_count": 20,
   "id": "b499301d",
   "metadata": {
    "scrolled": true
   },
   "outputs": [
    {
     "name": "stdout",
     "output_type": "stream",
     "text": [
      "1537/1537 - 7s - loss: 0.3436 - accuracy: 0.8538\n",
      "Test Loss: 0.3436\n",
      "Test Accuracy: 0.8538\n"
     ]
    }
   ],
   "source": [
    "best_model_LSTM = load_model('LSTM_best_model.h5')\n",
    "\n",
    "# 테스트 데이터 평가\n",
    "results_LSTM = best_model_LSTM.evaluate(x_test, y_test, verbose=2)\n",
    "\n",
    "# 평가 결과 출력\n",
    "print(f\"Test Loss: {results_LSTM[0]:.4f}\")\n",
    "print(f\"Test Accuracy: {results_LSTM[1]:.4f}\")"
   ]
  },
  {
   "cell_type": "code",
   "execution_count": 21,
   "id": "2e2eb50c",
   "metadata": {},
   "outputs": [],
   "source": [
    "history_dict_LSTM = history_LSTM.history"
   ]
  },
  {
   "cell_type": "code",
   "execution_count": 22,
   "id": "a8e22cf7",
   "metadata": {},
   "outputs": [
    {
     "data": {
      "image/png": "[encoded data removed]",
      "text/plain": [
       "<Figure size 432x288 with 1 Axes>"
      ]
     },
     "metadata": {
      "needs_background": "light"
     },
     "output_type": "display_data"
    }
   ],
   "source": [
    "acc = history_dict_LSTM['accuracy']\n",
    "val_acc = history_dict_LSTM['val_accuracy']\n",
    "loss = history_dict_LSTM['loss']\n",
    "val_loss = history_dict_LSTM['val_loss']\n",
    "\n",
    "epochs = range(1, len(acc) + 1)\n",
    "\n",
    "# \"bo\"는 \"파란색 점\"입니다\n",
    "plt.plot(epochs, loss, 'bo', label='Training loss')\n",
    "# b는 \"파란 실선\"입니다\n",
    "plt.plot(epochs, val_loss, 'b', label='Validation loss')\n",
    "plt.title('Training and validation loss')\n",
    "plt.xlabel('Epochs')\n",
    "plt.ylabel('Loss')\n",
    "plt.legend()\n",
    "\n",
    "plt.show()"
   ]
  },
  {
   "cell_type": "code",
   "execution_count": 23,
   "id": "8cfec38f",
   "metadata": {},
   "outputs": [
    {
     "name": "stdout",
     "output_type": "stream",
     "text": [
      "Model: \"sequential_1\"\n",
      "_________________________________________________________________\n",
      "Layer (type)                 Output Shape              Param #   \n",
      "=================================================================\n",
      "embedding_1 (Embedding)      (None, None, 50)          1000000   \n",
      "_________________________________________________________________\n",
      "gru (GRU)                    (None, None, 128)         69120     \n",
      "_________________________________________________________________\n",
      "dropout_3 (Dropout)          (None, None, 128)         0         \n",
      "_________________________________________________________________\n",
      "gru_1 (GRU)                  (None, None, 64)          37248     \n",
      "_________________________________________________________________\n",
      "dropout_4 (Dropout)          (None, None, 64)          0         \n",
      "_________________________________________________________________\n",
      "gru_2 (GRU)                  (None, 32)                9408      \n",
      "_________________________________________________________________\n",
      "dense_3 (Dense)              (None, 32)                1056      \n",
      "_________________________________________________________________\n",
      "dropout_5 (Dropout)          (None, 32)                0         \n",
      "_________________________________________________________________\n",
      "dense_4 (Dense)              (None, 16)                528       \n",
      "_________________________________________________________________\n",
      "dense_5 (Dense)              (None, 1)                 17        \n",
      "=================================================================\n",
      "Total params: 1,117,377\n",
      "Trainable params: 1,117,377\n",
      "Non-trainable params: 0\n",
      "_________________________________________________________________\n"
     ]
    }
   ],
   "source": [
    "# GRU 모델\n",
    "\n",
    "model_GRU = tf.keras.Sequential()\n",
    "\n",
    "# Embedding Layer\n",
    "model_GRU.add(tf.keras.layers.Embedding(vocab_size, word_vector_dim, input_shape=(None,)))\n",
    "\n",
    "model_GRU.add(tf.keras.layers.GRU(128, return_sequences=True))\n",
    "model_GRU.add(tf.keras.layers.Dropout(0.1))\n",
    "\n",
    "model_GRU.add(tf.keras.layers.GRU(64, return_sequences=True))\n",
    "model_GRU.add(tf.keras.layers.Dropout(0.1))\n",
    "\n",
    "model_GRU.add(tf.keras.layers.GRU(32))\n",
    "\n",
    "# Fully Connected Layers\n",
    "model_GRU.add(tf.keras.layers.Dense(32, activation='relu'))\n",
    "model_GRU.add(tf.keras.layers.Dropout(0.1))\n",
    "model_GRU.add(tf.keras.layers.Dense(16, activation='relu'))\n",
    "model_GRU.add(tf.keras.layers.Dense(1, activation='sigmoid'))  # 최종 이진 분류\n",
    "\n",
    "# 모델 요약\n",
    "model_GRU.summary()"
   ]
  },
  {
   "cell_type": "code",
   "execution_count": 24,
   "id": "4e83eaea",
   "metadata": {},
   "outputs": [
    {
     "name": "stdout",
     "output_type": "stream",
     "text": [
      "Epoch 1/50\n",
      "229/229 [==============================] - 9s 25ms/step - loss: 0.4208 - accuracy: 0.8061 - val_loss: 0.3493 - val_accuracy: 0.8501\n",
      "Epoch 2/50\n",
      "229/229 [==============================] - 5s 20ms/step - loss: 0.3182 - accuracy: 0.8676 - val_loss: 0.3456 - val_accuracy: 0.8526\n",
      "Epoch 3/50\n",
      "229/229 [==============================] - 5s 20ms/step - loss: 0.2843 - accuracy: 0.8845 - val_loss: 0.3462 - val_accuracy: 0.8550\n",
      "Epoch 4/50\n",
      "229/229 [==============================] - 5s 20ms/step - loss: 0.2519 - accuracy: 0.8997 - val_loss: 0.3549 - val_accuracy: 0.8562\n",
      "Epoch 5/50\n",
      "229/229 [==============================] - 5s 20ms/step - loss: 0.2223 - accuracy: 0.9121 - val_loss: 0.3600 - val_accuracy: 0.8513\n",
      "\n",
      "Epoch 00005: ReduceLROnPlateau reducing learning rate to 0.0005000000237487257.\n",
      "Epoch 6/50\n",
      "229/229 [==============================] - 5s 20ms/step - loss: 0.1789 - accuracy: 0.9324 - val_loss: 0.4129 - val_accuracy: 0.8508\n",
      "Epoch 7/50\n",
      "229/229 [==============================] - 5s 20ms/step - loss: 0.1608 - accuracy: 0.9399 - val_loss: 0.4353 - val_accuracy: 0.8477\n"
     ]
    }
   ],
   "source": [
    "# 콜백 함수 설정\n",
    "callbacks = [\n",
    "    EarlyStopping(monitor='val_loss', patience=5, restore_best_weights=True),  # 5 epoch 동안 개선되지 않으면 조기 종료\n",
    "    ModelCheckpoint('GRU_best_model.h5', save_best_only=True, monitor='val_loss', mode='min'),  # 최적 모델 저장\n",
    "    ReduceLROnPlateau(monitor='val_loss', factor=0.5, patience=3, verbose=1)  # 학습 정체 시 학습률 감소\n",
    "]\n",
    "\n",
    "# 모델 컴파일\n",
    "model_GRU.compile(optimizer='adam',\n",
    "                   loss='binary_crossentropy',\n",
    "                   metrics=['accuracy'])\n",
    "\n",
    "epochs = 50\n",
    "\n",
    "# 모델 학습\n",
    "history_GRU = model_GRU.fit(partial_X_train,\n",
    "                              partial_y_train,\n",
    "                              epochs=epochs,\n",
    "                              batch_size=512,\n",
    "                              validation_data=(X_val, y_val),\n",
    "                              callbacks=callbacks,  # ✅ 콜백 추가\n",
    "                              verbose=1)"
   ]
  },
  {
   "cell_type": "code",
   "execution_count": 25,
   "id": "c1e60ce3",
   "metadata": {},
   "outputs": [
    {
     "name": "stdout",
     "output_type": "stream",
     "text": [
      "1537/1537 - 6s - loss: 0.3562 - accuracy: 0.8465\n",
      "Test Loss: 0.3562\n",
      "Test Accuracy: 0.8465\n"
     ]
    }
   ],
   "source": [
    "best_model_GRU = load_model('GRU_best_model.h5')\n",
    "\n",
    "# 테스트 데이터 평가\n",
    "results_GRU = best_model_GRU.evaluate(x_test, y_test, verbose=2)\n",
    "\n",
    "# 평가 결과 출력\n",
    "print(f\"Test Loss: {results_GRU[0]:.4f}\")\n",
    "print(f\"Test Accuracy: {results_GRU[1]:.4f}\")"
   ]
  },
  {
   "cell_type": "code",
   "execution_count": 26,
   "id": "f612fce3",
   "metadata": {},
   "outputs": [],
   "source": [
    "history_dict_GRU = history_GRU.history"
   ]
  },
  {
   "cell_type": "code",
   "execution_count": 27,
   "id": "7a533fbc",
   "metadata": {},
   "outputs": [
    {
     "data": {
      "image/png": "[encoded data removed]",
      "text/plain": [
       "<Figure size 432x288 with 1 Axes>"
      ]
     },
     "metadata": {
      "needs_background": "light"
     },
     "output_type": "display_data"
    }
   ],
   "source": [
    "acc = history_dict_GRU['accuracy']\n",
    "val_acc = history_dict_GRU['val_accuracy']\n",
    "loss = history_dict_GRU['loss']\n",
    "val_loss = history_dict_GRU['val_loss']\n",
    "\n",
    "epochs = range(1, len(acc) + 1)\n",
    "\n",
    "# \"bo\"는 \"파란색 점\"입니다\n",
    "plt.plot(epochs, loss, 'bo', label='Training loss')\n",
    "# b는 \"파란 실선\"입니다\n",
    "plt.plot(epochs, val_loss, 'b', label='Validation loss')\n",
    "plt.title('Training and validation loss')\n",
    "plt.xlabel('Epochs')\n",
    "plt.ylabel('Loss')\n",
    "plt.legend()\n",
    "\n",
    "plt.show()"
   ]
  },
  {
   "cell_type": "code",
   "execution_count": 28,
   "id": "83332008",
   "metadata": {},
   "outputs": [
    {
     "name": "stdout",
     "output_type": "stream",
     "text": [
      "Model: \"sequential_2\"\n",
      "_________________________________________________________________\n",
      "Layer (type)                 Output Shape              Param #   \n",
      "=================================================================\n",
      "embedding_2 (Embedding)      (None, None, 50)          1000000   \n",
      "_________________________________________________________________\n",
      "conv1d (Conv1D)              (None, None, 128)         32128     \n",
      "_________________________________________________________________\n",
      "max_pooling1d (MaxPooling1D) (None, None, 128)         0         \n",
      "_________________________________________________________________\n",
      "conv1d_1 (Conv1D)            (None, None, 128)         82048     \n",
      "_________________________________________________________________\n",
      "max_pooling1d_1 (MaxPooling1 (None, None, 128)         0         \n",
      "_________________________________________________________________\n",
      "conv1d_2 (Conv1D)            (None, None, 64)          41024     \n",
      "_________________________________________________________________\n",
      "max_pooling1d_2 (MaxPooling1 (None, None, 64)          0         \n",
      "_________________________________________________________________\n",
      "conv1d_3 (Conv1D)            (None, None, 32)          10272     \n",
      "_________________________________________________________________\n",
      "max_pooling1d_3 (MaxPooling1 (None, None, 32)          0         \n",
      "_________________________________________________________________\n",
      "global_average_pooling1d (Gl (None, 32)                0         \n",
      "_________________________________________________________________\n",
      "dense_6 (Dense)              (None, 32)                1056      \n",
      "_________________________________________________________________\n",
      "dropout_6 (Dropout)          (None, 32)                0         \n",
      "_________________________________________________________________\n",
      "dense_7 (Dense)              (None, 16)                528       \n",
      "_________________________________________________________________\n",
      "dense_8 (Dense)              (None, 1)                 17        \n",
      "=================================================================\n",
      "Total params: 1,167,073\n",
      "Trainable params: 1,167,073\n",
      "Non-trainable params: 0\n",
      "_________________________________________________________________\n"
     ]
    }
   ],
   "source": [
    "# 1D합성곱 모델\n",
    "\n",
    "model_1dConv = tf.keras.Sequential()\n",
    "\n",
    "# 임베딩 레이어\n",
    "model_1dConv.add(tf.keras.layers.Embedding(vocab_size, word_vector_dim, input_length=None))\n",
    "\n",
    "# 첫 번째 Conv1D 레이어\n",
    "model_1dConv.add(tf.keras.layers.Conv1D(128, 5, activation='relu', padding='same'))\n",
    "model_1dConv.add(tf.keras.layers.MaxPooling1D(2))\n",
    "\n",
    "# 두 번째 Conv1D 레이어\n",
    "model_1dConv.add(tf.keras.layers.Conv1D(128, 5, activation='relu', padding='same'))\n",
    "model_1dConv.add(tf.keras.layers.MaxPooling1D(2))\n",
    "\n",
    "# 세 번째 Conv1D 레이어 (더 깊게 만들기)\n",
    "model_1dConv.add(tf.keras.layers.Conv1D(64, 5, activation='relu', padding='same'))\n",
    "model_1dConv.add(tf.keras.layers.MaxPooling1D(2))\n",
    "\n",
    "# 네 번째 Conv1D 레이어 (더 깊게 만들기)\n",
    "model_1dConv.add(tf.keras.layers.Conv1D(32, 5, activation='relu', padding='same'))\n",
    "model_1dConv.add(tf.keras.layers.MaxPooling1D(2))\n",
    "\n",
    "# GlobalAveragePooling1D\n",
    "model_1dConv.add(tf.keras.layers.GlobalAveragePooling1D())\n",
    "\n",
    "# Dense 레이어\n",
    "model_1dConv.add(tf.keras.layers.Dense(32, activation='relu'))\n",
    "model_1dConv.add(tf.keras.layers.Dropout(0.1))  # Dropout 레이어 추가로 과적합 방지\n",
    "\n",
    "model_1dConv.add(tf.keras.layers.Dense(16, activation='relu'))\n",
    "\n",
    "# 최종 출력층\n",
    "model_1dConv.add(tf.keras.layers.Dense(1, activation='sigmoid'))  # 이진 분류\n",
    "\n",
    "# 모델 요약\n",
    "model_1dConv.summary()"
   ]
  },
  {
   "cell_type": "code",
   "execution_count": 29,
   "id": "28624209",
   "metadata": {},
   "outputs": [
    {
     "name": "stdout",
     "output_type": "stream",
     "text": [
      "Epoch 1/50\n",
      "229/229 [==============================] - 6s 16ms/step - loss: 0.4404 - accuracy: 0.7837 - val_loss: 0.3344 - val_accuracy: 0.8523\n",
      "Epoch 2/50\n",
      "229/229 [==============================] - 3s 13ms/step - loss: 0.2907 - accuracy: 0.8803 - val_loss: 0.3226 - val_accuracy: 0.8625\n",
      "Epoch 3/50\n",
      "229/229 [==============================] - 3s 13ms/step - loss: 0.2288 - accuracy: 0.9096 - val_loss: 0.3479 - val_accuracy: 0.8621\n",
      "Epoch 4/50\n",
      "229/229 [==============================] - 3s 13ms/step - loss: 0.1666 - accuracy: 0.9385 - val_loss: 0.4192 - val_accuracy: 0.8531\n",
      "Epoch 5/50\n",
      "229/229 [==============================] - 3s 13ms/step - loss: 0.1156 - accuracy: 0.9596 - val_loss: 0.4736 - val_accuracy: 0.8516\n",
      "\n",
      "Epoch 00005: ReduceLROnPlateau reducing learning rate to 0.0005000000237487257.\n",
      "Epoch 6/50\n",
      "229/229 [==============================] - 3s 13ms/step - loss: 0.0652 - accuracy: 0.9800 - val_loss: 0.5901 - val_accuracy: 0.8498\n",
      "Epoch 7/50\n",
      "229/229 [==============================] - 3s 14ms/step - loss: 0.0443 - accuracy: 0.9876 - val_loss: 0.6556 - val_accuracy: 0.8422\n"
     ]
    }
   ],
   "source": [
    "callbacks = [\n",
    "    EarlyStopping(monitor='val_loss', patience=5, restore_best_weights=True),  # 5 epoch 동안 개선되지 않으면 조기 종료\n",
    "    ModelCheckpoint('1dConv_best_model.h5', save_best_only=True, monitor='val_loss', mode='min'),  # 최적 모델 저장\n",
    "    ReduceLROnPlateau(monitor='val_loss', factor=0.5, patience=3, verbose=1)  # 학습 정체 시 학습률 감소\n",
    "]\n",
    "\n",
    "# 모델 컴파일\n",
    "model_1dConv.compile(optimizer='adam',\n",
    "                   loss='binary_crossentropy',\n",
    "                   metrics=['accuracy'])\n",
    "\n",
    "epochs = 50\n",
    "\n",
    "# 모델 학습\n",
    "history_1dConv = model_1dConv.fit(partial_X_train,\n",
    "                              partial_y_train,\n",
    "                              epochs=epochs,\n",
    "                              batch_size=512,\n",
    "                              validation_data=(X_val, y_val),\n",
    "                              callbacks=callbacks,  # ✅ 콜백 추가\n",
    "                              verbose=1)"
   ]
  },
  {
   "cell_type": "code",
   "execution_count": 30,
   "id": "6950b536",
   "metadata": {},
   "outputs": [
    {
     "name": "stdout",
     "output_type": "stream",
     "text": [
      "1537/1537 - 3s - loss: 0.3326 - accuracy: 0.8561\n",
      "Test Loss: 0.3326\n",
      "Test Accuracy: 0.8561\n"
     ]
    }
   ],
   "source": [
    "best_model_1dConv = load_model('1dConv_best_model.h5')\n",
    "\n",
    "# 테스트 데이터 평가\n",
    "results_1dConv = best_model_1dConv.evaluate(x_test, y_test, verbose=2)\n",
    "\n",
    "# 평가 결과 출력\n",
    "print(f\"Test Loss: {results_1dConv[0]:.4f}\")\n",
    "print(f\"Test Accuracy: {results_1dConv[1]:.4f}\")"
   ]
  },
  {
   "cell_type": "code",
   "execution_count": 31,
   "id": "7837a4f4",
   "metadata": {},
   "outputs": [],
   "source": [
    "history_dict_1dConv = history_1dConv.history"
   ]
  },
  {
   "cell_type": "code",
   "execution_count": 32,
   "id": "bb41a132",
   "metadata": {},
   "outputs": [
    {
     "data": {
      "image/png": "[encoded data removed]",
      "text/plain": [
       "<Figure size 432x288 with 1 Axes>"
      ]
     },
     "metadata": {
      "needs_background": "light"
     },
     "output_type": "display_data"
    }
   ],
   "source": [
    "acc = history_dict_1dConv['accuracy']\n",
    "val_acc = history_dict_1dConv['val_accuracy']\n",
    "loss = history_dict_1dConv['loss']\n",
    "val_loss = history_dict_1dConv['val_loss']\n",
    "\n",
    "epochs = range(1, len(acc) + 1)\n",
    "\n",
    "# \"bo\"는 \"파란색 점\"입니다\n",
    "plt.plot(epochs, loss, 'bo', label='Training loss')\n",
    "# b는 \"파란 실선\"입니다\n",
    "plt.plot(epochs, val_loss, 'b', label='Validation loss')\n",
    "plt.title('Training and validation loss')\n",
    "plt.xlabel('Epochs')\n",
    "plt.ylabel('Loss')\n",
    "plt.legend()\n",
    "\n",
    "plt.show()"
   ]
  },
  {
   "cell_type": "markdown",
   "id": "be6d2842",
   "metadata": {},
   "source": [
    "## 모델별 성능 비교 결과 \n",
    "### 1. LSTM 모델 \n",
    "##### - 총 파라미터 수 : 1,155,073\n",
    "##### - 테스트 정확도 : 85.38%\n",
    "#### \n",
    "### 2. GRU 모델 \n",
    "##### - 총 파라미터 수 : 1,117,377\n",
    "##### - 테스트 정확도 : 84.65%\n",
    "#### \n",
    "### 3. 1D합성곱 모델 \n",
    "##### - 총 파라미터 수 : 1,167,073\n",
    "##### - 테스트 정확도 : 85.61%"
   ]
  },
  {
   "cell_type": "code",
   "execution_count": 33,
   "id": "0555f5f0",
   "metadata": {},
   "outputs": [
    {
     "name": "stdout",
     "output_type": "stream",
     "text": [
      "(20000, 50)\n"
     ]
    }
   ],
   "source": [
    "# 가장 정확도 높은 1D합성곱 모델의 임베딩 벡터 활용\n",
    "embedding_layer = model_1dConv.layers[0]\n",
    "weights = embedding_layer.get_weights()[0]\n",
    "print(weights.shape)    # shape: (vocab_size, embedding_dim)"
   ]
  },
  {
   "cell_type": "code",
   "execution_count": 34,
   "id": "cd18ffb1",
   "metadata": {},
   "outputs": [],
   "source": [
    "# 학습한 Embedding 파라미터를 파일에 써서 저장합니다. \n",
    "word2vec_file_path = 'word2vec_1dConv.txt'\n",
    "f = open(word2vec_file_path, 'w')\n",
    "f.write('{} {}\\n'.format(vocab_size-4, word_vector_dim))  # 몇개의 벡터를 얼마 사이즈로 기재할지 타이틀을 씁니다.\n",
    "\n",
    "# 단어 개수(에서 특수문자 4개는 제외하고)만큼의 워드 벡터를 파일에 기록합니다. \n",
    "vectors = model_1dConv.get_weights()[0]\n",
    "for i in range(4,vocab_size):\n",
    "    f.write('{} {}\\n'.format(index_to_word[i], ' '.join(map(str, list(vectors[i, :])))))\n",
    "f.close()"
   ]
  },
  {
   "cell_type": "code",
   "execution_count": 35,
   "id": "c8071493",
   "metadata": {},
   "outputs": [],
   "source": [
    "from gensim.models.keyedvectors import Word2VecKeyedVectors\n",
    "\n",
    "from gensim.models import KeyedVectors\n"
   ]
  },
  {
   "cell_type": "code",
   "execution_count": 36,
   "id": "2288ab08",
   "metadata": {
    "scrolled": true
   },
   "outputs": [
    {
     "data": {
      "text/plain": [
       "array([-0.0524366 ,  0.06418271, -0.01607423, -0.02424447,  0.01545665,\n",
       "        0.0369083 ,  0.06428412, -0.00753321, -0.02214317, -0.00903156,\n",
       "        0.0020891 , -0.02446234, -0.00358015,  0.00645151, -0.01577192,\n",
       "        0.00459402,  0.00087584,  0.00353131, -0.05759848,  0.00739267,\n",
       "       -0.03162974,  0.04140215,  0.04931647,  0.06424895,  0.04269435,\n",
       "        0.04379002, -0.03312357,  0.05969759,  0.01848337, -0.04733563,\n",
       "        0.00563667,  0.00768246, -0.00710767, -0.01524821,  0.03253279,\n",
       "       -0.04977069,  0.00408659,  0.03865075,  0.01297363, -0.04469583,\n",
       "        0.05551972,  0.00365604, -0.08685186, -0.04368478,  0.0108751 ,\n",
       "        0.02209339, -0.03166053, -0.02524791, -0.02996854,  0.03702734],\n",
       "      dtype=float32)"
      ]
     },
     "execution_count": 36,
     "metadata": {},
     "output_type": "execute_result"
    }
   ],
   "source": [
    "word_vectors = Word2VecKeyedVectors.load_word2vec_format(word2vec_file_path, binary=False)\n",
    "vector = word_vectors['여왕']\n",
    "vector"
   ]
  },
  {
   "cell_type": "code",
   "execution_count": 37,
   "id": "3b01046b",
   "metadata": {},
   "outputs": [
    {
     "data": {
      "text/plain": [
       "array([ 0.07083329, -0.064479  ,  0.04206255, -0.00118136, -0.05968733,\n",
       "       -0.00051479, -0.00297695, -0.03077257,  0.0204783 , -0.0249656 ,\n",
       "       -0.01489196,  0.0076211 ,  0.01641693,  0.06280059,  0.04098829,\n",
       "        0.06796412,  0.02847155, -0.0500152 ,  0.02499795,  0.00693472,\n",
       "        0.05720198, -0.01794033, -0.02755588, -0.06478557, -0.05236019,\n",
       "       -0.05969116, -0.04081917, -0.02944829,  0.00220309, -0.02626917,\n",
       "        0.03268557,  0.02768672, -0.01679914, -0.00349175, -0.06991927,\n",
       "        0.11991997, -0.04631865,  0.00656322, -0.02975681,  0.03362911,\n",
       "        0.03107117,  0.02885118,  0.03074548,  0.03919529, -0.07345978,\n",
       "        0.00340701,  0.07440536,  0.09136052,  0.01406544, -0.01693277],\n",
       "      dtype=float32)"
      ]
     },
     "execution_count": 37,
     "metadata": {},
     "output_type": "execute_result"
    }
   ],
   "source": [
    "word_vectors = Word2VecKeyedVectors.load_word2vec_format(word2vec_file_path, binary=False)\n",
    "vector = word_vectors['감동']\n",
    "vector"
   ]
  },
  {
   "cell_type": "code",
   "execution_count": 38,
   "id": "7b1743f7",
   "metadata": {
    "scrolled": false
   },
   "outputs": [
    {
     "data": {
      "text/plain": [
       "[('엄청난', 0.7245993614196777),\n",
       " ('아즈', 0.6992539763450623),\n",
       " ('여잔데', 0.6931589841842651),\n",
       " ('젊은이', 0.6738961338996887),\n",
       " ('느껴집니다', 0.6664799451828003),\n",
       " ('공연', 0.6664738655090332),\n",
       " ('극사실주의', 0.6609975099563599),\n",
       " ('눈부시', 0.6545071601867676),\n",
       " ('맞물려', 0.6507154703140259),\n",
       " ('어영', 0.6502725481987)]"
      ]
     },
     "execution_count": 38,
     "metadata": {},
     "output_type": "execute_result"
    }
   ],
   "source": [
    "# 영화감정 리뷰 안에 등장할만한 단어들은 어느정도 비슷한 유의어 추출 성능을 보임\n",
    "word_vectors.similar_by_word(\"기쁨\")"
   ]
  },
  {
   "cell_type": "code",
   "execution_count": 39,
   "id": "afdff1fe",
   "metadata": {},
   "outputs": [
    {
     "data": {
      "text/plain": [
       "[('이어주', 0.8075467944145203),\n",
       " ('사명감', 0.7766427993774414),\n",
       " ('간만에', 0.7739025950431824),\n",
       " ('적절히', 0.7673519253730774),\n",
       " ('상큼', 0.7666521668434143),\n",
       " ('♥♥', 0.7570741176605225),\n",
       " ('Good', 0.7553259134292603),\n",
       " ('♡', 0.7504222393035889),\n",
       " ('ㅜㅜㅜ', 0.7444486618041992),\n",
       " ('생생히', 0.7430229783058167)]"
      ]
     },
     "execution_count": 39,
     "metadata": {},
     "output_type": "execute_result"
    }
   ],
   "source": [
    "word_vectors.similar_by_word(\"감동\")"
   ]
  },
  {
   "cell_type": "code",
   "execution_count": 40,
   "id": "5dca4a8f",
   "metadata": {},
   "outputs": [
    {
     "data": {
      "text/plain": [
       "[('홍보물', 0.650307834148407),\n",
       " ('엽기', 0.6424819231033325),\n",
       " ('독수리', 0.6367419958114624),\n",
       " ('화내', 0.631841778755188),\n",
       " ('파티', 0.6278703808784485),\n",
       " ('윤시윤', 0.6276612281799316),\n",
       " ('아녀', 0.6274198293685913),\n",
       " ('수준', 0.6254639625549316),\n",
       " ('신비주의', 0.6254586577415466),\n",
       " ('어설퍼', 0.619318962097168)]"
      ]
     },
     "execution_count": 40,
     "metadata": {},
     "output_type": "execute_result"
    }
   ],
   "source": [
    "# 영화 감정리뷰과 관련 없는 단어들은 유의어 추출 성능 별로임\n",
    "word_vectors.similar_by_word(\"여왕\")"
   ]
  },
  {
   "cell_type": "code",
   "execution_count": 41,
   "id": "6be537e2",
   "metadata": {
    "scrolled": false
   },
   "outputs": [
    {
     "data": {
      "text/plain": [
       "[('격조', 0.5605752468109131),\n",
       " ('화합', 0.5569058656692505),\n",
       " ('칠', 0.5207974314689636),\n",
       " ('수배', 0.5078892111778259),\n",
       " ('눈치채', 0.507129430770874),\n",
       " ('04', 0.5053106546401978),\n",
       " ('박영규', 0.5049431920051575),\n",
       " ('도망갈', 0.5002546310424805),\n",
       " ('순금', 0.49737003445625305),\n",
       " ('뺴곤', 0.4948672354221344)]"
      ]
     },
     "execution_count": 41,
     "metadata": {},
     "output_type": "execute_result"
    }
   ],
   "source": [
    "word_vectors.similar_by_word(\"바보\")"
   ]
  },
  {
   "cell_type": "code",
   "execution_count": 42,
   "id": "5bbc1f9c",
   "metadata": {},
   "outputs": [
    {
     "data": {
      "text/plain": [
       "[('포용', 0.6795049905776978),\n",
       " ('노을', 0.6550917625427246),\n",
       " ('제니퍼코넬리', 0.6453461647033691),\n",
       " ('어우러진', 0.642565906047821),\n",
       " ('이슬람', 0.6419686079025269),\n",
       " ('첩혈쌍웅', 0.6418551802635193),\n",
       " ('서늘', 0.6367620825767517),\n",
       " ('들려', 0.6330897808074951),\n",
       " ('아이즈', 0.6308884024620056),\n",
       " ('테이크', 0.6306036114692688)]"
      ]
     },
     "execution_count": 42,
     "metadata": {},
     "output_type": "execute_result"
    }
   ],
   "source": [
    "word_vectors.similar_by_word(\"nice\")"
   ]
  }
 ],
 "metadata": {
  "kernelspec": {
   "display_name": "Python 3 (ipykernel)",
   "language": "python",
   "name": "python3"
  },
  "language_info": {
   "codemirror_mode": {
    "name": "ipython",
    "version": 3
   },
   "file_extension": ".py",
   "mimetype": "text/x-python",
   "name": "python",
   "nbconvert_exporter": "python",
   "pygments_lexer": "ipython3",
   "version": "3.9.7"
  }
 },
 "nbformat": 4,
 "nbformat_minor": 5
}
