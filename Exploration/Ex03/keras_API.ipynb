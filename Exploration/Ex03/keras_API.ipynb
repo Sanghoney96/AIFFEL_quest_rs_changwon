{
 "cells": [
  {
   "cell_type": "code",
   "execution_count": 1,
   "id": "b6a1405f-2eb2-42ec-ae59-1e137f529d3a",
   "metadata": {
    "tags": []
   },
   "outputs": [
    {
     "name": "stderr",
     "output_type": "stream",
     "text": [
      "C:\\Users\\USER\\anaconda3\\Lib\\site-packages\\pandas\\core\\arrays\\masked.py:60: UserWarning: Pandas requires version '1.3.6' or newer of 'bottleneck' (version '1.3.5' currently installed).\n",
      "  from pandas.core import (\n"
     ]
    }
   ],
   "source": [
    "import tensorflow as tf\n",
    "from tensorflow import keras\n",
    "from tensorflow.keras import layers"
   ]
  },
  {
   "cell_type": "code",
   "execution_count": 15,
   "id": "4b42a3e1-2e64-4fd1-9693-70c06ff4786c",
   "metadata": {
    "tags": []
   },
   "outputs": [],
   "source": [
    "import numpy as np\n",
    "import pandas as pd"
   ]
  },
  {
   "cell_type": "code",
   "execution_count": 2,
   "id": "ca16d861-8a1b-4c84-a58c-a04f9933e69c",
   "metadata": {
    "tags": []
   },
   "outputs": [],
   "source": [
    "model = keras.Sequential([\n",
    "    layers.Dense(64, activation=\"relu\"),\n",
    "    layers.Dense(10, activation=\"softmax\")\n",
    "])"
   ]
  },
  {
   "cell_type": "code",
   "execution_count": 4,
   "id": "76a9e5bb-afbd-4dbf-ae47-15af4ee3a6ca",
   "metadata": {
    "tags": []
   },
   "outputs": [],
   "source": [
    "model.build(input_shape = (None, 3))"
   ]
  },
  {
   "cell_type": "code",
   "execution_count": 5,
   "id": "889eb1b2-fc45-438d-a093-bd85c90056a0",
   "metadata": {
    "collapsed": true,
    "jupyter": {
     "outputs_hidden": true
    },
    "tags": []
   },
   "outputs": [
    {
     "data": {
      "text/plain": [
       "[<tf.Variable 'dense/kernel:0' shape=(3, 64) dtype=float32, numpy=\n",
       " array([[-0.23271327, -0.01091275, -0.24526855, -0.28311324, -0.15847969,\n",
       "         -0.09378399, -0.00290263,  0.19833124,  0.09009448,  0.12105903,\n",
       "          0.10189354,  0.01844102,  0.1311363 ,  0.21590817, -0.24590749,\n",
       "          0.0301913 ,  0.21820718,  0.04414338, -0.01455122,  0.16951442,\n",
       "         -0.27732888, -0.24928635, -0.18442091, -0.10523011, -0.22602487,\n",
       "         -0.11566068,  0.06144133,  0.0228779 ,  0.03345925, -0.240353  ,\n",
       "          0.05440527, -0.05827929, -0.0975731 , -0.13812591, -0.28754675,\n",
       "         -0.0211747 ,  0.13423556,  0.00120947,  0.2885905 , -0.25823504,\n",
       "         -0.09130509,  0.2614901 , -0.01828334,  0.23945409,  0.28696305,\n",
       "          0.07985055, -0.26289052, -0.09601095, -0.2697456 , -0.19373167,\n",
       "         -0.01763994,  0.24599129, -0.1580367 ,  0.08169073,  0.13834101,\n",
       "         -0.1683962 , -0.14904585,  0.1766068 ,  0.26309907, -0.10577099,\n",
       "          0.10814217, -0.03690818,  0.25627017, -0.04086801],\n",
       "        [ 0.04423368,  0.2618295 ,  0.03888363, -0.25231582, -0.1333711 ,\n",
       "         -0.18036202,  0.06820002, -0.21879987, -0.17776012, -0.17766222,\n",
       "         -0.09715101,  0.27677977,  0.10639149, -0.25329557, -0.2851475 ,\n",
       "         -0.207892  ,  0.16715989,  0.1261648 , -0.01784128,  0.25706387,\n",
       "          0.20613152,  0.03378937,  0.27145535,  0.19587272,  0.24463814,\n",
       "         -0.10286565,  0.00424531, -0.12058522,  0.22979516,  0.2764501 ,\n",
       "          0.18668717,  0.29583442,  0.23566896,  0.02889085, -0.25931758,\n",
       "         -0.00730342,  0.06129628, -0.22707133,  0.10896087,  0.03934968,\n",
       "          0.20606703,  0.09481055,  0.09796923,  0.09087828, -0.00206274,\n",
       "         -0.19063526, -0.14622842, -0.16293056,  0.08511642, -0.25713527,\n",
       "         -0.15328367, -0.07750621, -0.20515803, -0.04748413, -0.1367584 ,\n",
       "          0.2515095 ,  0.05738959,  0.10979149, -0.19892734,  0.10991642,\n",
       "          0.14687067, -0.23991965, -0.2344423 ,  0.21178508],\n",
       "        [ 0.12071058,  0.1777483 ,  0.20152336, -0.2625718 ,  0.02943859,\n",
       "          0.00092101,  0.25101632,  0.18086082, -0.00842935,  0.24555802,\n",
       "         -0.21033236,  0.01291946,  0.06068677, -0.12770148, -0.20351848,\n",
       "         -0.07135613,  0.28342324,  0.28041172, -0.07187098, -0.28867155,\n",
       "         -0.19136679,  0.25824845, -0.26507652, -0.02401504, -0.28872964,\n",
       "         -0.1296711 , -0.20473038, -0.17520425,  0.23207891,  0.25026333,\n",
       "          0.07259837,  0.00220686, -0.033351  , -0.22734174,  0.02202865,\n",
       "         -0.27307743, -0.10951288, -0.16962501,  0.07068667, -0.08343618,\n",
       "         -0.05115262,  0.09793982, -0.18517569,  0.22403634, -0.27344674,\n",
       "         -0.00216398, -0.10775453,  0.09301656,  0.29655474,  0.2322635 ,\n",
       "         -0.19352105,  0.09033048,  0.19729227, -0.0045526 , -0.07560779,\n",
       "          0.13859403,  0.00929415,  0.01584178,  0.08609051,  0.05268401,\n",
       "         -0.2747472 , -0.2900477 , -0.27380598, -0.24409033]],\n",
       "       dtype=float32)>,\n",
       " <tf.Variable 'dense/bias:0' shape=(64,) dtype=float32, numpy=\n",
       " array([0., 0., 0., 0., 0., 0., 0., 0., 0., 0., 0., 0., 0., 0., 0., 0., 0.,\n",
       "        0., 0., 0., 0., 0., 0., 0., 0., 0., 0., 0., 0., 0., 0., 0., 0., 0.,\n",
       "        0., 0., 0., 0., 0., 0., 0., 0., 0., 0., 0., 0., 0., 0., 0., 0., 0.,\n",
       "        0., 0., 0., 0., 0., 0., 0., 0., 0., 0., 0., 0., 0.], dtype=float32)>,\n",
       " <tf.Variable 'dense_1/kernel:0' shape=(64, 10) dtype=float32, numpy=\n",
       " array([[-2.40261316e-01, -1.34507939e-01, -1.03895798e-01,\n",
       "         -1.37198508e-01,  7.50360191e-02,  2.70519882e-01,\n",
       "         -2.59218514e-01, -2.39189342e-01,  2.49681622e-01,\n",
       "          1.48548692e-01],\n",
       "        [ 2.05400616e-01, -2.20724195e-01,  2.80957133e-01,\n",
       "          2.34496564e-01, -2.72541940e-02, -8.18323344e-02,\n",
       "         -8.40309858e-02,  1.54213130e-01, -2.37394899e-01,\n",
       "         -7.02426434e-02],\n",
       "        [ 1.71801448e-01, -2.47213095e-01, -6.08028769e-02,\n",
       "         -7.31282085e-02, -2.12216347e-01,  1.51905239e-01,\n",
       "          2.38501996e-01, -1.93177402e-01, -5.68528175e-02,\n",
       "         -2.17997164e-01],\n",
       "        [ 2.53727704e-01, -2.70490825e-01, -2.31546193e-01,\n",
       "         -1.84535176e-01, -9.84491259e-02,  5.77706099e-02,\n",
       "          2.69554883e-01,  1.23426735e-01, -2.69944370e-01,\n",
       "         -1.84479654e-01],\n",
       "        [ 7.13696778e-02,  2.13366389e-01, -3.89655381e-02,\n",
       "          2.13717699e-01, -1.05222151e-01,  2.37975717e-02,\n",
       "          1.75122350e-01,  2.29281187e-02, -2.33055055e-02,\n",
       "          2.54043013e-01],\n",
       "        [ 8.12355280e-02,  4.46225405e-02,  6.33794069e-02,\n",
       "         -1.32140025e-01, -1.37287378e-02,  1.49493963e-01,\n",
       "         -1.32040977e-01, -1.20920554e-01, -2.24452198e-01,\n",
       "          1.67577267e-02],\n",
       "        [ 3.81032825e-02,  9.22213197e-02,  2.04024583e-01,\n",
       "         -1.40348077e-03,  6.15552962e-02,  2.17592567e-01,\n",
       "          9.85708535e-02,  2.25034058e-02, -2.56427944e-01,\n",
       "         -1.71457231e-01],\n",
       "        [ 1.31891638e-01, -1.50154129e-01,  2.82852679e-01,\n",
       "          1.86006814e-01,  1.12550110e-01, -6.30009919e-02,\n",
       "          2.51129866e-02,  2.57289499e-01,  1.82343125e-01,\n",
       "         -2.70133525e-01],\n",
       "        [-1.23541534e-01, -1.22484773e-01, -6.45111799e-02,\n",
       "         -5.21268547e-02, -1.75230026e-01, -4.46875095e-02,\n",
       "          1.01481408e-01, -9.23032612e-02, -1.28397241e-01,\n",
       "         -2.53904641e-01],\n",
       "        [ 2.66795486e-01, -4.21919674e-02,  2.01298296e-01,\n",
       "          2.63163894e-01, -7.38760680e-02,  2.38338202e-01,\n",
       "         -7.81861395e-02,  2.78231829e-01, -3.32520604e-02,\n",
       "         -1.48481473e-01],\n",
       "        [ 2.83087641e-01, -1.27566949e-01, -1.09375268e-01,\n",
       "         -1.34189799e-01,  4.66626585e-02, -1.02377534e-01,\n",
       "          1.85047328e-01,  1.62810534e-01, -7.39419460e-03,\n",
       "         -5.12995571e-02],\n",
       "        [ 2.34326869e-01, -1.80448115e-01,  1.16132885e-01,\n",
       "         -2.17955142e-01, -2.68607974e-01, -7.62632489e-02,\n",
       "          1.45863205e-01,  1.00119144e-01,  2.28380173e-01,\n",
       "          1.67900473e-01],\n",
       "        [ 3.79740894e-02,  2.32235998e-01, -2.59724379e-01,\n",
       "         -2.19651014e-01,  2.99853683e-02,  2.05417991e-01,\n",
       "         -1.47113502e-01,  9.83015299e-02, -2.46461213e-01,\n",
       "          2.17241019e-01],\n",
       "        [-1.51488274e-01,  1.95475847e-01,  1.62279665e-01,\n",
       "          2.65414506e-01, -8.64956975e-02,  2.44244844e-01,\n",
       "          5.41241467e-02, -9.99182463e-04,  1.37167364e-01,\n",
       "          4.78378832e-02],\n",
       "        [-2.50960290e-01, -2.25129455e-01, -7.08167851e-02,\n",
       "          2.42486745e-01,  2.68354744e-01,  2.24989086e-01,\n",
       "          2.29473084e-01,  1.71316028e-01,  7.44889081e-02,\n",
       "         -6.89626038e-02],\n",
       "        [ 1.89532429e-01, -8.33695382e-02, -8.38129967e-02,\n",
       "          1.47570342e-01, -2.05521196e-01, -1.44356325e-01,\n",
       "         -1.85952842e-01, -2.57311523e-01,  2.99557149e-02,\n",
       "          9.74457860e-02],\n",
       "        [-1.57670662e-01, -2.43683159e-02,  2.39279717e-01,\n",
       "          2.24134326e-03,  2.68126577e-01,  1.50880754e-01,\n",
       "         -7.10791796e-02, -2.34903172e-01,  2.83802658e-01,\n",
       "         -1.14789411e-01],\n",
       "        [ 6.88029826e-02,  2.59620517e-01,  1.03761375e-01,\n",
       "          2.64590949e-01, -2.01889530e-01, -6.89324588e-02,\n",
       "         -2.47551993e-01,  4.14404273e-02, -2.69749761e-03,\n",
       "         -6.61487281e-02],\n",
       "        [-2.39955813e-01, -1.91564083e-01, -2.57529855e-01,\n",
       "          1.45300388e-01, -2.03033686e-02,  2.06870764e-01,\n",
       "          1.06879592e-01,  1.28673464e-01,  2.56640106e-01,\n",
       "         -1.64697930e-01],\n",
       "        [-1.46725386e-01, -2.66399622e-01, -1.14167288e-01,\n",
       "          2.38287598e-01,  6.75629973e-02, -1.69053227e-01,\n",
       "          1.17659152e-01,  2.14477181e-02,  2.40339905e-01,\n",
       "          8.78423452e-03],\n",
       "        [-2.32860997e-01, -1.36016294e-01, -1.76248848e-01,\n",
       "         -1.14785612e-01,  2.61415035e-01, -1.69995517e-01,\n",
       "          6.59412742e-02, -5.00941277e-03,  2.03866184e-01,\n",
       "          5.05149364e-05],\n",
       "        [ 5.57255745e-02,  1.34670377e-01,  4.74429131e-02,\n",
       "         -2.36741275e-01,  2.27436095e-01, -1.99660867e-01,\n",
       "          1.57295465e-02,  9.88401771e-02, -1.88786387e-01,\n",
       "         -1.97643399e-01],\n",
       "        [ 2.31785923e-01,  9.88690257e-02, -5.37017435e-02,\n",
       "         -2.67282724e-01,  5.83901107e-02,  2.14802921e-02,\n",
       "         -1.40825078e-01,  1.85853601e-01,  2.44286656e-02,\n",
       "         -2.68734097e-02],\n",
       "        [-1.91540793e-01, -9.32997465e-02,  2.06644416e-01,\n",
       "         -2.84329265e-01, -7.62974620e-02,  3.41373384e-02,\n",
       "         -1.18165016e-02,  2.12633580e-01, -1.50447339e-01,\n",
       "          2.76280850e-01],\n",
       "        [-3.10938060e-02, -3.93287539e-02, -8.45713168e-02,\n",
       "         -1.11707255e-01,  1.75508231e-01,  2.34480113e-01,\n",
       "          1.72851473e-01,  1.98721886e-01,  1.43022716e-01,\n",
       "          4.53166962e-02],\n",
       "        [-1.06316254e-01, -2.57018179e-01, -2.12633386e-01,\n",
       "         -3.75419706e-02,  2.56202668e-01,  1.65040016e-01,\n",
       "         -1.96888685e-01, -2.51572996e-01,  1.75801605e-01,\n",
       "         -2.24994212e-01],\n",
       "        [-4.80573177e-02, -2.45452732e-01, -1.04176044e-01,\n",
       "         -2.69033372e-01, -8.24362636e-02, -2.36048937e-01,\n",
       "          3.09363604e-02, -2.39613175e-01, -1.07614487e-01,\n",
       "          1.39332473e-01],\n",
       "        [-1.45142078e-01,  2.28366762e-01, -2.17007339e-01,\n",
       "          9.04554129e-03,  2.82391399e-01, -8.02841187e-02,\n",
       "         -2.01313764e-01, -1.70809627e-02,  2.41699189e-01,\n",
       "          9.85915661e-02],\n",
       "        [-8.67712647e-02, -1.53607026e-01, -1.40383318e-01,\n",
       "          3.91996205e-02, -1.66413695e-01, -6.00622743e-02,\n",
       "         -9.66985375e-02,  1.94457859e-01,  1.83177143e-01,\n",
       "          2.25423247e-01],\n",
       "        [-2.46905148e-01,  2.38668710e-01, -2.62251049e-01,\n",
       "          1.57403529e-01, -2.33145118e-01, -1.37918472e-01,\n",
       "         -2.70402282e-01,  2.34953076e-01,  2.70723969e-01,\n",
       "         -6.31870031e-02],\n",
       "        [ 1.17284954e-01, -1.64030984e-01, -1.92338496e-01,\n",
       "          2.05980986e-01,  4.64129448e-03, -2.37232581e-01,\n",
       "         -2.75349766e-01,  1.54292583e-01,  1.69429988e-01,\n",
       "         -4.42443192e-02],\n",
       "        [ 5.52082658e-02,  2.41236478e-01, -2.65905797e-01,\n",
       "          1.96832478e-01,  5.06780446e-02,  2.46721894e-01,\n",
       "          1.87746614e-01, -1.59339100e-01, -3.66575122e-02,\n",
       "          4.66635823e-03],\n",
       "        [ 2.24983364e-01,  8.88042748e-02,  1.59269720e-01,\n",
       "          1.96432412e-01, -4.88688648e-02,  8.45922232e-02,\n",
       "         -1.66556939e-01, -1.26445562e-01, -6.74762279e-02,\n",
       "         -1.53004915e-01],\n",
       "        [ 2.14562118e-01, -2.61500478e-03,  7.20709562e-02,\n",
       "          7.46374428e-02,  1.00318521e-01,  1.77857697e-01,\n",
       "          2.64226824e-01,  2.70808727e-01, -2.43514016e-01,\n",
       "          8.17975104e-02],\n",
       "        [ 1.06096566e-01, -6.73107952e-02, -3.82246077e-02,\n",
       "          8.07798505e-02, -8.23286623e-02, -5.09515405e-03,\n",
       "         -1.80796266e-01, -2.51681894e-01, -1.29255295e-01,\n",
       "         -1.15521401e-01],\n",
       "        [-2.72765100e-01, -1.12299651e-01,  3.84225547e-02,\n",
       "         -2.36141980e-02,  2.06636548e-01, -8.22888762e-02,\n",
       "          1.70454323e-01, -2.32832685e-01,  2.19227284e-01,\n",
       "         -1.04873538e-01],\n",
       "        [-5.44314235e-02,  2.60336667e-01, -2.76125073e-02,\n",
       "         -8.52789879e-02,  1.88850701e-01, -1.65931672e-01,\n",
       "         -1.04544953e-01,  1.02938831e-01,  1.94666475e-01,\n",
       "          1.33056343e-01],\n",
       "        [ 9.55145657e-02,  1.35002702e-01,  7.98125565e-02,\n",
       "         -1.36220157e-01, -1.47580653e-01, -2.73698241e-01,\n",
       "          8.66641998e-02,  2.72314548e-02, -1.26725271e-01,\n",
       "         -1.26278400e-02],\n",
       "        [ 1.19073272e-01, -2.35062435e-01, -2.48400062e-01,\n",
       "          1.39292270e-01,  5.85002899e-02, -1.05541572e-01,\n",
       "         -8.46588910e-02,  2.25000530e-01,  1.90367997e-01,\n",
       "          1.65672809e-01],\n",
       "        [ 7.01728463e-03, -1.99123189e-01, -7.33328909e-02,\n",
       "         -1.14276916e-01,  1.45500064e-01, -2.44382724e-01,\n",
       "         -2.32910424e-01, -2.44498670e-01, -1.23809904e-01,\n",
       "          1.14373803e-01],\n",
       "        [ 7.37924278e-02, -5.37286997e-02,  1.73631310e-01,\n",
       "          2.11759448e-01, -1.23006374e-01,  8.51133466e-02,\n",
       "          1.78654641e-01,  4.56149280e-02,  2.79630214e-01,\n",
       "         -2.49596879e-01],\n",
       "        [-2.44470641e-01, -2.00935349e-01, -4.43718880e-02,\n",
       "          7.49823153e-02, -2.00019121e-01,  3.99281979e-02,\n",
       "         -1.90370589e-01,  1.55838668e-01,  2.57455915e-01,\n",
       "         -6.34406358e-02],\n",
       "        [-1.32105067e-01,  1.01583838e-01,  2.12266743e-02,\n",
       "          2.53117830e-01,  1.71946704e-01, -2.19002873e-01,\n",
       "         -1.36971623e-01,  5.11324108e-02, -2.18933761e-01,\n",
       "          4.01422381e-03],\n",
       "        [ 2.13662922e-01, -5.69853336e-02,  2.35106558e-01,\n",
       "          7.88150728e-02, -6.65155351e-02,  2.73695320e-01,\n",
       "          1.03192121e-01,  5.31381369e-03, -6.01837337e-02,\n",
       "          2.63369888e-01],\n",
       "        [ 2.70124942e-01,  1.77049249e-01, -8.98232162e-02,\n",
       "          1.59411550e-01, -1.78741604e-01, -3.98036987e-02,\n",
       "         -1.19770303e-01,  2.50386506e-01,  4.91428673e-02,\n",
       "          2.51236290e-01],\n",
       "        [ 1.69948637e-02, -2.18085825e-01, -1.04488537e-01,\n",
       "         -5.25576770e-02, -1.32450759e-01,  1.54148936e-02,\n",
       "         -1.27422079e-01, -2.10607231e-01, -8.10308307e-02,\n",
       "          8.97058249e-02],\n",
       "        [-2.53527373e-01, -3.28738689e-02, -1.62682295e-01,\n",
       "          1.76676065e-01, -1.04052350e-01, -2.61168420e-01,\n",
       "          1.99137717e-01, -5.45387566e-02, -6.86222762e-02,\n",
       "         -4.64409441e-02],\n",
       "        [ 1.86527371e-02, -3.52195650e-02, -5.57419509e-02,\n",
       "          2.19897300e-01, -2.50143439e-01, -2.13811189e-01,\n",
       "         -1.02221861e-01,  6.33355379e-02, -2.57058024e-01,\n",
       "          8.09904933e-02],\n",
       "        [-2.01980770e-02, -1.59805506e-01, -6.82277679e-02,\n",
       "          7.41975904e-02,  1.97023928e-01,  1.94557726e-01,\n",
       "          2.78777272e-01, -7.12347031e-03,  2.34100252e-01,\n",
       "         -2.24772483e-01],\n",
       "        [-1.33253932e-02, -1.41861334e-01,  2.33229846e-01,\n",
       "          1.68570608e-01, -1.33329511e-01,  2.10912466e-01,\n",
       "         -7.25130588e-02,  3.23984921e-02, -1.06318220e-01,\n",
       "          2.71374553e-01],\n",
       "        [-7.78033882e-02,  4.71158326e-02,  2.25054771e-01,\n",
       "         -7.37812221e-02, -1.44548520e-01, -1.51836544e-01,\n",
       "          1.90441251e-01, -5.56629896e-03, -4.99141514e-02,\n",
       "          1.18604302e-02],\n",
       "        [-3.17333937e-02,  2.58197755e-01, -1.31820142e-02,\n",
       "         -1.94301575e-01, -6.31013960e-02,  2.21997112e-01,\n",
       "          1.93889558e-01,  1.84145898e-01,  1.95271164e-01,\n",
       "          1.29261732e-01],\n",
       "        [-1.41021892e-01, -2.42696494e-01, -1.71861440e-01,\n",
       "          2.31324106e-01,  1.33431971e-01, -1.21788308e-01,\n",
       "         -1.31292775e-01, -8.74933302e-02,  1.08221024e-01,\n",
       "          9.40263569e-02],\n",
       "        [-1.32043079e-01, -1.38795406e-01,  9.91513133e-02,\n",
       "          2.30503947e-01,  1.83321267e-01,  7.43575990e-02,\n",
       "         -2.30901986e-01, -1.13233536e-01,  3.31049562e-02,\n",
       "          2.73405582e-01],\n",
       "        [-1.25873536e-01, -2.51520246e-01,  1.16638243e-02,\n",
       "          3.22628617e-02,  2.61262029e-01,  3.39174271e-03,\n",
       "          2.64914781e-01, -1.85387805e-01,  1.67190462e-01,\n",
       "         -1.38623297e-01],\n",
       "        [-3.30064297e-02,  2.01495081e-01, -1.33683756e-01,\n",
       "         -8.79035741e-02, -1.01679564e-02, -1.08780965e-01,\n",
       "          1.04117125e-01,  2.71582574e-01,  2.04841763e-01,\n",
       "         -2.42602408e-01],\n",
       "        [ 1.18057042e-01,  2.19051808e-01, -2.11424887e-01,\n",
       "          1.11118108e-01, -1.30618632e-01,  1.71430081e-01,\n",
       "          8.16291571e-03, -2.72262335e-01,  8.03148746e-03,\n",
       "          1.03079379e-01],\n",
       "        [-1.16044611e-01,  4.58947122e-02, -2.11055160e-01,\n",
       "         -2.32688352e-01, -5.66267520e-02,  2.53737479e-01,\n",
       "          7.11300969e-02, -4.13572788e-02,  1.71877801e-01,\n",
       "          1.25176907e-01],\n",
       "        [-6.78010136e-02, -1.29650816e-01,  2.53603011e-01,\n",
       "          1.30662084e-01,  2.07115710e-01, -1.18917271e-01,\n",
       "         -1.81135908e-01, -2.38333941e-01, -1.02435231e-01,\n",
       "          2.40763336e-01],\n",
       "        [-2.57782996e-01, -5.64219207e-02, -1.71023965e-01,\n",
       "          1.40136629e-01, -2.78446257e-01, -1.31280959e-01,\n",
       "          1.13936514e-01,  6.07565045e-02, -2.23324418e-01,\n",
       "          1.99598819e-01],\n",
       "        [-4.54274267e-02, -2.12710291e-01, -2.80860752e-01,\n",
       "         -3.18894088e-02, -2.66343653e-02, -7.73898661e-02,\n",
       "          2.11884379e-02,  1.09229028e-01,  1.81318253e-01,\n",
       "         -1.84969664e-01],\n",
       "        [-1.47828788e-01, -1.04263827e-01, -1.40027791e-01,\n",
       "          7.53142238e-02,  2.75811046e-01, -1.25628456e-01,\n",
       "         -5.72687685e-02, -1.38888478e-01, -1.25639513e-01,\n",
       "         -9.40021276e-02],\n",
       "        [ 1.98201180e-01,  2.20469147e-01,  1.99656188e-01,\n",
       "          1.60261869e-01, -2.07699612e-01,  2.70052522e-01,\n",
       "         -1.55913234e-02,  9.53756571e-02,  1.93349779e-01,\n",
       "          2.15623409e-01],\n",
       "        [-1.61620915e-01,  2.74105757e-01, -2.18856901e-01,\n",
       "          5.07615507e-02, -2.46926457e-01,  1.72776461e-01,\n",
       "          9.38666761e-02,  2.72708505e-01,  4.12669182e-02,\n",
       "         -1.68170601e-01]], dtype=float32)>,\n",
       " <tf.Variable 'dense_1/bias:0' shape=(10,) dtype=float32, numpy=array([0., 0., 0., 0., 0., 0., 0., 0., 0., 0.], dtype=float32)>]"
      ]
     },
     "execution_count": 5,
     "metadata": {},
     "output_type": "execute_result"
    }
   ],
   "source": [
    "model.weights"
   ]
  },
  {
   "cell_type": "code",
   "execution_count": 6,
   "id": "8081a27a-74dd-414a-96e5-e68f1f52c3a4",
   "metadata": {
    "tags": []
   },
   "outputs": [
    {
     "name": "stdout",
     "output_type": "stream",
     "text": [
      "Model: \"sequential\"\n",
      "_________________________________________________________________\n",
      " Layer (type)                Output Shape              Param #   \n",
      "=================================================================\n",
      " dense (Dense)               (None, 64)                256       \n",
      "                                                                 \n",
      " dense_1 (Dense)             (None, 10)                650       \n",
      "                                                                 \n",
      "=================================================================\n",
      "Total params: 906 (3.54 KB)\n",
      "Trainable params: 906 (3.54 KB)\n",
      "Non-trainable params: 0 (0.00 Byte)\n",
      "_________________________________________________________________\n"
     ]
    }
   ],
   "source": [
    "model.summary()"
   ]
  },
  {
   "cell_type": "code",
   "execution_count": 7,
   "id": "995ce4f9-3f57-41bb-b6e4-b13e3610d407",
   "metadata": {
    "tags": []
   },
   "outputs": [],
   "source": [
    "# 함수형\n",
    "\n",
    "inputs = keras.Input(shape=(3,),name=\"my_input\")\n",
    "features = layers.Dense(64, activation = \"relu\")(inputs)\n",
    "outputs = layers.Dense(10,activation=\"softmax\")(features)\n",
    "model = keras.Model(inputs = inputs, outputs=outputs)"
   ]
  },
  {
   "cell_type": "code",
   "execution_count": 8,
   "id": "a68e5142-0f85-4a4a-8955-d148d41870c2",
   "metadata": {
    "tags": []
   },
   "outputs": [
    {
     "name": "stdout",
     "output_type": "stream",
     "text": [
      "Model: \"model\"\n",
      "_________________________________________________________________\n",
      " Layer (type)                Output Shape              Param #   \n",
      "=================================================================\n",
      " my_input (InputLayer)       [(None, 3)]               0         \n",
      "                                                                 \n",
      " dense_2 (Dense)             (None, 64)                256       \n",
      "                                                                 \n",
      " dense_3 (Dense)             (None, 10)                650       \n",
      "                                                                 \n",
      "=================================================================\n",
      "Total params: 906 (3.54 KB)\n",
      "Trainable params: 906 (3.54 KB)\n",
      "Non-trainable params: 0 (0.00 Byte)\n",
      "_________________________________________________________________\n"
     ]
    }
   ],
   "source": [
    "model.summary()"
   ]
  },
  {
   "cell_type": "code",
   "execution_count": 13,
   "id": "793d1a29-0a94-4ba6-a065-7543501ccc5e",
   "metadata": {
    "tags": []
   },
   "outputs": [],
   "source": [
    "vocabulary_size=10000\n",
    "num_tags=100\n",
    "num_departments=4"
   ]
  },
  {
   "cell_type": "code",
   "execution_count": 14,
   "id": "766acd69-4a47-42c5-8505-17e6502f32d1",
   "metadata": {
    "tags": []
   },
   "outputs": [],
   "source": [
    "title=keras.Input(shape=(vocabulary_size,),name=\"title\")\n",
    "text_body=keras.Input(shape=(vocabulary_size,),name=\"text_body\")\n",
    "tags=keras.Input(shape=(num_tags,),name='tags')\n",
    "\n",
    "features = layers.Concatenate()([title,text_body,tags])\n",
    "features=layers.Dense(64, activation=\"relu\")(features)\n",
    "\n",
    "priority = layers.Dense(1, activation=\"sigmoid\", name=\"priority\")(features)\n",
    "department=layers.Dense(\n",
    "    num_departments, activation=\"softmax\", name=\"department\")(features)\n",
    "    \n",
    "model = keras.Model(inputs=[title, text_body, tags],\n",
    "                    outputs=[priority, department])"
   ]
  },
  {
   "cell_type": "code",
   "execution_count": 16,
   "id": "65a52f61-d8c1-4b6e-b6b6-ed9377a73b4c",
   "metadata": {
    "tags": []
   },
   "outputs": [],
   "source": [
    "num_samples=1280"
   ]
  },
  {
   "cell_type": "code",
   "execution_count": 18,
   "id": "8dc94211-1b39-45d5-a16b-725042507ef8",
   "metadata": {
    "tags": []
   },
   "outputs": [],
   "source": [
    "title_data = np.random.randint(0, 2, size=(num_samples, vocabulary_size))\n",
    "text_body_data=np.random.randint(0, 2, size=(num_samples, vocabulary_size))\n",
    "tags_data=np.random.randint(0, 2, size=(num_samples, num_tags))\n",
    "\n",
    "priority_data=np.random.random(size=(num_samples, 1))\n",
    "department_data=np.random.randint(0, 2, size=(num_samples, num_departments))"
   ]
  },
  {
   "cell_type": "code",
   "execution_count": 20,
   "id": "58ab6345-8bc9-41a2-9ef7-f276d56d97cb",
   "metadata": {
    "tags": []
   },
   "outputs": [
    {
     "name": "stdout",
     "output_type": "stream",
     "text": [
      "40/40 [==============================] - 2s 20ms/step - loss: 32.7151 - priority_loss: 0.3297 - department_loss: 32.3854 - priority_mean_absolute_error: 0.4975 - department_accuracy: 0.2445\n",
      "40/40 [==============================] - 1s 8ms/step - loss: 22.9355 - priority_loss: 0.3380 - department_loss: 22.5975 - priority_mean_absolute_error: 0.5046 - department_accuracy: 0.0648\n",
      "40/40 [==============================] - 0s 7ms/step\n"
     ]
    }
   ],
   "source": [
    "model.compile(optimizer=\"rmsprop\",\n",
    "              loss=[\"mean_squared_error\", \"categorical_crossentropy\"],\n",
    "              metrics=[[\"mean_absolute_error\"], [\"accuracy\"]])\n",
    "\n",
    "model.fit([title_data, text_body_data, tags_data],\n",
    "         [priority_data, department_data],\n",
    "         epochs=1)\n",
    "\n",
    "model.evaluate([title_data, text_body_data, tags_data],\n",
    "               [priority_data, department_data])\n",
    "\n",
    "priority_preds, department_preds = model.predict(\n",
    "    [title_data, text_body_data, tags_data])"
   ]
  },
  {
   "cell_type": "code",
   "execution_count": 22,
   "id": "288f15f4-cf75-4472-b300-3dc69355a401",
   "metadata": {
    "tags": []
   },
   "outputs": [
    {
     "name": "stdout",
     "output_type": "stream",
     "text": [
      "40/40 [==============================] - 2s 23ms/step - loss: 45.0778 - priority_loss: 0.3380 - department_loss: 44.7398 - priority_mean_absolute_error: 0.5046 - department_accuracy: 0.2531\n",
      "40/40 [==============================] - 1s 8ms/step - loss: 17.7942 - priority_loss: 0.3380 - department_loss: 17.4562 - priority_mean_absolute_error: 0.5046 - department_accuracy: 0.1430\n",
      "40/40 [==============================] - 0s 7ms/step\n"
     ]
    }
   ],
   "source": [
    "model.compile(optimizer=\"rmsprop\",\n",
    "              loss={\"priority\" : \"mean_squared_error\", \"department\" : \"categorical_crossentropy\"},\n",
    "              metrics={\"priority\" : [\"mean_absolute_error\"], \"department\" : [\"accuracy\"]})\n",
    "\n",
    "model.fit({\"title\" : title_data, \"text_body\" : text_body_data, \"tags\" : tags_data},\n",
    "         {\"priority\" : priority_data, \"department\" : department_data},\n",
    "         epochs=1)\n",
    "\n",
    "model.evaluate({\"title\" : title_data, \"text_body\" : text_body_data, \"tags\" : tags_data},\n",
    "               {\"priority\" : priority_data, \"department\" : department_data})\n",
    "\n",
    "priority_preds, department_preds = model.predict(\n",
    "    {\"title\" : title_data, \"text_body\" : text_body_data, \"tags\" : tags_data})"
   ]
  },
  {
   "cell_type": "code",
   "execution_count": 23,
   "id": "b1125a6e-586d-4f39-acf4-b088eeeec2fb",
   "metadata": {
    "tags": []
   },
   "outputs": [
    {
     "data": {
      "text/plain": [
       "[<keras.src.engine.input_layer.InputLayer at 0x1d562afa310>,\n",
       " <keras.src.engine.input_layer.InputLayer at 0x1d562e57c10>,\n",
       " <keras.src.engine.input_layer.InputLayer at 0x1d562e56a10>,\n",
       " <keras.src.layers.merging.concatenate.Concatenate at 0x1d562e56050>,\n",
       " <keras.src.layers.core.dense.Dense at 0x1d562b0c3d0>,\n",
       " <keras.src.layers.core.dense.Dense at 0x1d562e54150>,\n",
       " <keras.src.layers.core.dense.Dense at 0x1d562e33b50>]"
      ]
     },
     "execution_count": 23,
     "metadata": {},
     "output_type": "execute_result"
    }
   ],
   "source": [
    "model.layers"
   ]
  },
  {
   "cell_type": "code",
   "execution_count": 24,
   "id": "5ed20b00-4123-47a0-a0bf-59e5a04514fe",
   "metadata": {
    "tags": []
   },
   "outputs": [
    {
     "data": {
      "text/plain": [
       "[<KerasTensor: shape=(None, 10000) dtype=float32 (created by layer 'title')>,\n",
       " <KerasTensor: shape=(None, 10000) dtype=float32 (created by layer 'text_body')>,\n",
       " <KerasTensor: shape=(None, 100) dtype=float32 (created by layer 'tags')>]"
      ]
     },
     "execution_count": 24,
     "metadata": {},
     "output_type": "execute_result"
    }
   ],
   "source": [
    "model.layers[3].input"
   ]
  },
  {
   "cell_type": "code",
   "execution_count": 25,
   "id": "307b0021-7ac2-4246-a484-4fb8482bf2be",
   "metadata": {
    "tags": []
   },
   "outputs": [
    {
     "data": {
      "text/plain": [
       "<KerasTensor: shape=(None, 20100) dtype=float32 (created by layer 'concatenate_1')>"
      ]
     },
     "execution_count": 25,
     "metadata": {},
     "output_type": "execute_result"
    }
   ],
   "source": [
    "model.layers[3].output"
   ]
  },
  {
   "cell_type": "code",
   "execution_count": 28,
   "id": "47a15d0a-3914-4ba3-8a70-0dde75710189",
   "metadata": {
    "tags": []
   },
   "outputs": [],
   "source": [
    "features = model.layers[4].output\n",
    "difficulty = layers.Dense(3, activation=\"softmax\", name=\"difficulty\")(features)\n",
    "new_model = keras.Model(\n",
    "    inputs=[title, text_body, tags],\n",
    "    outputs=[priority, department, difficulty])"
   ]
  },
  {
   "cell_type": "code",
   "execution_count": 30,
   "id": "7a3e7617-9b4d-40c0-9625-fe29e2f043bf",
   "metadata": {
    "tags": []
   },
   "outputs": [
    {
     "name": "stdout",
     "output_type": "stream",
     "text": [
      "Requirement already satisfied: pydot in c:\\users\\user\\anaconda3\\lib\\site-packages (2.0.0)\n",
      "Requirement already satisfied: pyparsing>=3 in c:\\users\\user\\anaconda3\\lib\\site-packages (from pydot) (3.0.9)\n"
     ]
    },
    {
     "name": "stderr",
     "output_type": "stream",
     "text": [
      "DEPRECATION: Loading egg at c:\\users\\user\\anaconda3\\lib\\site-packages\\huggingface_hub-0.23.4-py3.8.egg is deprecated. pip 24.3 will enforce this behaviour change. A possible replacement is to use pip for package installation.. Discussion can be found at https://github.com/pypa/pip/issues/12330\n",
      "DEPRECATION: mecab-python 0.996-ko-0.9.2-msvc has a non-standard version number. pip 24.1 will enforce this behaviour change. A possible replacement is to upgrade to a newer version of mecab-python or contact the author to suggest that they release a version with a conforming version number. Discussion can be found at https://github.com/pypa/pip/issues/12063\n"
     ]
    }
   ],
   "source": [
    "#!pip install pydot"
   ]
  },
  {
   "cell_type": "code",
   "execution_count": 31,
   "id": "59c70b78-0fff-4de6-acf3-b68ff56d59c7",
   "metadata": {
    "tags": []
   },
   "outputs": [
    {
     "name": "stdout",
     "output_type": "stream",
     "text": [
      "You must install pydot (`pip install pydot`) and install graphviz (see instructions at https://graphviz.gitlab.io/download/) for plot_model to work.\n"
     ]
    }
   ],
   "source": [
    "keras.utils.plot_model(\n",
    "    new_model, \"updated_ticket_classifier.png\", show_shapes=True)"
   ]
  },
  {
   "cell_type": "code",
   "execution_count": 33,
   "id": "8d6ae7e0-71a8-4fb8-b45b-389795475679",
   "metadata": {
    "tags": []
   },
   "outputs": [],
   "source": [
    "class CustomerTicketModel(keras.Model):\n",
    "    def __init__(self, num_departments):\n",
    "        super().__init__()\n",
    "        self.concat_layer = layers.Concatenate()\n",
    "        self.mixing_layer= layers.Dense(64, activation=\"relu\")\n",
    "        self.priority_scorer = layers.Dense(1, activation=\"sigmoid\")\n",
    "        self.department_classifier = layers.Dense(num_departments, activation='softmax')\n",
    "        \n",
    "    def call(self, inputs):\n",
    "        title = inputs[\"title\"]\n",
    "        text_body=inputs[\"text_body\"]\n",
    "        tags=inputs[\"tags\"]\n",
    "        features = self.concat_layer([title, text_body, tags])\n",
    "        features = self.mixing_layer(features)\n",
    "        priority = self.priority_scorer(features)\n",
    "        department = self.department_classifier(features)\n",
    "        return priority, department"
   ]
  },
  {
   "cell_type": "code",
   "execution_count": 34,
   "id": "8c045a26-cf84-4ea1-83ad-29f837e39926",
   "metadata": {
    "tags": []
   },
   "outputs": [],
   "source": [
    "model = CustomerTicketModel(num_departments=4)\n",
    "priority, department=model(\n",
    "    {\"title\" : title_data, \"text_body\" : text_body_data, \"tags\" : tags_data})"
   ]
  },
  {
   "cell_type": "code",
   "execution_count": 36,
   "id": "65c21543-ebdb-4005-ac0d-5265aeeca5c3",
   "metadata": {
    "tags": []
   },
   "outputs": [
    {
     "name": "stdout",
     "output_type": "stream",
     "text": [
      "40/40 [==============================] - 1s 14ms/step - loss: 42.4892 - output_1_loss: 0.3344 - output_2_loss: 42.1548 - output_1_mean_absolute_error: 0.5013 - output_2_accuracy: 0.2289\n",
      "40/40 [==============================] - 0s 4ms/step - loss: 27.9168 - output_1_loss: 0.3380 - output_2_loss: 27.5789 - output_1_mean_absolute_error: 0.5046 - output_2_accuracy: 0.1430\n",
      "40/40 [==============================] - 0s 4ms/step\n"
     ]
    }
   ],
   "source": [
    "model.compile(optimizer=\"rmsprop\",\n",
    "              loss=[\"mean_squared_error\", \"categorical_crossentropy\"],\n",
    "              metrics=[[\"mean_absolute_error\"], [\"accuracy\"]])\n",
    "\n",
    "model.fit({\"title\" : title_data, \"text_body\" : text_body_data, \"tags\" : tags_data},\n",
    "         [priority_data,department_data],\n",
    "         epochs=1)\n",
    "\n",
    "model.evaluate({\"title\" : title_data, \"text_body\" : text_body_data, \"tags\" : tags_data},\n",
    "               [priority_data,department_data])\n",
    "\n",
    "priority_preds, department_preds = model.predict(\n",
    "    {\"title\" : title_data, \"text_body\" : text_body_data, \"tags\" : tags_data})"
   ]
  },
  {
   "cell_type": "code",
   "execution_count": 39,
   "id": "148183ad-73ba-4c2f-afb3-6d844cd32c78",
   "metadata": {
    "tags": []
   },
   "outputs": [],
   "source": [
    "class Classifier(keras.Model):\n",
    "    def __init__(self, num_classes=2):\n",
    "        super().__init__()\n",
    "        if num_classes == 2:\n",
    "            num_units = 1\n",
    "            activation = \"sigmoid\"\n",
    "        else:\n",
    "            num_units = num_classes\n",
    "            activation = \"softmax\"\n",
    "        self.dense = layers.Dense(num_units, activation = activation)\n",
    "    def call(self, inputs):\n",
    "        return self.dense(inputs)"
   ]
  },
  {
   "cell_type": "code",
   "execution_count": 40,
   "id": "75d743f3-e796-4325-8f1c-164f0937b759",
   "metadata": {
    "tags": []
   },
   "outputs": [],
   "source": [
    "inputs = keras.Input(shape=(3,))\n",
    "features = layers.Dense(64, activation = \"relu\")(inputs)\n",
    "outputs = Classifier(num_classes = 10)(features)\n",
    "model = keras.Model(inputs = inputs, outputs=outputs)"
   ]
  },
  {
   "cell_type": "code",
   "execution_count": 41,
   "id": "16bf3959-6cbe-4865-94e6-def1bd6fe469",
   "metadata": {
    "tags": []
   },
   "outputs": [],
   "source": [
    "inputs = keras.Input(shape=(64,))\n",
    "outputs = layers.Dense(1, activation = \"sigmoid\")(inputs)\n",
    "binary_classifier = keras.Model(inputs=inputs, outputs=outputs)"
   ]
  },
  {
   "cell_type": "code",
   "execution_count": 42,
   "id": "9d0f99a9-bbb2-4103-af51-0c4b6d5754cb",
   "metadata": {
    "tags": []
   },
   "outputs": [],
   "source": [
    "class MyModel(keras.Model):\n",
    "    def __init__(self, num_classes=2):\n",
    "        super().__init__()\n",
    "        self.dense = layers.Dense(64, activation = \"relu\")\n",
    "        self.classifier = binary_classifier\n",
    "    def call(self, inputs):\n",
    "        features = self.dense(inputs)\n",
    "        return self.classifier(features)"
   ]
  },
  {
   "cell_type": "code",
   "execution_count": 43,
   "id": "a33d5ae2-2fe4-486e-b9aa-512fec88ac0f",
   "metadata": {
    "tags": []
   },
   "outputs": [],
   "source": [
    "model = MyModel()"
   ]
  },
  {
   "cell_type": "code",
   "execution_count": null,
   "id": "d21c8c26-ed22-4ffb-8974-216aedcc3d3d",
   "metadata": {},
   "outputs": [],
   "source": [
    "# 273p"
   ]
  },
  {
   "cell_type": "code",
   "execution_count": 45,
   "id": "f629ecdd-e14d-40d4-ab25-0cd5bb35be5a",
   "metadata": {
    "tags": []
   },
   "outputs": [],
   "source": [
    "from tensorflow.keras.datasets import mnist"
   ]
  },
  {
   "cell_type": "code",
   "execution_count": 46,
   "id": "8e568ace-b21b-4173-b5a8-20f4541da480",
   "metadata": {
    "tags": []
   },
   "outputs": [],
   "source": [
    "def get_mnist_model():\n",
    "    inputs = keras.Input(shape=(28*28,))\n",
    "    features = layers.Dense(512, activation = \"relu\")(inputs)\n",
    "    features = layers.Dropout(0.5)(features)\n",
    "    outputs = layers.Dense(10,activation=\"softmax\")(features)\n",
    "    model = keras.Model(inputs, outputs)\n",
    "    return model"
   ]
  },
  {
   "cell_type": "code",
   "execution_count": 49,
   "id": "14576644-8cce-4b6b-b5eb-2a334ed23fc4",
   "metadata": {
    "tags": []
   },
   "outputs": [],
   "source": [
    "(images, labels), (test_images, test_labels) = mnist.load_data()\n",
    "images = images.reshape((60000, 28*28)).astype('float32') /255\n",
    "test_images = test_images.reshape((10000, 28*28)).astype('float32') /255\n",
    "train_images, val_images = images[10000:], images[:10000]\n",
    "train_labels, val_labels = labels[10000:], labels[:10000]"
   ]
  },
  {
   "cell_type": "code",
   "execution_count": 51,
   "id": "131a4280-ad54-4a97-a093-85ae5c869074",
   "metadata": {
    "tags": []
   },
   "outputs": [],
   "source": [
    "model = get_mnist_model()\n",
    "\n",
    "loss_fn = keras.losses.SparseCategoricalCrossentropy()\n",
    "optimizer=keras.optimizers.RMSprop()\n",
    "metrics = [keras.metrics.SparseCategoricalAccuracy()]\n",
    "loss_tracking_metric = keras.metrics.Mean()"
   ]
  },
  {
   "cell_type": "code",
   "execution_count": 52,
   "id": "239ee48a-13df-46e5-8d3c-bb0d5b08464d",
   "metadata": {
    "tags": []
   },
   "outputs": [],
   "source": [
    "def train_step(inputs, targets):\n",
    "    with tf.GradientTape() as tape:\n",
    "        predictions = model(inputs, training=True)\n",
    "        loss=loss_fn(targets, predictions)\n",
    "    gradients=tape.gradient(loss, model.trainable_weights)\n",
    "    optimizer.apply_gradients(zip(gradients, model.trainable_weights))\n",
    "    logs = {}\n",
    "    for metric in metrics:\n",
    "        metric.update_state(targets, predictions)\n",
    "        logs[metric.name] = metric.result()\n",
    "    loss_tracking_metric.update_state(loss)\n",
    "    logs[\"loss\"] = loss_tracking_metric.result()\n",
    "    return logs"
   ]
  },
  {
   "cell_type": "code",
   "execution_count": 53,
   "id": "dc1e3653-714b-4c0e-9611-aebc3e80e99d",
   "metadata": {
    "tags": []
   },
   "outputs": [],
   "source": [
    "def reset_metrics():\n",
    "    for metric in metrics:\n",
    "        metric.reset_state()\n",
    "    loss_tracking_metric.reset_state()"
   ]
  },
  {
   "cell_type": "code",
   "execution_count": 54,
   "id": "cb1bae99-683c-40bf-9517-33ba9fd83dab",
   "metadata": {
    "tags": []
   },
   "outputs": [
    {
     "name": "stdout",
     "output_type": "stream",
     "text": [
      "0번째 에포크 결과\n",
      "...sparse_categorical_accuracy : 0.9143\n",
      "...loss : 0.2905\n"
     ]
    },
    {
     "ename": "KeyboardInterrupt",
     "evalue": "",
     "output_type": "error",
     "traceback": [
      "\u001b[1;31m---------------------------------------------------------------------------\u001b[0m",
      "\u001b[1;31mKeyboardInterrupt\u001b[0m                         Traceback (most recent call last)",
      "\u001b[1;32m<ipython-input-54-9f37ecfb2b4b>\u001b[0m in \u001b[0;36m<module>\u001b[1;34m\u001b[0m\n\u001b[0;32m      6\u001b[0m     \u001b[0mreset_metrics\u001b[0m\u001b[1;33m(\u001b[0m\u001b[1;33m)\u001b[0m\u001b[1;33m\u001b[0m\u001b[1;33m\u001b[0m\u001b[0m\n\u001b[0;32m      7\u001b[0m     \u001b[1;32mfor\u001b[0m \u001b[0minputs_batch\u001b[0m\u001b[1;33m,\u001b[0m \u001b[0mtargets_batch\u001b[0m \u001b[1;32min\u001b[0m \u001b[0mtraining_dataset\u001b[0m\u001b[1;33m:\u001b[0m\u001b[1;33m\u001b[0m\u001b[1;33m\u001b[0m\u001b[0m\n\u001b[1;32m----> 8\u001b[1;33m         \u001b[0mlogs\u001b[0m \u001b[1;33m=\u001b[0m \u001b[0mtrain_step\u001b[0m\u001b[1;33m(\u001b[0m\u001b[0minputs_batch\u001b[0m\u001b[1;33m,\u001b[0m \u001b[0mtargets_batch\u001b[0m\u001b[1;33m)\u001b[0m\u001b[1;33m\u001b[0m\u001b[1;33m\u001b[0m\u001b[0m\n\u001b[0m\u001b[0;32m      9\u001b[0m     \u001b[0mprint\u001b[0m\u001b[1;33m(\u001b[0m\u001b[1;34mf\"{epoch}번째 에포크 결과\"\u001b[0m\u001b[1;33m)\u001b[0m\u001b[1;33m\u001b[0m\u001b[1;33m\u001b[0m\u001b[0m\n\u001b[0;32m     10\u001b[0m     \u001b[1;32mfor\u001b[0m \u001b[0mkey\u001b[0m\u001b[1;33m,\u001b[0m \u001b[0mvalue\u001b[0m \u001b[1;32min\u001b[0m \u001b[0mlogs\u001b[0m\u001b[1;33m.\u001b[0m\u001b[0mitems\u001b[0m\u001b[1;33m(\u001b[0m\u001b[1;33m)\u001b[0m\u001b[1;33m:\u001b[0m\u001b[1;33m\u001b[0m\u001b[1;33m\u001b[0m\u001b[0m\n",
      "\u001b[1;31mKeyboardInterrupt\u001b[0m: "
     ]
    }
   ],
   "source": [
    "training_dataset = tf.data.Dataset.from_tensor_slices(\n",
    "    (train_images, train_labels))\n",
    "training_dataset = training_dataset.batch(32)\n",
    "epochs = 3\n",
    "for epoch in range(epochs):\n",
    "    reset_metrics()\n",
    "    for inputs_batch, targets_batch in training_dataset:\n",
    "        logs = train_step(inputs_batch, targets_batch)\n",
    "    print(f\"{epoch}번째 에포크 결과\")\n",
    "    for key, value in logs.items():\n",
    "        print(f\"...{key} : {value:.4f}\")"
   ]
  },
  {
   "cell_type": "code",
   "execution_count": null,
   "id": "db6118c6-ffa6-4f9b-82f3-dd080b030159",
   "metadata": {
    "tags": []
   },
   "outputs": [],
   "source": [
    "def test_step(inputs, targets):\n",
    "    predictions = model(inputs, training=False)\n",
    "    loss=loss_fn(targets, predictions)\n",
    "    \n",
    "    logs = {}\n",
    "    for metric in metrics:\n",
    "        metric.update_state(targets, predictions)\n",
    "        logs[\"val_\" + metric.name] = metric.result()\n",
    "        \n",
    "    loss_tracking_metric.update_state(loss)\n",
    "    logs[\"val_loss\"] = loss_tracking_metric.result()\n",
    "    return.logs"
   ]
  },
  {
   "cell_type": "code",
   "execution_count": null,
   "id": "4d46b834-abee-4c9c-b72f-95c557e49474",
   "metadata": {},
   "outputs": [],
   "source": [
    "val_dataset = tf.data.Dataset.from_tensor_slices(\n",
    "    (val_images, val_labels))\n",
    "training_dataset = training_dataset.batch(32)\n",
    "reset_metrics()\n",
    "for inputs_batch, targets_batch in val_dataset:\n",
    "    logs = test_step(inputs_batch, targets_batch)\n",
    "print(\"평가 결과 : \")\n",
    "for key, value in logs.items():\n",
    "    print(f\"...{key} : {value:.4f}\")"
   ]
  },
  {
   "cell_type": "code",
   "execution_count": null,
   "id": "7fbb65d4-aeeb-4af6-ab33-3f0ce20a65c9",
   "metadata": {},
   "outputs": [],
   "source": [
    "@tf.function\n",
    "def test_step(inputs, targets):\n",
    "    predictions = model(inputs, training=False)\n",
    "    loss=loss_fn(targets, predictions)\n",
    "    \n",
    "    logs = {}\n",
    "    for metric in metrics:\n",
    "        metric.update_state(targets, predictions)\n",
    "        logs[\"val_\" + metric.name] = metric.result()\n",
    "        \n",
    "    loss_tracking_metric.update_state(loss)\n",
    "    logs[\"val_loss\"] = loss_tracking_metric.result()\n",
    "    return.logs"
   ]
  },
  {
   "cell_type": "code",
   "execution_count": null,
   "id": "644ad302-ed47-4f8c-a342-2d00136b18c7",
   "metadata": {},
   "outputs": [],
   "source": [
    "val_dataset = tf.data.Dataset.from_tensor_slices(\n",
    "    (val_images, val_labels))\n",
    "training_dataset = training_dataset.batch(32)\n",
    "reset_metrics()\n",
    "for inputs_batch, targets_batch in val_dataset:\n",
    "    logs = test_step(inputs_batch, targets_batch)\n",
    "print(\"평가 결과 : \")\n",
    "for key, value in logs.items():\n",
    "    print(f\"...{key} : {value:.4f}\")"
   ]
  }
 ],
 "metadata": {
  "kernelspec": {
   "display_name": "Python 3",
   "language": "python",
   "name": "python3"
  },
  "language_info": {
   "codemirror_mode": {
    "name": "ipython",
    "version": 3
   },
   "file_extension": ".py",
   "mimetype": "text/x-python",
   "name": "python",
   "nbconvert_exporter": "python",
   "pygments_lexer": "ipython3",
   "version": "3.11.4"
  }
 },
 "nbformat": 4,
 "nbformat_minor": 5
}
