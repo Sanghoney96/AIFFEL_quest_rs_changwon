{
 "cells": [
  {
   "cell_type": "code",
   "execution_count": 1,
   "id": "b6a1405f-2eb2-42ec-ae59-1e137f529d3a",
   "metadata": {
    "tags": []
   },
   "outputs": [
    {
     "name": "stderr",
     "output_type": "stream",
     "text": [
      "C:\\Users\\USER\\anaconda3\\Lib\\site-packages\\pandas\\core\\arrays\\masked.py:60: UserWarning: Pandas requires version '1.3.6' or newer of 'bottleneck' (version '1.3.5' currently installed).\n",
      "  from pandas.core import (\n"
     ]
    }
   ],
   "source": [
    "import tensorflow as tf\n",
    "from tensorflow import keras\n",
    "from tensorflow.keras import layers"
   ]
  },
  {
   "cell_type": "code",
   "execution_count": 2,
   "id": "4b42a3e1-2e64-4fd1-9693-70c06ff4786c",
   "metadata": {
    "tags": []
   },
   "outputs": [],
   "source": [
    "import numpy as np\n",
    "import pandas as pd"
   ]
  },
  {
   "cell_type": "code",
   "execution_count": 3,
   "id": "f629ecdd-e14d-40d4-ab25-0cd5bb35be5a",
   "metadata": {
    "tags": []
   },
   "outputs": [],
   "source": [
    "from tensorflow.keras.datasets import mnist"
   ]
  },
  {
   "cell_type": "code",
   "execution_count": 4,
   "id": "8e568ace-b21b-4173-b5a8-20f4541da480",
   "metadata": {
    "tags": []
   },
   "outputs": [],
   "source": [
    "# 모델 생성 함수\n",
    "def get_mnist_model():\n",
    "    inputs = keras.Input(shape=(28*28,))\n",
    "    features = layers.Dense(512, activation = \"relu\")(inputs)\n",
    "    features = layers.Dropout(0.5)(features)\n",
    "    outputs = layers.Dense(10,activation=\"softmax\")(features)\n",
    "    model = keras.Model(inputs, outputs)\n",
    "    return model"
   ]
  },
  {
   "cell_type": "code",
   "execution_count": 5,
   "id": "14576644-8cce-4b6b-b5eb-2a334ed23fc4",
   "metadata": {
    "tags": []
   },
   "outputs": [],
   "source": [
    "# 훈련/테스트 데이터 불러오기\n",
    "(images, labels), (test_images, test_labels) = mnist.load_data()\n",
    "images = images.reshape((60000, 28*28)).astype('float32') /255\n",
    "test_images = test_images.reshape((10000, 28*28)).astype('float32') /255\n",
    "train_images, val_images = images[10000:], images[:10000]\n",
    "train_labels, val_labels = labels[10000:], labels[:10000]"
   ]
  },
  {
   "cell_type": "code",
   "execution_count": 6,
   "id": "131a4280-ad54-4a97-a093-85ae5c869074",
   "metadata": {
    "tags": []
   },
   "outputs": [],
   "source": [
    "#모델 및 손실함수, 옵티마이저, 평가지표, 손실평균값 준비\n",
    "\n",
    "model = get_mnist_model()\n",
    "\n",
    "loss_fn = keras.losses.SparseCategoricalCrossentropy()\n",
    "optimizer=keras.optimizers.RMSprop()\n",
    "metrics = [keras.metrics.SparseCategoricalAccuracy()]\n",
    "loss_tracking_metric = keras.metrics.Mean()"
   ]
  },
  {
   "cell_type": "markdown",
   "id": "2bd1a906-ef81-4fe1-b7ef-7b6c9176237e",
   "metadata": {},
   "source": [
    "### -------- 훈련 및 검증 메서드 사용자 정의 루프 활용 ---------"
   ]
  },
  {
   "cell_type": "code",
   "execution_count": 7,
   "id": "239ee48a-13df-46e5-8d3c-bb0d5b08464d",
   "metadata": {
    "tags": []
   },
   "outputs": [],
   "source": [
    "# 훈련 스텝 함수\n",
    "\n",
    "def train_step(inputs, targets):\n",
    "    with tf.GradientTape() as tape:\n",
    "        predictions = model(inputs, training=True)\n",
    "        loss=loss_fn(targets, predictions)\n",
    "    gradients=tape.gradient(loss, model.trainable_weights)\n",
    "    optimizer.apply_gradients(zip(gradients, model.trainable_weights))\n",
    "    logs = {}\n",
    "    for metric in metrics:\n",
    "        metric.update_state(targets, predictions)\n",
    "        logs[metric.name] = metric.result()\n",
    "    loss_tracking_metric.update_state(loss)\n",
    "    logs[\"loss\"] = loss_tracking_metric.result()\n",
    "    return logs"
   ]
  },
  {
   "cell_type": "code",
   "execution_count": 8,
   "id": "dc1e3653-714b-4c0e-9611-aebc3e80e99d",
   "metadata": {
    "tags": []
   },
   "outputs": [],
   "source": [
    "# 지표 초기화\n",
    "\n",
    "def reset_metrics():\n",
    "    for metric in metrics:\n",
    "        metric.reset_state()\n",
    "    loss_tracking_metric.reset_state()"
   ]
  },
  {
   "cell_type": "code",
   "execution_count": 9,
   "id": "cb1bae99-683c-40bf-9517-33ba9fd83dab",
   "metadata": {
    "tags": []
   },
   "outputs": [
    {
     "name": "stdout",
     "output_type": "stream",
     "text": [
      "0번째 에포크 결과\n",
      "...sparse_categorical_accuracy : 0.9129\n",
      "...loss : 0.2883\n",
      "1번째 에포크 결과\n",
      "...sparse_categorical_accuracy : 0.9544\n",
      "...loss : 0.1595\n",
      "2번째 에포크 결과\n",
      "...sparse_categorical_accuracy : 0.9628\n",
      "...loss : 0.1319\n"
     ]
    }
   ],
   "source": [
    "# 훈련 실행 루프\n",
    "\n",
    "training_dataset = tf.data.Dataset.from_tensor_slices(\n",
    "    (train_images, train_labels))\n",
    "training_dataset = training_dataset.batch(32)\n",
    "epochs = 3\n",
    "for epoch in range(epochs):\n",
    "    reset_metrics()\n",
    "    for inputs_batch, targets_batch in training_dataset:\n",
    "        logs = train_step(inputs_batch, targets_batch)\n",
    "    print(f\"{epoch}번째 에포크 결과\")\n",
    "    for key, value in logs.items():\n",
    "        print(f\"...{key} : {value:.4f}\")"
   ]
  },
  {
   "cell_type": "code",
   "execution_count": 11,
   "id": "db6118c6-ffa6-4f9b-82f3-dd080b030159",
   "metadata": {
    "tags": []
   },
   "outputs": [],
   "source": [
    "# 검증 및 테스트 위한 스텝 함수\n",
    "\n",
    "def test_step(inputs, targets):\n",
    "    predictions = model(inputs, training=False)\n",
    "    loss=loss_fn(targets, predictions)\n",
    "    \n",
    "    logs = {}\n",
    "    for metric in metrics:\n",
    "        metric.update_state(targets, predictions)\n",
    "        logs[\"val_\" + metric.name] = metric.result()\n",
    "        \n",
    "    loss_tracking_metric.update_state(loss)\n",
    "    logs[\"val_loss\"] = loss_tracking_metric.result()\n",
    "    return logs"
   ]
  },
  {
   "cell_type": "code",
   "execution_count": 13,
   "id": "4d46b834-abee-4c9c-b72f-95c557e49474",
   "metadata": {},
   "outputs": [
    {
     "name": "stdout",
     "output_type": "stream",
     "text": [
      "평가 결과 : \n",
      "...val_sparse_categorical_accuracy : 0.9664\n",
      "...val_loss : 0.1221\n"
     ]
    }
   ],
   "source": [
    "# 검증/테스트 수행\n",
    "val_dataset = tf.data.Dataset.from_tensor_slices(\n",
    "    (val_images, val_labels))\n",
    "val_dataset = val_dataset.batch(32)\n",
    "reset_metrics()\n",
    "for inputs_batch, targets_batch in val_dataset:\n",
    "    logs = test_step(inputs_batch, targets_batch)\n",
    "print(\"평가 결과 : \")\n",
    "for key, value in logs.items():\n",
    "    print(f\"...{key} : {value:.4f}\")"
   ]
  },
  {
   "cell_type": "code",
   "execution_count": 15,
   "id": "7fbb65d4-aeeb-4af6-ab33-3f0ce20a65c9",
   "metadata": {},
   "outputs": [],
   "source": [
    "# tf function 데코레이터 추가\n",
    "@tf.function\n",
    "def test_step(inputs, targets):\n",
    "    predictions = model(inputs, training=False)\n",
    "    loss=loss_fn(targets, predictions)\n",
    "    \n",
    "    logs = {}\n",
    "    for metric in metrics:\n",
    "        metric.update_state(targets, predictions)\n",
    "        logs[\"val_\" + metric.name] = metric.result()\n",
    "        \n",
    "    loss_tracking_metric.update_state(loss)\n",
    "    logs[\"val_loss\"] = loss_tracking_metric.result()\n",
    "    return logs"
   ]
  },
  {
   "cell_type": "code",
   "execution_count": 17,
   "id": "644ad302-ed47-4f8c-a342-2d00136b18c7",
   "metadata": {},
   "outputs": [
    {
     "name": "stdout",
     "output_type": "stream",
     "text": [
      "평가 결과 : \n",
      "...val_sparse_categorical_accuracy : 0.9664\n",
      "...val_loss : 0.1221\n"
     ]
    }
   ],
   "source": [
    "# 검증/테스트 수행\n",
    "val_dataset = tf.data.Dataset.from_tensor_slices(\n",
    "    (val_images, val_labels))\n",
    "val_dataset = val_dataset.batch(32)\n",
    "reset_metrics()\n",
    "for inputs_batch, targets_batch in val_dataset:\n",
    "    logs = test_step(inputs_batch, targets_batch)\n",
    "print(\"평가 결과 : \")\n",
    "for key, value in logs.items():\n",
    "    print(f\"...{key} : {value:.4f}\")"
   ]
  },
  {
   "cell_type": "markdown",
   "id": "b85e8189-4bc2-4ef6-9d43-625b715665a1",
   "metadata": {},
   "source": [
    "### -------- fit() 메서드로 사용자 정의 루프 활용 ---------"
   ]
  },
  {
   "cell_type": "code",
   "execution_count": 18,
   "id": "4fe03eb6-d9da-4966-83a4-a7db4441757a",
   "metadata": {},
   "outputs": [],
   "source": [
    "# Code 7-26\n",
    "loss_fn = keras.losses.SparseCategoricalCrossentropy()\n",
    "loss_tracker = keras.metrics.Mean(name=\"loss\")\n",
    "\n",
    "class CustomModel(keras.Model):\n",
    "    def train_step(self, data):\n",
    "        inputs, targets = data\n",
    "        with tf.GradientTape() as tape:\n",
    "            predictions = self(inputs, training=True)\n",
    "            loss = loss_fn(targets, predictions)\n",
    "        gradients = tape.gradient(loss, self.trainable_weights)\n",
    "        self.optimizer.apply_gradients(zip(gradients, self.trainable_weights))\n",
    "        loss_tracker.update_state(loss)\n",
    "        return {\"loss\": loss_tracker.result()}\n",
    "\n",
    "    @property\n",
    "    def metrics(self):\n",
    "        return [loss_tracker]\n"
   ]
  },
  {
   "cell_type": "code",
   "execution_count": 19,
   "id": "81f87ebb-c5a3-44f4-a9e8-9e78c4776c58",
   "metadata": {},
   "outputs": [
    {
     "name": "stdout",
     "output_type": "stream",
     "text": [
      "Epoch 1/3\n",
      "1563/1563 [==============================] - 13s 8ms/step - loss: 0.2943\n",
      "Epoch 2/3\n",
      "1563/1563 [==============================] - 13s 8ms/step - loss: 0.1589\n",
      "Epoch 3/3\n",
      "1563/1563 [==============================] - 14s 9ms/step - loss: 0.1264\n"
     ]
    },
    {
     "data": {
      "text/plain": [
       "<keras.src.callbacks.History at 0x24606fc3cd0>"
      ]
     },
     "execution_count": 19,
     "metadata": {},
     "output_type": "execute_result"
    }
   ],
   "source": [
    "# page 277 학습 실행\n",
    "inputs = keras.Input(shape=(28 * 28, ))\n",
    "features = layers.Dense(512, activation=\"relu\")(inputs)\n",
    "features = layers.Dropout(0.5)(features)\n",
    "outputs = layers.Dense(10, activation=\"softmax\")(features)\n",
    "model = CustomModel(inputs, outputs)\n",
    "\n",
    "model.compile(optimizer=keras.optimizers.RMSprop())\n",
    "model.fit(train_images, train_labels, epochs=3)"
   ]
  }
 ],
 "metadata": {
  "kernelspec": {
   "display_name": "Python 3",
   "language": "python",
   "name": "python3"
  },
  "language_info": {
   "codemirror_mode": {
    "name": "ipython",
    "version": 3
   },
   "file_extension": ".py",
   "mimetype": "text/x-python",
   "name": "python",
   "nbconvert_exporter": "python",
   "pygments_lexer": "ipython3",
   "version": "3.11.4"
  }
 },
 "nbformat": 4,
 "nbformat_minor": 5
}
