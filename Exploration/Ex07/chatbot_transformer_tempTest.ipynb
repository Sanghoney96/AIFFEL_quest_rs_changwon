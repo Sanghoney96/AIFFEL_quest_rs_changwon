{
 "cells": [
  {
   "cell_type": "code",
   "execution_count": 1,
   "id": "9c272960",
   "metadata": {},
   "outputs": [],
   "source": [
    "import pandas as pd\n",
    "import numpy as np\n",
    "import matplotlib.pyplot as plt\n",
    "import tensorflow as tf\n",
    "from tensorflow import keras"
   ]
  },
  {
   "cell_type": "code",
   "execution_count": 2,
   "id": "a77770e7",
   "metadata": {
    "scrolled": true
   },
   "outputs": [
    {
     "data": {
      "text/html": [
       "<div>\n",
       "<style scoped>\n",
       "    .dataframe tbody tr th:only-of-type {\n",
       "        vertical-align: middle;\n",
       "    }\n",
       "\n",
       "    .dataframe tbody tr th {\n",
       "        vertical-align: top;\n",
       "    }\n",
       "\n",
       "    .dataframe thead th {\n",
       "        text-align: right;\n",
       "    }\n",
       "</style>\n",
       "<table border=\"1\" class=\"dataframe\">\n",
       "  <thead>\n",
       "    <tr style=\"text-align: right;\">\n",
       "      <th></th>\n",
       "      <th>Q</th>\n",
       "      <th>A</th>\n",
       "      <th>label</th>\n",
       "    </tr>\n",
       "  </thead>\n",
       "  <tbody>\n",
       "    <tr>\n",
       "      <th>0</th>\n",
       "      <td>12시 땡!</td>\n",
       "      <td>하루가 또 가네요.</td>\n",
       "      <td>0</td>\n",
       "    </tr>\n",
       "    <tr>\n",
       "      <th>1</th>\n",
       "      <td>1지망 학교 떨어졌어</td>\n",
       "      <td>위로해 드립니다.</td>\n",
       "      <td>0</td>\n",
       "    </tr>\n",
       "    <tr>\n",
       "      <th>2</th>\n",
       "      <td>3박4일 놀러가고 싶다</td>\n",
       "      <td>여행은 언제나 좋죠.</td>\n",
       "      <td>0</td>\n",
       "    </tr>\n",
       "    <tr>\n",
       "      <th>3</th>\n",
       "      <td>3박4일 정도 놀러가고 싶다</td>\n",
       "      <td>여행은 언제나 좋죠.</td>\n",
       "      <td>0</td>\n",
       "    </tr>\n",
       "    <tr>\n",
       "      <th>4</th>\n",
       "      <td>PPL 심하네</td>\n",
       "      <td>눈살이 찌푸려지죠.</td>\n",
       "      <td>0</td>\n",
       "    </tr>\n",
       "    <tr>\n",
       "      <th>...</th>\n",
       "      <td>...</td>\n",
       "      <td>...</td>\n",
       "      <td>...</td>\n",
       "    </tr>\n",
       "    <tr>\n",
       "      <th>11818</th>\n",
       "      <td>훔쳐보는 것도 눈치 보임.</td>\n",
       "      <td>티가 나니까 눈치가 보이는 거죠!</td>\n",
       "      <td>2</td>\n",
       "    </tr>\n",
       "    <tr>\n",
       "      <th>11819</th>\n",
       "      <td>훔쳐보는 것도 눈치 보임.</td>\n",
       "      <td>훔쳐보는 거 티나나봐요.</td>\n",
       "      <td>2</td>\n",
       "    </tr>\n",
       "    <tr>\n",
       "      <th>11820</th>\n",
       "      <td>흑기사 해주는 짝남.</td>\n",
       "      <td>설렜겠어요.</td>\n",
       "      <td>2</td>\n",
       "    </tr>\n",
       "    <tr>\n",
       "      <th>11821</th>\n",
       "      <td>힘든 연애 좋은 연애라는게 무슨 차이일까?</td>\n",
       "      <td>잘 헤어질 수 있는 사이 여부인 거 같아요.</td>\n",
       "      <td>2</td>\n",
       "    </tr>\n",
       "    <tr>\n",
       "      <th>11822</th>\n",
       "      <td>힘들어서 결혼할까봐</td>\n",
       "      <td>도피성 결혼은 하지 않길 바라요.</td>\n",
       "      <td>2</td>\n",
       "    </tr>\n",
       "  </tbody>\n",
       "</table>\n",
       "<p>11823 rows × 3 columns</p>\n",
       "</div>"
      ],
      "text/plain": [
       "                             Q                         A  label\n",
       "0                       12시 땡!                하루가 또 가네요.      0\n",
       "1                  1지망 학교 떨어졌어                 위로해 드립니다.      0\n",
       "2                 3박4일 놀러가고 싶다               여행은 언제나 좋죠.      0\n",
       "3              3박4일 정도 놀러가고 싶다               여행은 언제나 좋죠.      0\n",
       "4                      PPL 심하네                눈살이 찌푸려지죠.      0\n",
       "...                        ...                       ...    ...\n",
       "11818           훔쳐보는 것도 눈치 보임.        티가 나니까 눈치가 보이는 거죠!      2\n",
       "11819           훔쳐보는 것도 눈치 보임.             훔쳐보는 거 티나나봐요.      2\n",
       "11820              흑기사 해주는 짝남.                    설렜겠어요.      2\n",
       "11821  힘든 연애 좋은 연애라는게 무슨 차이일까?  잘 헤어질 수 있는 사이 여부인 거 같아요.      2\n",
       "11822               힘들어서 결혼할까봐        도피성 결혼은 하지 않길 바라요.      2\n",
       "\n",
       "[11823 rows x 3 columns]"
      ]
     },
     "execution_count": 2,
     "metadata": {},
     "output_type": "execute_result"
    }
   ],
   "source": [
    "# 데이터 확인\n",
    "data = pd.read_csv('data/ChatbotData .csv')\n",
    "data"
   ]
  },
  {
   "cell_type": "code",
   "execution_count": 3,
   "id": "4f451a24",
   "metadata": {},
   "outputs": [],
   "source": [
    "# 원본 데이터 별도 확보\n",
    "data_origin = data"
   ]
  },
  {
   "cell_type": "code",
   "execution_count": 4,
   "id": "b29b92ef",
   "metadata": {},
   "outputs": [
    {
     "data": {
      "text/plain": [
       "Q        56\n",
       "A        76\n",
       "label     1\n",
       "dtype: int64"
      ]
     },
     "execution_count": 4,
     "metadata": {},
     "output_type": "execute_result"
    }
   ],
   "source": [
    "# 각 컬럼별 최대 문장길이\n",
    "data.astype(str).applymap(len).max()"
   ]
  },
  {
   "cell_type": "code",
   "execution_count": 5,
   "id": "9d77f37c",
   "metadata": {},
   "outputs": [],
   "source": [
    "import re"
   ]
  },
  {
   "cell_type": "code",
   "execution_count": 6,
   "id": "b3c88151",
   "metadata": {},
   "outputs": [],
   "source": [
    "# 특수기호 찾아내는 함수 생성\n",
    "\n",
    "def find_all_special_chars(df):\n",
    "    pattern = re.compile(r\"[^가-힣a-zA-Z0-9]\")\n",
    "    all_text = \" \".join(df.astype(str).values.flatten())\n",
    "    special_chars = set(pattern.findall(all_text))\n",
    "\n",
    "    return special_chars"
   ]
  },
  {
   "cell_type": "code",
   "execution_count": 7,
   "id": "99ec776e",
   "metadata": {},
   "outputs": [
    {
     "data": {
      "text/plain": [
       "{' ',\n",
       " '!',\n",
       " '%',\n",
       " \"'\",\n",
       " ',',\n",
       " '-',\n",
       " '.',\n",
       " ';',\n",
       " '?',\n",
       " '_',\n",
       " '~',\n",
       " '…',\n",
       " 'ㅊ',\n",
       " 'ㅋ',\n",
       " 'ㅎ',\n",
       " 'ㅜ',\n",
       " 'ㅠ'}"
      ]
     },
     "execution_count": 7,
     "metadata": {},
     "output_type": "execute_result"
    }
   ],
   "source": [
    "# 사용된 특수기호 목록\n",
    "special_chars = find_all_special_chars(data)\n",
    "special_chars"
   ]
  },
  {
   "cell_type": "code",
   "execution_count": 8,
   "id": "4c1f96fa",
   "metadata": {},
   "outputs": [],
   "source": [
    "# 특수기호 포함된 문장 확인 함수\n",
    "\n",
    "def contains_special_chars(value):\n",
    "    for char in value:\n",
    "        if char in (r'%',',', ';', '_', '-', '~', '…', 'ㅊ', 'ㅋ', 'ㅎ', 'ㅜ', 'ㅠ'):\n",
    "            return True\n",
    "    return False\n",
    "\n",
    "def find_special_symbols(df):\n",
    "    return df[df.astype(str).applymap(contains_special_chars).any(axis=1)]"
   ]
  },
  {
   "cell_type": "code",
   "execution_count": 9,
   "id": "e81ff28e",
   "metadata": {},
   "outputs": [],
   "source": [
    "# 특수기호가 포함된 문장 전체 확인을 위해 csv 파일로 저장\n",
    "#find_special_symbols(data).to_csv(\"spc_contain_text.csv\")"
   ]
  },
  {
   "cell_type": "code",
   "execution_count": 10,
   "id": "2cb42fa1",
   "metadata": {},
   "outputs": [
    {
     "name": "stdout",
     "output_type": "stream",
     "text": [
      "Q        이별후 8개월이란 시간이 흐르고\n",
      "A         다른 인연이 ㅊ자아올 거예요.\n",
      "label                    1\n",
      "Name: 7622, dtype: object\n",
      "Q                                               사랑의 정의\n",
      "A        내가 원하는 것보다 다른 사람이 원하는 것을 더 우선순위에 두넌 것이에요.-울라프\n",
      "label                                                2\n",
      "Name: 9906, dtype: object\n"
     ]
    }
   ],
   "source": [
    "#7622, 9906번 문장 오타 확인\n",
    "print(data.iloc[7622])\n",
    "print(data.iloc[9906])"
   ]
  },
  {
   "cell_type": "code",
   "execution_count": 11,
   "id": "863ee0d9",
   "metadata": {},
   "outputs": [],
   "source": [
    "# 오타 수정\n",
    "data.iloc[7622, data.columns.get_loc(\"A\")] = \"다른 인연이 찾아올 거예요.\"\n",
    "data.iloc[9906, data.columns.get_loc(\"A\")] = \"내가 원하는 것보다 다른 사람이 원하는 것을 더 우선순위에 두는 것이에요.-울라프\""
   ]
  },
  {
   "cell_type": "code",
   "execution_count": 12,
   "id": "da317818",
   "metadata": {
    "scrolled": true
   },
   "outputs": [
    {
     "data": {
      "text/plain": [
       "Q        이별후 8개월이란 시간이 흐르고\n",
       "A          다른 인연이 찾아올 거예요.\n",
       "label                    1\n",
       "Name: 7622, dtype: object"
      ]
     },
     "metadata": {},
     "output_type": "display_data"
    },
    {
     "data": {
      "text/plain": [
       "Q                                               사랑의 정의\n",
       "A        내가 원하는 것보다 다른 사람이 원하는 것을 더 우선순위에 두는 것이에요.-울라프\n",
       "label                                                2\n",
       "Name: 9906, dtype: object"
      ]
     },
     "metadata": {},
     "output_type": "display_data"
    }
   ],
   "source": [
    "# 오타 수정 결과 확인\n",
    "display(data.iloc[7622])\n",
    "display(data.iloc[9906])"
   ]
  },
  {
   "cell_type": "code",
   "execution_count": 13,
   "id": "468e6371",
   "metadata": {},
   "outputs": [],
   "source": [
    "# 한국어 감정표현을 위해 특수문자는 살리기로 결정\n",
    "# 반복되는 특수문자('ㅋㅋㅋ', 'ㅎㅎ' 등)는 1개 문자로만 표현\n",
    "# 특수기호 처리 함수 생성\n",
    "\n",
    "pattern = r'[!%\\',.;?_~…ㅊㅋㅎㅜㅠ-]+'\n",
    "\n",
    "def clean_text(text):\n",
    "    return re.sub(pattern, lambda m: f' {m.group(0)[0]} ', text).strip()"
   ]
  },
  {
   "cell_type": "code",
   "execution_count": 14,
   "id": "59573461",
   "metadata": {
    "scrolled": false
   },
   "outputs": [
    {
     "data": {
      "text/html": [
       "<div>\n",
       "<style scoped>\n",
       "    .dataframe tbody tr th:only-of-type {\n",
       "        vertical-align: middle;\n",
       "    }\n",
       "\n",
       "    .dataframe tbody tr th {\n",
       "        vertical-align: top;\n",
       "    }\n",
       "\n",
       "    .dataframe thead th {\n",
       "        text-align: right;\n",
       "    }\n",
       "</style>\n",
       "<table border=\"1\" class=\"dataframe\">\n",
       "  <thead>\n",
       "    <tr style=\"text-align: right;\">\n",
       "      <th></th>\n",
       "      <th>Q</th>\n",
       "      <th>A</th>\n",
       "      <th>label</th>\n",
       "    </tr>\n",
       "  </thead>\n",
       "  <tbody>\n",
       "    <tr>\n",
       "      <th>0</th>\n",
       "      <td>12시 땡 !</td>\n",
       "      <td>하루가 또 가네요 .</td>\n",
       "      <td>0</td>\n",
       "    </tr>\n",
       "    <tr>\n",
       "      <th>1</th>\n",
       "      <td>1지망 학교 떨어졌어</td>\n",
       "      <td>위로해 드립니다 .</td>\n",
       "      <td>0</td>\n",
       "    </tr>\n",
       "    <tr>\n",
       "      <th>2</th>\n",
       "      <td>3박4일 놀러가고 싶다</td>\n",
       "      <td>여행은 언제나 좋죠 .</td>\n",
       "      <td>0</td>\n",
       "    </tr>\n",
       "    <tr>\n",
       "      <th>3</th>\n",
       "      <td>3박4일 정도 놀러가고 싶다</td>\n",
       "      <td>여행은 언제나 좋죠 .</td>\n",
       "      <td>0</td>\n",
       "    </tr>\n",
       "    <tr>\n",
       "      <th>4</th>\n",
       "      <td>PPL 심하네</td>\n",
       "      <td>눈살이 찌푸려지죠 .</td>\n",
       "      <td>0</td>\n",
       "    </tr>\n",
       "    <tr>\n",
       "      <th>...</th>\n",
       "      <td>...</td>\n",
       "      <td>...</td>\n",
       "      <td>...</td>\n",
       "    </tr>\n",
       "    <tr>\n",
       "      <th>11818</th>\n",
       "      <td>훔쳐보는 것도 눈치 보임 .</td>\n",
       "      <td>티가 나니까 눈치가 보이는 거죠 !</td>\n",
       "      <td>2</td>\n",
       "    </tr>\n",
       "    <tr>\n",
       "      <th>11819</th>\n",
       "      <td>훔쳐보는 것도 눈치 보임 .</td>\n",
       "      <td>훔쳐보는 거 티나나봐요 .</td>\n",
       "      <td>2</td>\n",
       "    </tr>\n",
       "    <tr>\n",
       "      <th>11820</th>\n",
       "      <td>흑기사 해주는 짝남 .</td>\n",
       "      <td>설렜겠어요 .</td>\n",
       "      <td>2</td>\n",
       "    </tr>\n",
       "    <tr>\n",
       "      <th>11821</th>\n",
       "      <td>힘든 연애 좋은 연애라는게 무슨 차이일까 ?</td>\n",
       "      <td>잘 헤어질 수 있는 사이 여부인 거 같아요 .</td>\n",
       "      <td>2</td>\n",
       "    </tr>\n",
       "    <tr>\n",
       "      <th>11822</th>\n",
       "      <td>힘들어서 결혼할까봐</td>\n",
       "      <td>도피성 결혼은 하지 않길 바라요 .</td>\n",
       "      <td>2</td>\n",
       "    </tr>\n",
       "  </tbody>\n",
       "</table>\n",
       "<p>11823 rows × 3 columns</p>\n",
       "</div>"
      ],
      "text/plain": [
       "                              Q                          A label\n",
       "0                       12시 땡 !                하루가 또 가네요 .     0\n",
       "1                   1지망 학교 떨어졌어                 위로해 드립니다 .     0\n",
       "2                  3박4일 놀러가고 싶다               여행은 언제나 좋죠 .     0\n",
       "3               3박4일 정도 놀러가고 싶다               여행은 언제나 좋죠 .     0\n",
       "4                       PPL 심하네                눈살이 찌푸려지죠 .     0\n",
       "...                         ...                        ...   ...\n",
       "11818           훔쳐보는 것도 눈치 보임 .        티가 나니까 눈치가 보이는 거죠 !     2\n",
       "11819           훔쳐보는 것도 눈치 보임 .             훔쳐보는 거 티나나봐요 .     2\n",
       "11820              흑기사 해주는 짝남 .                    설렜겠어요 .     2\n",
       "11821  힘든 연애 좋은 연애라는게 무슨 차이일까 ?  잘 헤어질 수 있는 사이 여부인 거 같아요 .     2\n",
       "11822                힘들어서 결혼할까봐        도피성 결혼은 하지 않길 바라요 .     2\n",
       "\n",
       "[11823 rows x 3 columns]"
      ]
     },
     "execution_count": 14,
     "metadata": {},
     "output_type": "execute_result"
    }
   ],
   "source": [
    "# 특수기호 제거 함수 적용\n",
    "data = data.astype(str).applymap(clean_text)\n",
    "\n",
    "data"
   ]
  },
  {
   "cell_type": "code",
   "execution_count": 15,
   "id": "62fecaa3",
   "metadata": {},
   "outputs": [],
   "source": [
    "data.to_csv('preprocessed_text.csv', index = False)"
   ]
  },
  {
   "cell_type": "code",
   "execution_count": 16,
   "id": "e9df311e",
   "metadata": {},
   "outputs": [],
   "source": [
    "# 포지셔널 인코딩 레이어\n",
    "class PositionalEncoding(tf.keras.layers.Layer):\n",
    "\n",
    "  def __init__(self, position, d_model):\n",
    "    super(PositionalEncoding, self).__init__()\n",
    "    self.pos_encoding = self.positional_encoding(position, d_model)\n",
    "\n",
    "  def get_angles(self, position, i, d_model):\n",
    "    angles = 1 / tf.pow(10000, (2 * (i // 2)) / tf.cast(d_model, tf.float32))\n",
    "    return position * angles\n",
    "\n",
    "  def positional_encoding(self, position, d_model):\n",
    "    # 각도 배열 생성\n",
    "    angle_rads = self.get_angles(\n",
    "        position=tf.range(position, dtype=tf.float32)[:, tf.newaxis],\n",
    "        i=tf.range(d_model, dtype=tf.float32)[tf.newaxis, :],\n",
    "        d_model=d_model)\n",
    "\n",
    "    # 배열의 짝수 인덱스에는 sin 함수 적용\n",
    "    sines = tf.math.sin(angle_rads[:, 0::2])\n",
    "    # 배열의 홀수 인덱스에는 cosine 함수 적용\n",
    "    cosines = tf.math.cos(angle_rads[:, 1::2])\n",
    "\n",
    "    # sin과 cosine이 교차되도록 재배열\n",
    "    pos_encoding = tf.stack([sines, cosines], axis=0)\n",
    "    pos_encoding = tf.transpose(pos_encoding,[1, 2, 0]) \n",
    "    pos_encoding = tf.reshape(pos_encoding, [position, d_model])\n",
    "\n",
    "    pos_encoding = pos_encoding[tf.newaxis, ...]\n",
    "    return tf.cast(pos_encoding, tf.float32)\n",
    "\n",
    "  def call(self, inputs):\n",
    "    return inputs + self.pos_encoding[:, :tf.shape(inputs)[1], :]"
   ]
  },
  {
   "cell_type": "code",
   "execution_count": 17,
   "id": "ed4001ff",
   "metadata": {},
   "outputs": [],
   "source": [
    "# 스케일드 닷 프로덕트 어텐션 함수\n",
    "def scaled_dot_product_attention(query, key, value, mask):\n",
    "  # 어텐션 가중치는 Q와 K의 닷 프로덕트\n",
    "  matmul_qk = tf.matmul(query, key, transpose_b=True)\n",
    "\n",
    "  # 가중치를 정규화\n",
    "  depth = tf.cast(tf.shape(key)[-1], tf.float32)\n",
    "  logits = matmul_qk / tf.math.sqrt(depth)\n",
    "\n",
    "  # 패딩에 마스크 추가\n",
    "  if mask is not None:\n",
    "    logits += (mask * -1e9)\n",
    "\n",
    "  # softmax적용\n",
    "  attention_weights = tf.nn.softmax(logits, axis=-1)\n",
    "\n",
    "  # 최종 어텐션은 가중치와 V의 닷 프로덕트\n",
    "  output = tf.matmul(attention_weights, value)\n",
    "  return output"
   ]
  },
  {
   "cell_type": "code",
   "execution_count": 18,
   "id": "f49c0be3",
   "metadata": {},
   "outputs": [],
   "source": [
    "# 멀티헤드어텐션 함수\n",
    "class MultiHeadAttention(tf.keras.layers.Layer):\n",
    "\n",
    "  def __init__(self, d_model, num_heads, name=\"multi_head_attention\"):\n",
    "    super(MultiHeadAttention, self).__init__(name=name)\n",
    "    self.num_heads = num_heads\n",
    "    self.d_model = d_model\n",
    "\n",
    "    assert d_model % self.num_heads == 0\n",
    "\n",
    "    self.depth = d_model // self.num_heads\n",
    "\n",
    "    self.query_dense = tf.keras.layers.Dense(units=d_model)\n",
    "    self.key_dense = tf.keras.layers.Dense(units=d_model)\n",
    "    self.value_dense = tf.keras.layers.Dense(units=d_model)\n",
    "\n",
    "    self.dense = tf.keras.layers.Dense(units=d_model)\n",
    "\n",
    "  def split_heads(self, inputs, batch_size):\n",
    "    inputs = tf.reshape(\n",
    "        inputs, shape=(batch_size, -1, self.num_heads, self.depth))\n",
    "    return tf.transpose(inputs, perm=[0, 2, 1, 3])\n",
    "\n",
    "  def call(self, inputs):\n",
    "    query, key, value, mask = inputs['query'], inputs['key'], inputs[\n",
    "        'value'], inputs['mask']\n",
    "    batch_size = tf.shape(query)[0]\n",
    "\n",
    "    # Q, K, V에 각각 Dense를 적용합니다\n",
    "    query = self.query_dense(query)\n",
    "    key = self.key_dense(key)\n",
    "    value = self.value_dense(value)\n",
    "\n",
    "    # 병렬 연산을 위한 머리를 여러 개 만듭니다\n",
    "    query = self.split_heads(query, batch_size)\n",
    "    key = self.split_heads(key, batch_size)\n",
    "    value = self.split_heads(value, batch_size)\n",
    "\n",
    "    # 스케일드 닷 프로덕트 어텐션 함수\n",
    "    scaled_attention = scaled_dot_product_attention(query, key, value, mask)\n",
    "\n",
    "    scaled_attention = tf.transpose(scaled_attention, perm=[0, 2, 1, 3])\n",
    "\n",
    "    # 어텐션 연산 후에 각 결과를 다시 연결(concatenate)합니다\n",
    "    concat_attention = tf.reshape(scaled_attention,\n",
    "                                  (batch_size, -1, self.d_model))\n",
    "\n",
    "    # 최종 결과에도 Dense를 한 번 더 적용합니다\n",
    "    outputs = self.dense(concat_attention)\n",
    "\n",
    "    return outputs"
   ]
  },
  {
   "cell_type": "code",
   "execution_count": 19,
   "id": "ce157456",
   "metadata": {},
   "outputs": [],
   "source": [
    "# 패딩마스크 함수\n",
    "def create_padding_mask(x):\n",
    "  mask = tf.cast(tf.math.equal(x, 0), tf.float32)\n",
    "  # (batch_size, 1, 1, sequence length)\n",
    "  return mask[:, tf.newaxis, tf.newaxis, :]"
   ]
  },
  {
   "cell_type": "code",
   "execution_count": 20,
   "id": "d3627aa7",
   "metadata": {},
   "outputs": [],
   "source": [
    "# 뒤쪽 단어 마스킹을 위한 룩어헤드마스크 함수\n",
    "def create_look_ahead_mask(x):\n",
    "  seq_len = tf.shape(x)[1]\n",
    "  look_ahead_mask = 1 - tf.linalg.band_part(tf.ones((seq_len, seq_len)), -1, 0)\n",
    "  padding_mask = create_padding_mask(x)\n",
    "  return tf.maximum(look_ahead_mask, padding_mask)"
   ]
  },
  {
   "cell_type": "code",
   "execution_count": 21,
   "id": "2e1e7c72",
   "metadata": {},
   "outputs": [],
   "source": [
    "# 인코더 레이어\n",
    "def encoder_layer(units, d_model, num_heads, dropout, name=\"encoder_layer\"):\n",
    "  inputs = tf.keras.Input(shape=(None, d_model), name=\"inputs\")\n",
    "\n",
    "  # 패딩 마스크 사용\n",
    "  padding_mask = tf.keras.Input(shape=(1, 1, None), name=\"padding_mask\")\n",
    "\n",
    "  # 첫 번째 서브 레이어 : 멀티 헤드 어텐션 수행 (셀프 어텐션)\n",
    "  attention = MultiHeadAttention(\n",
    "      d_model, num_heads, name=\"attention\")({\n",
    "          'query': inputs,\n",
    "          'key': inputs,\n",
    "          'value': inputs,\n",
    "          'mask': padding_mask\n",
    "      })\n",
    "\n",
    "  # 어텐션의 결과는 Dropout과 Layer Normalization이라는 훈련을 돕는 테크닉을 수행\n",
    "  attention = tf.keras.layers.Dropout(rate=dropout)(attention)\n",
    "  attention = tf.keras.layers.LayerNormalization(\n",
    "      epsilon=1e-6)(inputs + attention)\n",
    "\n",
    "  # 두 번째 서브 레이어 : 2개의 완전연결층\n",
    "  outputs = tf.keras.layers.Dense(units=units, activation='relu')(attention)\n",
    "  outputs = tf.keras.layers.Dense(units=d_model)(outputs)\n",
    "\n",
    "  # 완전연결층의 결과는 Dropout과 LayerNormalization이라는 훈련을 돕는 테크닉을 수행\n",
    "  outputs = tf.keras.layers.Dropout(rate=dropout)(outputs)\n",
    "  outputs = tf.keras.layers.LayerNormalization(\n",
    "      epsilon=1e-6)(attention + outputs)\n",
    "\n",
    "  return tf.keras.Model(\n",
    "      inputs=[inputs, padding_mask], outputs=outputs, name=name)"
   ]
  },
  {
   "cell_type": "code",
   "execution_count": 22,
   "id": "a0edd9c6",
   "metadata": {},
   "outputs": [],
   "source": [
    "# 패딩마스크 + 임베딩 + 포지셔널인코딩 + 여러겹의 인코딩 레이어\n",
    "# 인코더 전체 구조 생성\n",
    "def encoder(vocab_size,\n",
    "            num_layers,\n",
    "            units,\n",
    "            d_model,\n",
    "            num_heads,\n",
    "            dropout,\n",
    "            name=\"encoder\"):\n",
    "  inputs = tf.keras.Input(shape=(None,), name=\"inputs\")\n",
    "\n",
    "  # 패딩 마스크 사용\n",
    "  padding_mask = tf.keras.Input(shape=(1, 1, None), name=\"padding_mask\")\n",
    "\n",
    "  # 임베딩 레이어\n",
    "  embeddings = tf.keras.layers.Embedding(vocab_size, d_model)(inputs)\n",
    "  embeddings *= tf.math.sqrt(tf.cast(d_model, tf.float32))\n",
    "\n",
    "  # 포지셔널 인코딩\n",
    "  embeddings = PositionalEncoding(vocab_size, d_model)(embeddings)\n",
    "\n",
    "  outputs = tf.keras.layers.Dropout(rate=dropout)(embeddings)\n",
    "\n",
    "  # num_layers만큼 쌓아올린 인코더의 층.\n",
    "  for i in range(num_layers):\n",
    "    outputs = encoder_layer(\n",
    "        units=units,\n",
    "        d_model=d_model,\n",
    "        num_heads=num_heads,\n",
    "        dropout=dropout,\n",
    "        name=\"encoder_layer_{}\".format(i),\n",
    "    )([outputs, padding_mask])\n",
    "\n",
    "  return tf.keras.Model(\n",
    "      inputs=[inputs, padding_mask], outputs=outputs, name=name)"
   ]
  },
  {
   "cell_type": "code",
   "execution_count": 23,
   "id": "14236d01",
   "metadata": {},
   "outputs": [],
   "source": [
    "# 디코더 하나의 레이어를 함수로 구현.\n",
    "# 이 하나의 레이어 안에는 세 개의 서브 레이어가 존재합니다.\n",
    "def decoder_layer(units, d_model, num_heads, dropout, name=\"decoder_layer\"):\n",
    "  inputs = tf.keras.Input(shape=(None, d_model), name=\"inputs\")\n",
    "  enc_outputs = tf.keras.Input(shape=(None, d_model), name=\"encoder_outputs\")\n",
    "  look_ahead_mask = tf.keras.Input(\n",
    "      shape=(1, None, None), name=\"look_ahead_mask\")\n",
    "  padding_mask = tf.keras.Input(shape=(1, 1, None), name='padding_mask')\n",
    "\n",
    "  # 첫 번째 서브 레이어 : 멀티 헤드 어텐션 수행 (셀프 어텐션)\n",
    "  attention1 = MultiHeadAttention(\n",
    "      d_model, num_heads, name=\"attention_1\")(inputs={\n",
    "          'query': inputs,\n",
    "          'key': inputs,\n",
    "          'value': inputs,\n",
    "          'mask': look_ahead_mask\n",
    "      })\n",
    "\n",
    "  # 멀티 헤드 어텐션의 결과는 LayerNormalization이라는 훈련을 돕는 테크닉을 수행\n",
    "  attention1 = tf.keras.layers.LayerNormalization(\n",
    "      epsilon=1e-6)(attention1 + inputs)\n",
    "\n",
    "  # 두 번째 서브 레이어 : 마스크드 멀티 헤드 어텐션 수행 (인코더-디코더 어텐션)\n",
    "  attention2 = MultiHeadAttention(\n",
    "      d_model, num_heads, name=\"attention_2\")(inputs={\n",
    "          'query': attention1,\n",
    "          'key': enc_outputs,\n",
    "          'value': enc_outputs,\n",
    "          'mask': padding_mask\n",
    "      })\n",
    "\n",
    "  # 마스크드 멀티 헤드 어텐션의 결과는\n",
    "  # Dropout과 LayerNormalization이라는 훈련을 돕는 테크닉을 수행\n",
    "  attention2 = tf.keras.layers.Dropout(rate=dropout)(attention2)\n",
    "  attention2 = tf.keras.layers.LayerNormalization(\n",
    "      epsilon=1e-6)(attention2 + attention1)\n",
    "\n",
    "  # 세 번째 서브 레이어 : 2개의 완전연결층\n",
    "  outputs = tf.keras.layers.Dense(units=units, activation='relu')(attention2)\n",
    "  outputs = tf.keras.layers.Dense(units=d_model)(outputs)\n",
    "\n",
    "  # 완전연결층의 결과는 Dropout과 LayerNormalization 수행\n",
    "  outputs = tf.keras.layers.Dropout(rate=dropout)(outputs)\n",
    "  outputs = tf.keras.layers.LayerNormalization(\n",
    "      epsilon=1e-6)(outputs + attention2)\n",
    "\n",
    "  return tf.keras.Model(\n",
    "      inputs=[inputs, enc_outputs, look_ahead_mask, padding_mask],\n",
    "      outputs=outputs,\n",
    "      name=name)"
   ]
  },
  {
   "cell_type": "code",
   "execution_count": 24,
   "id": "84b305a8",
   "metadata": {},
   "outputs": [],
   "source": [
    "# 패딩마스크 + 임베딩 + 포지셔널인코딩 + 여러겹의 인코딩 레이어\n",
    "# 인코더 전체 구조 생성\n",
    "def decoder(vocab_size,\n",
    "            num_layers,\n",
    "            units,\n",
    "            d_model,\n",
    "            num_heads,\n",
    "            dropout,\n",
    "            name='decoder'):\n",
    "  inputs = tf.keras.Input(shape=(None,), name='inputs')\n",
    "  enc_outputs = tf.keras.Input(shape=(None, d_model), name='encoder_outputs')\n",
    "  look_ahead_mask = tf.keras.Input(\n",
    "      shape=(1, None, None), name='look_ahead_mask')\n",
    "\n",
    "  # 패딩 마스크\n",
    "  padding_mask = tf.keras.Input(shape=(1, 1, None), name='padding_mask')\n",
    "  \n",
    "  # 임베딩 레이어\n",
    "  embeddings = tf.keras.layers.Embedding(vocab_size, d_model)(inputs)\n",
    "  embeddings *= tf.math.sqrt(tf.cast(d_model, tf.float32))\n",
    "\n",
    "  # 포지셔널 인코딩\n",
    "  embeddings = PositionalEncoding(vocab_size, d_model)(embeddings)\n",
    "\n",
    "  # Dropout이라는 훈련을 돕는 테크닉을 수행\n",
    "  outputs = tf.keras.layers.Dropout(rate=dropout)(embeddings)\n",
    "\n",
    "  for i in range(num_layers):\n",
    "    outputs = decoder_layer(\n",
    "        units=units,\n",
    "        d_model=d_model,\n",
    "        num_heads=num_heads,\n",
    "        dropout=dropout,\n",
    "        name='decoder_layer_{}'.format(i),\n",
    "    )(inputs=[outputs, enc_outputs, look_ahead_mask, padding_mask])\n",
    "\n",
    "  return tf.keras.Model(\n",
    "      inputs=[inputs, enc_outputs, look_ahead_mask, padding_mask],\n",
    "      outputs=outputs,\n",
    "      name=name)"
   ]
  },
  {
   "cell_type": "code",
   "execution_count": 25,
   "id": "b4f2ce87",
   "metadata": {},
   "outputs": [],
   "source": [
    "questions = data['Q']\n",
    "answers = data['A']"
   ]
  },
  {
   "cell_type": "code",
   "execution_count": 26,
   "id": "55e7dd5c",
   "metadata": {
    "scrolled": true
   },
   "outputs": [
    {
     "data": {
      "text/plain": [
       "0                         12시 땡 !\n",
       "1                     1지망 학교 떨어졌어\n",
       "2                    3박4일 놀러가고 싶다\n",
       "3                 3박4일 정도 놀러가고 싶다\n",
       "4                         PPL 심하네\n",
       "                   ...           \n",
       "11818             훔쳐보는 것도 눈치 보임 .\n",
       "11819             훔쳐보는 것도 눈치 보임 .\n",
       "11820                흑기사 해주는 짝남 .\n",
       "11821    힘든 연애 좋은 연애라는게 무슨 차이일까 ?\n",
       "11822                  힘들어서 결혼할까봐\n",
       "Name: Q, Length: 11823, dtype: object"
      ]
     },
     "execution_count": 26,
     "metadata": {},
     "output_type": "execute_result"
    }
   ],
   "source": [
    "questions"
   ]
  },
  {
   "cell_type": "code",
   "execution_count": 27,
   "id": "df000900",
   "metadata": {
    "scrolled": true
   },
   "outputs": [
    {
     "data": {
      "text/plain": [
       "0                      하루가 또 가네요 .\n",
       "1                       위로해 드립니다 .\n",
       "2                     여행은 언제나 좋죠 .\n",
       "3                     여행은 언제나 좋죠 .\n",
       "4                      눈살이 찌푸려지죠 .\n",
       "                   ...            \n",
       "11818          티가 나니까 눈치가 보이는 거죠 !\n",
       "11819               훔쳐보는 거 티나나봐요 .\n",
       "11820                      설렜겠어요 .\n",
       "11821    잘 헤어질 수 있는 사이 여부인 거 같아요 .\n",
       "11822          도피성 결혼은 하지 않길 바라요 .\n",
       "Name: A, Length: 11823, dtype: object"
      ]
     },
     "execution_count": 27,
     "metadata": {},
     "output_type": "execute_result"
    }
   ],
   "source": [
    "answers"
   ]
  },
  {
   "cell_type": "code",
   "execution_count": 28,
   "id": "aa532961",
   "metadata": {},
   "outputs": [],
   "source": [
    "import tensorflow_datasets as tfds"
   ]
  },
  {
   "cell_type": "code",
   "execution_count": 29,
   "id": "28f69e77",
   "metadata": {},
   "outputs": [],
   "source": [
    "# 질문과 답변 데이터셋에 대해서 Vocabulary 생성\n",
    "\n",
    "tokenizer = tfds.deprecated.text.SubwordTextEncoder.build_from_corpus(questions + answers, target_vocab_size=2**13)"
   ]
  },
  {
   "cell_type": "code",
   "execution_count": 30,
   "id": "f1a62333",
   "metadata": {},
   "outputs": [
    {
     "data": {
      "text/plain": [
       "8361"
      ]
     },
     "execution_count": 30,
     "metadata": {},
     "output_type": "execute_result"
    }
   ],
   "source": [
    "# 단어집합 개수 획인\n",
    "tokenizer.vocab_size"
   ]
  },
  {
   "cell_type": "code",
   "execution_count": 31,
   "id": "ad03b53e",
   "metadata": {},
   "outputs": [],
   "source": [
    "# 시작 토큰과 종료 토큰에 고유한 정수를 부여합니다.\n",
    "START_TOKEN, END_TOKEN = [tokenizer.vocab_size], [tokenizer.vocab_size + 1]"
   ]
  },
  {
   "cell_type": "code",
   "execution_count": 32,
   "id": "66e640c3",
   "metadata": {},
   "outputs": [
    {
     "name": "stdout",
     "output_type": "stream",
     "text": [
      "8363\n"
     ]
    }
   ],
   "source": [
    "# 단어장에 시작토큰와 종료토큰 개수 추가\n",
    "VOCAB_SIZE = tokenizer.vocab_size + 2\n",
    "print(VOCAB_SIZE)"
   ]
  },
  {
   "cell_type": "code",
   "execution_count": 33,
   "id": "7e02b78f",
   "metadata": {},
   "outputs": [
    {
     "name": "stdout",
     "output_type": "stream",
     "text": [
      "질문 문장에서 토큰 개수가 가장 많은 문장: 헤어지고 뜨문뜨문 연락은 다시 시작하긴 뭐하고 남주긴 아까운 뭐 이런마음인건가 ?\n",
      "토큰 개수: 21\n"
     ]
    }
   ],
   "source": [
    "# 질문 텍스트에서 토크나이징 후 토큰 개수가 가장 많은 문장을 확인\n",
    "tokenized_q = [(sentence, len(tokenizer.encode(sentence))) for sentence in questions]\n",
    "\n",
    "longest_sentence_q, max_tokens_q = max(tokenized_q, key=lambda x: x[1])\n",
    "\n",
    "print(f\"질문 문장에서 토큰 개수가 가장 많은 문장: {longest_sentence_q}\")\n",
    "print(f\"토큰 개수: {max_tokens_q}\")"
   ]
  },
  {
   "cell_type": "code",
   "execution_count": 34,
   "id": "5c5f9f44",
   "metadata": {},
   "outputs": [
    {
     "name": "stdout",
     "output_type": "stream",
     "text": [
      "답변 문장에서 토큰 개수가 가장 많은 문장: 연애는 문제가 있으면 문제를 해결 하기 위해 함께 노력하고 그 속에서 더욱 단단해지는 과정인데 ,  그 과정을 못 참고 피하기만 했나봅니다 .\n",
      "토큰 개수: 29\n"
     ]
    }
   ],
   "source": [
    "# 응답 텍스트에서 토크나이징 후 토큰 개수가 가장 많은 문장을 확인\n",
    "tokenized_a = [(sentence, len(tokenizer.encode(sentence))) for sentence in answers]\n",
    "\n",
    "longest_sentence_a, max_tokens_a = max(tokenized_a, key=lambda x: x[1])\n",
    "\n",
    "print(f\"답변 문장에서 토큰 개수가 가장 많은 문장: {longest_sentence_a}\")\n",
    "print(f\"토큰 개수: {max_tokens_a}\")"
   ]
  },
  {
   "cell_type": "code",
   "execution_count": 35,
   "id": "60c55c9a",
   "metadata": {},
   "outputs": [],
   "source": [
    "# 토큰 개수가 가장 많은 문장의 토큰 개수인 max_tokens_a을 최대 길이로 사용\n",
    "# 패딩 수행\n",
    "\n",
    "MAX_LENGTH = max_tokens_a + 2\n",
    "\n",
    "# 정수 인코딩, 최대 길이를 초과하는 샘플 제거, 패딩\n",
    "def tokenize_and_filter(inputs, outputs):\n",
    "  tokenized_inputs, tokenized_outputs = [], []\n",
    "  \n",
    "  for (sentence1, sentence2) in zip(inputs, outputs):\n",
    "\n",
    "    sentence1 = START_TOKEN + tokenizer.encode(sentence1) + END_TOKEN\n",
    "    sentence2 = START_TOKEN + tokenizer.encode(sentence2) + END_TOKEN\n",
    "\n",
    "    if len(sentence1) <= MAX_LENGTH and len(sentence2) <= MAX_LENGTH:\n",
    "      tokenized_inputs.append(sentence1)\n",
    "      tokenized_outputs.append(sentence2)\n",
    "  \n",
    "  tokenized_inputs = tf.keras.preprocessing.sequence.pad_sequences(\n",
    "      tokenized_inputs, maxlen=MAX_LENGTH, padding='post')\n",
    "  tokenized_outputs = tf.keras.preprocessing.sequence.pad_sequences(\n",
    "      tokenized_outputs, maxlen=MAX_LENGTH, padding='post')\n",
    "  \n",
    "  return tokenized_inputs, tokenized_outputs"
   ]
  },
  {
   "cell_type": "code",
   "execution_count": 36,
   "id": "5f66bf4a",
   "metadata": {},
   "outputs": [
    {
     "name": "stdout",
     "output_type": "stream",
     "text": [
      "단어장의 크기 : 8363\n",
      "필터링 후의 질문 샘플 개수: 11823\n",
      "필터링 후의 답변 샘플 개수: 11823\n"
     ]
    }
   ],
   "source": [
    "questions, answers = tokenize_and_filter(questions, answers)\n",
    "print('단어장의 크기 :',(VOCAB_SIZE))\n",
    "print('필터링 후의 질문 샘플 개수: {}'.format(len(questions)))\n",
    "print('필터링 후의 답변 샘플 개수: {}'.format(len(answers)))"
   ]
  },
  {
   "cell_type": "code",
   "execution_count": 37,
   "id": "8d00f932",
   "metadata": {},
   "outputs": [],
   "source": [
    "#교사강요\n",
    "#데이터를 tf.data.Dataset객체로 변환\n",
    "BATCH_SIZE = 64\n",
    "BUFFER_SIZE = 20000\n",
    "\n",
    "# 디코더는 이전의 target을 다음의 input으로 사용합니다.\n",
    "# 이에 따라 outputs에서는 START_TOKEN을 제거하겠습니다.\n",
    "dataset = tf.data.Dataset.from_tensor_slices((\n",
    "    {\n",
    "        'inputs': questions,\n",
    "        'dec_inputs': answers[:, :-1]\n",
    "    },\n",
    "    {\n",
    "        'softmax_outputs': answers[:, 1:]\n",
    "    },\n",
    "))\n",
    "\n",
    "dataset = dataset.cache()\n",
    "dataset = dataset.shuffle(BUFFER_SIZE)\n",
    "dataset = dataset.batch(BATCH_SIZE)\n",
    "dataset = dataset.prefetch(tf.data.experimental.AUTOTUNE)"
   ]
  },
  {
   "cell_type": "code",
   "execution_count": 38,
   "id": "efe6a1e0",
   "metadata": {},
   "outputs": [],
   "source": [
    "def transformer(vocab_size,\n",
    "                num_layers,\n",
    "                units,\n",
    "                d_model,\n",
    "                num_heads,\n",
    "                dropout,\n",
    "                temperature = 1.0,\n",
    "                name=\"transformer\"):\n",
    "  inputs = tf.keras.Input(shape=(None,), name=\"inputs\")\n",
    "  dec_inputs = tf.keras.Input(shape=(None,), name=\"dec_inputs\")\n",
    "\n",
    "  # 인코더에서 패딩을 위한 마스크\n",
    "  enc_padding_mask = tf.keras.layers.Lambda(\n",
    "      create_padding_mask, output_shape=(1, 1, None),\n",
    "      name='enc_padding_mask')(inputs)\n",
    "\n",
    "  # 디코더에서 미래의 토큰을 마스크 하기 위해서 사용합니다.\n",
    "  # 내부적으로 패딩 마스크도 포함되어져 있습니다.\n",
    "  look_ahead_mask = tf.keras.layers.Lambda(\n",
    "      create_look_ahead_mask,\n",
    "      output_shape=(1, None, None),\n",
    "      name='look_ahead_mask')(dec_inputs)\n",
    "\n",
    "  # 두 번째 어텐션 블록에서 인코더의 벡터들을 마스킹\n",
    "  # 디코더에서 패딩을 위한 마스크\n",
    "  dec_padding_mask = tf.keras.layers.Lambda(\n",
    "      create_padding_mask, output_shape=(1, 1, None),\n",
    "      name='dec_padding_mask')(inputs)\n",
    "\n",
    "  # 인코더\n",
    "  enc_outputs = encoder(\n",
    "      vocab_size=vocab_size,\n",
    "      num_layers=num_layers,\n",
    "      units=units,\n",
    "      d_model=d_model,\n",
    "      num_heads=num_heads,\n",
    "      dropout=dropout,\n",
    "  )(inputs=[inputs, enc_padding_mask])\n",
    "\n",
    "  # 디코더\n",
    "  dec_outputs = decoder(\n",
    "      vocab_size=vocab_size,\n",
    "      num_layers=num_layers,\n",
    "      units=units,\n",
    "      d_model=d_model,\n",
    "      num_heads=num_heads,\n",
    "      dropout=dropout,\n",
    "  )(inputs=[dec_inputs, enc_outputs, look_ahead_mask, dec_padding_mask])\n",
    "\n",
    "  # 완전연결층(소프트맥스 출력 전 로짓의 온도 조정)\n",
    "  logits = tf.keras.layers.Dense(units=vocab_size, name=\"logits\")(dec_outputs)\n",
    "  scaled_logits = tf.keras.layers.Lambda(lambda x: x / temperature, name=\"temperature_scaling\")(logits)\n",
    "  outputs = tf.keras.layers.Softmax(name=\"softmax_outputs\")(scaled_logits)\n",
    "\n",
    "  return tf.keras.Model(inputs=[inputs, dec_inputs], outputs=outputs, name=name)"
   ]
  },
  {
   "cell_type": "code",
   "execution_count": 39,
   "id": "37ba11c8",
   "metadata": {},
   "outputs": [
    {
     "name": "stdout",
     "output_type": "stream",
     "text": [
      "Model: \"transformer\"\n",
      "__________________________________________________________________________________________________\n",
      "Layer (type)                    Output Shape         Param #     Connected to                     \n",
      "==================================================================================================\n",
      "inputs (InputLayer)             [(None, None)]       0                                            \n",
      "__________________________________________________________________________________________________\n",
      "dec_inputs (InputLayer)         [(None, None)]       0                                            \n",
      "__________________________________________________________________________________________________\n",
      "enc_padding_mask (Lambda)       (None, 1, 1, None)   0           inputs[0][0]                     \n",
      "__________________________________________________________________________________________________\n",
      "encoder (Functional)            (None, None, 256)    3195136     inputs[0][0]                     \n",
      "                                                                 enc_padding_mask[0][0]           \n",
      "__________________________________________________________________________________________________\n",
      "look_ahead_mask (Lambda)        (None, 1, None, None 0           dec_inputs[0][0]                 \n",
      "__________________________________________________________________________________________________\n",
      "dec_padding_mask (Lambda)       (None, 1, 1, None)   0           inputs[0][0]                     \n",
      "__________________________________________________________________________________________________\n",
      "decoder (Functional)            (None, None, 256)    3722496     dec_inputs[0][0]                 \n",
      "                                                                 encoder[0][0]                    \n",
      "                                                                 look_ahead_mask[0][0]            \n",
      "                                                                 dec_padding_mask[0][0]           \n",
      "__________________________________________________________________________________________________\n",
      "logits (Dense)                  (None, None, 8363)   2149291     decoder[0][0]                    \n",
      "__________________________________________________________________________________________________\n",
      "temperature_scaling (Lambda)    (None, None, 8363)   0           logits[0][0]                     \n",
      "__________________________________________________________________________________________________\n",
      "softmax_outputs (Softmax)       (None, None, 8363)   0           temperature_scaling[0][0]        \n",
      "==================================================================================================\n",
      "Total params: 9,066,923\n",
      "Trainable params: 9,066,923\n",
      "Non-trainable params: 0\n",
      "__________________________________________________________________________________________________\n"
     ]
    }
   ],
   "source": [
    "tf.keras.backend.clear_session()\n",
    "\n",
    "# 하이퍼파라미터\n",
    "NUM_LAYERS = 2 # 인코더와 디코더의 층의 개수\n",
    "D_MODEL = 256 # 인코더와 디코더 내부의 입, 출력의 고정 차원\n",
    "NUM_HEADS = 8 # 멀티 헤드 어텐션에서의 헤드 수 \n",
    "UNITS = 512 # 피드 포워드 신경망의 은닉층의 크기\n",
    "DROPOUT = 0.1 # 드롭아웃의 비율\n",
    "TEMPARATURE = 1.0 # 소프트맥스 온도 설정\n",
    "\n",
    "model1 = transformer(\n",
    "    vocab_size=VOCAB_SIZE,\n",
    "    num_layers=NUM_LAYERS,\n",
    "    units=UNITS,\n",
    "    d_model=D_MODEL,\n",
    "    num_heads=NUM_HEADS,\n",
    "    dropout=DROPOUT,\n",
    "    temperature=TEMPARATURE)\n",
    "\n",
    "model1.summary()"
   ]
  },
  {
   "cell_type": "code",
   "execution_count": 40,
   "id": "d1551c7d",
   "metadata": {},
   "outputs": [
    {
     "name": "stdout",
     "output_type": "stream",
     "text": [
      "Model: \"transformer\"\n",
      "__________________________________________________________________________________________________\n",
      "Layer (type)                    Output Shape         Param #     Connected to                     \n",
      "==================================================================================================\n",
      "inputs (InputLayer)             [(None, None)]       0                                            \n",
      "__________________________________________________________________________________________________\n",
      "dec_inputs (InputLayer)         [(None, None)]       0                                            \n",
      "__________________________________________________________________________________________________\n",
      "enc_padding_mask (Lambda)       (None, 1, 1, None)   0           inputs[0][0]                     \n",
      "__________________________________________________________________________________________________\n",
      "encoder (Functional)            (None, None, 256)    3195136     inputs[0][0]                     \n",
      "                                                                 enc_padding_mask[0][0]           \n",
      "__________________________________________________________________________________________________\n",
      "look_ahead_mask (Lambda)        (None, 1, None, None 0           dec_inputs[0][0]                 \n",
      "__________________________________________________________________________________________________\n",
      "dec_padding_mask (Lambda)       (None, 1, 1, None)   0           inputs[0][0]                     \n",
      "__________________________________________________________________________________________________\n",
      "decoder (Functional)            (None, None, 256)    3722496     dec_inputs[0][0]                 \n",
      "                                                                 encoder[0][0]                    \n",
      "                                                                 look_ahead_mask[0][0]            \n",
      "                                                                 dec_padding_mask[0][0]           \n",
      "__________________________________________________________________________________________________\n",
      "logits (Dense)                  (None, None, 8363)   2149291     decoder[0][0]                    \n",
      "__________________________________________________________________________________________________\n",
      "temperature_scaling (Lambda)    (None, None, 8363)   0           logits[0][0]                     \n",
      "__________________________________________________________________________________________________\n",
      "softmax_outputs (Softmax)       (None, None, 8363)   0           temperature_scaling[0][0]        \n",
      "==================================================================================================\n",
      "Total params: 9,066,923\n",
      "Trainable params: 9,066,923\n",
      "Non-trainable params: 0\n",
      "__________________________________________________________________________________________________\n"
     ]
    }
   ],
   "source": [
    "tf.keras.backend.clear_session()\n",
    "\n",
    "# 하이퍼파라미터\n",
    "NUM_LAYERS = 2 # 인코더와 디코더의 층의 개수\n",
    "D_MODEL = 256 # 인코더와 디코더 내부의 입, 출력의 고정 차원\n",
    "NUM_HEADS = 8 # 멀티 헤드 어텐션에서의 헤드 수 \n",
    "UNITS = 512 # 피드 포워드 신경망의 은닉층의 크기\n",
    "TEMPARATURE = 0.5 # 소프트맥스 온도 설정\n",
    "\n",
    "model2 = transformer(\n",
    "    vocab_size=VOCAB_SIZE,\n",
    "    num_layers=NUM_LAYERS,\n",
    "    units=UNITS,\n",
    "    d_model=D_MODEL,\n",
    "    num_heads=NUM_HEADS,\n",
    "    dropout=DROPOUT,\n",
    "    temperature=TEMPARATURE)\n",
    "\n",
    "model2.summary()"
   ]
  },
  {
   "cell_type": "code",
   "execution_count": 41,
   "id": "c1ad4078",
   "metadata": {},
   "outputs": [
    {
     "name": "stdout",
     "output_type": "stream",
     "text": [
      "Model: \"transformer\"\n",
      "__________________________________________________________________________________________________\n",
      "Layer (type)                    Output Shape         Param #     Connected to                     \n",
      "==================================================================================================\n",
      "inputs (InputLayer)             [(None, None)]       0                                            \n",
      "__________________________________________________________________________________________________\n",
      "dec_inputs (InputLayer)         [(None, None)]       0                                            \n",
      "__________________________________________________________________________________________________\n",
      "enc_padding_mask (Lambda)       (None, 1, 1, None)   0           inputs[0][0]                     \n",
      "__________________________________________________________________________________________________\n",
      "encoder (Functional)            (None, None, 256)    3195136     inputs[0][0]                     \n",
      "                                                                 enc_padding_mask[0][0]           \n",
      "__________________________________________________________________________________________________\n",
      "look_ahead_mask (Lambda)        (None, 1, None, None 0           dec_inputs[0][0]                 \n",
      "__________________________________________________________________________________________________\n",
      "dec_padding_mask (Lambda)       (None, 1, 1, None)   0           inputs[0][0]                     \n",
      "__________________________________________________________________________________________________\n",
      "decoder (Functional)            (None, None, 256)    3722496     dec_inputs[0][0]                 \n",
      "                                                                 encoder[0][0]                    \n",
      "                                                                 look_ahead_mask[0][0]            \n",
      "                                                                 dec_padding_mask[0][0]           \n",
      "__________________________________________________________________________________________________\n",
      "logits (Dense)                  (None, None, 8363)   2149291     decoder[0][0]                    \n",
      "__________________________________________________________________________________________________\n",
      "temperature_scaling (Lambda)    (None, None, 8363)   0           logits[0][0]                     \n",
      "__________________________________________________________________________________________________\n",
      "softmax_outputs (Softmax)       (None, None, 8363)   0           temperature_scaling[0][0]        \n",
      "==================================================================================================\n",
      "Total params: 9,066,923\n",
      "Trainable params: 9,066,923\n",
      "Non-trainable params: 0\n",
      "__________________________________________________________________________________________________\n"
     ]
    }
   ],
   "source": [
    "tf.keras.backend.clear_session()\n",
    "\n",
    "# 하이퍼파라미터\n",
    "NUM_LAYERS = 2 # 인코더와 디코더의 층의 개수\n",
    "D_MODEL = 256 # 인코더와 디코더 내부의 입, 출력의 고정 차원\n",
    "NUM_HEADS = 8 # 멀티 헤드 어텐션에서의 헤드 수 \n",
    "UNITS = 512 # 피드 포워드 신경망의 은닉층의 크기\n",
    "DROPOUT = 0.1 # 드롭아웃의 비율\n",
    "TEMPARATURE = 2.0 # 소프트맥스 온도 설정\n",
    "\n",
    "model3 = transformer(\n",
    "    vocab_size=VOCAB_SIZE,\n",
    "    num_layers=NUM_LAYERS,\n",
    "    units=UNITS,\n",
    "    d_model=D_MODEL,\n",
    "    num_heads=NUM_HEADS,\n",
    "    dropout=DROPOUT,\n",
    "    temperature=TEMPARATURE)\n",
    "\n",
    "model3.summary()"
   ]
  },
  {
   "cell_type": "code",
   "execution_count": 42,
   "id": "e1b24ca9",
   "metadata": {},
   "outputs": [],
   "source": [
    "# 패딩영역을 제외한 손실함수 계산\n",
    "\n",
    "def loss_function(y_true, y_pred):\n",
    "  y_true = tf.reshape(y_true, shape=(-1, MAX_LENGTH - 1))\n",
    "  \n",
    "  loss = tf.keras.losses.SparseCategoricalCrossentropy(\n",
    "      from_logits=False, reduction='none')(y_true, y_pred)\n",
    "\n",
    "  mask = tf.cast(tf.not_equal(y_true, 0), tf.float32)\n",
    "  loss = tf.multiply(loss, mask)\n",
    "\n",
    "  return tf.reduce_mean(loss)"
   ]
  },
  {
   "cell_type": "code",
   "execution_count": 43,
   "id": "b78fccc6",
   "metadata": {},
   "outputs": [],
   "source": [
    "# 학습률 커스터마이징\n",
    "# 4000번의 웜업 이후 학습률을 줄이는 형태로 설정\n",
    "\n",
    "class CustomSchedule(tf.keras.optimizers.schedules.LearningRateSchedule):\n",
    "\n",
    "  def __init__(self, d_model, warmup_steps=4000):\n",
    "    super(CustomSchedule, self).__init__()\n",
    "\n",
    "    self.d_model = d_model\n",
    "    self.d_model = tf.cast(self.d_model, tf.float32)\n",
    "\n",
    "    self.warmup_steps = warmup_steps\n",
    "\n",
    "  def __call__(self, step):\n",
    "    arg1 = tf.math.rsqrt(step)\n",
    "    arg2 = step * (self.warmup_steps**-1.5)\n",
    "\n",
    "    return tf.math.rsqrt(self.d_model) * tf.math.minimum(arg1, arg2)"
   ]
  },
  {
   "cell_type": "code",
   "execution_count": 44,
   "id": "d1978a21",
   "metadata": {},
   "outputs": [],
   "source": [
    "#모델 컴파일\n",
    "\n",
    "# 학습률 스케줄 설정\n",
    "learning_rate = CustomSchedule(D_MODEL)\n",
    "\n",
    "# Adam 옵티마이저 설정\n",
    "optimizer = tf.keras.optimizers.Adam(\n",
    "    learning_rate, beta_1=0.9, beta_2=0.98, epsilon=1e-9)\n",
    "\n",
    "# 정확도 함수 정의\n",
    "def accuracy(y_true, y_pred):\n",
    "    y_true = tf.reshape(y_true, shape=(-1, MAX_LENGTH - 1))\n",
    "    return tf.keras.metrics.sparse_categorical_accuracy(y_true, y_pred)"
   ]
  },
  {
   "cell_type": "code",
   "execution_count": 45,
   "id": "1efb7b04",
   "metadata": {},
   "outputs": [],
   "source": [
    "# 모델 컴파일\n",
    "model1.compile(optimizer=optimizer, loss=loss_function, metrics=[accuracy])\n",
    "model2.compile(optimizer=optimizer, loss=loss_function, metrics=[accuracy])\n",
    "model3.compile(optimizer=optimizer, loss=loss_function, metrics=[accuracy])"
   ]
  },
  {
   "cell_type": "code",
   "execution_count": 47,
   "id": "8eef6880",
   "metadata": {},
   "outputs": [
    {
     "name": "stdout",
     "output_type": "stream",
     "text": [
      "Epoch 1/40\n",
      "185/185 [==============================] - 16s 49ms/step - loss: 1.8879 - accuracy: 0.0320\n",
      "Epoch 2/40\n",
      "185/185 [==============================] - 9s 49ms/step - loss: 1.5359 - accuracy: 0.0633\n",
      "Epoch 3/40\n",
      "185/185 [==============================] - 9s 49ms/step - loss: 1.3120 - accuracy: 0.0657\n",
      "Epoch 4/40\n",
      "185/185 [==============================] - 9s 48ms/step - loss: 1.2094 - accuracy: 0.0706\n",
      "Epoch 5/40\n",
      "185/185 [==============================] - 9s 48ms/step - loss: 1.1328 - accuracy: 0.0749\n",
      "Epoch 6/40\n",
      "185/185 [==============================] - 9s 48ms/step - loss: 1.0545 - accuracy: 0.0805\n",
      "Epoch 7/40\n",
      "185/185 [==============================] - 9s 47ms/step - loss: 0.9680 - accuracy: 0.0885\n",
      "Epoch 8/40\n",
      "185/185 [==============================] - 9s 48ms/step - loss: 0.8733 - accuracy: 0.0984\n",
      "Epoch 9/40\n",
      "185/185 [==============================] - 9s 48ms/step - loss: 0.7715 - accuracy: 0.1099\n",
      "Epoch 10/40\n",
      "185/185 [==============================] - 9s 48ms/step - loss: 0.6646 - accuracy: 0.1219\n",
      "Epoch 11/40\n",
      "185/185 [==============================] - 9s 48ms/step - loss: 0.5582 - accuracy: 0.1350\n",
      "Epoch 12/40\n",
      "185/185 [==============================] - 9s 48ms/step - loss: 0.4537 - accuracy: 0.1489\n",
      "Epoch 13/40\n",
      "185/185 [==============================] - 9s 48ms/step - loss: 0.3567 - accuracy: 0.1633\n",
      "Epoch 14/40\n",
      "185/185 [==============================] - 9s 48ms/step - loss: 0.2710 - accuracy: 0.1766\n",
      "Epoch 15/40\n",
      "185/185 [==============================] - 9s 48ms/step - loss: 0.2014 - accuracy: 0.1882\n",
      "Epoch 16/40\n",
      "185/185 [==============================] - 9s 48ms/step - loss: 0.1460 - accuracy: 0.1984\n",
      "Epoch 17/40\n",
      "185/185 [==============================] - 9s 48ms/step - loss: 0.1054 - accuracy: 0.2061\n",
      "Epoch 18/40\n",
      "185/185 [==============================] - 9s 48ms/step - loss: 0.0813 - accuracy: 0.2102\n",
      "Epoch 19/40\n",
      "185/185 [==============================] - 9s 48ms/step - loss: 0.0672 - accuracy: 0.2127\n",
      "Epoch 20/40\n",
      "185/185 [==============================] - 9s 48ms/step - loss: 0.0602 - accuracy: 0.2138\n",
      "Epoch 21/40\n",
      "185/185 [==============================] - 9s 48ms/step - loss: 0.0563 - accuracy: 0.2145\n",
      "Epoch 22/40\n",
      "185/185 [==============================] - 9s 48ms/step - loss: 0.0549 - accuracy: 0.2144\n",
      "Epoch 23/40\n",
      "185/185 [==============================] - 9s 48ms/step - loss: 0.0474 - accuracy: 0.2161\n",
      "Epoch 24/40\n",
      "185/185 [==============================] - 9s 48ms/step - loss: 0.0427 - accuracy: 0.2172\n",
      "Epoch 25/40\n",
      "185/185 [==============================] - 9s 48ms/step - loss: 0.0357 - accuracy: 0.2191\n",
      "Epoch 26/40\n",
      "185/185 [==============================] - 9s 48ms/step - loss: 0.0328 - accuracy: 0.2197\n",
      "Epoch 27/40\n",
      "185/185 [==============================] - 9s 48ms/step - loss: 0.0293 - accuracy: 0.2206\n",
      "Epoch 28/40\n",
      "185/185 [==============================] - 9s 48ms/step - loss: 0.0261 - accuracy: 0.2216\n",
      "Epoch 29/40\n",
      "185/185 [==============================] - 9s 48ms/step - loss: 0.0244 - accuracy: 0.2218\n",
      "Epoch 30/40\n",
      "185/185 [==============================] - 9s 48ms/step - loss: 0.0225 - accuracy: 0.2223\n",
      "Epoch 31/40\n",
      "185/185 [==============================] - 9s 48ms/step - loss: 0.0207 - accuracy: 0.2226\n",
      "Epoch 32/40\n",
      "185/185 [==============================] - 9s 48ms/step - loss: 0.0181 - accuracy: 0.2235\n",
      "Epoch 33/40\n",
      "185/185 [==============================] - 9s 48ms/step - loss: 0.0172 - accuracy: 0.2237\n",
      "Epoch 34/40\n",
      "185/185 [==============================] - 9s 48ms/step - loss: 0.0171 - accuracy: 0.2236\n",
      "Epoch 35/40\n",
      "185/185 [==============================] - 9s 48ms/step - loss: 0.0154 - accuracy: 0.2241\n",
      "Epoch 36/40\n",
      "185/185 [==============================] - 9s 48ms/step - loss: 0.0144 - accuracy: 0.2244\n",
      "Epoch 37/40\n",
      "185/185 [==============================] - 9s 48ms/step - loss: 0.0132 - accuracy: 0.2247\n",
      "Epoch 38/40\n",
      "185/185 [==============================] - 9s 48ms/step - loss: 0.0127 - accuracy: 0.2249\n",
      "Epoch 39/40\n",
      "185/185 [==============================] - 9s 48ms/step - loss: 0.0117 - accuracy: 0.2252\n",
      "Epoch 40/40\n",
      "185/185 [==============================] - 9s 48ms/step - loss: 0.0118 - accuracy: 0.2250\n"
     ]
    },
    {
     "data": {
      "image/png": "[encoded data removed]",
      "text/plain": [
       "<Figure size 864x288 with 2 Axes>"
      ]
     },
     "metadata": {
      "needs_background": "light"
     },
     "output_type": "display_data"
    }
   ],
   "source": [
    "# 학습 수행\n",
    "EPOCHS = 40\n",
    "history1 = model1.fit(dataset, epochs=EPOCHS, verbose=1)\n",
    "\n",
    "# **손실 및 정확도 그래프 출력**\n",
    "def plot_learning_curves(history1):\n",
    "    plt.figure(figsize=(12, 4))\n",
    "\n",
    "    # 손실 그래프\n",
    "    plt.subplot(1, 2, 1)\n",
    "    plt.plot(history1.history['loss'], label='Train Loss')\n",
    "    plt.xlabel('Epochs')\n",
    "    plt.ylabel('Loss')\n",
    "    plt.title('Loss Curve')\n",
    "    plt.legend()\n",
    "\n",
    "    # 정확도 그래프\n",
    "    plt.subplot(1, 2, 2)\n",
    "    plt.plot(history1.history['accuracy'], label='Train Accuracy')\n",
    "    plt.xlabel('Epochs')\n",
    "    plt.ylabel('Accuracy')\n",
    "    plt.title('Accuracy Curve')\n",
    "    plt.legend()\n",
    "\n",
    "    plt.show()\n",
    "\n",
    "# 그래프 출력\n",
    "plot_learning_curves(history1)"
   ]
  },
  {
   "cell_type": "code",
   "execution_count": 48,
   "id": "30a58f61",
   "metadata": {
    "scrolled": true
   },
   "outputs": [
    {
     "name": "stdout",
     "output_type": "stream",
     "text": [
      "Epoch 1/40\n",
      "185/185 [==============================] - 15s 49ms/step - loss: 1.3176 - accuracy: 0.0654\n",
      "Epoch 2/40\n",
      "185/185 [==============================] - 9s 48ms/step - loss: 1.0692 - accuracy: 0.0809\n",
      "Epoch 3/40\n",
      "185/185 [==============================] - 9s 49ms/step - loss: 0.8373 - accuracy: 0.1014\n",
      "Epoch 4/40\n",
      "185/185 [==============================] - 9s 49ms/step - loss: 0.6583 - accuracy: 0.1199\n",
      "Epoch 5/40\n",
      "185/185 [==============================] - 9s 49ms/step - loss: 0.5203 - accuracy: 0.1371\n",
      "Epoch 6/40\n",
      "185/185 [==============================] - 9s 49ms/step - loss: 0.3986 - accuracy: 0.1542\n",
      "Epoch 7/40\n",
      "185/185 [==============================] - 9s 49ms/step - loss: 0.2925 - accuracy: 0.1704\n",
      "Epoch 8/40\n",
      "185/185 [==============================] - 9s 49ms/step - loss: 0.2076 - accuracy: 0.1848\n",
      "Epoch 9/40\n",
      "185/185 [==============================] - 9s 49ms/step - loss: 0.1443 - accuracy: 0.1963\n",
      "Epoch 10/40\n",
      "185/185 [==============================] - 9s 49ms/step - loss: 0.1000 - accuracy: 0.2055\n",
      "Epoch 11/40\n",
      "185/185 [==============================] - 9s 49ms/step - loss: 0.0728 - accuracy: 0.2109\n",
      "Epoch 12/40\n",
      "185/185 [==============================] - 9s 49ms/step - loss: 0.0565 - accuracy: 0.2145\n",
      "Epoch 13/40\n",
      "185/185 [==============================] - 9s 49ms/step - loss: 0.0450 - accuracy: 0.2170\n",
      "Epoch 14/40\n",
      "185/185 [==============================] - 9s 49ms/step - loss: 0.0391 - accuracy: 0.2184\n",
      "Epoch 15/40\n",
      "185/185 [==============================] - 9s 49ms/step - loss: 0.0333 - accuracy: 0.2198\n",
      "Epoch 16/40\n",
      "185/185 [==============================] - 9s 49ms/step - loss: 0.0293 - accuracy: 0.2206\n",
      "Epoch 17/40\n",
      "185/185 [==============================] - 9s 49ms/step - loss: 0.0264 - accuracy: 0.2214\n",
      "Epoch 18/40\n",
      "185/185 [==============================] - 9s 49ms/step - loss: 0.0241 - accuracy: 0.2222\n",
      "Epoch 19/40\n",
      "185/185 [==============================] - 9s 49ms/step - loss: 0.0225 - accuracy: 0.2223\n",
      "Epoch 20/40\n",
      "185/185 [==============================] - 9s 49ms/step - loss: 0.0209 - accuracy: 0.2228\n",
      "Epoch 21/40\n",
      "185/185 [==============================] - 9s 49ms/step - loss: 0.0192 - accuracy: 0.2232\n",
      "Epoch 22/40\n",
      "185/185 [==============================] - 9s 49ms/step - loss: 0.0176 - accuracy: 0.2236\n",
      "Epoch 23/40\n",
      "185/185 [==============================] - 9s 49ms/step - loss: 0.0168 - accuracy: 0.2237\n",
      "Epoch 24/40\n",
      "185/185 [==============================] - 9s 49ms/step - loss: 0.0161 - accuracy: 0.2240\n",
      "Epoch 25/40\n",
      "185/185 [==============================] - 9s 49ms/step - loss: 0.0147 - accuracy: 0.2244\n",
      "Epoch 26/40\n",
      "185/185 [==============================] - 9s 49ms/step - loss: 0.0136 - accuracy: 0.2246\n",
      "Epoch 27/40\n",
      "185/185 [==============================] - 9s 49ms/step - loss: 0.0134 - accuracy: 0.2245\n",
      "Epoch 28/40\n",
      "185/185 [==============================] - 9s 49ms/step - loss: 0.0124 - accuracy: 0.2249\n",
      "Epoch 29/40\n",
      "185/185 [==============================] - 9s 49ms/step - loss: 0.0121 - accuracy: 0.2250\n",
      "Epoch 30/40\n",
      "185/185 [==============================] - 9s 49ms/step - loss: 0.0119 - accuracy: 0.2250\n",
      "Epoch 31/40\n",
      "185/185 [==============================] - 9s 49ms/step - loss: 0.0105 - accuracy: 0.2254\n",
      "Epoch 32/40\n",
      "185/185 [==============================] - 9s 49ms/step - loss: 0.0104 - accuracy: 0.2255\n",
      "Epoch 33/40\n",
      "185/185 [==============================] - 9s 49ms/step - loss: 0.0098 - accuracy: 0.2255\n",
      "Epoch 34/40\n",
      "185/185 [==============================] - 9s 49ms/step - loss: 0.0095 - accuracy: 0.2256\n",
      "Epoch 35/40\n",
      "185/185 [==============================] - 9s 49ms/step - loss: 0.0093 - accuracy: 0.2256\n",
      "Epoch 36/40\n",
      "185/185 [==============================] - 9s 49ms/step - loss: 0.0088 - accuracy: 0.2257\n",
      "Epoch 37/40\n",
      "185/185 [==============================] - 9s 49ms/step - loss: 0.0086 - accuracy: 0.2258\n",
      "Epoch 38/40\n",
      "185/185 [==============================] - 9s 49ms/step - loss: 0.0084 - accuracy: 0.2260\n",
      "Epoch 39/40\n",
      "185/185 [==============================] - 9s 49ms/step - loss: 0.0083 - accuracy: 0.2258\n",
      "Epoch 40/40\n",
      "185/185 [==============================] - 9s 49ms/step - loss: 0.0077 - accuracy: 0.2260\n"
     ]
    },
    {
     "data": {
      "image/png": "[encoded data removed]",
      "text/plain": [
       "<Figure size 864x288 with 2 Axes>"
      ]
     },
     "metadata": {
      "needs_background": "light"
     },
     "output_type": "display_data"
    }
   ],
   "source": [
    "# 학습 수행\n",
    "EPOCHS = 40\n",
    "history2 = model2.fit(dataset, epochs=EPOCHS, verbose=1)\n",
    "\n",
    "# **손실 및 정확도 그래프 출력**\n",
    "def plot_learning_curves(history2):\n",
    "    plt.figure(figsize=(12, 4))\n",
    "\n",
    "    # 손실 그래프\n",
    "    plt.subplot(1, 2, 1)\n",
    "    plt.plot(history2.history['loss'], label='Train Loss')\n",
    "    plt.xlabel('Epochs')\n",
    "    plt.ylabel('Loss')\n",
    "    plt.title('Loss Curve')\n",
    "    plt.legend()\n",
    "\n",
    "    # 정확도 그래프\n",
    "    plt.subplot(1, 2, 2)\n",
    "    plt.plot(history2.history['accuracy'], label='Train Accuracy')\n",
    "    plt.xlabel('Epochs')\n",
    "    plt.ylabel('Accuracy')\n",
    "    plt.title('Accuracy Curve')\n",
    "    plt.legend()\n",
    "\n",
    "    plt.show()\n",
    "\n",
    "# 그래프 출력\n",
    "plot_learning_curves(history2)"
   ]
  },
  {
   "cell_type": "code",
   "execution_count": 49,
   "id": "9164e082",
   "metadata": {},
   "outputs": [
    {
     "name": "stdout",
     "output_type": "stream",
     "text": [
      "Epoch 1/40\n",
      "185/185 [==============================] - 15s 49ms/step - loss: 1.4228 - accuracy: 0.0623\n",
      "Epoch 2/40\n",
      "185/185 [==============================] - 9s 49ms/step - loss: 1.1830 - accuracy: 0.0717\n",
      "Epoch 3/40\n",
      "185/185 [==============================] - 9s 49ms/step - loss: 1.0896 - accuracy: 0.0773\n",
      "Epoch 4/40\n",
      "185/185 [==============================] - 9s 49ms/step - loss: 0.9959 - accuracy: 0.0849\n",
      "Epoch 5/40\n",
      "185/185 [==============================] - 9s 49ms/step - loss: 0.9033 - accuracy: 0.0950\n",
      "Epoch 6/40\n",
      "185/185 [==============================] - 9s 48ms/step - loss: 0.8104 - accuracy: 0.1053\n",
      "Epoch 7/40\n",
      "185/185 [==============================] - 9s 49ms/step - loss: 0.7189 - accuracy: 0.1166\n",
      "Epoch 8/40\n",
      "185/185 [==============================] - 9s 49ms/step - loss: 0.6304 - accuracy: 0.1275\n",
      "Epoch 9/40\n",
      "185/185 [==============================] - 9s 49ms/step - loss: 0.5455 - accuracy: 0.1385\n",
      "Epoch 10/40\n",
      "185/185 [==============================] - 9s 49ms/step - loss: 0.4657 - accuracy: 0.1495\n",
      "Epoch 11/40\n",
      "185/185 [==============================] - 9s 49ms/step - loss: 0.3926 - accuracy: 0.1604\n",
      "Epoch 12/40\n",
      "185/185 [==============================] - 9s 49ms/step - loss: 0.3257 - accuracy: 0.1714\n",
      "Epoch 13/40\n",
      "185/185 [==============================] - 9s 49ms/step - loss: 0.2676 - accuracy: 0.1809\n",
      "Epoch 14/40\n",
      "185/185 [==============================] - 9s 49ms/step - loss: 0.2166 - accuracy: 0.1898\n",
      "Epoch 15/40\n",
      "185/185 [==============================] - 9s 49ms/step - loss: 0.1727 - accuracy: 0.1980\n",
      "Epoch 16/40\n",
      "185/185 [==============================] - 9s 49ms/step - loss: 0.1351 - accuracy: 0.2052\n",
      "Epoch 17/40\n",
      "185/185 [==============================] - 9s 49ms/step - loss: 0.1047 - accuracy: 0.2113\n",
      "Epoch 18/40\n",
      "185/185 [==============================] - 9s 49ms/step - loss: 0.0800 - accuracy: 0.2157\n",
      "Epoch 19/40\n",
      "185/185 [==============================] - 9s 49ms/step - loss: 0.0613 - accuracy: 0.2188\n",
      "Epoch 20/40\n",
      "185/185 [==============================] - 9s 49ms/step - loss: 0.0479 - accuracy: 0.2210\n",
      "Epoch 21/40\n",
      "185/185 [==============================] - 9s 49ms/step - loss: 0.0374 - accuracy: 0.2223\n",
      "Epoch 22/40\n",
      "185/185 [==============================] - 9s 49ms/step - loss: 0.0293 - accuracy: 0.2234\n",
      "Epoch 23/40\n",
      "185/185 [==============================] - 9s 49ms/step - loss: 0.0244 - accuracy: 0.2240\n",
      "Epoch 24/40\n",
      "185/185 [==============================] - 9s 49ms/step - loss: 0.0206 - accuracy: 0.2245\n",
      "Epoch 25/40\n",
      "185/185 [==============================] - 9s 49ms/step - loss: 0.0179 - accuracy: 0.2247\n",
      "Epoch 26/40\n",
      "185/185 [==============================] - 9s 49ms/step - loss: 0.0160 - accuracy: 0.2249\n",
      "Epoch 27/40\n",
      "185/185 [==============================] - 9s 49ms/step - loss: 0.0142 - accuracy: 0.2252\n",
      "Epoch 28/40\n",
      "185/185 [==============================] - 9s 49ms/step - loss: 0.0131 - accuracy: 0.2253\n",
      "Epoch 29/40\n",
      "185/185 [==============================] - 9s 49ms/step - loss: 0.0118 - accuracy: 0.2255\n",
      "Epoch 30/40\n",
      "185/185 [==============================] - 9s 49ms/step - loss: 0.0111 - accuracy: 0.2256\n",
      "Epoch 31/40\n",
      "185/185 [==============================] - 9s 49ms/step - loss: 0.0100 - accuracy: 0.2258\n",
      "Epoch 32/40\n",
      "185/185 [==============================] - 9s 49ms/step - loss: 0.0096 - accuracy: 0.2258\n",
      "Epoch 33/40\n",
      "185/185 [==============================] - 9s 49ms/step - loss: 0.0090 - accuracy: 0.2259\n",
      "Epoch 34/40\n",
      "185/185 [==============================] - 9s 49ms/step - loss: 0.0087 - accuracy: 0.2260\n",
      "Epoch 35/40\n",
      "185/185 [==============================] - 9s 49ms/step - loss: 0.0081 - accuracy: 0.2262\n",
      "Epoch 36/40\n",
      "185/185 [==============================] - 9s 49ms/step - loss: 0.0076 - accuracy: 0.2261\n",
      "Epoch 37/40\n",
      "185/185 [==============================] - 9s 49ms/step - loss: 0.0075 - accuracy: 0.2262\n",
      "Epoch 38/40\n",
      "185/185 [==============================] - 9s 49ms/step - loss: 0.0072 - accuracy: 0.2262\n",
      "Epoch 39/40\n",
      "185/185 [==============================] - 9s 49ms/step - loss: 0.0065 - accuracy: 0.2264\n",
      "Epoch 40/40\n",
      "185/185 [==============================] - 9s 49ms/step - loss: 0.0065 - accuracy: 0.2263\n"
     ]
    },
    {
     "data": {
      "image/png": "[encoded data removed]",
      "text/plain": [
       "<Figure size 864x288 with 2 Axes>"
      ]
     },
     "metadata": {
      "needs_background": "light"
     },
     "output_type": "display_data"
    }
   ],
   "source": [
    "# 학습 수행\n",
    "EPOCHS = 40\n",
    "history3 = model3.fit(dataset, epochs=EPOCHS, verbose=1)\n",
    "\n",
    "# **손실 및 정확도 그래프 출력**\n",
    "def plot_learning_curves(history3):\n",
    "    plt.figure(figsize=(12, 4))\n",
    "\n",
    "    # 손실 그래프\n",
    "    plt.subplot(1, 2, 1)\n",
    "    plt.plot(history3.history['loss'], label='Train Loss')\n",
    "    plt.xlabel('Epochs')\n",
    "    plt.ylabel('Loss')\n",
    "    plt.title('Loss Curve')\n",
    "    plt.legend()\n",
    "\n",
    "    # 정확도 그래프\n",
    "    plt.subplot(1, 2, 2)\n",
    "    plt.plot(history3.history['accuracy'], label='Train Accuracy')\n",
    "    plt.xlabel('Epochs')\n",
    "    plt.ylabel('Accuracy')\n",
    "    plt.title('Accuracy Curve')\n",
    "    plt.legend()\n",
    "\n",
    "    plt.show()\n",
    "\n",
    "# 그래프 출력\n",
    "plot_learning_curves(history3)"
   ]
  },
  {
   "cell_type": "code",
   "execution_count": 50,
   "id": "f1f24ec8",
   "metadata": {},
   "outputs": [],
   "source": [
    "# 새로운 decoder_inference 함수 (모델을 매개변수로 받도록 수정)\n",
    "def decoder_inference(sentence, model):\n",
    "    sentence = clean_text(sentence)\n",
    "\n",
    "    sentence = tf.expand_dims(\n",
    "        START_TOKEN + tokenizer.encode(sentence) + END_TOKEN, axis=0\n",
    "    )\n",
    "\n",
    "    output_sequence = tf.expand_dims(START_TOKEN, 0)\n",
    "\n",
    "    for i in range(MAX_LENGTH):\n",
    "        predictions = model(inputs=[sentence, output_sequence], training=False)\n",
    "        predictions = predictions[:, -1:, :]\n",
    "\n",
    "        predicted_id = tf.cast(tf.argmax(predictions, axis=-1), tf.int32)\n",
    "\n",
    "        if tf.equal(predicted_id, END_TOKEN[0]):\n",
    "            break\n",
    "\n",
    "        output_sequence = tf.concat([output_sequence, predicted_id], axis=-1)\n",
    "\n",
    "    return tf.squeeze(output_sequence, axis=0)"
   ]
  },
  {
   "cell_type": "code",
   "execution_count": 51,
   "id": "bc3b1abd",
   "metadata": {},
   "outputs": [],
   "source": [
    "def sentence_generation_multi_models(sentence, models):\n",
    "    for model in models:\n",
    "        prediction = decoder_inference(sentence, model)\n",
    "\n",
    "        predicted_sentence = tokenizer.decode(\n",
    "            [i for i in prediction if i < tokenizer.vocab_size]\n",
    "        )\n",
    "\n",
    "        # 특정 특수문자 앞 공백 제거\n",
    "        predicted_sentence = re.sub(r'\\s*([!%\\',.;?_~…ㅊㅋㅎㅜㅠ-])', r'\\1', predicted_sentence)\n",
    "\n",
    "        print('입력 : {}'.format(sentence))\n",
    "        print('출력 : {}\\n'.format(predicted_sentence))"
   ]
  },
  {
   "cell_type": "code",
   "execution_count": 52,
   "id": "11934b6b",
   "metadata": {},
   "outputs": [],
   "source": [
    "# model1 -> 소프트맥스 온도 1.0\n",
    "# model2 -> 소프트맥스 온도 0.5\n",
    "# model3 -> 소프트맥스 온도 2.0\n",
    "models = [model1, model2, model3]"
   ]
  },
  {
   "cell_type": "code",
   "execution_count": 53,
   "id": "7b189d24",
   "metadata": {},
   "outputs": [
    {
     "name": "stdout",
     "output_type": "stream",
     "text": [
      "입력 : 나랑 같이 밥 먹을래?\n",
      "출력 : 즐거운 시간 보내시길 바랍니다.\n",
      "\n",
      "입력 : 나랑 같이 밥 먹을래?\n",
      "출력 : 행복한 고민이네요.\n",
      "\n",
      "입력 : 나랑 같이 밥 먹을래?\n",
      "출력 : 살짝 물어보세요.\n",
      "\n"
     ]
    }
   ],
   "source": [
    "# 테스트1\n",
    "sentence_generation_multi_models('나랑 같이 밥 먹을래?', models)"
   ]
  },
  {
   "cell_type": "code",
   "execution_count": 54,
   "id": "14bf36ca",
   "metadata": {
    "scrolled": true
   },
   "outputs": [
    {
     "name": "stdout",
     "output_type": "stream",
     "text": [
      "입력 : 내가 약속이 있어서 그런데 우리 약속은 내일로 미룰까?\n",
      "출력 : 잘 지내고 있을 거예요.\n",
      "\n",
      "입력 : 내가 약속이 있어서 그런데 우리 약속은 내일로 미룰까?\n",
      "출력 : 잘 견디고 있길 바랄게요.\n",
      "\n",
      "입력 : 내가 약속이 있어서 그런데 우리 약속은 내일로 미룰까?\n",
      "출력 : 두근거리겠어요.\n",
      "\n"
     ]
    }
   ],
   "source": [
    "# 테스트2\n",
    "sentence_generation_multi_models('내가 약속이 있어서 그런데 우리 약속은 내일로 미룰까?', models)"
   ]
  },
  {
   "cell_type": "code",
   "execution_count": 55,
   "id": "84386a80",
   "metadata": {},
   "outputs": [
    {
     "name": "stdout",
     "output_type": "stream",
     "text": [
      "입력 : 내 여자친구는 나를 안좋아하는거 같아 ㅠㅜ\n",
      "출력 : 마음이 복잡했나봐요.\n",
      "\n",
      "입력 : 내 여자친구는 나를 안좋아하는거 같아 ㅠㅜ\n",
      "출력 : 다른 생각 하고 주무세요.\n",
      "\n",
      "입력 : 내 여자친구는 나를 안좋아하는거 같아 ㅠㅜ\n",
      "출력 : 이제 남이에요.\n",
      "\n"
     ]
    }
   ],
   "source": [
    "# 테스트3\n",
    "sentence_generation_multi_models('내 여자친구는 나를 안좋아하는거 같아 ㅠㅜ', models)"
   ]
  },
  {
   "cell_type": "code",
   "execution_count": 56,
   "id": "03d66e3d",
   "metadata": {},
   "outputs": [
    {
     "name": "stdout",
     "output_type": "stream",
     "text": [
      "입력 : 내가 좋아하는 사람이 있는데 먼저 연락해도 될까?\n",
      "출력 : 부담스럽지 않은 선이 좋겠어요.\n",
      "\n",
      "입력 : 내가 좋아하는 사람이 있는데 먼저 연락해도 될까?\n",
      "출력 : 서로의 의사가 존중된 것이라면 괜찮지만 사귀고 난 후가 좋겠어요.\n",
      "\n",
      "입력 : 내가 좋아하는 사람이 있는데 먼저 연락해도 될까?\n",
      "출력 : 아무래도 연락해보세요.\n",
      "\n"
     ]
    }
   ],
   "source": [
    "# 테스트4\n",
    "sentence_generation_multi_models('내가 좋아하는 사람이 있는데 먼저 연락해도 될까?', models)"
   ]
  },
  {
   "cell_type": "markdown",
   "id": "da0b14f4",
   "metadata": {},
   "source": [
    "### 결론\n",
    "\n",
    "#### 소프트맥스 온도에 따라 모델의 응답이 전부 달라졌음\n",
    "#### 소프트맥스 온도가 낮으면 손실이 급하게 작아지고 온도가 높으면 완만하게 감소함\n",
    "#### 모델의 말하는 성향? 성격? 창의성?에 영향을 미칠 수 있을 것으로 보임"
   ]
  }
 ],
 "metadata": {
  "kernelspec": {
   "display_name": "Python 3 (ipykernel)",
   "language": "python",
   "name": "python3"
  },
  "language_info": {
   "codemirror_mode": {
    "name": "ipython",
    "version": 3
   },
   "file_extension": ".py",
   "mimetype": "text/x-python",
   "name": "python",
   "nbconvert_exporter": "python",
   "pygments_lexer": "ipython3",
   "version": "3.9.7"
  }
 },
 "nbformat": 4,
 "nbformat_minor": 5
}
