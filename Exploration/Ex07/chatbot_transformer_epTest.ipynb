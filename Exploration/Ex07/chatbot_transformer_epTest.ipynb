{
 "cells": [
  {
   "cell_type": "code",
   "execution_count": 1,
   "id": "0f66fc82",
   "metadata": {},
   "outputs": [],
   "source": [
    "import pandas as pd\n",
    "import numpy as np\n",
    "import matplotlib.pyplot as plt\n",
    "import tensorflow as tf\n",
    "from tensorflow import keras"
   ]
  },
  {
   "cell_type": "code",
   "execution_count": 2,
   "id": "9d0ab416",
   "metadata": {
    "scrolled": true
   },
   "outputs": [
    {
     "data": {
      "text/html": [
       "<div>\n",
       "<style scoped>\n",
       "    .dataframe tbody tr th:only-of-type {\n",
       "        vertical-align: middle;\n",
       "    }\n",
       "\n",
       "    .dataframe tbody tr th {\n",
       "        vertical-align: top;\n",
       "    }\n",
       "\n",
       "    .dataframe thead th {\n",
       "        text-align: right;\n",
       "    }\n",
       "</style>\n",
       "<table border=\"1\" class=\"dataframe\">\n",
       "  <thead>\n",
       "    <tr style=\"text-align: right;\">\n",
       "      <th></th>\n",
       "      <th>Q</th>\n",
       "      <th>A</th>\n",
       "      <th>label</th>\n",
       "    </tr>\n",
       "  </thead>\n",
       "  <tbody>\n",
       "    <tr>\n",
       "      <th>0</th>\n",
       "      <td>12시 땡!</td>\n",
       "      <td>하루가 또 가네요.</td>\n",
       "      <td>0</td>\n",
       "    </tr>\n",
       "    <tr>\n",
       "      <th>1</th>\n",
       "      <td>1지망 학교 떨어졌어</td>\n",
       "      <td>위로해 드립니다.</td>\n",
       "      <td>0</td>\n",
       "    </tr>\n",
       "    <tr>\n",
       "      <th>2</th>\n",
       "      <td>3박4일 놀러가고 싶다</td>\n",
       "      <td>여행은 언제나 좋죠.</td>\n",
       "      <td>0</td>\n",
       "    </tr>\n",
       "    <tr>\n",
       "      <th>3</th>\n",
       "      <td>3박4일 정도 놀러가고 싶다</td>\n",
       "      <td>여행은 언제나 좋죠.</td>\n",
       "      <td>0</td>\n",
       "    </tr>\n",
       "    <tr>\n",
       "      <th>4</th>\n",
       "      <td>PPL 심하네</td>\n",
       "      <td>눈살이 찌푸려지죠.</td>\n",
       "      <td>0</td>\n",
       "    </tr>\n",
       "    <tr>\n",
       "      <th>...</th>\n",
       "      <td>...</td>\n",
       "      <td>...</td>\n",
       "      <td>...</td>\n",
       "    </tr>\n",
       "    <tr>\n",
       "      <th>11818</th>\n",
       "      <td>훔쳐보는 것도 눈치 보임.</td>\n",
       "      <td>티가 나니까 눈치가 보이는 거죠!</td>\n",
       "      <td>2</td>\n",
       "    </tr>\n",
       "    <tr>\n",
       "      <th>11819</th>\n",
       "      <td>훔쳐보는 것도 눈치 보임.</td>\n",
       "      <td>훔쳐보는 거 티나나봐요.</td>\n",
       "      <td>2</td>\n",
       "    </tr>\n",
       "    <tr>\n",
       "      <th>11820</th>\n",
       "      <td>흑기사 해주는 짝남.</td>\n",
       "      <td>설렜겠어요.</td>\n",
       "      <td>2</td>\n",
       "    </tr>\n",
       "    <tr>\n",
       "      <th>11821</th>\n",
       "      <td>힘든 연애 좋은 연애라는게 무슨 차이일까?</td>\n",
       "      <td>잘 헤어질 수 있는 사이 여부인 거 같아요.</td>\n",
       "      <td>2</td>\n",
       "    </tr>\n",
       "    <tr>\n",
       "      <th>11822</th>\n",
       "      <td>힘들어서 결혼할까봐</td>\n",
       "      <td>도피성 결혼은 하지 않길 바라요.</td>\n",
       "      <td>2</td>\n",
       "    </tr>\n",
       "  </tbody>\n",
       "</table>\n",
       "<p>11823 rows × 3 columns</p>\n",
       "</div>"
      ],
      "text/plain": [
       "                             Q                         A  label\n",
       "0                       12시 땡!                하루가 또 가네요.      0\n",
       "1                  1지망 학교 떨어졌어                 위로해 드립니다.      0\n",
       "2                 3박4일 놀러가고 싶다               여행은 언제나 좋죠.      0\n",
       "3              3박4일 정도 놀러가고 싶다               여행은 언제나 좋죠.      0\n",
       "4                      PPL 심하네                눈살이 찌푸려지죠.      0\n",
       "...                        ...                       ...    ...\n",
       "11818           훔쳐보는 것도 눈치 보임.        티가 나니까 눈치가 보이는 거죠!      2\n",
       "11819           훔쳐보는 것도 눈치 보임.             훔쳐보는 거 티나나봐요.      2\n",
       "11820              흑기사 해주는 짝남.                    설렜겠어요.      2\n",
       "11821  힘든 연애 좋은 연애라는게 무슨 차이일까?  잘 헤어질 수 있는 사이 여부인 거 같아요.      2\n",
       "11822               힘들어서 결혼할까봐        도피성 결혼은 하지 않길 바라요.      2\n",
       "\n",
       "[11823 rows x 3 columns]"
      ]
     },
     "execution_count": 2,
     "metadata": {},
     "output_type": "execute_result"
    }
   ],
   "source": [
    "# 데이터 확인\n",
    "data = pd.read_csv('data/ChatbotData .csv')\n",
    "data"
   ]
  },
  {
   "cell_type": "code",
   "execution_count": 3,
   "id": "fbbc783a",
   "metadata": {},
   "outputs": [],
   "source": [
    "# 원본 데이터 별도 확보\n",
    "data_origin = data"
   ]
  },
  {
   "cell_type": "code",
   "execution_count": 4,
   "id": "b0e8c904",
   "metadata": {},
   "outputs": [
    {
     "data": {
      "text/plain": [
       "Q        56\n",
       "A        76\n",
       "label     1\n",
       "dtype: int64"
      ]
     },
     "execution_count": 4,
     "metadata": {},
     "output_type": "execute_result"
    }
   ],
   "source": [
    "# 각 컬럼별 최대 문장길이\n",
    "data.astype(str).applymap(len).max()"
   ]
  },
  {
   "cell_type": "code",
   "execution_count": 5,
   "id": "82e52415",
   "metadata": {},
   "outputs": [],
   "source": [
    "import re"
   ]
  },
  {
   "cell_type": "code",
   "execution_count": 6,
   "id": "2dd52a65",
   "metadata": {},
   "outputs": [],
   "source": [
    "# 특수기호 찾아내는 함수 생성\n",
    "\n",
    "def find_all_special_chars(df):\n",
    "    pattern = re.compile(r\"[^가-힣a-zA-Z0-9]\")\n",
    "    all_text = \" \".join(df.astype(str).values.flatten())\n",
    "    special_chars = set(pattern.findall(all_text))\n",
    "\n",
    "    return special_chars"
   ]
  },
  {
   "cell_type": "code",
   "execution_count": 7,
   "id": "d05e1369",
   "metadata": {},
   "outputs": [
    {
     "data": {
      "text/plain": [
       "{' ',\n",
       " '!',\n",
       " '%',\n",
       " \"'\",\n",
       " ',',\n",
       " '-',\n",
       " '.',\n",
       " ';',\n",
       " '?',\n",
       " '_',\n",
       " '~',\n",
       " '…',\n",
       " 'ㅊ',\n",
       " 'ㅋ',\n",
       " 'ㅎ',\n",
       " 'ㅜ',\n",
       " 'ㅠ'}"
      ]
     },
     "execution_count": 7,
     "metadata": {},
     "output_type": "execute_result"
    }
   ],
   "source": [
    "# 사용된 특수기호 목록\n",
    "special_chars = find_all_special_chars(data)\n",
    "special_chars"
   ]
  },
  {
   "cell_type": "code",
   "execution_count": 8,
   "id": "ca5a46af",
   "metadata": {},
   "outputs": [],
   "source": [
    "# 특수기호 포함된 문장 확인 함수\n",
    "\n",
    "def contains_special_chars(value):\n",
    "    for char in value:\n",
    "        if char in (r'%',',', ';', '_', '-', '~', '…', 'ㅊ', 'ㅋ', 'ㅎ', 'ㅜ', 'ㅠ'):\n",
    "            return True\n",
    "    return False\n",
    "\n",
    "def find_special_symbols(df):\n",
    "    return df[df.astype(str).applymap(contains_special_chars).any(axis=1)]"
   ]
  },
  {
   "cell_type": "code",
   "execution_count": 9,
   "id": "e4a3696a",
   "metadata": {},
   "outputs": [],
   "source": [
    "# 특수기호가 포함된 문장 전체 확인을 위해 csv 파일로 저장\n",
    "#find_special_symbols(data).to_csv(\"spc_contain_text.csv\")"
   ]
  },
  {
   "cell_type": "code",
   "execution_count": 10,
   "id": "bc0c7397",
   "metadata": {},
   "outputs": [
    {
     "name": "stdout",
     "output_type": "stream",
     "text": [
      "Q        이별후 8개월이란 시간이 흐르고\n",
      "A         다른 인연이 ㅊ자아올 거예요.\n",
      "label                    1\n",
      "Name: 7622, dtype: object\n",
      "Q                                               사랑의 정의\n",
      "A        내가 원하는 것보다 다른 사람이 원하는 것을 더 우선순위에 두넌 것이에요.-울라프\n",
      "label                                                2\n",
      "Name: 9906, dtype: object\n"
     ]
    }
   ],
   "source": [
    "#7622, 9906번 문장 오타 확인\n",
    "print(data.iloc[7622])\n",
    "print(data.iloc[9906])"
   ]
  },
  {
   "cell_type": "code",
   "execution_count": 11,
   "id": "41d48e73",
   "metadata": {},
   "outputs": [],
   "source": [
    "# 오타 수정\n",
    "data.iloc[7622, data.columns.get_loc(\"A\")] = \"다른 인연이 찾아올 거예요.\"\n",
    "data.iloc[9906, data.columns.get_loc(\"A\")] = \"내가 원하는 것보다 다른 사람이 원하는 것을 더 우선순위에 두는 것이에요.-울라프\""
   ]
  },
  {
   "cell_type": "code",
   "execution_count": 12,
   "id": "39eb5126",
   "metadata": {
    "scrolled": true
   },
   "outputs": [
    {
     "data": {
      "text/plain": [
       "Q        이별후 8개월이란 시간이 흐르고\n",
       "A          다른 인연이 찾아올 거예요.\n",
       "label                    1\n",
       "Name: 7622, dtype: object"
      ]
     },
     "metadata": {},
     "output_type": "display_data"
    },
    {
     "data": {
      "text/plain": [
       "Q                                               사랑의 정의\n",
       "A        내가 원하는 것보다 다른 사람이 원하는 것을 더 우선순위에 두는 것이에요.-울라프\n",
       "label                                                2\n",
       "Name: 9906, dtype: object"
      ]
     },
     "metadata": {},
     "output_type": "display_data"
    }
   ],
   "source": [
    "# 오타 수정 결과 확인\n",
    "display(data.iloc[7622])\n",
    "display(data.iloc[9906])"
   ]
  },
  {
   "cell_type": "code",
   "execution_count": 13,
   "id": "d7fc3e61",
   "metadata": {},
   "outputs": [],
   "source": [
    "# 한국어 감정표현을 위해 특수문자는 살리기로 결정\n",
    "# 반복되는 특수문자('ㅋㅋㅋ', 'ㅎㅎ' 등)는 1개 문자로만 표현\n",
    "# 특수기호 처리 함수 생성\n",
    "\n",
    "pattern = r'[!%\\',.;?_~…ㅊㅋㅎㅜㅠ-]+'\n",
    "\n",
    "def clean_text(text):\n",
    "    return re.sub(pattern, lambda m: f' {m.group(0)[0]} ', text).strip()"
   ]
  },
  {
   "cell_type": "code",
   "execution_count": 14,
   "id": "9b6c6b4d",
   "metadata": {
    "scrolled": false
   },
   "outputs": [
    {
     "data": {
      "text/html": [
       "<div>\n",
       "<style scoped>\n",
       "    .dataframe tbody tr th:only-of-type {\n",
       "        vertical-align: middle;\n",
       "    }\n",
       "\n",
       "    .dataframe tbody tr th {\n",
       "        vertical-align: top;\n",
       "    }\n",
       "\n",
       "    .dataframe thead th {\n",
       "        text-align: right;\n",
       "    }\n",
       "</style>\n",
       "<table border=\"1\" class=\"dataframe\">\n",
       "  <thead>\n",
       "    <tr style=\"text-align: right;\">\n",
       "      <th></th>\n",
       "      <th>Q</th>\n",
       "      <th>A</th>\n",
       "      <th>label</th>\n",
       "    </tr>\n",
       "  </thead>\n",
       "  <tbody>\n",
       "    <tr>\n",
       "      <th>0</th>\n",
       "      <td>12시 땡 !</td>\n",
       "      <td>하루가 또 가네요 .</td>\n",
       "      <td>0</td>\n",
       "    </tr>\n",
       "    <tr>\n",
       "      <th>1</th>\n",
       "      <td>1지망 학교 떨어졌어</td>\n",
       "      <td>위로해 드립니다 .</td>\n",
       "      <td>0</td>\n",
       "    </tr>\n",
       "    <tr>\n",
       "      <th>2</th>\n",
       "      <td>3박4일 놀러가고 싶다</td>\n",
       "      <td>여행은 언제나 좋죠 .</td>\n",
       "      <td>0</td>\n",
       "    </tr>\n",
       "    <tr>\n",
       "      <th>3</th>\n",
       "      <td>3박4일 정도 놀러가고 싶다</td>\n",
       "      <td>여행은 언제나 좋죠 .</td>\n",
       "      <td>0</td>\n",
       "    </tr>\n",
       "    <tr>\n",
       "      <th>4</th>\n",
       "      <td>PPL 심하네</td>\n",
       "      <td>눈살이 찌푸려지죠 .</td>\n",
       "      <td>0</td>\n",
       "    </tr>\n",
       "    <tr>\n",
       "      <th>...</th>\n",
       "      <td>...</td>\n",
       "      <td>...</td>\n",
       "      <td>...</td>\n",
       "    </tr>\n",
       "    <tr>\n",
       "      <th>11818</th>\n",
       "      <td>훔쳐보는 것도 눈치 보임 .</td>\n",
       "      <td>티가 나니까 눈치가 보이는 거죠 !</td>\n",
       "      <td>2</td>\n",
       "    </tr>\n",
       "    <tr>\n",
       "      <th>11819</th>\n",
       "      <td>훔쳐보는 것도 눈치 보임 .</td>\n",
       "      <td>훔쳐보는 거 티나나봐요 .</td>\n",
       "      <td>2</td>\n",
       "    </tr>\n",
       "    <tr>\n",
       "      <th>11820</th>\n",
       "      <td>흑기사 해주는 짝남 .</td>\n",
       "      <td>설렜겠어요 .</td>\n",
       "      <td>2</td>\n",
       "    </tr>\n",
       "    <tr>\n",
       "      <th>11821</th>\n",
       "      <td>힘든 연애 좋은 연애라는게 무슨 차이일까 ?</td>\n",
       "      <td>잘 헤어질 수 있는 사이 여부인 거 같아요 .</td>\n",
       "      <td>2</td>\n",
       "    </tr>\n",
       "    <tr>\n",
       "      <th>11822</th>\n",
       "      <td>힘들어서 결혼할까봐</td>\n",
       "      <td>도피성 결혼은 하지 않길 바라요 .</td>\n",
       "      <td>2</td>\n",
       "    </tr>\n",
       "  </tbody>\n",
       "</table>\n",
       "<p>11823 rows × 3 columns</p>\n",
       "</div>"
      ],
      "text/plain": [
       "                              Q                          A label\n",
       "0                       12시 땡 !                하루가 또 가네요 .     0\n",
       "1                   1지망 학교 떨어졌어                 위로해 드립니다 .     0\n",
       "2                  3박4일 놀러가고 싶다               여행은 언제나 좋죠 .     0\n",
       "3               3박4일 정도 놀러가고 싶다               여행은 언제나 좋죠 .     0\n",
       "4                       PPL 심하네                눈살이 찌푸려지죠 .     0\n",
       "...                         ...                        ...   ...\n",
       "11818           훔쳐보는 것도 눈치 보임 .        티가 나니까 눈치가 보이는 거죠 !     2\n",
       "11819           훔쳐보는 것도 눈치 보임 .             훔쳐보는 거 티나나봐요 .     2\n",
       "11820              흑기사 해주는 짝남 .                    설렜겠어요 .     2\n",
       "11821  힘든 연애 좋은 연애라는게 무슨 차이일까 ?  잘 헤어질 수 있는 사이 여부인 거 같아요 .     2\n",
       "11822                힘들어서 결혼할까봐        도피성 결혼은 하지 않길 바라요 .     2\n",
       "\n",
       "[11823 rows x 3 columns]"
      ]
     },
     "execution_count": 14,
     "metadata": {},
     "output_type": "execute_result"
    }
   ],
   "source": [
    "# 특수기호 제거 함수 적용\n",
    "data = data.astype(str).applymap(clean_text)\n",
    "\n",
    "data"
   ]
  },
  {
   "cell_type": "code",
   "execution_count": 15,
   "id": "5346f824",
   "metadata": {},
   "outputs": [],
   "source": [
    "data.to_csv('preprocessed_text.csv', index = False)"
   ]
  },
  {
   "cell_type": "code",
   "execution_count": 16,
   "id": "c5401497",
   "metadata": {},
   "outputs": [],
   "source": [
    "# 포지셔널 인코딩 레이어\n",
    "class PositionalEncoding(tf.keras.layers.Layer):\n",
    "\n",
    "  def __init__(self, position, d_model):\n",
    "    super(PositionalEncoding, self).__init__()\n",
    "    self.pos_encoding = self.positional_encoding(position, d_model)\n",
    "\n",
    "  def get_angles(self, position, i, d_model):\n",
    "    angles = 1 / tf.pow(10000, (2 * (i // 2)) / tf.cast(d_model, tf.float32))\n",
    "    return position * angles\n",
    "\n",
    "  def positional_encoding(self, position, d_model):\n",
    "    # 각도 배열 생성\n",
    "    angle_rads = self.get_angles(\n",
    "        position=tf.range(position, dtype=tf.float32)[:, tf.newaxis],\n",
    "        i=tf.range(d_model, dtype=tf.float32)[tf.newaxis, :],\n",
    "        d_model=d_model)\n",
    "\n",
    "    # 배열의 짝수 인덱스에는 sin 함수 적용\n",
    "    sines = tf.math.sin(angle_rads[:, 0::2])\n",
    "    # 배열의 홀수 인덱스에는 cosine 함수 적용\n",
    "    cosines = tf.math.cos(angle_rads[:, 1::2])\n",
    "\n",
    "    # sin과 cosine이 교차되도록 재배열\n",
    "    pos_encoding = tf.stack([sines, cosines], axis=0)\n",
    "    pos_encoding = tf.transpose(pos_encoding,[1, 2, 0]) \n",
    "    pos_encoding = tf.reshape(pos_encoding, [position, d_model])\n",
    "\n",
    "    pos_encoding = pos_encoding[tf.newaxis, ...]\n",
    "    return tf.cast(pos_encoding, tf.float32)\n",
    "\n",
    "  def call(self, inputs):\n",
    "    return inputs + self.pos_encoding[:, :tf.shape(inputs)[1], :]"
   ]
  },
  {
   "cell_type": "code",
   "execution_count": 17,
   "id": "550ff782",
   "metadata": {},
   "outputs": [],
   "source": [
    "# 스케일드 닷 프로덕트 어텐션 함수\n",
    "def scaled_dot_product_attention(query, key, value, mask):\n",
    "  # 어텐션 가중치는 Q와 K의 닷 프로덕트\n",
    "  matmul_qk = tf.matmul(query, key, transpose_b=True)\n",
    "\n",
    "  # 가중치를 정규화\n",
    "  depth = tf.cast(tf.shape(key)[-1], tf.float32)\n",
    "  logits = matmul_qk / tf.math.sqrt(depth)\n",
    "\n",
    "  # 패딩에 마스크 추가\n",
    "  if mask is not None:\n",
    "    logits += (mask * -1e9)\n",
    "\n",
    "  # softmax적용\n",
    "  attention_weights = tf.nn.softmax(logits, axis=-1)\n",
    "\n",
    "  # 최종 어텐션은 가중치와 V의 닷 프로덕트\n",
    "  output = tf.matmul(attention_weights, value)\n",
    "  return output"
   ]
  },
  {
   "cell_type": "code",
   "execution_count": 18,
   "id": "201ef6e7",
   "metadata": {},
   "outputs": [],
   "source": [
    "# 멀티헤드어텐션 함수\n",
    "class MultiHeadAttention(tf.keras.layers.Layer):\n",
    "\n",
    "  def __init__(self, d_model, num_heads, name=\"multi_head_attention\"):\n",
    "    super(MultiHeadAttention, self).__init__(name=name)\n",
    "    self.num_heads = num_heads\n",
    "    self.d_model = d_model\n",
    "\n",
    "    assert d_model % self.num_heads == 0\n",
    "\n",
    "    self.depth = d_model // self.num_heads\n",
    "\n",
    "    self.query_dense = tf.keras.layers.Dense(units=d_model)\n",
    "    self.key_dense = tf.keras.layers.Dense(units=d_model)\n",
    "    self.value_dense = tf.keras.layers.Dense(units=d_model)\n",
    "\n",
    "    self.dense = tf.keras.layers.Dense(units=d_model)\n",
    "\n",
    "  def split_heads(self, inputs, batch_size):\n",
    "    inputs = tf.reshape(\n",
    "        inputs, shape=(batch_size, -1, self.num_heads, self.depth))\n",
    "    return tf.transpose(inputs, perm=[0, 2, 1, 3])\n",
    "\n",
    "  def call(self, inputs):\n",
    "    query, key, value, mask = inputs['query'], inputs['key'], inputs[\n",
    "        'value'], inputs['mask']\n",
    "    batch_size = tf.shape(query)[0]\n",
    "\n",
    "    # Q, K, V에 각각 Dense를 적용합니다\n",
    "    query = self.query_dense(query)\n",
    "    key = self.key_dense(key)\n",
    "    value = self.value_dense(value)\n",
    "\n",
    "    # 병렬 연산을 위한 머리를 여러 개 만듭니다\n",
    "    query = self.split_heads(query, batch_size)\n",
    "    key = self.split_heads(key, batch_size)\n",
    "    value = self.split_heads(value, batch_size)\n",
    "\n",
    "    # 스케일드 닷 프로덕트 어텐션 함수\n",
    "    scaled_attention = scaled_dot_product_attention(query, key, value, mask)\n",
    "\n",
    "    scaled_attention = tf.transpose(scaled_attention, perm=[0, 2, 1, 3])\n",
    "\n",
    "    # 어텐션 연산 후에 각 결과를 다시 연결(concatenate)합니다\n",
    "    concat_attention = tf.reshape(scaled_attention,\n",
    "                                  (batch_size, -1, self.d_model))\n",
    "\n",
    "    # 최종 결과에도 Dense를 한 번 더 적용합니다\n",
    "    outputs = self.dense(concat_attention)\n",
    "\n",
    "    return outputs"
   ]
  },
  {
   "cell_type": "code",
   "execution_count": 19,
   "id": "4347c730",
   "metadata": {},
   "outputs": [],
   "source": [
    "# 패딩마스크 함수\n",
    "def create_padding_mask(x):\n",
    "  mask = tf.cast(tf.math.equal(x, 0), tf.float32)\n",
    "  # (batch_size, 1, 1, sequence length)\n",
    "  return mask[:, tf.newaxis, tf.newaxis, :]"
   ]
  },
  {
   "cell_type": "code",
   "execution_count": 20,
   "id": "4f1ef36f",
   "metadata": {},
   "outputs": [],
   "source": [
    "# 뒤쪽 단어 마스킹을 위한 룩어헤드마스크 함수\n",
    "def create_look_ahead_mask(x):\n",
    "  seq_len = tf.shape(x)[1]\n",
    "  look_ahead_mask = 1 - tf.linalg.band_part(tf.ones((seq_len, seq_len)), -1, 0)\n",
    "  padding_mask = create_padding_mask(x)\n",
    "  return tf.maximum(look_ahead_mask, padding_mask)"
   ]
  },
  {
   "cell_type": "code",
   "execution_count": 21,
   "id": "22040f44",
   "metadata": {},
   "outputs": [],
   "source": [
    "# 인코더 레이어\n",
    "def encoder_layer(units, d_model, num_heads, dropout, name=\"encoder_layer\"):\n",
    "  inputs = tf.keras.Input(shape=(None, d_model), name=\"inputs\")\n",
    "\n",
    "  # 패딩 마스크 사용\n",
    "  padding_mask = tf.keras.Input(shape=(1, 1, None), name=\"padding_mask\")\n",
    "\n",
    "  # 첫 번째 서브 레이어 : 멀티 헤드 어텐션 수행 (셀프 어텐션)\n",
    "  attention = MultiHeadAttention(\n",
    "      d_model, num_heads, name=\"attention\")({\n",
    "          'query': inputs,\n",
    "          'key': inputs,\n",
    "          'value': inputs,\n",
    "          'mask': padding_mask\n",
    "      })\n",
    "\n",
    "  # 어텐션의 결과는 Dropout과 Layer Normalization이라는 훈련을 돕는 테크닉을 수행\n",
    "  attention = tf.keras.layers.Dropout(rate=dropout)(attention)\n",
    "  attention = tf.keras.layers.LayerNormalization(\n",
    "      epsilon=1e-6)(inputs + attention)\n",
    "\n",
    "  # 두 번째 서브 레이어 : 2개의 완전연결층\n",
    "  outputs = tf.keras.layers.Dense(units=units, activation='relu')(attention)\n",
    "  outputs = tf.keras.layers.Dense(units=d_model)(outputs)\n",
    "\n",
    "  # 완전연결층의 결과는 Dropout과 LayerNormalization이라는 훈련을 돕는 테크닉을 수행\n",
    "  outputs = tf.keras.layers.Dropout(rate=dropout)(outputs)\n",
    "  outputs = tf.keras.layers.LayerNormalization(\n",
    "      epsilon=1e-6)(attention + outputs)\n",
    "\n",
    "  return tf.keras.Model(\n",
    "      inputs=[inputs, padding_mask], outputs=outputs, name=name)"
   ]
  },
  {
   "cell_type": "code",
   "execution_count": 22,
   "id": "06414c94",
   "metadata": {},
   "outputs": [],
   "source": [
    "# 패딩마스크 + 임베딩 + 포지셔널인코딩 + 여러겹의 인코딩 레이어\n",
    "# 인코더 전체 구조 생성\n",
    "def encoder(vocab_size,\n",
    "            num_layers,\n",
    "            units,\n",
    "            d_model,\n",
    "            num_heads,\n",
    "            dropout,\n",
    "            name=\"encoder\"):\n",
    "  inputs = tf.keras.Input(shape=(None,), name=\"inputs\")\n",
    "\n",
    "  # 패딩 마스크 사용\n",
    "  padding_mask = tf.keras.Input(shape=(1, 1, None), name=\"padding_mask\")\n",
    "\n",
    "  # 임베딩 레이어\n",
    "  embeddings = tf.keras.layers.Embedding(vocab_size, d_model)(inputs)\n",
    "  embeddings *= tf.math.sqrt(tf.cast(d_model, tf.float32))\n",
    "\n",
    "  # 포지셔널 인코딩\n",
    "  embeddings = PositionalEncoding(vocab_size, d_model)(embeddings)\n",
    "\n",
    "  outputs = tf.keras.layers.Dropout(rate=dropout)(embeddings)\n",
    "\n",
    "  # num_layers만큼 쌓아올린 인코더의 층.\n",
    "  for i in range(num_layers):\n",
    "    outputs = encoder_layer(\n",
    "        units=units,\n",
    "        d_model=d_model,\n",
    "        num_heads=num_heads,\n",
    "        dropout=dropout,\n",
    "        name=\"encoder_layer_{}\".format(i),\n",
    "    )([outputs, padding_mask])\n",
    "\n",
    "  return tf.keras.Model(\n",
    "      inputs=[inputs, padding_mask], outputs=outputs, name=name)"
   ]
  },
  {
   "cell_type": "code",
   "execution_count": 23,
   "id": "f2058a3c",
   "metadata": {},
   "outputs": [],
   "source": [
    "# 디코더 하나의 레이어를 함수로 구현.\n",
    "# 이 하나의 레이어 안에는 세 개의 서브 레이어가 존재합니다.\n",
    "def decoder_layer(units, d_model, num_heads, dropout, name=\"decoder_layer\"):\n",
    "  inputs = tf.keras.Input(shape=(None, d_model), name=\"inputs\")\n",
    "  enc_outputs = tf.keras.Input(shape=(None, d_model), name=\"encoder_outputs\")\n",
    "  look_ahead_mask = tf.keras.Input(\n",
    "      shape=(1, None, None), name=\"look_ahead_mask\")\n",
    "  padding_mask = tf.keras.Input(shape=(1, 1, None), name='padding_mask')\n",
    "\n",
    "  # 첫 번째 서브 레이어 : 멀티 헤드 어텐션 수행 (셀프 어텐션)\n",
    "  attention1 = MultiHeadAttention(\n",
    "      d_model, num_heads, name=\"attention_1\")(inputs={\n",
    "          'query': inputs,\n",
    "          'key': inputs,\n",
    "          'value': inputs,\n",
    "          'mask': look_ahead_mask\n",
    "      })\n",
    "\n",
    "  # 멀티 헤드 어텐션의 결과는 LayerNormalization이라는 훈련을 돕는 테크닉을 수행\n",
    "  attention1 = tf.keras.layers.LayerNormalization(\n",
    "      epsilon=1e-6)(attention1 + inputs)\n",
    "\n",
    "  # 두 번째 서브 레이어 : 마스크드 멀티 헤드 어텐션 수행 (인코더-디코더 어텐션)\n",
    "  attention2 = MultiHeadAttention(\n",
    "      d_model, num_heads, name=\"attention_2\")(inputs={\n",
    "          'query': attention1,\n",
    "          'key': enc_outputs,\n",
    "          'value': enc_outputs,\n",
    "          'mask': padding_mask\n",
    "      })\n",
    "\n",
    "  # 마스크드 멀티 헤드 어텐션의 결과는\n",
    "  # Dropout과 LayerNormalization이라는 훈련을 돕는 테크닉을 수행\n",
    "  attention2 = tf.keras.layers.Dropout(rate=dropout)(attention2)\n",
    "  attention2 = tf.keras.layers.LayerNormalization(\n",
    "      epsilon=1e-6)(attention2 + attention1)\n",
    "\n",
    "  # 세 번째 서브 레이어 : 2개의 완전연결층\n",
    "  outputs = tf.keras.layers.Dense(units=units, activation='relu')(attention2)\n",
    "  outputs = tf.keras.layers.Dense(units=d_model)(outputs)\n",
    "\n",
    "  # 완전연결층의 결과는 Dropout과 LayerNormalization 수행\n",
    "  outputs = tf.keras.layers.Dropout(rate=dropout)(outputs)\n",
    "  outputs = tf.keras.layers.LayerNormalization(\n",
    "      epsilon=1e-6)(outputs + attention2)\n",
    "\n",
    "  return tf.keras.Model(\n",
    "      inputs=[inputs, enc_outputs, look_ahead_mask, padding_mask],\n",
    "      outputs=outputs,\n",
    "      name=name)"
   ]
  },
  {
   "cell_type": "code",
   "execution_count": 24,
   "id": "ab97697d",
   "metadata": {},
   "outputs": [],
   "source": [
    "# 패딩마스크 + 임베딩 + 포지셔널인코딩 + 여러겹의 인코딩 레이어\n",
    "# 인코더 전체 구조 생성\n",
    "def decoder(vocab_size,\n",
    "            num_layers,\n",
    "            units,\n",
    "            d_model,\n",
    "            num_heads,\n",
    "            dropout,\n",
    "            name='decoder'):\n",
    "  inputs = tf.keras.Input(shape=(None,), name='inputs')\n",
    "  enc_outputs = tf.keras.Input(shape=(None, d_model), name='encoder_outputs')\n",
    "  look_ahead_mask = tf.keras.Input(\n",
    "      shape=(1, None, None), name='look_ahead_mask')\n",
    "\n",
    "  # 패딩 마스크\n",
    "  padding_mask = tf.keras.Input(shape=(1, 1, None), name='padding_mask')\n",
    "  \n",
    "  # 임베딩 레이어\n",
    "  embeddings = tf.keras.layers.Embedding(vocab_size, d_model)(inputs)\n",
    "  embeddings *= tf.math.sqrt(tf.cast(d_model, tf.float32))\n",
    "\n",
    "  # 포지셔널 인코딩\n",
    "  embeddings = PositionalEncoding(vocab_size, d_model)(embeddings)\n",
    "\n",
    "  # Dropout이라는 훈련을 돕는 테크닉을 수행\n",
    "  outputs = tf.keras.layers.Dropout(rate=dropout)(embeddings)\n",
    "\n",
    "  for i in range(num_layers):\n",
    "    outputs = decoder_layer(\n",
    "        units=units,\n",
    "        d_model=d_model,\n",
    "        num_heads=num_heads,\n",
    "        dropout=dropout,\n",
    "        name='decoder_layer_{}'.format(i),\n",
    "    )(inputs=[outputs, enc_outputs, look_ahead_mask, padding_mask])\n",
    "\n",
    "  return tf.keras.Model(\n",
    "      inputs=[inputs, enc_outputs, look_ahead_mask, padding_mask],\n",
    "      outputs=outputs,\n",
    "      name=name)"
   ]
  },
  {
   "cell_type": "code",
   "execution_count": 25,
   "id": "0734aed8",
   "metadata": {},
   "outputs": [],
   "source": [
    "questions = data['Q']\n",
    "answers = data['A']"
   ]
  },
  {
   "cell_type": "code",
   "execution_count": 26,
   "id": "c26cde6a",
   "metadata": {
    "scrolled": true
   },
   "outputs": [
    {
     "data": {
      "text/plain": [
       "0                         12시 땡 !\n",
       "1                     1지망 학교 떨어졌어\n",
       "2                    3박4일 놀러가고 싶다\n",
       "3                 3박4일 정도 놀러가고 싶다\n",
       "4                         PPL 심하네\n",
       "                   ...           \n",
       "11818             훔쳐보는 것도 눈치 보임 .\n",
       "11819             훔쳐보는 것도 눈치 보임 .\n",
       "11820                흑기사 해주는 짝남 .\n",
       "11821    힘든 연애 좋은 연애라는게 무슨 차이일까 ?\n",
       "11822                  힘들어서 결혼할까봐\n",
       "Name: Q, Length: 11823, dtype: object"
      ]
     },
     "execution_count": 26,
     "metadata": {},
     "output_type": "execute_result"
    }
   ],
   "source": [
    "questions"
   ]
  },
  {
   "cell_type": "code",
   "execution_count": 27,
   "id": "d04e0bfb",
   "metadata": {
    "scrolled": true
   },
   "outputs": [
    {
     "data": {
      "text/plain": [
       "0                      하루가 또 가네요 .\n",
       "1                       위로해 드립니다 .\n",
       "2                     여행은 언제나 좋죠 .\n",
       "3                     여행은 언제나 좋죠 .\n",
       "4                      눈살이 찌푸려지죠 .\n",
       "                   ...            \n",
       "11818          티가 나니까 눈치가 보이는 거죠 !\n",
       "11819               훔쳐보는 거 티나나봐요 .\n",
       "11820                      설렜겠어요 .\n",
       "11821    잘 헤어질 수 있는 사이 여부인 거 같아요 .\n",
       "11822          도피성 결혼은 하지 않길 바라요 .\n",
       "Name: A, Length: 11823, dtype: object"
      ]
     },
     "execution_count": 27,
     "metadata": {},
     "output_type": "execute_result"
    }
   ],
   "source": [
    "answers"
   ]
  },
  {
   "cell_type": "code",
   "execution_count": 28,
   "id": "9851c153",
   "metadata": {},
   "outputs": [],
   "source": [
    "import tensorflow_datasets as tfds"
   ]
  },
  {
   "cell_type": "code",
   "execution_count": 29,
   "id": "9e0aff9a",
   "metadata": {},
   "outputs": [],
   "source": [
    "# 질문과 답변 데이터셋에 대해서 Vocabulary 생성\n",
    "\n",
    "tokenizer = tfds.deprecated.text.SubwordTextEncoder.build_from_corpus(questions + answers, target_vocab_size=2**13)"
   ]
  },
  {
   "cell_type": "code",
   "execution_count": 30,
   "id": "40e23261",
   "metadata": {},
   "outputs": [
    {
     "data": {
      "text/plain": [
       "8361"
      ]
     },
     "execution_count": 30,
     "metadata": {},
     "output_type": "execute_result"
    }
   ],
   "source": [
    "# 단어집합 개수 획인\n",
    "tokenizer.vocab_size"
   ]
  },
  {
   "cell_type": "code",
   "execution_count": 31,
   "id": "4deae2df",
   "metadata": {},
   "outputs": [],
   "source": [
    "# 시작 토큰과 종료 토큰에 고유한 정수를 부여합니다.\n",
    "START_TOKEN, END_TOKEN = [tokenizer.vocab_size], [tokenizer.vocab_size + 1]"
   ]
  },
  {
   "cell_type": "code",
   "execution_count": 32,
   "id": "6ee20319",
   "metadata": {},
   "outputs": [
    {
     "name": "stdout",
     "output_type": "stream",
     "text": [
      "8363\n"
     ]
    }
   ],
   "source": [
    "# 단어장에 시작토큰와 종료토큰 개수 추가\n",
    "VOCAB_SIZE = tokenizer.vocab_size + 2\n",
    "print(VOCAB_SIZE)"
   ]
  },
  {
   "cell_type": "code",
   "execution_count": 33,
   "id": "5c42c94c",
   "metadata": {},
   "outputs": [
    {
     "name": "stdout",
     "output_type": "stream",
     "text": [
      "질문 문장에서 토큰 개수가 가장 많은 문장: 헤어지고 뜨문뜨문 연락은 다시 시작하긴 뭐하고 남주긴 아까운 뭐 이런마음인건가 ?\n",
      "토큰 개수: 21\n"
     ]
    }
   ],
   "source": [
    "# 질문 텍스트에서 토크나이징 후 토큰 개수가 가장 많은 문장을 확인\n",
    "tokenized_q = [(sentence, len(tokenizer.encode(sentence))) for sentence in questions]\n",
    "\n",
    "longest_sentence_q, max_tokens_q = max(tokenized_q, key=lambda x: x[1])\n",
    "\n",
    "print(f\"질문 문장에서 토큰 개수가 가장 많은 문장: {longest_sentence_q}\")\n",
    "print(f\"토큰 개수: {max_tokens_q}\")"
   ]
  },
  {
   "cell_type": "code",
   "execution_count": 34,
   "id": "ce95984b",
   "metadata": {},
   "outputs": [
    {
     "name": "stdout",
     "output_type": "stream",
     "text": [
      "답변 문장에서 토큰 개수가 가장 많은 문장: 연애는 문제가 있으면 문제를 해결 하기 위해 함께 노력하고 그 속에서 더욱 단단해지는 과정인데 ,  그 과정을 못 참고 피하기만 했나봅니다 .\n",
      "토큰 개수: 29\n"
     ]
    }
   ],
   "source": [
    "# 응답 텍스트에서 토크나이징 후 토큰 개수가 가장 많은 문장을 확인\n",
    "tokenized_a = [(sentence, len(tokenizer.encode(sentence))) for sentence in answers]\n",
    "\n",
    "longest_sentence_a, max_tokens_a = max(tokenized_a, key=lambda x: x[1])\n",
    "\n",
    "print(f\"답변 문장에서 토큰 개수가 가장 많은 문장: {longest_sentence_a}\")\n",
    "print(f\"토큰 개수: {max_tokens_a}\")"
   ]
  },
  {
   "cell_type": "code",
   "execution_count": 35,
   "id": "445ccc4a",
   "metadata": {},
   "outputs": [],
   "source": [
    "# 토큰 개수가 가장 많은 문장의 토큰 개수인 max_tokens_a을 최대 길이로 사용\n",
    "# 패딩 수행\n",
    "\n",
    "MAX_LENGTH = max_tokens_a + 2\n",
    "\n",
    "# 정수 인코딩, 최대 길이를 초과하는 샘플 제거, 패딩\n",
    "def tokenize_and_filter(inputs, outputs):\n",
    "  tokenized_inputs, tokenized_outputs = [], []\n",
    "  \n",
    "  for (sentence1, sentence2) in zip(inputs, outputs):\n",
    "\n",
    "    sentence1 = START_TOKEN + tokenizer.encode(sentence1) + END_TOKEN\n",
    "    sentence2 = START_TOKEN + tokenizer.encode(sentence2) + END_TOKEN\n",
    "\n",
    "    if len(sentence1) <= MAX_LENGTH and len(sentence2) <= MAX_LENGTH:\n",
    "      tokenized_inputs.append(sentence1)\n",
    "      tokenized_outputs.append(sentence2)\n",
    "  \n",
    "  tokenized_inputs = tf.keras.preprocessing.sequence.pad_sequences(\n",
    "      tokenized_inputs, maxlen=MAX_LENGTH, padding='post')\n",
    "  tokenized_outputs = tf.keras.preprocessing.sequence.pad_sequences(\n",
    "      tokenized_outputs, maxlen=MAX_LENGTH, padding='post')\n",
    "  \n",
    "  return tokenized_inputs, tokenized_outputs"
   ]
  },
  {
   "cell_type": "code",
   "execution_count": 36,
   "id": "38c18c3d",
   "metadata": {},
   "outputs": [
    {
     "name": "stdout",
     "output_type": "stream",
     "text": [
      "단어장의 크기 : 8363\n",
      "필터링 후의 질문 샘플 개수: 11823\n",
      "필터링 후의 답변 샘플 개수: 11823\n"
     ]
    }
   ],
   "source": [
    "questions, answers = tokenize_and_filter(questions, answers)\n",
    "print('단어장의 크기 :',(VOCAB_SIZE))\n",
    "print('필터링 후의 질문 샘플 개수: {}'.format(len(questions)))\n",
    "print('필터링 후의 답변 샘플 개수: {}'.format(len(answers)))"
   ]
  },
  {
   "cell_type": "code",
   "execution_count": 37,
   "id": "aeeefa80",
   "metadata": {},
   "outputs": [],
   "source": [
    "#교사강요\n",
    "#데이터를 tf.data.Dataset객체로 변환\n",
    "BATCH_SIZE = 64\n",
    "BUFFER_SIZE = 20000\n",
    "\n",
    "# 디코더는 이전의 target을 다음의 input으로 사용합니다.\n",
    "# 이에 따라 outputs에서는 START_TOKEN을 제거하겠습니다.\n",
    "dataset = tf.data.Dataset.from_tensor_slices((\n",
    "    {\n",
    "        'inputs': questions,\n",
    "        'dec_inputs': answers[:, :-1]\n",
    "    },\n",
    "    {\n",
    "        'outputs': answers[:, 1:]\n",
    "    },\n",
    "))\n",
    "\n",
    "dataset = dataset.cache()\n",
    "dataset = dataset.shuffle(BUFFER_SIZE)\n",
    "dataset = dataset.batch(BATCH_SIZE)\n",
    "dataset = dataset.prefetch(tf.data.experimental.AUTOTUNE)"
   ]
  },
  {
   "cell_type": "code",
   "execution_count": 38,
   "id": "96485721",
   "metadata": {},
   "outputs": [],
   "source": [
    "def transformer(vocab_size,\n",
    "                num_layers,\n",
    "                units,\n",
    "                d_model,\n",
    "                num_heads,\n",
    "                dropout,\n",
    "                name=\"transformer\"):\n",
    "  inputs = tf.keras.Input(shape=(None,), name=\"inputs\")\n",
    "  dec_inputs = tf.keras.Input(shape=(None,), name=\"dec_inputs\")\n",
    "\n",
    "  # 인코더에서 패딩을 위한 마스크\n",
    "  enc_padding_mask = tf.keras.layers.Lambda(\n",
    "      create_padding_mask, output_shape=(1, 1, None),\n",
    "      name='enc_padding_mask')(inputs)\n",
    "\n",
    "  # 디코더에서 미래의 토큰을 마스크 하기 위해서 사용합니다.\n",
    "  # 내부적으로 패딩 마스크도 포함되어져 있습니다.\n",
    "  look_ahead_mask = tf.keras.layers.Lambda(\n",
    "      create_look_ahead_mask,\n",
    "      output_shape=(1, None, None),\n",
    "      name='look_ahead_mask')(dec_inputs)\n",
    "\n",
    "  # 두 번째 어텐션 블록에서 인코더의 벡터들을 마스킹\n",
    "  # 디코더에서 패딩을 위한 마스크\n",
    "  dec_padding_mask = tf.keras.layers.Lambda(\n",
    "      create_padding_mask, output_shape=(1, 1, None),\n",
    "      name='dec_padding_mask')(inputs)\n",
    "\n",
    "  # 인코더\n",
    "  enc_outputs = encoder(\n",
    "      vocab_size=vocab_size,\n",
    "      num_layers=num_layers,\n",
    "      units=units,\n",
    "      d_model=d_model,\n",
    "      num_heads=num_heads,\n",
    "      dropout=dropout,\n",
    "  )(inputs=[inputs, enc_padding_mask])\n",
    "\n",
    "  # 디코더\n",
    "  dec_outputs = decoder(\n",
    "      vocab_size=vocab_size,\n",
    "      num_layers=num_layers,\n",
    "      units=units,\n",
    "      d_model=d_model,\n",
    "      num_heads=num_heads,\n",
    "      dropout=dropout,\n",
    "  )(inputs=[dec_inputs, enc_outputs, look_ahead_mask, dec_padding_mask])\n",
    "\n",
    "  # 완전연결층\n",
    "  outputs = tf.keras.layers.Dense(units=vocab_size, name=\"outputs\")(dec_outputs)\n",
    "\n",
    "  return tf.keras.Model(inputs=[inputs, dec_inputs], outputs=outputs, name=name)"
   ]
  },
  {
   "cell_type": "code",
   "execution_count": 49,
   "id": "65aef27b",
   "metadata": {
    "scrolled": true
   },
   "outputs": [
    {
     "name": "stdout",
     "output_type": "stream",
     "text": [
      "Model: \"transformer\"\n",
      "__________________________________________________________________________________________________\n",
      "Layer (type)                    Output Shape         Param #     Connected to                     \n",
      "==================================================================================================\n",
      "inputs (InputLayer)             [(None, None)]       0                                            \n",
      "__________________________________________________________________________________________________\n",
      "dec_inputs (InputLayer)         [(None, None)]       0                                            \n",
      "__________________________________________________________________________________________________\n",
      "enc_padding_mask (Lambda)       (None, 1, 1, None)   0           inputs[0][0]                     \n",
      "__________________________________________________________________________________________________\n",
      "encoder (Functional)            (None, None, 256)    3195136     inputs[0][0]                     \n",
      "                                                                 enc_padding_mask[0][0]           \n",
      "__________________________________________________________________________________________________\n",
      "look_ahead_mask (Lambda)        (None, 1, None, None 0           dec_inputs[0][0]                 \n",
      "__________________________________________________________________________________________________\n",
      "dec_padding_mask (Lambda)       (None, 1, 1, None)   0           inputs[0][0]                     \n",
      "__________________________________________________________________________________________________\n",
      "decoder (Functional)            (None, None, 256)    3722496     dec_inputs[0][0]                 \n",
      "                                                                 encoder[0][0]                    \n",
      "                                                                 look_ahead_mask[0][0]            \n",
      "                                                                 dec_padding_mask[0][0]           \n",
      "__________________________________________________________________________________________________\n",
      "outputs (Dense)                 (None, None, 8363)   2149291     decoder[0][0]                    \n",
      "==================================================================================================\n",
      "Total params: 9,066,923\n",
      "Trainable params: 9,066,923\n",
      "Non-trainable params: 0\n",
      "__________________________________________________________________________________________________\n"
     ]
    }
   ],
   "source": [
    "tf.keras.backend.clear_session()\n",
    "\n",
    "# 하이퍼파라미터\n",
    "NUM_LAYERS = 2 # 인코더와 디코더의 층의 개수\n",
    "D_MODEL = 256 # 인코더와 디코더 내부의 입, 출력의 고정 차원\n",
    "NUM_HEADS = 8 # 멀티 헤드 어텐션에서의 헤드 수 \n",
    "UNITS = 512 # 피드 포워드 신경망의 은닉층의 크기\n",
    "DROPOUT = 0.1 # 드롭아웃의 비율\n",
    "\n",
    "model1 = transformer(\n",
    "    vocab_size=VOCAB_SIZE,\n",
    "    num_layers=NUM_LAYERS,\n",
    "    units=UNITS,\n",
    "    d_model=D_MODEL,\n",
    "    num_heads=NUM_HEADS,\n",
    "    dropout=DROPOUT)\n",
    "\n",
    "model1.summary()"
   ]
  },
  {
   "cell_type": "code",
   "execution_count": 50,
   "id": "6d1fefdb",
   "metadata": {},
   "outputs": [
    {
     "name": "stdout",
     "output_type": "stream",
     "text": [
      "Model: \"transformer\"\n",
      "__________________________________________________________________________________________________\n",
      "Layer (type)                    Output Shape         Param #     Connected to                     \n",
      "==================================================================================================\n",
      "inputs (InputLayer)             [(None, None)]       0                                            \n",
      "__________________________________________________________________________________________________\n",
      "dec_inputs (InputLayer)         [(None, None)]       0                                            \n",
      "__________________________________________________________________________________________________\n",
      "enc_padding_mask (Lambda)       (None, 1, 1, None)   0           inputs[0][0]                     \n",
      "__________________________________________________________________________________________________\n",
      "encoder (Functional)            (None, None, 256)    3195136     inputs[0][0]                     \n",
      "                                                                 enc_padding_mask[0][0]           \n",
      "__________________________________________________________________________________________________\n",
      "look_ahead_mask (Lambda)        (None, 1, None, None 0           dec_inputs[0][0]                 \n",
      "__________________________________________________________________________________________________\n",
      "dec_padding_mask (Lambda)       (None, 1, 1, None)   0           inputs[0][0]                     \n",
      "__________________________________________________________________________________________________\n",
      "decoder (Functional)            (None, None, 256)    3722496     dec_inputs[0][0]                 \n",
      "                                                                 encoder[0][0]                    \n",
      "                                                                 look_ahead_mask[0][0]            \n",
      "                                                                 dec_padding_mask[0][0]           \n",
      "__________________________________________________________________________________________________\n",
      "outputs (Dense)                 (None, None, 8363)   2149291     decoder[0][0]                    \n",
      "==================================================================================================\n",
      "Total params: 9,066,923\n",
      "Trainable params: 9,066,923\n",
      "Non-trainable params: 0\n",
      "__________________________________________________________________________________________________\n"
     ]
    }
   ],
   "source": [
    "tf.keras.backend.clear_session()\n",
    "\n",
    "# 하이퍼파라미터\n",
    "NUM_LAYERS = 2 # 인코더와 디코더의 층의 개수\n",
    "D_MODEL = 256 # 인코더와 디코더 내부의 입, 출력의 고정 차원\n",
    "NUM_HEADS = 8 # 멀티 헤드 어텐션에서의 헤드 수 \n",
    "UNITS = 512 # 피드 포워드 신경망의 은닉층의 크기\n",
    "DROPOUT = 0.1 # 드롭아웃의 비율\n",
    "\n",
    "model2 = transformer(\n",
    "    vocab_size=VOCAB_SIZE,\n",
    "    num_layers=NUM_LAYERS,\n",
    "    units=UNITS,\n",
    "    d_model=D_MODEL,\n",
    "    num_heads=NUM_HEADS,\n",
    "    dropout=DROPOUT)\n",
    "\n",
    "model2.summary()"
   ]
  },
  {
   "cell_type": "code",
   "execution_count": 51,
   "id": "77a540b4",
   "metadata": {},
   "outputs": [
    {
     "name": "stdout",
     "output_type": "stream",
     "text": [
      "Model: \"transformer\"\n",
      "__________________________________________________________________________________________________\n",
      "Layer (type)                    Output Shape         Param #     Connected to                     \n",
      "==================================================================================================\n",
      "inputs (InputLayer)             [(None, None)]       0                                            \n",
      "__________________________________________________________________________________________________\n",
      "dec_inputs (InputLayer)         [(None, None)]       0                                            \n",
      "__________________________________________________________________________________________________\n",
      "enc_padding_mask (Lambda)       (None, 1, 1, None)   0           inputs[0][0]                     \n",
      "__________________________________________________________________________________________________\n",
      "encoder (Functional)            (None, None, 256)    3195136     inputs[0][0]                     \n",
      "                                                                 enc_padding_mask[0][0]           \n",
      "__________________________________________________________________________________________________\n",
      "look_ahead_mask (Lambda)        (None, 1, None, None 0           dec_inputs[0][0]                 \n",
      "__________________________________________________________________________________________________\n",
      "dec_padding_mask (Lambda)       (None, 1, 1, None)   0           inputs[0][0]                     \n",
      "__________________________________________________________________________________________________\n",
      "decoder (Functional)            (None, None, 256)    3722496     dec_inputs[0][0]                 \n",
      "                                                                 encoder[0][0]                    \n",
      "                                                                 look_ahead_mask[0][0]            \n",
      "                                                                 dec_padding_mask[0][0]           \n",
      "__________________________________________________________________________________________________\n",
      "outputs (Dense)                 (None, None, 8363)   2149291     decoder[0][0]                    \n",
      "==================================================================================================\n",
      "Total params: 9,066,923\n",
      "Trainable params: 9,066,923\n",
      "Non-trainable params: 0\n",
      "__________________________________________________________________________________________________\n"
     ]
    }
   ],
   "source": [
    "tf.keras.backend.clear_session()\n",
    "\n",
    "# 하이퍼파라미터\n",
    "NUM_LAYERS = 2 # 인코더와 디코더의 층의 개수\n",
    "D_MODEL = 256 # 인코더와 디코더 내부의 입, 출력의 고정 차원\n",
    "NUM_HEADS = 8 # 멀티 헤드 어텐션에서의 헤드 수 \n",
    "UNITS = 512 # 피드 포워드 신경망의 은닉층의 크기\n",
    "DROPOUT = 0.1 # 드롭아웃의 비율\n",
    "\n",
    "model3 = transformer(\n",
    "    vocab_size=VOCAB_SIZE,\n",
    "    num_layers=NUM_LAYERS,\n",
    "    units=UNITS,\n",
    "    d_model=D_MODEL,\n",
    "    num_heads=NUM_HEADS,\n",
    "    dropout=DROPOUT)\n",
    "\n",
    "model3.summary()"
   ]
  },
  {
   "cell_type": "code",
   "execution_count": 40,
   "id": "c02e043e",
   "metadata": {},
   "outputs": [],
   "source": [
    "# 패딩영역을 제외한 손실함수 계산\n",
    "\n",
    "def loss_function(y_true, y_pred):\n",
    "  y_true = tf.reshape(y_true, shape=(-1, MAX_LENGTH - 1))\n",
    "  \n",
    "  loss = tf.keras.losses.SparseCategoricalCrossentropy(\n",
    "      from_logits=True, reduction='none')(y_true, y_pred)\n",
    "\n",
    "  mask = tf.cast(tf.not_equal(y_true, 0), tf.float32)\n",
    "  loss = tf.multiply(loss, mask)\n",
    "\n",
    "  return tf.reduce_mean(loss)"
   ]
  },
  {
   "cell_type": "code",
   "execution_count": 41,
   "id": "1cfd6d3c",
   "metadata": {},
   "outputs": [],
   "source": [
    "# 학습률 커스터마이징\n",
    "# 4000번의 웜업 이후 학습률을 줄이는 형태로 설정\n",
    "\n",
    "class CustomSchedule(tf.keras.optimizers.schedules.LearningRateSchedule):\n",
    "\n",
    "  def __init__(self, d_model, warmup_steps=4000):\n",
    "    super(CustomSchedule, self).__init__()\n",
    "\n",
    "    self.d_model = d_model\n",
    "    self.d_model = tf.cast(self.d_model, tf.float32)\n",
    "\n",
    "    self.warmup_steps = warmup_steps\n",
    "\n",
    "  def __call__(self, step):\n",
    "    arg1 = tf.math.rsqrt(step)\n",
    "    arg2 = step * (self.warmup_steps**-1.5)\n",
    "\n",
    "    return tf.math.rsqrt(self.d_model) * tf.math.minimum(arg1, arg2)"
   ]
  },
  {
   "cell_type": "code",
   "execution_count": 42,
   "id": "56daf9a3",
   "metadata": {},
   "outputs": [],
   "source": [
    "#모델 컴파일\n",
    "\n",
    "# 학습률 스케줄 설정\n",
    "learning_rate = CustomSchedule(D_MODEL)\n",
    "\n",
    "# Adam 옵티마이저 설정\n",
    "optimizer = tf.keras.optimizers.Adam(\n",
    "    learning_rate, beta_1=0.9, beta_2=0.98, epsilon=1e-9)\n",
    "\n",
    "# 정확도 함수 정의\n",
    "def accuracy(y_true, y_pred):\n",
    "    y_true = tf.reshape(y_true, shape=(-1, MAX_LENGTH - 1))\n",
    "    return tf.keras.metrics.sparse_categorical_accuracy(y_true, y_pred)"
   ]
  },
  {
   "cell_type": "code",
   "execution_count": 53,
   "id": "19f0c335",
   "metadata": {},
   "outputs": [],
   "source": [
    "# 모델 컴파일\n",
    "model1.compile(optimizer=optimizer, loss=loss_function, metrics=[accuracy])\n",
    "model2.compile(optimizer=optimizer, loss=loss_function, metrics=[accuracy])\n",
    "model3.compile(optimizer=optimizer, loss=loss_function, metrics=[accuracy])"
   ]
  },
  {
   "cell_type": "code",
   "execution_count": 55,
   "id": "65c6acd6",
   "metadata": {
    "scrolled": true
   },
   "outputs": [
    {
     "name": "stdout",
     "output_type": "stream",
     "text": [
      "Epoch 1/20\n",
      "185/185 [==============================] - 14s 47ms/step - loss: 1.3610 - accuracy: 0.0633\n",
      "Epoch 2/20\n",
      "185/185 [==============================] - 9s 47ms/step - loss: 1.1432 - accuracy: 0.0746\n",
      "Epoch 3/20\n",
      "185/185 [==============================] - 9s 47ms/step - loss: 1.0131 - accuracy: 0.0839\n",
      "Epoch 4/20\n",
      "185/185 [==============================] - 9s 47ms/step - loss: 0.8880 - accuracy: 0.0968\n",
      "Epoch 5/20\n",
      "185/185 [==============================] - 9s 47ms/step - loss: 0.7706 - accuracy: 0.1098\n",
      "Epoch 6/20\n",
      "185/185 [==============================] - 9s 47ms/step - loss: 0.6589 - accuracy: 0.1228\n",
      "Epoch 7/20\n",
      "185/185 [==============================] - 9s 47ms/step - loss: 0.5557 - accuracy: 0.1358\n",
      "Epoch 8/20\n",
      "185/185 [==============================] - 9s 47ms/step - loss: 0.4619 - accuracy: 0.1487\n",
      "Epoch 9/20\n",
      "185/185 [==============================] - 9s 47ms/step - loss: 0.3750 - accuracy: 0.1616\n",
      "Epoch 10/20\n",
      "185/185 [==============================] - 9s 46ms/step - loss: 0.3007 - accuracy: 0.1734\n",
      "Epoch 11/20\n",
      "185/185 [==============================] - 9s 47ms/step - loss: 0.2359 - accuracy: 0.1845\n",
      "Epoch 12/20\n",
      "185/185 [==============================] - 9s 47ms/step - loss: 0.1800 - accuracy: 0.1952\n",
      "Epoch 13/20\n",
      "185/185 [==============================] - 9s 47ms/step - loss: 0.1362 - accuracy: 0.2036\n",
      "Epoch 14/20\n",
      "185/185 [==============================] - 9s 47ms/step - loss: 0.0997 - accuracy: 0.2106\n",
      "Epoch 15/20\n",
      "185/185 [==============================] - 9s 47ms/step - loss: 0.0741 - accuracy: 0.2154\n",
      "Epoch 16/20\n",
      "185/185 [==============================] - 9s 47ms/step - loss: 0.0545 - accuracy: 0.2188\n",
      "Epoch 17/20\n",
      "185/185 [==============================] - 9s 47ms/step - loss: 0.0417 - accuracy: 0.2209\n",
      "Epoch 18/20\n",
      "185/185 [==============================] - 9s 47ms/step - loss: 0.0326 - accuracy: 0.2222\n",
      "Epoch 19/20\n",
      "185/185 [==============================] - 9s 46ms/step - loss: 0.0265 - accuracy: 0.2232\n",
      "Epoch 20/20\n",
      "185/185 [==============================] - 9s 47ms/step - loss: 0.0224 - accuracy: 0.2238\n"
     ]
    },
    {
     "data": {
      "image/png": "[encoded data removed]",
      "text/plain": [
       "<Figure size 864x288 with 2 Axes>"
      ]
     },
     "metadata": {
      "needs_background": "light"
     },
     "output_type": "display_data"
    }
   ],
   "source": [
    "# 학습 수행\n",
    "EPOCHS = 20\n",
    "history1 = model1.fit(dataset, epochs=EPOCHS, verbose=1)\n",
    "\n",
    "# **손실 및 정확도 그래프 출력**\n",
    "def plot_learning_curves(history1):\n",
    "    plt.figure(figsize=(12, 4))\n",
    "\n",
    "    # 손실 그래프\n",
    "    plt.subplot(1, 2, 1)\n",
    "    plt.plot(history1.history['loss'], label='Train Loss')\n",
    "    plt.xlabel('Epochs')\n",
    "    plt.ylabel('Loss')\n",
    "    plt.title('Loss Curve')\n",
    "    plt.legend()\n",
    "\n",
    "    # 정확도 그래프\n",
    "    plt.subplot(1, 2, 2)\n",
    "    plt.plot(history1.history['accuracy'], label='Train Accuracy')\n",
    "    plt.xlabel('Epochs')\n",
    "    plt.ylabel('Accuracy')\n",
    "    plt.title('Accuracy Curve')\n",
    "    plt.legend()\n",
    "\n",
    "    plt.show()\n",
    "\n",
    "# 그래프 출력\n",
    "plot_learning_curves(history1)"
   ]
  },
  {
   "cell_type": "code",
   "execution_count": 54,
   "id": "e1cf6229",
   "metadata": {
    "scrolled": true
   },
   "outputs": [
    {
     "name": "stdout",
     "output_type": "stream",
     "text": [
      "Epoch 1/40\n",
      "185/185 [==============================] - 15s 47ms/step - loss: 1.3472 - accuracy: 0.0646\n",
      "Epoch 2/40\n",
      "185/185 [==============================] - 9s 47ms/step - loss: 1.1330 - accuracy: 0.0752\n",
      "Epoch 3/40\n",
      "185/185 [==============================] - 9s 47ms/step - loss: 0.9858 - accuracy: 0.0866\n",
      "Epoch 4/40\n",
      "185/185 [==============================] - 9s 47ms/step - loss: 0.8421 - accuracy: 0.1016\n",
      "Epoch 5/40\n",
      "185/185 [==============================] - 9s 47ms/step - loss: 0.7085 - accuracy: 0.1166\n",
      "Epoch 6/40\n",
      "185/185 [==============================] - 9s 47ms/step - loss: 0.5832 - accuracy: 0.1316\n",
      "Epoch 7/40\n",
      "185/185 [==============================] - 9s 47ms/step - loss: 0.4684 - accuracy: 0.1473\n",
      "Epoch 8/40\n",
      "185/185 [==============================] - 9s 47ms/step - loss: 0.3681 - accuracy: 0.1615\n",
      "Epoch 9/40\n",
      "185/185 [==============================] - 9s 47ms/step - loss: 0.2832 - accuracy: 0.1747\n",
      "Epoch 10/40\n",
      "185/185 [==============================] - 9s 47ms/step - loss: 0.2122 - accuracy: 0.1874\n",
      "Epoch 11/40\n",
      "185/185 [==============================] - 9s 47ms/step - loss: 0.1543 - accuracy: 0.1985\n",
      "Epoch 12/40\n",
      "185/185 [==============================] - 9s 47ms/step - loss: 0.1103 - accuracy: 0.2073\n",
      "Epoch 13/40\n",
      "185/185 [==============================] - 9s 47ms/step - loss: 0.0793 - accuracy: 0.2132\n",
      "Epoch 14/40\n",
      "185/185 [==============================] - 9s 47ms/step - loss: 0.0571 - accuracy: 0.2173\n",
      "Epoch 15/40\n",
      "185/185 [==============================] - 9s 47ms/step - loss: 0.0435 - accuracy: 0.2198\n",
      "Epoch 16/40\n",
      "185/185 [==============================] - 9s 47ms/step - loss: 0.0341 - accuracy: 0.2212\n",
      "Epoch 17/40\n",
      "185/185 [==============================] - 9s 47ms/step - loss: 0.0277 - accuracy: 0.2224\n",
      "Epoch 18/40\n",
      "185/185 [==============================] - 9s 47ms/step - loss: 0.0242 - accuracy: 0.2229\n",
      "Epoch 19/40\n",
      "185/185 [==============================] - 9s 47ms/step - loss: 0.0207 - accuracy: 0.2235\n",
      "Epoch 20/40\n",
      "185/185 [==============================] - 9s 47ms/step - loss: 0.0190 - accuracy: 0.2239\n",
      "Epoch 21/40\n",
      "185/185 [==============================] - 9s 47ms/step - loss: 0.0164 - accuracy: 0.2244\n",
      "Epoch 22/40\n",
      "185/185 [==============================] - 9s 47ms/step - loss: 0.0151 - accuracy: 0.2246\n",
      "Epoch 23/40\n",
      "185/185 [==============================] - 9s 47ms/step - loss: 0.0143 - accuracy: 0.2248\n",
      "Epoch 24/40\n",
      "185/185 [==============================] - 9s 47ms/step - loss: 0.0129 - accuracy: 0.2250\n",
      "Epoch 25/40\n",
      "185/185 [==============================] - 9s 47ms/step - loss: 0.0128 - accuracy: 0.2249\n",
      "Epoch 26/40\n",
      "185/185 [==============================] - 9s 47ms/step - loss: 0.0112 - accuracy: 0.2253\n",
      "Epoch 27/40\n",
      "185/185 [==============================] - 9s 47ms/step - loss: 0.0107 - accuracy: 0.2255\n",
      "Epoch 28/40\n",
      "185/185 [==============================] - 9s 47ms/step - loss: 0.0106 - accuracy: 0.2254\n",
      "Epoch 29/40\n",
      "185/185 [==============================] - 9s 47ms/step - loss: 0.0094 - accuracy: 0.2257\n",
      "Epoch 30/40\n",
      "185/185 [==============================] - 9s 47ms/step - loss: 0.0089 - accuracy: 0.2258\n",
      "Epoch 31/40\n",
      "185/185 [==============================] - 9s 47ms/step - loss: 0.0088 - accuracy: 0.2258\n",
      "Epoch 32/40\n",
      "185/185 [==============================] - 9s 47ms/step - loss: 0.0084 - accuracy: 0.2260\n",
      "Epoch 33/40\n",
      "185/185 [==============================] - 9s 47ms/step - loss: 0.0084 - accuracy: 0.2259\n",
      "Epoch 34/40\n",
      "185/185 [==============================] - 9s 47ms/step - loss: 0.0073 - accuracy: 0.2262\n",
      "Epoch 35/40\n",
      "185/185 [==============================] - 9s 47ms/step - loss: 0.0073 - accuracy: 0.2262\n",
      "Epoch 36/40\n",
      "185/185 [==============================] - 9s 47ms/step - loss: 0.0071 - accuracy: 0.2262\n",
      "Epoch 37/40\n",
      "185/185 [==============================] - 9s 47ms/step - loss: 0.0071 - accuracy: 0.2261\n",
      "Epoch 38/40\n",
      "185/185 [==============================] - 9s 47ms/step - loss: 0.0063 - accuracy: 0.2264\n",
      "Epoch 39/40\n",
      "185/185 [==============================] - 9s 47ms/step - loss: 0.0062 - accuracy: 0.2263\n",
      "Epoch 40/40\n",
      "185/185 [==============================] - 9s 47ms/step - loss: 0.0059 - accuracy: 0.2264\n"
     ]
    },
    {
     "data": {
      "image/png": "[encoded data removed]",
      "text/plain": [
       "<Figure size 864x288 with 2 Axes>"
      ]
     },
     "metadata": {
      "needs_background": "light"
     },
     "output_type": "display_data"
    }
   ],
   "source": [
    "# 학습 수행\n",
    "EPOCHS = 40\n",
    "history2 = model2.fit(dataset, epochs=EPOCHS, verbose=1)\n",
    "\n",
    "# **손실 및 정확도 그래프 출력**\n",
    "def plot_learning_curves(history2):\n",
    "    plt.figure(figsize=(12, 4))\n",
    "\n",
    "    # 손실 그래프\n",
    "    plt.subplot(1, 2, 1)\n",
    "    plt.plot(history2.history['loss'], label='Train Loss')\n",
    "    plt.xlabel('Epochs')\n",
    "    plt.ylabel('Loss')\n",
    "    plt.title('Loss Curve')\n",
    "    plt.legend()\n",
    "\n",
    "    # 정확도 그래프\n",
    "    plt.subplot(1, 2, 2)\n",
    "    plt.plot(history2.history['accuracy'], label='Train Accuracy')\n",
    "    plt.xlabel('Epochs')\n",
    "    plt.ylabel('Accuracy')\n",
    "    plt.title('Accuracy Curve')\n",
    "    plt.legend()\n",
    "\n",
    "    plt.show()\n",
    "\n",
    "# 그래프 출력\n",
    "plot_learning_curves(history2)"
   ]
  },
  {
   "cell_type": "code",
   "execution_count": 56,
   "id": "d94d47fe",
   "metadata": {},
   "outputs": [
    {
     "name": "stdout",
     "output_type": "stream",
     "text": [
      "Epoch 1/60\n",
      "185/185 [==============================] - 15s 47ms/step - loss: 1.3658 - accuracy: 0.0625\n",
      "Epoch 2/60\n",
      "185/185 [==============================] - 9s 47ms/step - loss: 1.1404 - accuracy: 0.0747\n",
      "Epoch 3/60\n",
      "185/185 [==============================] - 9s 47ms/step - loss: 1.0145 - accuracy: 0.0843\n",
      "Epoch 4/60\n",
      "185/185 [==============================] - 9s 47ms/step - loss: 0.8954 - accuracy: 0.0962\n",
      "Epoch 5/60\n",
      "185/185 [==============================] - 9s 47ms/step - loss: 0.7837 - accuracy: 0.1085\n",
      "Epoch 6/60\n",
      "185/185 [==============================] - 9s 47ms/step - loss: 0.6769 - accuracy: 0.1207\n",
      "Epoch 7/60\n",
      "185/185 [==============================] - 9s 47ms/step - loss: 0.5778 - accuracy: 0.1332\n",
      "Epoch 8/60\n",
      "185/185 [==============================] - 9s 47ms/step - loss: 0.4853 - accuracy: 0.1457\n",
      "Epoch 9/60\n",
      "185/185 [==============================] - 9s 47ms/step - loss: 0.4013 - accuracy: 0.1581\n",
      "Epoch 10/60\n",
      "185/185 [==============================] - 9s 47ms/step - loss: 0.3254 - accuracy: 0.1703\n",
      "Epoch 11/60\n",
      "185/185 [==============================] - 9s 47ms/step - loss: 0.2591 - accuracy: 0.1814\n",
      "Epoch 12/60\n",
      "185/185 [==============================] - 9s 47ms/step - loss: 0.2033 - accuracy: 0.1913\n",
      "Epoch 13/60\n",
      "185/185 [==============================] - 9s 47ms/step - loss: 0.1563 - accuracy: 0.2001\n",
      "Epoch 14/60\n",
      "185/185 [==============================] - 9s 47ms/step - loss: 0.1171 - accuracy: 0.2082\n",
      "Epoch 15/60\n",
      "185/185 [==============================] - 9s 47ms/step - loss: 0.0869 - accuracy: 0.2138\n",
      "Epoch 16/60\n",
      "185/185 [==============================] - 9s 47ms/step - loss: 0.0645 - accuracy: 0.2177\n",
      "Epoch 17/60\n",
      "185/185 [==============================] - 9s 47ms/step - loss: 0.0482 - accuracy: 0.2202\n",
      "Epoch 18/60\n",
      "185/185 [==============================] - 9s 47ms/step - loss: 0.0366 - accuracy: 0.2221\n",
      "Epoch 19/60\n",
      "185/185 [==============================] - 9s 47ms/step - loss: 0.0299 - accuracy: 0.2227\n",
      "Epoch 20/60\n",
      "185/185 [==============================] - 9s 47ms/step - loss: 0.0241 - accuracy: 0.2237\n",
      "Epoch 21/60\n",
      "185/185 [==============================] - 9s 47ms/step - loss: 0.0209 - accuracy: 0.2241\n",
      "Epoch 22/60\n",
      "185/185 [==============================] - 9s 47ms/step - loss: 0.0178 - accuracy: 0.2245\n",
      "Epoch 23/60\n",
      "185/185 [==============================] - 9s 47ms/step - loss: 0.0158 - accuracy: 0.2247\n",
      "Epoch 24/60\n",
      "185/185 [==============================] - 9s 47ms/step - loss: 0.0142 - accuracy: 0.2250\n",
      "Epoch 25/60\n",
      "185/185 [==============================] - 9s 47ms/step - loss: 0.0133 - accuracy: 0.2252\n",
      "Epoch 26/60\n",
      "185/185 [==============================] - 9s 47ms/step - loss: 0.0118 - accuracy: 0.2254\n",
      "Epoch 27/60\n",
      "185/185 [==============================] - 9s 47ms/step - loss: 0.0114 - accuracy: 0.2254\n",
      "Epoch 28/60\n",
      "185/185 [==============================] - 9s 47ms/step - loss: 0.0102 - accuracy: 0.2257\n",
      "Epoch 29/60\n",
      "185/185 [==============================] - 9s 47ms/step - loss: 0.0094 - accuracy: 0.2259\n",
      "Epoch 30/60\n",
      "185/185 [==============================] - 9s 47ms/step - loss: 0.0090 - accuracy: 0.2259\n",
      "Epoch 31/60\n",
      "185/185 [==============================] - 9s 47ms/step - loss: 0.0087 - accuracy: 0.2260\n",
      "Epoch 32/60\n",
      "185/185 [==============================] - 9s 47ms/step - loss: 0.0077 - accuracy: 0.2262\n",
      "Epoch 33/60\n",
      "185/185 [==============================] - 9s 47ms/step - loss: 0.0076 - accuracy: 0.2261\n",
      "Epoch 34/60\n",
      "185/185 [==============================] - 9s 47ms/step - loss: 0.0072 - accuracy: 0.2262\n",
      "Epoch 35/60\n",
      "185/185 [==============================] - 9s 47ms/step - loss: 0.0072 - accuracy: 0.2262\n",
      "Epoch 36/60\n",
      "185/185 [==============================] - 9s 47ms/step - loss: 0.0063 - accuracy: 0.2264\n",
      "Epoch 37/60\n",
      "185/185 [==============================] - 9s 47ms/step - loss: 0.0060 - accuracy: 0.2265\n",
      "Epoch 38/60\n",
      "185/185 [==============================] - 9s 47ms/step - loss: 0.0060 - accuracy: 0.2265\n",
      "Epoch 39/60\n",
      "185/185 [==============================] - 9s 47ms/step - loss: 0.0063 - accuracy: 0.2264\n",
      "Epoch 40/60\n",
      "185/185 [==============================] - 9s 47ms/step - loss: 0.0054 - accuracy: 0.2265\n",
      "Epoch 41/60\n",
      "185/185 [==============================] - 9s 47ms/step - loss: 0.0053 - accuracy: 0.2266\n",
      "Epoch 42/60\n",
      "185/185 [==============================] - 9s 47ms/step - loss: 0.0052 - accuracy: 0.2266\n",
      "Epoch 43/60\n",
      "185/185 [==============================] - 9s 47ms/step - loss: 0.0055 - accuracy: 0.2265\n",
      "Epoch 44/60\n",
      "185/185 [==============================] - 9s 47ms/step - loss: 0.0051 - accuracy: 0.2266\n",
      "Epoch 45/60\n",
      "185/185 [==============================] - 9s 47ms/step - loss: 0.0051 - accuracy: 0.2267\n",
      "Epoch 46/60\n",
      "185/185 [==============================] - 9s 47ms/step - loss: 0.0046 - accuracy: 0.2267\n",
      "Epoch 47/60\n",
      "185/185 [==============================] - 9s 47ms/step - loss: 0.0047 - accuracy: 0.2267\n",
      "Epoch 48/60\n",
      "185/185 [==============================] - 9s 47ms/step - loss: 0.0044 - accuracy: 0.2267\n",
      "Epoch 49/60\n",
      "185/185 [==============================] - 9s 47ms/step - loss: 0.0044 - accuracy: 0.2267\n",
      "Epoch 50/60\n",
      "185/185 [==============================] - 9s 47ms/step - loss: 0.0041 - accuracy: 0.2268\n",
      "Epoch 51/60\n",
      "185/185 [==============================] - 9s 47ms/step - loss: 0.0043 - accuracy: 0.2268\n",
      "Epoch 52/60\n",
      "185/185 [==============================] - 9s 47ms/step - loss: 0.0041 - accuracy: 0.2268\n",
      "Epoch 53/60\n",
      "185/185 [==============================] - 9s 47ms/step - loss: 0.0040 - accuracy: 0.2268\n",
      "Epoch 54/60\n",
      "185/185 [==============================] - 9s 47ms/step - loss: 0.0039 - accuracy: 0.2268\n",
      "Epoch 55/60\n",
      "185/185 [==============================] - 9s 47ms/step - loss: 0.0038 - accuracy: 0.2268\n",
      "Epoch 56/60\n",
      "185/185 [==============================] - 9s 47ms/step - loss: 0.0036 - accuracy: 0.2269\n",
      "Epoch 57/60\n",
      "185/185 [==============================] - 9s 47ms/step - loss: 0.0035 - accuracy: 0.2269\n",
      "Epoch 58/60\n",
      "185/185 [==============================] - 9s 47ms/step - loss: 0.0034 - accuracy: 0.2269\n",
      "Epoch 59/60\n",
      "185/185 [==============================] - 9s 47ms/step - loss: 0.0036 - accuracy: 0.2269\n",
      "Epoch 60/60\n",
      "185/185 [==============================] - 9s 47ms/step - loss: 0.0035 - accuracy: 0.2269\n"
     ]
    },
    {
     "data": {
      "image/png": "[encoded data removed]",
      "text/plain": [
       "<Figure size 864x288 with 2 Axes>"
      ]
     },
     "metadata": {
      "needs_background": "light"
     },
     "output_type": "display_data"
    }
   ],
   "source": [
    "# 학습 수행\n",
    "EPOCHS = 60\n",
    "history3 = model3.fit(dataset, epochs=EPOCHS, verbose=1)\n",
    "\n",
    "# **손실 및 정확도 그래프 출력**\n",
    "def plot_learning_curves(history3):\n",
    "    plt.figure(figsize=(12, 4))\n",
    "\n",
    "    # 손실 그래프\n",
    "    plt.subplot(1, 2, 1)\n",
    "    plt.plot(history3.history['loss'], label='Train Loss')\n",
    "    plt.xlabel('Epochs')\n",
    "    plt.ylabel('Loss')\n",
    "    plt.title('Loss Curve')\n",
    "    plt.legend()\n",
    "\n",
    "    # 정확도 그래프\n",
    "    plt.subplot(1, 2, 2)\n",
    "    plt.plot(history3.history['accuracy'], label='Train Accuracy')\n",
    "    plt.xlabel('Epochs')\n",
    "    plt.ylabel('Accuracy')\n",
    "    plt.title('Accuracy Curve')\n",
    "    plt.legend()\n",
    "\n",
    "    plt.show()\n",
    "\n",
    "# 그래프 출력\n",
    "plot_learning_curves(history3)"
   ]
  },
  {
   "cell_type": "code",
   "execution_count": 77,
   "id": "5c858da3",
   "metadata": {},
   "outputs": [],
   "source": [
    "# 새로운 decoder_inference 함수 (모델을 매개변수로 받도록 수정)\n",
    "def decoder_inference(sentence, model):\n",
    "    sentence = clean_text(sentence)\n",
    "\n",
    "    sentence = tf.expand_dims(\n",
    "        START_TOKEN + tokenizer.encode(sentence) + END_TOKEN, axis=0\n",
    "    )\n",
    "\n",
    "    output_sequence = tf.expand_dims(START_TOKEN, 0)\n",
    "\n",
    "    for i in range(MAX_LENGTH):\n",
    "        predictions = model(inputs=[sentence, output_sequence], training=False)\n",
    "        predictions = predictions[:, -1:, :]\n",
    "\n",
    "        predicted_id = tf.cast(tf.argmax(predictions, axis=-1), tf.int32)\n",
    "\n",
    "        if tf.equal(predicted_id, END_TOKEN[0]):\n",
    "            break\n",
    "\n",
    "        output_sequence = tf.concat([output_sequence, predicted_id], axis=-1)\n",
    "\n",
    "    return tf.squeeze(output_sequence, axis=0)"
   ]
  },
  {
   "cell_type": "code",
   "execution_count": 81,
   "id": "935ce833",
   "metadata": {},
   "outputs": [],
   "source": [
    "def sentence_generation_multi_models(sentence, models):\n",
    "    for model in models:\n",
    "        prediction = decoder_inference(sentence, model)\n",
    "\n",
    "        predicted_sentence = tokenizer.decode(\n",
    "            [i for i in prediction if i < tokenizer.vocab_size]\n",
    "        )\n",
    "\n",
    "        # 특정 특수문자 앞 공백 제거\n",
    "        predicted_sentence = re.sub(r'\\s*([!%\\',.;?_~…ㅊㅋㅎㅜㅠ-])', r'\\1', predicted_sentence)\n",
    "\n",
    "        print('입력 : {}'.format(sentence))\n",
    "        print('출력 : {}\\n'.format(predicted_sentence))"
   ]
  },
  {
   "cell_type": "code",
   "execution_count": 82,
   "id": "2a097064",
   "metadata": {},
   "outputs": [],
   "source": [
    "# model1 -> 학습횟수 20\n",
    "# model2 -> 학습횟수 40\n",
    "# model3 -> 학습횟수 60\n",
    "models = [model1, model2, model3]"
   ]
  },
  {
   "cell_type": "code",
   "execution_count": 83,
   "id": "d193abae",
   "metadata": {},
   "outputs": [
    {
     "name": "stdout",
     "output_type": "stream",
     "text": [
      "입력 : 나랑 같이 밥 먹을래?\n",
      "출력 : 같이 놀아요.\n",
      "\n",
      "입력 : 나랑 같이 밥 먹을래?\n",
      "출력 : 저는 배터리가 밥이예요.\n",
      "\n",
      "입력 : 나랑 같이 밥 먹을래?\n",
      "출력 : 옳소.\n",
      "\n"
     ]
    }
   ],
   "source": [
    "# 테스트1\n",
    "sentence_generation_multi_models('나랑 같이 밥 먹을래?', models)"
   ]
  },
  {
   "cell_type": "code",
   "execution_count": 84,
   "id": "8a295e38",
   "metadata": {
    "scrolled": true
   },
   "outputs": [
    {
     "name": "stdout",
     "output_type": "stream",
     "text": [
      "입력 : 내가 약속이 있어서 그런데 우리 약속은 내일로 미룰까?\n",
      "출력 : 이럴 때 잘 쉬는 게 중요해요.\n",
      "\n",
      "입력 : 내가 약속이 있어서 그런데 우리 약속은 내일로 미룰까?\n",
      "출력 : 두근거리겠어요.\n",
      "\n",
      "입력 : 내가 약속이 있어서 그런데 우리 약속은 내일로 미룰까?\n",
      "출력 : 두근거리겠어요.\n",
      "\n"
     ]
    }
   ],
   "source": [
    "# 테스트2\n",
    "sentence_generation_multi_models('내가 약속이 있어서 그런데 우리 약속은 내일로 미룰까?', models)"
   ]
  },
  {
   "cell_type": "code",
   "execution_count": 85,
   "id": "e5cfa790",
   "metadata": {},
   "outputs": [
    {
     "name": "stdout",
     "output_type": "stream",
     "text": [
      "입력 : 내 여자친구는 나를 안좋아하는거 같아 ㅠㅜ\n",
      "출력 : 이제 그리워하지마세요.\n",
      "\n",
      "입력 : 내 여자친구는 나를 안좋아하는거 같아 ㅠㅜ\n",
      "출력 : 눈을 감고 마음을 가라앉혀봐요.\n",
      "\n",
      "입력 : 내 여자친구는 나를 안좋아하는거 같아 ㅠㅜ\n",
      "출력 : 이제 먼저 선톡을 해보세요.\n",
      "\n"
     ]
    }
   ],
   "source": [
    "# 테스트3\n",
    "sentence_generation_multi_models('내 여자친구는 나를 안좋아하는거 같아 ㅠㅜ', models)"
   ]
  },
  {
   "cell_type": "code",
   "execution_count": 87,
   "id": "92c2fd68",
   "metadata": {},
   "outputs": [
    {
     "name": "stdout",
     "output_type": "stream",
     "text": [
      "입력 : 내가 좋아하는 사람이 있는데 먼저 연락해도 될까?\n",
      "출력 : 사람마다 다르겠지만 사귀고 난 후가 좋겠어요.\n",
      "\n",
      "입력 : 내가 좋아하는 사람이 있는데 먼저 연락해도 될까?\n",
      "출력 : 그럼요.  연락해보세요.\n",
      "\n",
      "입력 : 내가 좋아하는 사람이 있는데 먼저 연락해도 될까?\n",
      "출력 : 사랑에 관심 있는 사람들이 많죠.\n",
      "\n"
     ]
    }
   ],
   "source": [
    "# 테스트4\n",
    "sentence_generation_multi_models('내가 좋아하는 사람이 있는데 먼저 연락해도 될까?', models)"
   ]
  },
  {
   "cell_type": "markdown",
   "id": "ad9720a6",
   "metadata": {},
   "source": [
    "### 결론\n",
    "\n",
    "#### - 학습횟수가 가장 많은 모델(60회)보다 중간 횟수 모델(40회)가 더 자연스러운 응답을 보임\n",
    "#### - 자연어 생성 모델에서 모델 정확도가 어떤 역할을 할지 의문(학습 데이터셋을 따라가는 경향성?)"
   ]
  }
 ],
 "metadata": {
  "kernelspec": {
   "display_name": "Python 3 (ipykernel)",
   "language": "python",
   "name": "python3"
  },
  "language_info": {
   "codemirror_mode": {
    "name": "ipython",
    "version": 3
   },
   "file_extension": ".py",
   "mimetype": "text/x-python",
   "name": "python",
   "nbconvert_exporter": "python",
   "pygments_lexer": "ipython3",
   "version": "3.9.7"
  }
 },
 "nbformat": 4,
 "nbformat_minor": 5
}
