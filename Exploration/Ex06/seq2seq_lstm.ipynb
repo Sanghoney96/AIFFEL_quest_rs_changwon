{
 "cells": [
  {
   "cell_type": "code",
   "execution_count": 1,
   "id": "fde8fa62",
   "metadata": {},
   "outputs": [],
   "source": [
    "import nltk\n",
    "import numpy as np\n",
    "import pandas as pd\n",
    "import os\n",
    "import re\n",
    "import matplotlib.pyplot as plt\n",
    "from nltk.corpus import stopwords\n",
    "from bs4 import BeautifulSoup \n",
    "from tensorflow.keras.preprocessing.text import Tokenizer \n",
    "from tensorflow.keras.preprocessing.sequence import pad_sequences\n",
    "import urllib.request\n",
    "import warnings\n",
    "warnings.filterwarnings(\"ignore\", category=UserWarning, module='bs4')"
   ]
  },
  {
   "cell_type": "code",
   "execution_count": 2,
   "id": "d44647f4",
   "metadata": {},
   "outputs": [
    {
     "name": "stdout",
     "output_type": "stream",
     "text": [
      "전체 샘플수 : 98401\n"
     ]
    }
   ],
   "source": [
    "data = pd.read_csv('news_summary_more.csv')\n",
    "print('전체 샘플수 :', (len(data)))"
   ]
  },
  {
   "cell_type": "code",
   "execution_count": 3,
   "id": "9ba8a478",
   "metadata": {},
   "outputs": [
    {
     "data": {
      "text/html": [
       "<div>\n",
       "<style scoped>\n",
       "    .dataframe tbody tr th:only-of-type {\n",
       "        vertical-align: middle;\n",
       "    }\n",
       "\n",
       "    .dataframe tbody tr th {\n",
       "        vertical-align: top;\n",
       "    }\n",
       "\n",
       "    .dataframe thead th {\n",
       "        text-align: right;\n",
       "    }\n",
       "</style>\n",
       "<table border=\"1\" class=\"dataframe\">\n",
       "  <thead>\n",
       "    <tr style=\"text-align: right;\">\n",
       "      <th></th>\n",
       "      <th>headlines</th>\n",
       "      <th>text</th>\n",
       "    </tr>\n",
       "  </thead>\n",
       "  <tbody>\n",
       "    <tr>\n",
       "      <th>0</th>\n",
       "      <td>upGrad learner switches to career in ML &amp; Al w...</td>\n",
       "      <td>Saurav Kant, an alumnus of upGrad and IIIT-B's...</td>\n",
       "    </tr>\n",
       "    <tr>\n",
       "      <th>1</th>\n",
       "      <td>Delhi techie wins free food from Swiggy for on...</td>\n",
       "      <td>Kunal Shah's credit card bill payment platform...</td>\n",
       "    </tr>\n",
       "    <tr>\n",
       "      <th>2</th>\n",
       "      <td>New Zealand end Rohit Sharma-led India's 12-ma...</td>\n",
       "      <td>New Zealand defeated India by 8 wickets in the...</td>\n",
       "    </tr>\n",
       "    <tr>\n",
       "      <th>3</th>\n",
       "      <td>Aegon life iTerm insurance plan helps customer...</td>\n",
       "      <td>With Aegon Life iTerm Insurance plan, customer...</td>\n",
       "    </tr>\n",
       "    <tr>\n",
       "      <th>4</th>\n",
       "      <td>Have known Hirani for yrs, what if MeToo claim...</td>\n",
       "      <td>Speaking about the sexual harassment allegatio...</td>\n",
       "    </tr>\n",
       "  </tbody>\n",
       "</table>\n",
       "</div>"
      ],
      "text/plain": [
       "                                           headlines  \\\n",
       "0  upGrad learner switches to career in ML & Al w...   \n",
       "1  Delhi techie wins free food from Swiggy for on...   \n",
       "2  New Zealand end Rohit Sharma-led India's 12-ma...   \n",
       "3  Aegon life iTerm insurance plan helps customer...   \n",
       "4  Have known Hirani for yrs, what if MeToo claim...   \n",
       "\n",
       "                                                text  \n",
       "0  Saurav Kant, an alumnus of upGrad and IIIT-B's...  \n",
       "1  Kunal Shah's credit card bill payment platform...  \n",
       "2  New Zealand defeated India by 8 wickets in the...  \n",
       "3  With Aegon Life iTerm Insurance plan, customer...  \n",
       "4  Speaking about the sexual harassment allegatio...  "
      ]
     },
     "execution_count": 3,
     "metadata": {},
     "output_type": "execute_result"
    }
   ],
   "source": [
    "data.head()"
   ]
  },
  {
   "cell_type": "code",
   "execution_count": 4,
   "id": "d745b956",
   "metadata": {},
   "outputs": [
    {
     "name": "stdout",
     "output_type": "stream",
     "text": [
      "Text 열에서 중복을 배제한 유일한 샘플의 수 : 98360\n",
      "Summary 열에서 중복을 배제한 유일한 샘플의 수 : 98280\n"
     ]
    }
   ],
   "source": [
    "# 중복샘플 확인\n",
    "\n",
    "print('Text 열에서 중복을 배제한 유일한 샘플의 수 :', data['text'].nunique())\n",
    "print('Summary 열에서 중복을 배제한 유일한 샘플의 수 :', data['headlines'].nunique())"
   ]
  },
  {
   "cell_type": "code",
   "execution_count": 5,
   "id": "c47938f6",
   "metadata": {},
   "outputs": [
    {
     "name": "stdout",
     "output_type": "stream",
     "text": [
      "중복 제거 후 전체 샘플수 : 98360\n"
     ]
    }
   ],
   "source": [
    "# 중복샘플 제거\n",
    "data.drop_duplicates(subset = ['text'], inplace=True)\n",
    "print('중복 제거 후 전체 샘플수 :', (len(data)))"
   ]
  },
  {
   "cell_type": "code",
   "execution_count": 6,
   "id": "ae7f816b",
   "metadata": {
    "scrolled": true
   },
   "outputs": [
    {
     "name": "stdout",
     "output_type": "stream",
     "text": [
      "headlines    0\n",
      "text         0\n",
      "dtype: int64\n"
     ]
    }
   ],
   "source": [
    "# null데이터 확인\n",
    "print(data.isnull().sum())"
   ]
  },
  {
   "cell_type": "code",
   "execution_count": 7,
   "id": "29487e1b",
   "metadata": {},
   "outputs": [
    {
     "name": "stdout",
     "output_type": "stream",
     "text": [
      "텍스트의 최소 토큰 개수 : 1\n",
      "텍스트의 최대 토큰 개수 : 66\n",
      "텍스트의 평균 토큰 개수 : 58.23730174867833\n",
      "요약의 최소 토큰 개수 : 1\n",
      "요약의 최대 토큰 개수 : 18\n",
      "요약의 평균 토큰 개수 : 9.553629524196827\n"
     ]
    },
    {
     "data": {
      "image/png": "[encoded data removed]",
      "text/plain": [
       "<Figure size 432x288 with 1 Axes>"
      ]
     },
     "metadata": {
      "needs_background": "light"
     },
     "output_type": "display_data"
    },
    {
     "data": {
      "image/png": "[encoded data removed]",
      "text/plain": [
       "<Figure size 432x288 with 1 Axes>"
      ]
     },
     "metadata": {
      "needs_background": "light"
     },
     "output_type": "display_data"
    }
   ],
   "source": [
    "# 전처리 전 원문 및 요약문의 토큰 개수 시각화\n",
    "text_len = [len(s.split()) for s in data['text']]\n",
    "headlines_len = [len(s.split()) for s in data['headlines']]\n",
    "\n",
    "print('텍스트의 최소 토큰 개수 : {}'.format(np.min(text_len)))\n",
    "print('텍스트의 최대 토큰 개수 : {}'.format(np.max(text_len)))\n",
    "print('텍스트의 평균 토큰 개수 : {}'.format(np.mean(text_len)))\n",
    "print('요약의 최소 토큰 개수 : {}'.format(np.min(headlines_len)))\n",
    "print('요약의 최대 토큰 개수 : {}'.format(np.max(headlines_len)))\n",
    "print('요약의 평균 토큰 개수 : {}'.format(np.mean(headlines_len)))\n",
    "\n",
    "plt.title('Text')\n",
    "plt.hist(text_len, bins = 40)\n",
    "plt.xlabel('number of token count per sentences')\n",
    "plt.ylabel('number of samples')\n",
    "plt.show()\n",
    "\n",
    "plt.title('Summary')\n",
    "plt.hist(headlines_len, bins = 40)\n",
    "plt.xlabel('number of token count per sentences')\n",
    "plt.ylabel('number of samples')\n",
    "plt.show()"
   ]
  },
  {
   "cell_type": "code",
   "execution_count": 8,
   "id": "6138efea",
   "metadata": {},
   "outputs": [],
   "source": [
    "# 영어 정규화 사전\n",
    "contractions = {\"ain't\": \"is not\", \"aren't\": \"are not\",\"can't\": \"cannot\", \"'cause\": \"because\", \"could've\": \"could have\", \"couldn't\": \"could not\",\n",
    "                           \"didn't\": \"did not\",  \"doesn't\": \"does not\", \"don't\": \"do not\", \"hadn't\": \"had not\", \"hasn't\": \"has not\", \"haven't\": \"have not\",\n",
    "                           \"he'd\": \"he would\",\"he'll\": \"he will\", \"he's\": \"he is\", \"how'd\": \"how did\", \"how'd'y\": \"how do you\", \"how'll\": \"how will\", \"how's\": \"how is\",\n",
    "                           \"I'd\": \"I would\", \"I'd've\": \"I would have\", \"I'll\": \"I will\", \"I'll've\": \"I will have\",\"I'm\": \"I am\", \"I've\": \"I have\", \"i'd\": \"i would\",\n",
    "                           \"i'd've\": \"i would have\", \"i'll\": \"i will\",  \"i'll've\": \"i will have\",\"i'm\": \"i am\", \"i've\": \"i have\", \"isn't\": \"is not\", \"it'd\": \"it would\",\n",
    "                           \"it'd've\": \"it would have\", \"it'll\": \"it will\", \"it'll've\": \"it will have\",\"it's\": \"it is\", \"let's\": \"let us\", \"ma'am\": \"madam\",\n",
    "                           \"mayn't\": \"may not\", \"might've\": \"might have\",\"mightn't\": \"might not\",\"mightn't've\": \"might not have\", \"must've\": \"must have\",\n",
    "                           \"mustn't\": \"must not\", \"mustn't've\": \"must not have\", \"needn't\": \"need not\", \"needn't've\": \"need not have\",\"o'clock\": \"of the clock\",\n",
    "                           \"oughtn't\": \"ought not\", \"oughtn't've\": \"ought not have\", \"shan't\": \"shall not\", \"sha'n't\": \"shall not\", \"shan't've\": \"shall not have\",\n",
    "                           \"she'd\": \"she would\", \"she'd've\": \"she would have\", \"she'll\": \"she will\", \"she'll've\": \"she will have\", \"she's\": \"she is\",\n",
    "                           \"should've\": \"should have\", \"shouldn't\": \"should not\", \"shouldn't've\": \"should not have\", \"so've\": \"so have\",\"so's\": \"so as\",\n",
    "                           \"this's\": \"this is\",\"that'd\": \"that would\", \"that'd've\": \"that would have\", \"that's\": \"that is\", \"there'd\": \"there would\",\n",
    "                           \"there'd've\": \"there would have\", \"there's\": \"there is\", \"here's\": \"here is\",\"they'd\": \"they would\", \"they'd've\": \"they would have\",\n",
    "                           \"they'll\": \"they will\", \"they'll've\": \"they will have\", \"they're\": \"they are\", \"they've\": \"they have\", \"to've\": \"to have\",\n",
    "                           \"wasn't\": \"was not\", \"we'd\": \"we would\", \"we'd've\": \"we would have\", \"we'll\": \"we will\", \"we'll've\": \"we will have\", \"we're\": \"we are\",\n",
    "                           \"we've\": \"we have\", \"weren't\": \"were not\", \"what'll\": \"what will\", \"what'll've\": \"what will have\", \"what're\": \"what are\",\n",
    "                           \"what's\": \"what is\", \"what've\": \"what have\", \"when's\": \"when is\", \"when've\": \"when have\", \"where'd\": \"where did\", \"where's\": \"where is\",\n",
    "                           \"where've\": \"where have\", \"who'll\": \"who will\", \"who'll've\": \"who will have\", \"who's\": \"who is\", \"who've\": \"who have\",\n",
    "                           \"why's\": \"why is\", \"why've\": \"why have\", \"will've\": \"will have\", \"won't\": \"will not\", \"won't've\": \"will not have\",\n",
    "                           \"would've\": \"would have\", \"wouldn't\": \"would not\", \"wouldn't've\": \"would not have\", \"y'all\": \"you all\",\n",
    "                           \"y'all'd\": \"you all would\",\"y'all'd've\": \"you all would have\",\"y'all're\": \"you all are\",\"y'all've\": \"you all have\",\n",
    "                           \"you'd\": \"you would\", \"you'd've\": \"you would have\", \"you'll\": \"you will\", \"you'll've\": \"you will have\",\n",
    "                           \"you're\": \"you are\", \"you've\": \"you have\"}"
   ]
  },
  {
   "cell_type": "code",
   "execution_count": 9,
   "id": "a52e0fda",
   "metadata": {},
   "outputs": [
    {
     "name": "stderr",
     "output_type": "stream",
     "text": [
      "[nltk_data] Downloading package stopwords to /aiffel/nltk_data...\n",
      "[nltk_data]   Unzipping corpora/stopwords.zip.\n"
     ]
    },
    {
     "data": {
      "text/plain": [
       "True"
      ]
     },
     "execution_count": 9,
     "metadata": {},
     "output_type": "execute_result"
    }
   ],
   "source": [
    "# 불용어 다운로드\n",
    "nltk.download('stopwords')"
   ]
  },
  {
   "cell_type": "code",
   "execution_count": 10,
   "id": "bb44afe5",
   "metadata": {},
   "outputs": [
    {
     "name": "stdout",
     "output_type": "stream",
     "text": [
      "불용어 개수 : 179\n",
      "['i', 'me', 'my', 'myself', 'we', 'our', 'ours', 'ourselves', 'you', \"you're\", \"you've\", \"you'll\", \"you'd\", 'your', 'yours', 'yourself', 'yourselves', 'he', 'him', 'his', 'himself', 'she', \"she's\", 'her', 'hers', 'herself', 'it', \"it's\", 'its', 'itself', 'they', 'them', 'their', 'theirs', 'themselves', 'what', 'which', 'who', 'whom', 'this', 'that', \"that'll\", 'these', 'those', 'am', 'is', 'are', 'was', 'were', 'be', 'been', 'being', 'have', 'has', 'had', 'having', 'do', 'does', 'did', 'doing', 'a', 'an', 'the', 'and', 'but', 'if', 'or', 'because', 'as', 'until', 'while', 'of', 'at', 'by', 'for', 'with', 'about', 'against', 'between', 'into', 'through', 'during', 'before', 'after', 'above', 'below', 'to', 'from', 'up', 'down', 'in', 'out', 'on', 'off', 'over', 'under', 'again', 'further', 'then', 'once', 'here', 'there', 'when', 'where', 'why', 'how', 'all', 'any', 'both', 'each', 'few', 'more', 'most', 'other', 'some', 'such', 'no', 'nor', 'not', 'only', 'own', 'same', 'so', 'than', 'too', 'very', 's', 't', 'can', 'will', 'just', 'don', \"don't\", 'should', \"should've\", 'now', 'd', 'll', 'm', 'o', 're', 've', 'y', 'ain', 'aren', \"aren't\", 'couldn', \"couldn't\", 'didn', \"didn't\", 'doesn', \"doesn't\", 'hadn', \"hadn't\", 'hasn', \"hasn't\", 'haven', \"haven't\", 'isn', \"isn't\", 'ma', 'mightn', \"mightn't\", 'mustn', \"mustn't\", 'needn', \"needn't\", 'shan', \"shan't\", 'shouldn', \"shouldn't\", 'wasn', \"wasn't\", 'weren', \"weren't\", 'won', \"won't\", 'wouldn', \"wouldn't\"]\n"
     ]
    }
   ],
   "source": [
    "print('불용어 개수 :', len(stopwords.words('english') ))\n",
    "print(stopwords.words('english'))"
   ]
  },
  {
   "cell_type": "code",
   "execution_count": 11,
   "id": "1c1b955e",
   "metadata": {},
   "outputs": [],
   "source": [
    "# 데이터 전처리 함수(소문자화, html태그 제거, 소괄호 안 문자열 제거, \n",
    "# 쌍따옴표 제거, 약어 정규화, 소유격 제거, 영어 외 문자열 제거, 기타)\n",
    "def preprocess_sentence(sentence, remove_stopwords=True):\n",
    "    \n",
    "    sentence = sentence.lower()\n",
    "    sentence=BeautifulSoup(sentence, 'lxml').text\n",
    "    sentence=re.sub(r'\\([^)]*\\)', '', sentence)\n",
    "    sentence=re.sub('\"', '', sentence)\n",
    "    sentence=' '.join([contractions[t] if t in contractions else t for t in sentence.split(\" \")])\n",
    "    sentence=re.sub(r\"'s\\b\", \"\", sentence)\n",
    "    sentence=re.sub(\"[^a-zA-Z]\", \" \", sentence)\n",
    "    sentence=re.sub('[m]{2,}', 'mm', sentence)\n",
    "    \n",
    "    if remove_stopwords:\n",
    "        tokens = ' '.join(word for word in sentence.split() if not word in stopwords.words('english') and len(word) > 1)\n",
    "    else :\n",
    "        tokens = ' '.join(word for word in sentence.split() if len(word) > 1)\n",
    "    return tokens"
   ]
  },
  {
   "cell_type": "code",
   "execution_count": 12,
   "id": "658532c9",
   "metadata": {},
   "outputs": [
    {
     "name": "stdout",
     "output_type": "stream",
     "text": [
      "text:  everything bought great infact ordered twice third ordered wasfor mother father\n",
      "summary: great way to start the day\n"
     ]
    }
   ],
   "source": [
    "temp_text = 'Everything I bought was great, infact I ordered twice and the third ordered was<br />for my mother and father.'\n",
    "temp_summary = 'Great way to start (or finish) the day!!!'\n",
    "\n",
    "print(\"text: \", preprocess_sentence(temp_text))\n",
    "print(\"summary:\", preprocess_sentence(temp_summary, False))"
   ]
  },
  {
   "cell_type": "code",
   "execution_count": 13,
   "id": "c1ccfb72",
   "metadata": {},
   "outputs": [
    {
     "name": "stdout",
     "output_type": "stream",
     "text": [
      "Text 전처리 후 결과:  ['saurav kant alumnus upgrad iiit pg program machine learning artificial intelligence sr systems engineer infosys almost years work experience program upgrad degree career support helped transition data scientist tech mahindra salary hike upgrad online power learning powered lakh careers', 'kunal shah credit card bill payment platform cred gave users chance win free food swiggy one year pranav kaushik delhi techie bagged reward spending cred coins users get one cred coin per rupee bill paid used avail rewards brands like ixigo bookmyshow ubereats cult fit', 'new zealand defeated india wickets fourth odi hamilton thursday win first match five match odi series india lost international match rohit sharma captaincy consecutive victories dating back march match witnessed india getting seventh lowest total odi cricket history', 'aegon life iterm insurance plan customers enjoy tax benefits premiums paid save taxes plan provides life cover age years also customers options insure critical illnesses disability accidental death benefit rider life cover age years', 'speaking sexual harassment allegations rajkumar hirani sonam kapoor said known hirani many years true metoo movement get derailed metoo movement always believe woman case need reserve judgment added hirani accused assistant worked sanju']\n"
     ]
    }
   ],
   "source": [
    "# 전체 text 데이터에 대한 전처리\n",
    "clean_text = []\n",
    "\n",
    "for t in data['text']:\n",
    "    t = preprocess_sentence(t)\n",
    "    clean_text.append(t)\n",
    "\n",
    "# 전처리 후 출력\n",
    "print(\"Text 전처리 후 결과: \", clean_text[:5])"
   ]
  },
  {
   "cell_type": "code",
   "execution_count": 14,
   "id": "ae3c822f",
   "metadata": {},
   "outputs": [
    {
     "name": "stdout",
     "output_type": "stream",
     "text": [
      "Text 전처리 후 결과:  ['upgrad learner switches career ml al salary hike', 'delhi techie wins free food swiggy one year cred', 'new zealand end rohit sharma led india match winning streak', 'aegon life iterm insurance plan helps customers save tax', 'known hirani yrs metoo claims true sonam']\n"
     ]
    }
   ],
   "source": [
    "# 전체 요약문 데이터에 대한 전처리\n",
    "clean_headlines = []\n",
    "\n",
    "for h in data['headlines']:\n",
    "    h = preprocess_sentence(h)\n",
    "    clean_headlines.append(h)\n",
    "\n",
    "# 전처리 후 출력\n",
    "print(\"Text 전처리 후 결과: \", clean_headlines[:5])"
   ]
  },
  {
   "cell_type": "code",
   "execution_count": 15,
   "id": "840a9720",
   "metadata": {},
   "outputs": [],
   "source": [
    "#데이터프레임 데이터를 전처리된 데이터로 변경\n",
    "data['text'] = clean_text\n",
    "data['headlines'] = clean_headlines\n",
    "\n",
    "# 빈 값을 Null 값으로 변환\n",
    "data.replace('', np.nan, inplace=True)"
   ]
  },
  {
   "cell_type": "code",
   "execution_count": 16,
   "id": "776e3fab",
   "metadata": {},
   "outputs": [
    {
     "name": "stdout",
     "output_type": "stream",
     "text": [
      "전체 샘플수 : 98360\n"
     ]
    }
   ],
   "source": [
    "# null 데이터 유무 확인\n",
    "data.isnull().sum()\n",
    "\n",
    "# null 데이터 제거\n",
    "data.dropna(axis=0, inplace=True)\n",
    "print('전체 샘플수 :', (len(data)))"
   ]
  },
  {
   "cell_type": "code",
   "execution_count": 17,
   "id": "b846df5b",
   "metadata": {},
   "outputs": [
    {
     "name": "stdout",
     "output_type": "stream",
     "text": [
      "텍스트의 최소 토큰 개수 : 1\n",
      "텍스트의 최대 토큰 개수 : 60\n",
      "텍스트의 평균 토큰 개수 : 35.09968483123221\n",
      "요약의 최소 토큰 개수 : 1\n",
      "요약의 최대 토큰 개수 : 13\n",
      "요약의 평균 토큰 개수 : 7.136183407889386\n"
     ]
    },
    {
     "data": {
      "image/png": "[encoded data removed]",
      "text/plain": [
       "<Figure size 432x288 with 1 Axes>"
      ]
     },
     "metadata": {
      "needs_background": "light"
     },
     "output_type": "display_data"
    },
    {
     "data": {
      "image/png": "[encoded data removed]",
      "text/plain": [
       "<Figure size 432x288 with 1 Axes>"
      ]
     },
     "metadata": {
      "needs_background": "light"
     },
     "output_type": "display_data"
    }
   ],
   "source": [
    "# 전처리 후 원문 및 요약문의 토큰 개수 시각화\n",
    "text_len = [len(s.split()) for s in data['text']]\n",
    "headlines_len = [len(s.split()) for s in data['headlines']]\n",
    "\n",
    "print('텍스트의 최소 토큰 개수 : {}'.format(np.min(text_len)))\n",
    "print('텍스트의 최대 토큰 개수 : {}'.format(np.max(text_len)))\n",
    "print('텍스트의 평균 토큰 개수 : {}'.format(np.mean(text_len)))\n",
    "print('요약의 최소 토큰 개수 : {}'.format(np.min(headlines_len)))\n",
    "print('요약의 최대 토큰 개수 : {}'.format(np.max(headlines_len)))\n",
    "print('요약의 평균 토큰 개수 : {}'.format(np.mean(headlines_len)))\n",
    "\n",
    "plt.title('Text')\n",
    "plt.hist(text_len, bins = 40)\n",
    "plt.xlabel('number of token count per sentences')\n",
    "plt.ylabel('number of samples')\n",
    "plt.show()\n",
    "\n",
    "plt.title('Summary')\n",
    "plt.hist(headlines_len, bins = 40)\n",
    "plt.xlabel('number of token count per sentences')\n",
    "plt.ylabel('number of samples')\n",
    "plt.show()"
   ]
  },
  {
   "cell_type": "code",
   "execution_count": 18,
   "id": "cfd57776",
   "metadata": {},
   "outputs": [],
   "source": [
    "# 전체 샘플의 원하는 비율을 커버할 수 있는 토큰 개수 확인\n",
    "def find_max_len_for_coverage(coverage_ratio, nested_list):\n",
    "    lengths = sorted([len(s.split()) for s in nested_list])  # 모든 문장의 단어 개수를 정렬\n",
    "    max_len = lengths[int(len(lengths) * coverage_ratio) - 1]  # 90%에 해당하는 길이 선택\n",
    "    print(f'{int(coverage_ratio * 100)}%의 샘플을 커버하는 최대 길이: {max_len}')\n",
    "    return max_len"
   ]
  },
  {
   "cell_type": "code",
   "execution_count": 19,
   "id": "c632c8e1",
   "metadata": {},
   "outputs": [
    {
     "name": "stdout",
     "output_type": "stream",
     "text": [
      "90%의 샘플을 커버하는 최대 길이: 40\n",
      "90%의 샘플을 커버하는 최대 길이: 9\n"
     ]
    },
    {
     "data": {
      "text/plain": [
       "9"
      ]
     },
     "execution_count": 19,
     "metadata": {},
     "output_type": "execute_result"
    }
   ],
   "source": [
    "find_max_len_for_coverage(0.9, data['text'])\n",
    "find_max_len_for_coverage(0.9, data['headlines'])"
   ]
  },
  {
   "cell_type": "code",
   "execution_count": 20,
   "id": "79b47094",
   "metadata": {},
   "outputs": [],
   "source": [
    "# 지정된 토큰 개수로 커버 가능한 샘플 비율 확인\n",
    "\n",
    "def below_threshold_len(max_len, nested_list):\n",
    "  cnt = 0\n",
    "  for s in nested_list:\n",
    "    if(len(s.split()) <= max_len):\n",
    "        cnt = cnt + 1\n",
    "  print('전체 샘플 중 길이가 %s 이하인 샘플의 비율: %s'%(max_len, (cnt / len(nested_list))))"
   ]
  },
  {
   "cell_type": "code",
   "execution_count": 21,
   "id": "b5d31981",
   "metadata": {},
   "outputs": [],
   "source": [
    "text_max_len = 40\n",
    "headlines_max_len = 8"
   ]
  },
  {
   "cell_type": "code",
   "execution_count": 22,
   "id": "23c8630b",
   "metadata": {},
   "outputs": [
    {
     "name": "stdout",
     "output_type": "stream",
     "text": [
      "전체 샘플 중 길이가 40 이하인 샘플의 비율: 0.9238714924766165\n",
      "전체 샘플 중 길이가 8 이하인 샘플의 비율: 0.8925782838552258\n"
     ]
    }
   ],
   "source": [
    "below_threshold_len(text_max_len, data['text'])\n",
    "below_threshold_len(headlines_max_len,  data['headlines'])"
   ]
  },
  {
   "cell_type": "code",
   "execution_count": 23,
   "id": "aab1a4b7",
   "metadata": {},
   "outputs": [],
   "source": [
    "# 원문과 요약문 데이터프레임을 max_len 기준으로 자르기\n",
    "\n",
    "data = data[data['text'].apply(lambda x: len(x.split()) <= text_max_len)]\n",
    "data = data[data['headlines'].apply(lambda x: len(x.split()) <= headlines_max_len)]"
   ]
  },
  {
   "cell_type": "code",
   "execution_count": 24,
   "id": "d2964bfd",
   "metadata": {},
   "outputs": [
    {
     "name": "stdout",
     "output_type": "stream",
     "text": [
      "전체 샘플수 : 81914\n"
     ]
    }
   ],
   "source": [
    "print('전체 샘플수 :', (len(data)))"
   ]
  },
  {
   "cell_type": "code",
   "execution_count": 25,
   "id": "0bb33443",
   "metadata": {},
   "outputs": [
    {
     "data": {
      "text/html": [
       "<div>\n",
       "<style scoped>\n",
       "    .dataframe tbody tr th:only-of-type {\n",
       "        vertical-align: middle;\n",
       "    }\n",
       "\n",
       "    .dataframe tbody tr th {\n",
       "        vertical-align: top;\n",
       "    }\n",
       "\n",
       "    .dataframe thead th {\n",
       "        text-align: right;\n",
       "    }\n",
       "</style>\n",
       "<table border=\"1\" class=\"dataframe\">\n",
       "  <thead>\n",
       "    <tr style=\"text-align: right;\">\n",
       "      <th></th>\n",
       "      <th>headlines</th>\n",
       "      <th>text</th>\n",
       "      <th>decoder_input</th>\n",
       "      <th>decoder_target</th>\n",
       "    </tr>\n",
       "  </thead>\n",
       "  <tbody>\n",
       "    <tr>\n",
       "      <th>0</th>\n",
       "      <td>upgrad learner switches career ml al salary hike</td>\n",
       "      <td>saurav kant alumnus upgrad iiit pg program mac...</td>\n",
       "      <td>sostoken upgrad learner switches career ml al ...</td>\n",
       "      <td>upgrad learner switches career ml al salary hi...</td>\n",
       "    </tr>\n",
       "    <tr>\n",
       "      <th>4</th>\n",
       "      <td>known hirani yrs metoo claims true sonam</td>\n",
       "      <td>speaking sexual harassment allegations rajkuma...</td>\n",
       "      <td>sostoken known hirani yrs metoo claims true sonam</td>\n",
       "      <td>known hirani yrs metoo claims true sonam eostoken</td>\n",
       "    </tr>\n",
       "    <tr>\n",
       "      <th>6</th>\n",
       "      <td>india get lowest odi total new zealand</td>\n",
       "      <td>india recorded lowest odi total new zealand ge...</td>\n",
       "      <td>sostoken india get lowest odi total new zealand</td>\n",
       "      <td>india get lowest odi total new zealand eostoken</td>\n",
       "    </tr>\n",
       "    <tr>\n",
       "      <th>7</th>\n",
       "      <td>govt directs alok verma join work day retirement</td>\n",
       "      <td>weeks ex cbi director alok verma told departme...</td>\n",
       "      <td>sostoken govt directs alok verma join work day...</td>\n",
       "      <td>govt directs alok verma join work day retireme...</td>\n",
       "    </tr>\n",
       "    <tr>\n",
       "      <th>9</th>\n",
       "      <td>cong wins ramgarh bypoll rajasthan takes total...</td>\n",
       "      <td>congress candidate shafia zubair ramgarh assem...</td>\n",
       "      <td>sostoken cong wins ramgarh bypoll rajasthan ta...</td>\n",
       "      <td>cong wins ramgarh bypoll rajasthan takes total...</td>\n",
       "    </tr>\n",
       "  </tbody>\n",
       "</table>\n",
       "</div>"
      ],
      "text/plain": [
       "                                           headlines  \\\n",
       "0   upgrad learner switches career ml al salary hike   \n",
       "4           known hirani yrs metoo claims true sonam   \n",
       "6             india get lowest odi total new zealand   \n",
       "7   govt directs alok verma join work day retirement   \n",
       "9  cong wins ramgarh bypoll rajasthan takes total...   \n",
       "\n",
       "                                                text  \\\n",
       "0  saurav kant alumnus upgrad iiit pg program mac...   \n",
       "4  speaking sexual harassment allegations rajkuma...   \n",
       "6  india recorded lowest odi total new zealand ge...   \n",
       "7  weeks ex cbi director alok verma told departme...   \n",
       "9  congress candidate shafia zubair ramgarh assem...   \n",
       "\n",
       "                                       decoder_input  \\\n",
       "0  sostoken upgrad learner switches career ml al ...   \n",
       "4  sostoken known hirani yrs metoo claims true sonam   \n",
       "6    sostoken india get lowest odi total new zealand   \n",
       "7  sostoken govt directs alok verma join work day...   \n",
       "9  sostoken cong wins ramgarh bypoll rajasthan ta...   \n",
       "\n",
       "                                      decoder_target  \n",
       "0  upgrad learner switches career ml al salary hi...  \n",
       "4  known hirani yrs metoo claims true sonam eostoken  \n",
       "6    india get lowest odi total new zealand eostoken  \n",
       "7  govt directs alok verma join work day retireme...  \n",
       "9  cong wins ramgarh bypoll rajasthan takes total...  "
      ]
     },
     "execution_count": 25,
     "metadata": {},
     "output_type": "execute_result"
    }
   ],
   "source": [
    "# 시작 토큰과 종료 토큰 추가\n",
    "\n",
    "data['decoder_input'] = data['headlines'].apply(lambda x : 'sostoken '+ x)\n",
    "data['decoder_target'] = data['headlines'].apply(lambda x : x + ' eostoken')\n",
    "data.head()"
   ]
  },
  {
   "cell_type": "code",
   "execution_count": 26,
   "id": "9f31f4e2",
   "metadata": {},
   "outputs": [],
   "source": [
    "# 넘파이 배열로 변환\n",
    "encoder_input = np.array(data['text']) # 인코더의 입력\n",
    "decoder_input = np.array(data['decoder_input']) # 디코더의 입력\n",
    "decoder_target = np.array(data['decoder_target']) # 디코더의 레이블"
   ]
  },
  {
   "cell_type": "code",
   "execution_count": 27,
   "id": "63d4f173",
   "metadata": {},
   "outputs": [
    {
     "name": "stdout",
     "output_type": "stream",
     "text": [
      "테스트 데이터의 수 : 16382\n"
     ]
    }
   ],
   "source": [
    "# 검증데이터 인덱스 지정\n",
    "n_of_val = int(len(encoder_input)*0.2)\n",
    "print('테스트 데이터의 수 :', n_of_val)"
   ]
  },
  {
   "cell_type": "code",
   "execution_count": 28,
   "id": "ff804ff6",
   "metadata": {},
   "outputs": [
    {
     "name": "stdout",
     "output_type": "stream",
     "text": [
      "훈련 데이터의 개수 : 65532\n",
      "훈련 레이블의 개수 : 65532\n",
      "테스트 데이터의 개수 : 16382\n",
      "테스트 레이블의 개수 : 16382\n"
     ]
    }
   ],
   "source": [
    "# 검증데이터 분리\n",
    "encoder_input_train = encoder_input[:-n_of_val]\n",
    "decoder_input_train = decoder_input[:-n_of_val]\n",
    "decoder_target_train = decoder_target[:-n_of_val]\n",
    "\n",
    "encoder_input_test = encoder_input[-n_of_val:]\n",
    "decoder_input_test = decoder_input[-n_of_val:]\n",
    "decoder_target_test = decoder_target[-n_of_val:]\n",
    "\n",
    "print('훈련 데이터의 개수 :', len(encoder_input_train))\n",
    "print('훈련 레이블의 개수 :', len(decoder_input_train))\n",
    "print('테스트 데이터의 개수 :', len(encoder_input_test))\n",
    "print('테스트 레이블의 개수 :', len(decoder_input_test))"
   ]
  },
  {
   "cell_type": "code",
   "execution_count": 29,
   "id": "c9e7096d",
   "metadata": {},
   "outputs": [],
   "source": [
    "# 인코더 입력문 전처리\n",
    "# 토크나이징\n",
    "src_tokenizer = Tokenizer()\n",
    "src_tokenizer.fit_on_texts(encoder_input_train)"
   ]
  },
  {
   "cell_type": "code",
   "execution_count": 30,
   "id": "d1177664",
   "metadata": {},
   "outputs": [
    {
     "name": "stdout",
     "output_type": "stream",
     "text": [
      "단어 집합(vocabulary)의 크기 : 61699\n",
      "등장 빈도가 6번 이하인 희귀 단어의 수: 41837\n",
      "단어 집합에서 희귀 단어를 제외시킬 경우의 단어 집합의 크기 19862\n",
      "단어 집합에서 희귀 단어의 비율: 67.80823027925898\n",
      "전체 등장 빈도에서 희귀 단어 등장 빈도 비율: 3.790873118581267\n"
     ]
    }
   ],
   "source": [
    "# 등장빈도 7회 미만을 기준 등장빈도 및 희귀단어 수량 확인\n",
    "threshold = 7\n",
    "total_cnt = len(src_tokenizer.word_index) # 단어의 수\n",
    "rare_cnt = 0 # 등장 빈도수가 threshold보다 작은 단어의 개수를 카운트\n",
    "total_freq = 0 # 훈련 데이터의 전체 단어 빈도수 총 합\n",
    "rare_freq = 0 # 등장 빈도수가 threshold보다 작은 단어의 등장 빈도수의 총 합\n",
    "\n",
    "# 단어와 빈도수의 쌍(pair)을 key와 value로 받는다.\n",
    "for key, value in src_tokenizer.word_counts.items():\n",
    "    total_freq = total_freq + value\n",
    "\n",
    "    # 단어의 등장 빈도수가 threshold보다 작으면\n",
    "    if(value < threshold):\n",
    "        rare_cnt = rare_cnt + 1\n",
    "        rare_freq = rare_freq + value\n",
    "\n",
    "print('단어 집합(vocabulary)의 크기 :', total_cnt)\n",
    "print('등장 빈도가 %s번 이하인 희귀 단어의 수: %s'%(threshold - 1, rare_cnt))\n",
    "print('단어 집합에서 희귀 단어를 제외시킬 경우의 단어 집합의 크기 %s'%(total_cnt - rare_cnt))\n",
    "print(\"단어 집합에서 희귀 단어의 비율:\", (rare_cnt / total_cnt)*100)\n",
    "print(\"전체 등장 빈도에서 희귀 단어 등장 빈도 비율:\", (rare_freq / total_freq)*100)"
   ]
  },
  {
   "cell_type": "code",
   "execution_count": 31,
   "id": "05d20fad",
   "metadata": {},
   "outputs": [],
   "source": [
    "# 원문 단어집합 중 약 68%의 희귀단어 제외시킨 2만개 토큰으로 설정\n",
    "src_vocab = 20000\n",
    "src_tokenizer = Tokenizer(num_words=src_vocab) # 단어 집합의 크기를 2만개로 제한\n",
    "src_tokenizer.fit_on_texts(encoder_input_train) # 단어 집합 재생성"
   ]
  },
  {
   "cell_type": "code",
   "execution_count": 32,
   "id": "a1058113",
   "metadata": {},
   "outputs": [
    {
     "name": "stdout",
     "output_type": "stream",
     "text": [
      "[[7337, 9434, 9224, 12162, 9225, 1634, 1726, 2057, 1482, 666, 10714, 1706, 2352, 1268, 864, 21, 129, 1172, 1634, 9224, 2567, 581, 347, 1072, 4936, 136, 3515, 2742, 1676, 1532, 2341, 9224, 205, 317, 2057, 2384, 56, 7570], [251, 277, 552, 425, 3725, 3668, 1364, 132, 1, 383, 3668, 175, 21, 1927, 2580, 1114, 112, 6156, 2580, 1114, 492, 1042, 48, 72, 382, 2000, 6398, 2, 3668, 37, 1669, 888, 2508], [4, 1051, 2772, 352, 286, 27, 816, 448, 281, 1975, 707, 352, 5312, 71, 306, 4, 2797, 871, 583, 7338, 4101, 146, 1165, 539, 6241, 4431, 355, 468, 4, 646, 2772, 352, 286, 27, 816]]\n"
     ]
    }
   ],
   "source": [
    "# 텍스트 시퀀스를 정수 시퀀스로 변환\n",
    "encoder_input_train = src_tokenizer.texts_to_sequences(encoder_input_train) \n",
    "encoder_input_test = src_tokenizer.texts_to_sequences(encoder_input_test)\n",
    "\n",
    "# 잘 진행되었는지 샘플 출력\n",
    "print(encoder_input_train[:3])"
   ]
  },
  {
   "cell_type": "code",
   "execution_count": 33,
   "id": "fc08263e",
   "metadata": {},
   "outputs": [],
   "source": [
    "# 디코더 입력문(타겟) 전처리\n",
    "# 토크나이징\n",
    "tar_tokenizer = Tokenizer()\n",
    "tar_tokenizer.fit_on_texts(decoder_input_train)"
   ]
  },
  {
   "cell_type": "code",
   "execution_count": 34,
   "id": "8a38711a",
   "metadata": {},
   "outputs": [
    {
     "name": "stdout",
     "output_type": "stream",
     "text": [
      "단어 집합(vocabulary)의 크기 : 27149\n",
      "등장 빈도가 4번 이하인 희귀 단어의 수: 16801\n",
      "단어 집합에서 희귀 단어를 제외시킬 경우의 단어 집합의 크기 10348\n",
      "단어 집합에서 희귀 단어의 비율: 61.884415632251645\n",
      "전체 등장 빈도에서 희귀 단어 등장 빈도 비율: 5.614172177488768\n"
     ]
    }
   ],
   "source": [
    "# 등장빈도 5회 미만을 기준 등장빈도 및 희귀단어 수량 확인\n",
    "\n",
    "threshold = 5\n",
    "total_cnt = len(tar_tokenizer.word_index) # 단어의 수\n",
    "rare_cnt = 0 # 등장 빈도수가 threshold보다 작은 단어의 개수를 카운트\n",
    "total_freq = 0 # 훈련 데이터의 전체 단어 빈도수 총 합\n",
    "rare_freq = 0 # 등장 빈도수가 threshold보다 작은 단어의 등장 빈도수의 총 합\n",
    "\n",
    "# 단어와 빈도수의 쌍(pair)을 key와 value로 받는다.\n",
    "for key, value in tar_tokenizer.word_counts.items():\n",
    "    total_freq = total_freq + value\n",
    "\n",
    "    # 단어의 등장 빈도수가 threshold보다 작으면\n",
    "    if(value < threshold):\n",
    "        rare_cnt = rare_cnt + 1\n",
    "        rare_freq = rare_freq + value\n",
    "\n",
    "print('단어 집합(vocabulary)의 크기 :', total_cnt)\n",
    "print('등장 빈도가 %s번 이하인 희귀 단어의 수: %s'%(threshold - 1, rare_cnt))\n",
    "print('단어 집합에서 희귀 단어를 제외시킬 경우의 단어 집합의 크기 %s'%(total_cnt - rare_cnt))\n",
    "print(\"단어 집합에서 희귀 단어의 비율:\", (rare_cnt / total_cnt)*100)\n",
    "print(\"전체 등장 빈도에서 희귀 단어 등장 빈도 비율:\", (rare_freq / total_freq)*100)"
   ]
  },
  {
   "cell_type": "code",
   "execution_count": 35,
   "id": "96a29439",
   "metadata": {},
   "outputs": [
    {
     "name": "stdout",
     "output_type": "stream",
     "text": [
      "input\n",
      "input  [[1, 5937, 7730, 8419, 585, 2378, 980, 1139], [1, 1970, 2316, 53, 753, 113, 2379, 501], [1, 3, 38, 2890, 259, 1451, 19, 1176], [1, 6, 2610, 2538, 3541, 661, 149, 24, 1879], [1, 87, 154, 4566, 333, 231, 1451, 687]]\n",
      "target\n",
      "decoder  [[5937, 7730, 8419, 585, 2378, 980, 1139, 2], [1970, 2316, 53, 753, 113, 2379, 501, 2], [3, 38, 2890, 259, 1451, 19, 1176, 2], [6, 2610, 2538, 3541, 661, 149, 24, 1879, 2], [87, 154, 4566, 333, 231, 1451, 687, 2]]\n"
     ]
    }
   ],
   "source": [
    "# 타겟문장 단어집합 중 약 62%의 희귀단어 제외시킨 1만개 토큰으로 설정\n",
    "\n",
    "tar_vocab = 10000\n",
    "tar_tokenizer = Tokenizer(num_words=tar_vocab) \n",
    "tar_tokenizer.fit_on_texts(decoder_input_train)\n",
    "tar_tokenizer.fit_on_texts(decoder_target_train)\n",
    "\n",
    "# 텍스트 시퀀스를 정수 시퀀스로 변환\n",
    "decoder_input_train = tar_tokenizer.texts_to_sequences(decoder_input_train) \n",
    "decoder_target_train = tar_tokenizer.texts_to_sequences(decoder_target_train)\n",
    "decoder_input_test = tar_tokenizer.texts_to_sequences(decoder_input_test)\n",
    "decoder_target_test = tar_tokenizer.texts_to_sequences(decoder_target_test)\n",
    "\n",
    "# 잘 변환되었는지 확인\n",
    "print('input')\n",
    "print('input ',decoder_input_train[:5])\n",
    "print('target')\n",
    "print('decoder ',decoder_target_train[:5])"
   ]
  },
  {
   "cell_type": "code",
   "execution_count": 36,
   "id": "0333f3fd",
   "metadata": {},
   "outputs": [
    {
     "name": "stdout",
     "output_type": "stream",
     "text": [
      "토큰 6개 미만 원문 데이터의 개수 : 1\n"
     ]
    }
   ],
   "source": [
    "# 원문의 토큰 개수가 5개이면 원문으로써의 의미가 있는가?\n",
    "# 희소단어 제거 후 인코더 입력문 토큰 최소 6개 미만 존재 여부 확인\n",
    "\n",
    "drop_encoder_train = [index for index, sentence in enumerate(encoder_input_train) if len(sentence) < 6]\n",
    "\n",
    "print('토큰 6개 미만 원문 데이터의 개수 :', len(drop_encoder_train))"
   ]
  },
  {
   "cell_type": "code",
   "execution_count": 37,
   "id": "4f1cf2b6",
   "metadata": {},
   "outputs": [
    {
     "data": {
      "text/plain": [
       "[41]"
      ]
     },
     "execution_count": 37,
     "metadata": {},
     "output_type": "execute_result"
    }
   ],
   "source": [
    "drop_encoder_train"
   ]
  },
  {
   "cell_type": "code",
   "execution_count": 38,
   "id": "539a9594",
   "metadata": {},
   "outputs": [
    {
     "name": "stdout",
     "output_type": "stream",
     "text": [
      "문장 인덱스 : 41\n",
      "시퀀스 배열 :  [2776]\n"
     ]
    }
   ],
   "source": [
    "# 삭제할 문장 확인\n",
    "for i, sentence in enumerate(encoder_input_train):\n",
    "    if i == 41:\n",
    "        print(\"문장 인덱스 :\", i)\n",
    "        print(\"시퀀스 배열 : \", sentence)"
   ]
  },
  {
   "cell_type": "code",
   "execution_count": 39,
   "id": "d76eff7d",
   "metadata": {},
   "outputs": [
    {
     "data": {
      "text/plain": [
       "'text'"
      ]
     },
     "execution_count": 39,
     "metadata": {},
     "output_type": "execute_result"
    }
   ],
   "source": [
    "# drop_encoder_train 문장을 텍스트로 출력\n",
    "src_tokenizer.index_word.get(2776, \"<UNK>\")"
   ]
  },
  {
   "cell_type": "code",
   "execution_count": 40,
   "id": "63b9ee3f",
   "metadata": {},
   "outputs": [],
   "source": [
    "# 입력/출력 데이터셋에서 해당 문장 삭제\n",
    "\n",
    "encoder_input_train = [sentence for index, sentence in enumerate(encoder_input_train) if index not in drop_encoder_train]\n",
    "decoder_input_train = [sentence for index, sentence in enumerate(decoder_input_train) if index not in drop_encoder_train]\n",
    "decoder_target_train = [sentence for index, sentence in enumerate(decoder_target_train) if index not in drop_encoder_train]"
   ]
  },
  {
   "cell_type": "code",
   "execution_count": 41,
   "id": "a82026cd",
   "metadata": {},
   "outputs": [
    {
     "name": "stdout",
     "output_type": "stream",
     "text": [
      "삭제할 훈련 데이터의 개수 : 1\n",
      "삭제할 테스트 데이터의 개수 : 0\n"
     ]
    }
   ],
   "source": [
    "# 희소단어 제거 후 디코더 입력문 및 타겟문 토큰 최소 2개 미만 존재 여부 확인\n",
    "\n",
    "drop_decoder_train = [index for index, sentence in enumerate(decoder_input_train) if len(sentence) < 2]\n",
    "drop_test = [index for index, sentence in enumerate(decoder_input_test) if len(sentence) < 2]\n",
    "\n",
    "print('삭제할 훈련 데이터의 개수 :', len(drop_decoder_train))\n",
    "print('삭제할 테스트 데이터의 개수 :', len(drop_test))"
   ]
  },
  {
   "cell_type": "code",
   "execution_count": 42,
   "id": "62d9f373",
   "metadata": {},
   "outputs": [
    {
     "name": "stdout",
     "output_type": "stream",
     "text": [
      "훈련 데이터의 개수 : 65530\n",
      "훈련 레이블의 개수 : 65530\n",
      "테스트 데이터의 개수 : 16382\n",
      "테스트 레이블의 개수 : 16382\n"
     ]
    }
   ],
   "source": [
    "# 입력/출력 데이터셋에서 해당 문장 삭제\n",
    "\n",
    "encoder_input_train = [sentence for index, sentence in enumerate(encoder_input_train) if index not in drop_decoder_train]\n",
    "decoder_input_train = [sentence for index, sentence in enumerate(decoder_input_train) if index not in drop_decoder_train]\n",
    "decoder_target_train = [sentence for index, sentence in enumerate(decoder_target_train) if index not in drop_decoder_train]\n",
    "\n",
    "encoder_input_test = [sentence for index, sentence in enumerate(encoder_input_test) if index not in drop_test]\n",
    "decoder_input_test = [sentence for index, sentence in enumerate(decoder_input_test) if index not in drop_test]\n",
    "decoder_target_test = [sentence for index, sentence in enumerate(decoder_target_test) if index not in drop_test]\n",
    "\n",
    "print('훈련 데이터의 개수 :', len(encoder_input_train))\n",
    "print('훈련 레이블의 개수 :', len(decoder_input_train))\n",
    "print('테스트 데이터의 개수 :', len(encoder_input_test))\n",
    "print('테스트 레이블의 개수 :', len(decoder_input_test))"
   ]
  },
  {
   "cell_type": "code",
   "execution_count": 43,
   "id": "8d030cd6",
   "metadata": {},
   "outputs": [],
   "source": [
    "# 패딩\n",
    "encoder_input_train = pad_sequences(encoder_input_train, maxlen=text_max_len, padding='post')\n",
    "encoder_input_test = pad_sequences(encoder_input_test, maxlen=text_max_len, padding='post')\n",
    "decoder_input_train = pad_sequences(decoder_input_train, maxlen=headlines_max_len, padding='post')\n",
    "decoder_target_train = pad_sequences(decoder_target_train, maxlen=headlines_max_len, padding='post')\n",
    "decoder_input_test = pad_sequences(decoder_input_test, maxlen=headlines_max_len, padding='post')\n",
    "decoder_target_test = pad_sequences(decoder_target_test, maxlen=headlines_max_len, padding='post')"
   ]
  },
  {
   "cell_type": "code",
   "execution_count": 44,
   "id": "32530ab1",
   "metadata": {},
   "outputs": [],
   "source": [
    "from tensorflow.keras.layers import Input, LSTM, Embedding, Dense, Concatenate, TimeDistributed\n",
    "from tensorflow.keras.models import Model\n",
    "from tensorflow.keras.callbacks import EarlyStopping, ModelCheckpoint"
   ]
  },
  {
   "cell_type": "code",
   "execution_count": 45,
   "id": "49584ecb",
   "metadata": {},
   "outputs": [],
   "source": [
    "# LSTM으로 모델 설계\n",
    "\n",
    "# 인코더 설계 시작\n",
    "embedding_dim = 128\n",
    "hidden_size = 256\n",
    "\n",
    "# 인코더\n",
    "encoder_inputs = Input(shape=(text_max_len,))\n",
    "\n",
    "# 인코더의 임베딩 층\n",
    "enc_emb = Embedding(src_vocab, embedding_dim)(encoder_inputs)\n",
    "\n",
    "# 인코더의 LSTM 1\n",
    "# encoder_lstm1 = LSTM(hidden_size, return_sequences=True, return_state=True ,dropout = 0.2, recurrent_dropout = 0.4)\n",
    "encoder_lstm1 = LSTM(hidden_size, return_sequences=True, return_state=True ,dropout = 0.2)\n",
    "encoder_output1, state_h1, state_c1 = encoder_lstm1(enc_emb)\n",
    "\n",
    "# 인코더의 LSTM 2\n",
    "encoder_lstm2 = LSTM(hidden_size, return_sequences=True, return_state=True ,dropout = 0.2)\n",
    "encoder_output2, state_h2, state_c2 = encoder_lstm2(encoder_output1)\n",
    "\n",
    "# 인코더의 LSTM 3\n",
    "encoder_lstm3 = LSTM(hidden_size, return_sequences=True, return_state=True ,dropout = 0.2)\n",
    "encoder_output3, state_h3, state_c3 = encoder_lstm3(encoder_output2)"
   ]
  },
  {
   "cell_type": "code",
   "execution_count": 46,
   "id": "861f7ba4",
   "metadata": {},
   "outputs": [],
   "source": [
    "# 디코더 설계\n",
    "decoder_inputs = Input(shape=(None,))\n",
    "\n",
    "# 디코더의 임베딩 층\n",
    "dec_emb_layer = Embedding(tar_vocab, embedding_dim)\n",
    "dec_emb = dec_emb_layer(decoder_inputs)\n",
    "#dec_emb = Embedding(tar_vocab, embedding_dim)(decoder_inputs)\n",
    "\n",
    "# 디코더의 LSTM\n",
    "# decoder_lstm = LSTM(hidden_size, return_sequences=True, return_state=True, dropout=0.2, recurrent_dropout=0.2)\n",
    "decoder_lstm = LSTM(hidden_size, return_sequences=True, return_state=True, dropout=0.2)\n",
    "decoder_outputs, _, _ = decoder_lstm(dec_emb, initial_state=[state_h3, state_c3])"
   ]
  },
  {
   "cell_type": "code",
   "execution_count": 47,
   "id": "d2f9dec8",
   "metadata": {},
   "outputs": [
    {
     "name": "stdout",
     "output_type": "stream",
     "text": [
      "Model: \"model\"\n",
      "__________________________________________________________________________________________________\n",
      "Layer (type)                    Output Shape         Param #     Connected to                     \n",
      "==================================================================================================\n",
      "input_1 (InputLayer)            [(None, 40)]         0                                            \n",
      "__________________________________________________________________________________________________\n",
      "embedding (Embedding)           (None, 40, 128)      2560000     input_1[0][0]                    \n",
      "__________________________________________________________________________________________________\n",
      "lstm (LSTM)                     [(None, 40, 256), (N 394240      embedding[0][0]                  \n",
      "__________________________________________________________________________________________________\n",
      "input_2 (InputLayer)            [(None, None)]       0                                            \n",
      "__________________________________________________________________________________________________\n",
      "lstm_1 (LSTM)                   [(None, 40, 256), (N 525312      lstm[0][0]                       \n",
      "__________________________________________________________________________________________________\n",
      "embedding_1 (Embedding)         (None, None, 128)    1280000     input_2[0][0]                    \n",
      "__________________________________________________________________________________________________\n",
      "lstm_2 (LSTM)                   [(None, 40, 256), (N 525312      lstm_1[0][0]                     \n",
      "__________________________________________________________________________________________________\n",
      "lstm_3 (LSTM)                   [(None, None, 256),  394240      embedding_1[0][0]                \n",
      "                                                                 lstm_2[0][1]                     \n",
      "                                                                 lstm_2[0][2]                     \n",
      "__________________________________________________________________________________________________\n",
      "dense (Dense)                   (None, None, 10000)  2570000     lstm_3[0][0]                     \n",
      "==================================================================================================\n",
      "Total params: 8,249,104\n",
      "Trainable params: 8,249,104\n",
      "Non-trainable params: 0\n",
      "__________________________________________________________________________________________________\n"
     ]
    }
   ],
   "source": [
    "# 디코더의 출력층\n",
    "decoder_softmax_layer = Dense(tar_vocab, activation='softmax')\n",
    "decoder_softmax_outputs = decoder_softmax_layer(decoder_outputs) \n",
    "\n",
    "# 모델 정의\n",
    "model = Model([encoder_inputs, decoder_inputs], decoder_softmax_outputs)\n",
    "model.summary()"
   ]
  },
  {
   "cell_type": "code",
   "execution_count": 48,
   "id": "80b48680",
   "metadata": {},
   "outputs": [],
   "source": [
    "from tensorflow.keras.layers import AdditiveAttention"
   ]
  },
  {
   "cell_type": "code",
   "execution_count": 49,
   "id": "caaeeb72",
   "metadata": {
    "scrolled": true
   },
   "outputs": [
    {
     "name": "stdout",
     "output_type": "stream",
     "text": [
      "Model: \"model_1\"\n",
      "__________________________________________________________________________________________________\n",
      "Layer (type)                    Output Shape         Param #     Connected to                     \n",
      "==================================================================================================\n",
      "input_1 (InputLayer)            [(None, 40)]         0                                            \n",
      "__________________________________________________________________________________________________\n",
      "embedding (Embedding)           (None, 40, 128)      2560000     input_1[0][0]                    \n",
      "__________________________________________________________________________________________________\n",
      "lstm (LSTM)                     [(None, 40, 256), (N 394240      embedding[0][0]                  \n",
      "__________________________________________________________________________________________________\n",
      "input_2 (InputLayer)            [(None, None)]       0                                            \n",
      "__________________________________________________________________________________________________\n",
      "lstm_1 (LSTM)                   [(None, 40, 256), (N 525312      lstm[0][0]                       \n",
      "__________________________________________________________________________________________________\n",
      "embedding_1 (Embedding)         (None, None, 128)    1280000     input_2[0][0]                    \n",
      "__________________________________________________________________________________________________\n",
      "lstm_2 (LSTM)                   [(None, 40, 256), (N 525312      lstm_1[0][0]                     \n",
      "__________________________________________________________________________________________________\n",
      "lstm_3 (LSTM)                   [(None, None, 256),  394240      embedding_1[0][0]                \n",
      "                                                                 lstm_2[0][1]                     \n",
      "                                                                 lstm_2[0][2]                     \n",
      "__________________________________________________________________________________________________\n",
      "attention_layer (AdditiveAttent (None, None, 256)    256         lstm_3[0][0]                     \n",
      "                                                                 lstm_2[0][0]                     \n",
      "__________________________________________________________________________________________________\n",
      "concat_layer (Concatenate)      (None, None, 512)    0           lstm_3[0][0]                     \n",
      "                                                                 attention_layer[0][0]            \n",
      "__________________________________________________________________________________________________\n",
      "dense_1 (Dense)                 (None, None, 10000)  5130000     concat_layer[0][0]               \n",
      "==================================================================================================\n",
      "Total params: 10,809,360\n",
      "Trainable params: 10,809,360\n",
      "Non-trainable params: 0\n",
      "__________________________________________________________________________________________________\n"
     ]
    }
   ],
   "source": [
    "# 어텐션 층(어텐션 함수)\n",
    "attn_layer = AdditiveAttention(name='attention_layer')\n",
    "\n",
    "# 인코더와 디코더의 모든 time step의 hidden state를 어텐션 층에 전달하고 결과를 리턴\n",
    "attn_out = attn_layer([decoder_outputs, encoder_output3])\n",
    "\n",
    "# 어텐션의 결과와 디코더의 hidden state들을 연결\n",
    "decoder_concat_input = Concatenate(axis=-1, name='concat_layer')([decoder_outputs, attn_out])\n",
    "\n",
    "# 디코더의 출력층\n",
    "decoder_softmax_layer = Dense(tar_vocab, activation='softmax')\n",
    "decoder_softmax_outputs = decoder_softmax_layer(decoder_concat_input)\n",
    "\n",
    "# 모델 정의\n",
    "model = Model([encoder_inputs, decoder_inputs], decoder_softmax_outputs)\n",
    "model.summary()"
   ]
  },
  {
   "cell_type": "code",
   "execution_count": 50,
   "id": "f1722888",
   "metadata": {},
   "outputs": [
    {
     "name": "stdout",
     "output_type": "stream",
     "text": [
      "Epoch 1/50\n",
      "256/256 [==============================] - 27s 76ms/step - loss: 6.7557 - val_loss: 6.3147\n",
      "\n",
      "Epoch 00001: val_loss improved from inf to 6.31471, saving model to newsSumm_best_model.h5\n",
      "Epoch 2/50\n",
      "256/256 [==============================] - 19s 73ms/step - loss: 6.2851 - val_loss: 5.8931\n",
      "\n",
      "Epoch 00002: val_loss improved from 6.31471 to 5.89309, saving model to newsSumm_best_model.h5\n",
      "Epoch 3/50\n",
      "256/256 [==============================] - 19s 75ms/step - loss: 5.6663 - val_loss: 5.4374\n",
      "\n",
      "Epoch 00003: val_loss improved from 5.89309 to 5.43743, saving model to newsSumm_best_model.h5\n",
      "Epoch 4/50\n",
      "256/256 [==============================] - 20s 76ms/step - loss: 5.1550 - val_loss: 5.1418\n",
      "\n",
      "Epoch 00004: val_loss improved from 5.43743 to 5.14182, saving model to newsSumm_best_model.h5\n",
      "Epoch 5/50\n",
      "256/256 [==============================] - 20s 78ms/step - loss: 4.7470 - val_loss: 4.9687\n",
      "\n",
      "Epoch 00005: val_loss improved from 5.14182 to 4.96875, saving model to newsSumm_best_model.h5\n",
      "Epoch 6/50\n",
      "256/256 [==============================] - 20s 80ms/step - loss: 4.4171 - val_loss: 4.8451\n",
      "\n",
      "Epoch 00006: val_loss improved from 4.96875 to 4.84510, saving model to newsSumm_best_model.h5\n",
      "Epoch 7/50\n",
      "256/256 [==============================] - 21s 81ms/step - loss: 4.1357 - val_loss: 4.7607\n",
      "\n",
      "Epoch 00007: val_loss improved from 4.84510 to 4.76075, saving model to newsSumm_best_model.h5\n",
      "Epoch 8/50\n",
      "256/256 [==============================] - 21s 80ms/step - loss: 3.8892 - val_loss: 4.7116\n",
      "\n",
      "Epoch 00008: val_loss improved from 4.76075 to 4.71156, saving model to newsSumm_best_model.h5\n",
      "Epoch 9/50\n",
      "256/256 [==============================] - 20s 80ms/step - loss: 3.6667 - val_loss: 4.6768\n",
      "\n",
      "Epoch 00009: val_loss improved from 4.71156 to 4.67678, saving model to newsSumm_best_model.h5\n",
      "Epoch 10/50\n",
      "256/256 [==============================] - 20s 80ms/step - loss: 3.4650 - val_loss: 4.6517\n",
      "\n",
      "Epoch 00010: val_loss improved from 4.67678 to 4.65170, saving model to newsSumm_best_model.h5\n",
      "Epoch 11/50\n",
      "256/256 [==============================] - 21s 81ms/step - loss: 3.2807 - val_loss: 4.6566\n",
      "\n",
      "Epoch 00011: val_loss did not improve from 4.65170\n",
      "Epoch 12/50\n",
      "256/256 [==============================] - 21s 81ms/step - loss: 3.1120 - val_loss: 4.6587\n",
      "\n",
      "Epoch 00012: val_loss did not improve from 4.65170\n",
      "Epoch 13/50\n",
      "256/256 [==============================] - 20s 80ms/step - loss: 2.9565 - val_loss: 4.6760\n",
      "\n",
      "Epoch 00013: val_loss did not improve from 4.65170\n",
      "Epoch 14/50\n",
      "256/256 [==============================] - 21s 80ms/step - loss: 2.8123 - val_loss: 4.6903\n",
      "\n",
      "Epoch 00014: val_loss did not improve from 4.65170\n",
      "Epoch 15/50\n",
      "256/256 [==============================] - 20s 80ms/step - loss: 2.6805 - val_loss: 4.7242\n",
      "Restoring model weights from the end of the best epoch.\n",
      "\n",
      "Epoch 00015: val_loss did not improve from 4.65170\n",
      "Epoch 00015: early stopping\n"
     ]
    }
   ],
   "source": [
    "# 모델 컴파일\n",
    "model.compile(optimizer='adam', loss='sparse_categorical_crossentropy')\n",
    "\n",
    "# 콜백 설정\n",
    "es = EarlyStopping(monitor='val_loss', patience=5, verbose=1, restore_best_weights=True)  # 조기 종료\n",
    "mc = ModelCheckpoint('newsSumm_best_model.h5', monitor='val_loss', save_best_only=True, verbose=1)  # 최고 성능 모델 저장\n",
    "\n",
    "# 모델 학습\n",
    "history = model.fit(\n",
    "    x=[encoder_input_train, decoder_input_train],\n",
    "    y=decoder_target_train,\n",
    "    validation_data=([encoder_input_test, decoder_input_test], decoder_target_test),\n",
    "    batch_size=256,\n",
    "    callbacks=[es, mc],  # ModelCheckpoint 추가\n",
    "    epochs=50\n",
    ")"
   ]
  },
  {
   "cell_type": "code",
   "execution_count": 51,
   "id": "66b5e8ae",
   "metadata": {},
   "outputs": [
    {
     "data": {
      "image/png": "[encoded data removed]",
      "text/plain": [
       "<Figure size 432x288 with 1 Axes>"
      ]
     },
     "metadata": {
      "needs_background": "light"
     },
     "output_type": "display_data"
    }
   ],
   "source": [
    "# 학습과정 시각화\n",
    "plt.plot(history.history['loss'], label='train')\n",
    "plt.plot(history.history['val_loss'], label='test')\n",
    "plt.legend()\n",
    "plt.show()"
   ]
  },
  {
   "cell_type": "code",
   "execution_count": 52,
   "id": "f59338b3",
   "metadata": {},
   "outputs": [],
   "source": [
    "# 인퍼런스 모델 구현\n",
    "#정수 -> 단어, 단어 -> 정수 복원 기능 변수 선정\n",
    "\n",
    "src_index_to_word = src_tokenizer.index_word # 원문 단어 집합에서 정수 -> 단어를 얻음\n",
    "tar_word_to_index = tar_tokenizer.word_index # 요약 단어 집합에서 단어 -> 정수를 얻음\n",
    "tar_index_to_word = tar_tokenizer.index_word # 요약 단어 집합에서 정수 -> 단어를 얻음"
   ]
  },
  {
   "cell_type": "code",
   "execution_count": 53,
   "id": "6f188b47",
   "metadata": {},
   "outputs": [],
   "source": [
    "# 인코더 설계\n",
    "encoder_model = Model(inputs=encoder_inputs, outputs=[encoder_output3, state_h3, state_c3])\n",
    "\n",
    "# 이전 시점의 상태들을 저장하는 텐서\n",
    "decoder_state_input_h = Input(shape=(hidden_size,))\n",
    "decoder_state_input_c = Input(shape=(hidden_size,))\n",
    "\n",
    "dec_emb2 = dec_emb_layer(decoder_inputs)\n",
    "\n",
    "# 문장의 다음 단어를 예측하기 위해서 초기 상태(initial_state)를 이전 시점의 상태로 사용. 이는 뒤의 함수 decode_sequence()에 구현\n",
    "# 훈련 과정에서와 달리 LSTM의 리턴하는 은닉 상태와 셀 상태인 state_h와 state_c를 버리지 않음.\n",
    "decoder_outputs2, state_h2, state_c2 = decoder_lstm(dec_emb2, initial_state=[decoder_state_input_h, decoder_state_input_c])"
   ]
  },
  {
   "cell_type": "code",
   "execution_count": 54,
   "id": "9148a30a",
   "metadata": {},
   "outputs": [],
   "source": [
    "# 어텐션 함수\n",
    "decoder_hidden_state_input = Input(shape=(text_max_len, hidden_size))\n",
    "\n",
    "# 학습모델 어텐션 구조와 비교\n",
    "#attn_layer = AdditiveAttention(name='attention_layer')\n",
    "#attn_out = attn_layer([decoder_outputs, encoder_output3])\n",
    "#decoder_concat_input = Concatenate(axis=-1, name='concat_layer')([decoder_outputs, attn_out])\n",
    "\n",
    "attn_out_inf = attn_layer([decoder_outputs2, decoder_hidden_state_input])\n",
    "decoder_inf_concat = Concatenate(axis=-1, name='concat')([decoder_outputs2, attn_out_inf])\n",
    "\n",
    "# 디코더의 출력층\n",
    "decoder_outputs2 = decoder_softmax_layer(decoder_inf_concat) \n",
    "\n",
    "# 최종 디코더 모델\n",
    "decoder_model = Model(\n",
    "    [decoder_inputs] + [decoder_hidden_state_input,decoder_state_input_h, decoder_state_input_c],\n",
    "    [decoder_outputs2] + [state_h2, state_c2])"
   ]
  },
  {
   "cell_type": "code",
   "execution_count": 55,
   "id": "9acd8875",
   "metadata": {},
   "outputs": [],
   "source": [
    "# 단어 시퀀스 출력을 위한 함수\n",
    "def decode_sequence(input_seq):\n",
    "    # 입력으로부터 인코더의 상태를 얻음\n",
    "    e_out, e_h, e_c = encoder_model.predict(input_seq)\n",
    "\n",
    "     # <SOS>에 해당하는 토큰 생성\n",
    "    target_seq = np.zeros((1,1))\n",
    "    target_seq[0, 0] = tar_word_to_index['sostoken']\n",
    "\n",
    "    stop_condition = False\n",
    "    decoded_sentence = ''\n",
    "    while not stop_condition: # stop_condition이 True가 될 때까지 루프 반복\n",
    "\n",
    "        output_tokens, h, c = decoder_model.predict([target_seq] + [e_out, e_h, e_c])\n",
    "        sampled_token_index = np.argmax(output_tokens[0, -1, :])\n",
    "        sampled_token = tar_index_to_word[sampled_token_index]\n",
    "\n",
    "        if (sampled_token!='eostoken'):\n",
    "            decoded_sentence += ' '+sampled_token\n",
    "\n",
    "        #  <eos>에 도달하거나 최대 길이를 넘으면 중단.\n",
    "        if (sampled_token == 'eostoken'  or len(decoded_sentence.split()) >= (headlines_max_len-1)):\n",
    "            stop_condition = True\n",
    "\n",
    "        # 길이가 1인 타겟 시퀀스를 업데이트\n",
    "        target_seq = np.zeros((1,1))\n",
    "        target_seq[0, 0] = sampled_token_index\n",
    "\n",
    "        # 상태를 업데이트 합니다.\n",
    "        e_h, e_c = h, c\n",
    "\n",
    "    return decoded_sentence"
   ]
  },
  {
   "cell_type": "code",
   "execution_count": 56,
   "id": "6ce18684",
   "metadata": {},
   "outputs": [],
   "source": [
    "# 원문의 정수 시퀀스를 텍스트 시퀀스로 변환\n",
    "def seq2text(input_seq):\n",
    "    temp=''\n",
    "    for i in input_seq:\n",
    "        if (i!=0):\n",
    "            temp = temp + src_index_to_word[i]+' '\n",
    "    return temp\n",
    "\n",
    "# 요약문의 정수 시퀀스를 텍스트 시퀀스로 변환\n",
    "def seq2summary(input_seq):\n",
    "    temp=''\n",
    "    for i in input_seq:\n",
    "        if i not in [0, 1, 2]:\n",
    "            temp = temp + src_index_to_word[i]+' '\n",
    "    return temp"
   ]
  },
  {
   "cell_type": "code",
   "execution_count": 57,
   "id": "9151e640",
   "metadata": {},
   "outputs": [
    {
     "name": "stdout",
     "output_type": "stream",
     "text": [
      "원문 : music composer singer pritam said would want auction guitar gifted shah rukh khan charity srk wrote instagram gifted pritam jab harry met sejal shooting pritam gifted film beautiful music return pass would put auction charity commented pritam \n",
      "실제 요약 : wife reached bhargava denying officer indonesia \n",
      "예측 요약 :  happy late legend priyanka chopra\n",
      "\n",
      "\n",
      "원문 : punjab government set target planting two crore saplings across state year green mission state forest minister sadhu singh said state government planning acquire land alongside roads plant saplings plantation maintenance saplings would handed concerned panchayats schools \n",
      "실제 요약 : play girl rejected government exists wrote crore \n",
      "예측 요약 :  delhi government approves crore diwali\n",
      "\n",
      "\n",
      "원문 : former india captain mahendra singh dhoni ex australian opener matthew hayden participate six hitting contest chidambaram stadium chennai saturday competition take place ahead inaugural match tamil nadu premier league second edition dhoni players face bowling machine one hour contest \n",
      "실제 요약 : back shamed suspicious points deleted compared \n",
      "예측 요약 :  dhoni jadeja hit bat test\n",
      "\n",
      "\n",
      "원문 : two people accused two separate cases convicted prevention money laundering act since came effect finance minister arun jaitley said friday added cases registered money laundering act past decade prosecution filed cases \n",
      "실제 요약 : time stadium online questioning image tuesday \n",
      "예측 요약 :  cases filed cases filed ex fm\n",
      "\n",
      "\n",
      "원문 : rape victim biological age mental age determine whether trial case held protection children sexual offences act supreme court ruled friday came response pil filed mother year old victim suffering cerebral palsy leaving mental age six year old \n",
      "실제 요약 : cm debut statements showing permanent jet \n",
      "예측 요약 :  rape victim accused kathua rape victim\n",
      "\n",
      "\n",
      "원문 : us retail giant walmart topped fortune global list revenue billion marking fourth consecutive year since retailer claimed top spot times list ranks companies based total revenues warren buffett berkshire hathaway tech giant apple among top \n",
      "실제 요약 : hand mob wonder mark chairman asked citing crore \n",
      "예측 요약 :  amazon posts highest ever quarterly profit billion\n",
      "\n",
      "\n",
      "원문 : reliance industries mukesh ambani speaking company th annual meeting said india highest income tax private sector paid crore year moreover reliance paid crore customs excise duty india total ambani said reliance crore net profit highest indian corporate sector \n",
      "실제 요약 : lanka along dropped american research boss year \n",
      "예측 요약 :  mukesh ambani earned crore salary india\n",
      "\n",
      "\n",
      "원문 : seven indian companies featured year fortune global list indian oil revenues billion previous fiscal highest ranked indian company placed th globally gold manufacturing company rajesh exports rose ranks placed th globally hindustan petroleum revenue billion came last among indian companies \n",
      "실제 요약 : devendra minister militant league wonder mark chairman \n",
      "예측 요약 :  india gdp rises crore sept quarter\n",
      "\n",
      "\n",
      "원문 : ford deployed golden nose experts smell materials go inside cars sold china remove new car car seats stored cloth bags avoid new smell china chemical comes society grown air pollution said parts manufacturer \n",
      "실제 요약 : ashok wishing falling bring court five \n",
      "예측 요약 :  ford unveils flying flying cars\n",
      "\n",
      "\n",
      "원문 : actor filmmaker arbaaz khan tweeted khan directed tiger shroff starrer munna michael never approached direct write dabangg arbaaz wrote statement english daily untrue rubbish earlier said happy one directors selected work dabangg final script \n",
      "실제 요약 : body stole michael stolen boring bobby \n",
      "예측 요약 :  tiger shroff star baaghi director\n",
      "\n",
      "\n",
      "원문 : tiger shroff nawazuddin siddiqui starrer munna michael released friday film everybody would look jump chance break song wrote ht ndtv called mixed genre never hits kind rhythm koimoi wrote script lacks purpose rated \n",
      "실제 요약 : trade shivraj apologised intimate anurag hospital night \n",
      "예측 요약 :  nawazuddin starrer manto hits theatres\n",
      "\n",
      "\n",
      "원문 : indian badminton player kidambi srikanth total prize money till date year highest among shuttlers srikanth earned total prize money till winning indonesia australian opens coming second singapore open earnings double second placed malaysia lee wei \n",
      "실제 요약 : ideology give amitabh online along two \n",
      "예측 요약 :  sindhu earned crore prize money\n",
      "\n",
      "\n",
      "원문 : harmanpreet kaur unbeaten australia world cup semi final highest individual score women world cup knockout match kaur came balls fastest woman cricketer world cup history kaur also became first indian woman score plus score world cup \n",
      "실제 요약 : nations screening allow death investing \n",
      "예측 요약 :  world cup win nd ever history\n",
      "\n",
      "\n",
      "원문 : technology giant apple featured world profitable company fortune list largest companies founded apple reported profit billion previous fiscal year terms revenue apple ranked th world companies like walmart volkswagen berkshire hathaway \n",
      "실제 요약 : video speaking unconscious ahead wonder mark \n",
      "예측 요약 :  apple valuable world valuable firm\n",
      "\n",
      "\n",
      "원문 : billionaire mark zuckerberg led social media major facebook debuted rank fortune list world largest companies facebook registered straight profitable quarters reported revenue billion last fiscal chinese internet giant tencent entrepreneur jack alibaba also debuted list year \n",
      "실제 요약 : announced wicketkeeper wonder mark chairman years three \n",
      "예측 요약 :  facebook ceo earned million\n",
      "\n",
      "\n",
      "원문 : social media giant facebook division building reportedly working modular smartphones parts company filed patent details modular electromagnetic device let users switch outdated components building led former google executive oversaw development scrapped modular smartphone project ara \n",
      "실제 요약 : announced final isro last \n",
      "예측 요약 :  facebook working self driving\n",
      "\n",
      "\n",
      "원문 : chuck founder majority owner persuaded americans eat fast food restaurants considered trash fish worth billion started fishing college pocket sells chains including costco \n",
      "실제 요약 : india us change stampede beaten price \n",
      "예측 요약 :  man sues airline\n",
      "\n",
      "\n",
      "원문 : economic political weekly editor guha resigned position legal notice served adani group academic journal notice regard story allegedly sought expose adani group company earning tax refund crore notice claimed story misleading derogatory \n",
      "실제 요약 : coffee nick germany senior abandoned top \n",
      "예측 요약 :  paradise papers case\n",
      "\n",
      "\n",
      "원문 : actor smith wife smith speaking relationship late rapper revealed first met drug dealer kinda hard really told whole story added talking marriage said love family gets us \n",
      "실제 요약 : report revenue friday virat done locality \n",
      "예측 요약 :  wife wife shot us\n",
      "\n",
      "\n",
      "원문 : akshay kumar currently daughter shooting gold said respect wife twinkle khanna increased confess little girl tough job added akshay said know writes designs looks children still manages stay calm days \n",
      "실제 요약 : overs inquiry thanked event \n",
      "예측 요약 :  woman harassed man harassed akshay\n",
      "\n",
      "\n",
      "원문 : man slammed iifa awards facebook falsely claiming ceremony feature shah rukh khan priyanka chopra hollywood actors julia roberts matt damon also shared posters event featuring actors claimed people paid kids dance salman khan activity happen \n",
      "실제 요약 : us social smell acting dhoni officer donald bedroom \n",
      "예측 요약 :  salman khan slammed picture salman khan\n",
      "\n",
      "\n",
      "원문 : lipstick burkha director shrivastava said censors problem female point view adding comfortable something questions status quo also said male perspective popular culture led discrimination women makes stalking seem like love makes harassment abuse women okay \n",
      "실제 요약 : craft passed husband trainee total \n",
      "예측 요약 :  never think back people like sabyasachi\n",
      "\n",
      "\n",
      "원문 : man threw three year old daughter canal haryana faridabad become tantrik police claimed man claimed daughter went missing july filed kidnapping complaint truth later revealed police scanned cctv footage area man confessed crime police confronted \n",
      "실제 요약 : us changes crore one notably gravity good substantial \n",
      "예측 요약 :  man kills wife refusing ablaze\n",
      "\n",
      "\n",
      "원문 : pro kannada group karnataka rakshana vedike protested front bruhat bengaluru mahanagara palike demanding removal hindi signboards city stating sign boards state kannada group threatened hindi boards demands met \n",
      "실제 요약 : alongside hacked top km buses access \n",
      "예측 요약 :  kannada body uses students using students\n",
      "\n",
      "\n",
      "원문 : swiss tennis player roger federer recently th grand slam title wimbledon said would joke wins third slam year us open anymore sure win three slams winning two already pretty crazy plenty good enough said year old \n",
      "실제 요약 : issues start social crore life sometimes pm attempt \n",
      "예측 요약 :  federer wins grand slam title\n",
      "\n",
      "\n",
      "원문 : west bengal chief minister mamata banerjee friday said trinamool congress would launch bjp bharat movement august residing india time know whether democracy said addressing martyr day rally commemorating kolkata firing \n",
      "실제 요약 : scheme cut film loss threw sentiments \n",
      "예측 요약 :  mamata banerjee says mamata banerjee\n",
      "\n",
      "\n",
      "원문 : central government friday blamed west bengal chief minister mamata banerjee unrest related demands separate state gorkhaland darjeeling parliamentary affairs minister ananth kumar said must peace quiet hills set fire reason chief minister attitude handling issue \n",
      "실제 요약 : students drive scheme destroy gravitational slept \n",
      "예측 요약 :  wb govt seeks special status mamata\n",
      "\n",
      "\n",
      "원문 : portrait australian batsman david warner named pocket rocket painted artist james bald competition competition australian artists focuses artwork judged sulphur bird painting celebration explosive batsman tiny dig vertically challenged stature said \n",
      "실제 요약 : resort bottle vijay dig introduced official territory class \n",
      "예측 요약 :  ronaldo landing barcelona\n",
      "\n",
      "\n",
      "원문 : according regulatory filing reliance jio planning raise crore rights issue convertible preference shares fixed income securities turned certain number shares common stock period take total investment reliance industries telecom arm lakh crore \n",
      "실제 요약 : lanka title operations government tournament passed \n",
      "예측 요약 :  rcom shares surge crore reliance jio\n",
      "\n",
      "\n",
      "원문 : apollo astronauts neil armstrong buzz aldrin first humans land moon left behind items lunar surface items include tools astronauts space gear trash including human waste plaque words men planet earth first set foot upon moon also \n",
      "실제 요약 : palestinians assumed egg feel sending brother \n",
      "예측 요약 :  astronauts iss astronauts iss\n",
      "\n",
      "\n",
      "원문 : nagaland chief minister tr vote confidence state assembly friday support mlas appointed cm former cm sacked appearing floor test cm forced resign protest tribals \n",
      "실제 요약 : crash president official plan dmk plans \n",
      "예측 요약 :  nagaland cm contesting nagaland cm\n",
      "\n",
      "\n",
      "원문 : reliance industries chairman mukesh ambani speaking company th annual general meeting said invested reliance shares today worth lakh means company stock times valuable notably company market cap grown crore lakh crore \n",
      "실제 요약 : cargo lanka kept china man \n",
      "예측 요약 :  ambani reliance industries mukesh ambani reliance jio\n",
      "\n",
      "\n",
      "원문 : nawazuddin siddiqui revealed faced prejudice life dark complexion humble background added discrimination begins home mother asks son marry fair wife kids dark complexion nawazuddin said rejected films complexion added hero ka \n",
      "실제 요약 : seriously kapoor reforms apologised \n",
      "예측 요약 :  nawazuddin wife shares video\n",
      "\n",
      "\n",
      "원문 : trailer amole gupte upcoming directorial bollywood youngest spy superhero released film revolves around life sunny gill young punjabi kid lacks ability smell surroundings produced jyoti deshpande amole gupte ajit thakur scheduled release august \n",
      "실제 요약 : priyanka grabbed car \n",
      "예측 요약 :  trailer abhishek\n",
      "\n",
      "\n",
      "원문 : actress richa chadha make debut television judge queens comedy talent hunt show female comedians judges panel include rohan joshi aib female stand comedian winner get show television channel india \n",
      "실제 요약 : bound sensors took foreign companies amid pink \n",
      "예측 요약 :  richa chadha refuses film housefull\n",
      "\n",
      "\n",
      "원문 : ex miss universe lara dutta set mentor aspiring candidates annual contest miss miss universe india contest winner represent india next edition miss universe hope season one brings us exceptional girl bring miss universe crown back india said lara \n",
      "실제 요약 : allegedly innings wait constituencies broadcast register driven vest \n",
      "예측 요약 :  stephen hawking invited world stephen hawking\n",
      "\n",
      "\n",
      "원문 : chinese government banned singer justin bieber performing country engaged series bad social life previous performance china bieber perform asia later year concerts scheduled countries like indonesia japan singapore part purpose world tour \n",
      "실제 요약 : company best enterprises specific wants sitharaman \n",
      "예측 요약 :  china bans chicken skills\n",
      "\n",
      "\n",
      "원문 : painting went missing air india archives recently delivered airline head office via post package mention sender name painting made das air india rolled damaged condition address registered sender found fake one gurugram \n",
      "실제 요약 : national year open fix richard lost lead \n",
      "예측 요약 :  hotel opens hotel open\n",
      "\n",
      "\n",
      "원문 : delhi high court gave home ministry six weeks comply judgment court found bjp congress defying norms foreign contribution act act prohibits political parties legislator accepting foreign contributions court directed ministry election commission take action within six months \n",
      "실제 요약 : mumbai leader students image film tweeted rao based \n",
      "예측 요약 :  hc upholds notice rohingyas\n",
      "\n",
      "\n",
      "원문 : gujarat government decided celebrate world heritage city status granted ahmedabad unesco fortnight programme starting august include heritage walks cultural events lectures year old city flights gujarat serve gujarati cuisine passengers week long celebration \n",
      "실제 요약 : lee joint alternative jammu kapil actress \n",
      "예측 요약 :  telangana cm declares national anthem\n",
      "\n",
      "\n",
      "원문 : cash strapped technology group leeco main publicly listed arm said sun property developer china take chairman founder jia yueting sun also chairman invested crore leeco earlier year jia focus leeco electric vehicles partner faraday future us \n",
      "실제 요약 : freeze hard court ban operating pillar \n",
      "예측 요약 :  goldman sachs founder jack freecharge merger\n",
      "\n",
      "\n",
      "원문 : federal trade commission us reportedly probing allegations amazon customers discount pricing complaint advocacy group consumer watchdog claims price listed discounted items often higher actual price users believing saving money group asked block amazon whole foods acquisition \n",
      "실제 요약 : week revealed palace including feared mughal \n",
      "예측 요약 :  us firm sues google firm data\n",
      "\n",
      "\n",
      "원문 : airtel said due tsunami calls coming jio airtel loses paisa every minute amounting crore per quarter jio seeking end interconnection usage charge transfer costs crore year operators airtel said airtel accused jio using design create monopoly \n",
      "실제 요약 : love delhi economic title undergoing make currency \n",
      "예측 요약 :  reliance jio shares fall crore\n",
      "\n",
      "\n",
      "원문 : chief executive officer giant wipro said worst behind wipro able come back industry matching growth speaking chairman azim premji said great working relationship ceo gives complete authority holds accountable delivery results \n",
      "실제 요약 : screen illness day \n",
      "예측 요약 :  wipro appoints ceo\n",
      "\n",
      "\n",
      "원문 : jha husband jagga jasoos actress allegedly committed suicide earlier week sent days judicial custody comes arrest charges abetment suicide father accused extra marital affair police said jha admitted relationship another woman \n",
      "실제 요약 : received santa placing seen actor even \n",
      "예측 요약 :  wife arrested raping minor girl\n",
      "\n",
      "\n",
      "원문 : group locals allegedly set fire motorcycle owned unidentified man hit kanwar procession gurugram sohna thursday alleged three youths bike intentionally hit escaped soon police however maintained minor accident probing matter \n",
      "실제 요약 : managed want incident hospital gilchrist scheduled \n",
      "예측 요약 :  robbers fire delhi cop caught\n",
      "\n",
      "\n",
      "원문 : addition four bjp mlas two aap mlas member delhi vidhan sabha also voted nda backed presidential candidate ram nath kovind polls thursday prior polls aap announced support opposition candidate kumar two mlas cross voted suspected among suspended legislators \n",
      "실제 요약 : age fell arrived riding session people plans \n",
      "예측 요약 :  bjp mlas contesting nagaland assembly polls\n",
      "\n",
      "\n",
      "원문 : year old widow indian air force pilot died plane crash waited years get due special pension appeal got rejected saying husband already availed insurance benefits military court finally gave special pension widows officers died duty \n",
      "실제 요약 : theatres makes japan cameras shashi restaurants tuesday \n",
      "예측 요약 :  indian tourist crashes plane crashes air\n",
      "\n",
      "\n",
      "원문 : punjab director general police suresh arora said state police increase presence social media tackle hate spread online police set facebook social media handles rumours forces sitting foreign countries trying communal atmosphere state added \n",
      "실제 요약 : play congress idol changing character kerala bankruptcy \n",
      "예측 요약 :  nia police issues video criminals\n",
      "\n",
      "\n",
      "원문 : following indian women cricketer harmanpreet kaur unbeaten run knock world cup semi final ravi shastri compared kapil dev shastri posted harmanpreet picture alongside dev run innings zimbabwe world cup dev led india run victory zimbabwe league stage coming bat india \n",
      "실제 요약 : universe super coaches screening stranded minutes operational \n",
      "예측 요약 :  srk srk srk win koffee gavaskar\n",
      "\n",
      "\n"
     ]
    }
   ],
   "source": [
    "# 50개 샘플 테스트\n",
    "for i in range(50):\n",
    "    print(\"원문 :\", seq2text(encoder_input_test[i]))\n",
    "    print(\"실제 요약 :\", seq2summary(decoder_input_test[i]))\n",
    "    print(\"예측 요약 :\", decode_sequence(encoder_input_test[i].reshape(1, text_max_len)))\n",
    "    print(\"\\n\")"
   ]
  },
  {
   "cell_type": "code",
   "execution_count": 58,
   "id": "66ab8337",
   "metadata": {},
   "outputs": [],
   "source": [
    "# 추출적 요약과 비교\n",
    "\n",
    "from summa.summarizer import summarize"
   ]
  },
  {
   "cell_type": "code",
   "execution_count": 59,
   "id": "a541785f",
   "metadata": {},
   "outputs": [],
   "source": [
    "# 비교 테스트에 쓸 뉴스 샘플\n",
    "test_list= [\"The United Nations has announced that it will hold an emergency meeting to discuss the humanitarian crisis in Gaza. The meeting comes after several countries called for immediate action to address the worsening conditions. UN officials stated that they are deeply concerned about the lack of food, water, and medical supplies in the region.\",\n",
    "            \"Scientists at Harvard University have developed a new type of battery that can charge in under five minutes. The battery uses a special lithium-ion technology that enhances conductivity and reduces heating issues. Researchers believe that this breakthrough could revolutionize the electric vehicle industry by making charging times comparable to refueling gas-powered cars.\",\n",
    "            \"The global economy is expected to grow by 3.2% this year, according to the latest report by the International Monetary Fund. The report highlights that while growth remains steady in developed countries, emerging markets are experiencing fluctuations due to geopolitical tensions and supply chain disruptions. Economists warn that inflation could impact consumer spending in the coming months.\",\n",
    "            \"Lionel Messi led his team to victory in the latest championship match, scoring two goals and assisting another. Fans cheered as the star player delivered an outstanding performance, securing a 3-1 win for his team. With this victory, Messi's team has advanced to the final round of the tournament.\",\n",
    "            \"Apple has unveiled its latest iPhone model, featuring an improved camera system and a longer-lasting battery. The new device includes a more powerful processor, enabling faster performance and enhanced AI capabilities. Apple executives stated that the phone is designed to offer the best user experience yet.\"]"
   ]
  },
  {
   "cell_type": "code",
   "execution_count": 60,
   "id": "a18e0073",
   "metadata": {},
   "outputs": [],
   "source": [
    "# 테스트 입력문 숫자 시퀀스로 변환\n",
    "encoded_test_list = src_tokenizer.texts_to_sequences(test_list)"
   ]
  },
  {
   "cell_type": "code",
   "execution_count": 67,
   "id": "e5b091a9",
   "metadata": {},
   "outputs": [],
   "source": [
    "# 패딩 후 array 변환\n",
    "encoded_test_list = pad_sequences(encoded_test_list, maxlen=text_max_len, padding='post')\n",
    "encoded_test_list = np.array(encoded_test_list)"
   ]
  },
  {
   "cell_type": "code",
   "execution_count": 68,
   "id": "a1ba825a",
   "metadata": {
    "scrolled": true
   },
   "outputs": [
    {
     "data": {
      "text/plain": [
       "array([[  401,   689,    84,  1097,   903,   381,  2450,  4962,  1429,\n",
       "         6676,   381,    54,   155,   316,    67,  2229,   304,  1503,\n",
       "        16146,  1555,   473,    74,   568,  3971,  2647,  1484,   363,\n",
       "          285,   424,  4789,   741,     0,     0,     0,     0,     0,\n",
       "            0,     0,     0,     0],\n",
       "       [  701,  4960,   259,   567,    27,  3076,  2309,   934,    90,\n",
       "          508,  2309,  1765,   360, 11248, 10422,   206, 12622, 13073,\n",
       "          644,   262,  1042, 10018,    86,   804,   685,   596,   244,\n",
       "         2479,   209,  1575,  2384,   836,     0,     0,     0,     0,\n",
       "            0,     0,     0,     0],\n",
       "       [  450,  1118,   455,  2734,     3,    57,  1565,   141,   115,\n",
       "         3421,   665,   141,  9685,   793,  1504, 12438,   567,   316,\n",
       "         6092,  2040, 11491,   102,  2660,  1983,  1642,  7651, 15200,\n",
       "         7932,  2968,    86,  1715,  1637,  2651,   994,   173,     0,\n",
       "            0,     0,     0,     0],\n",
       "       [ 3061,  1962,   137,    47,  1036,  1565,  2169,   101,  1821,\n",
       "           11,  1841, 11478,   165,   916, 15763,   341,   435,  2485,\n",
       "         4559,   982,  6668,   309,    47,  1036,    47,  3065,   308,\n",
       "          545,   813,     0,     0,     0,     0,     0,     0,     0,\n",
       "            0,     0,     0,     0],\n",
       "       [  257,  1143,  1565,   860,   694,  1808,  4460,  1167,   239,\n",
       "         1738,  9369,  2309,    27,   976,  1473,  2259, 10084,  7527,\n",
       "         3392,   982,  8201,  1600,  4879,   257,  3565,   568,   516,\n",
       "         1375,   796,   312,   203,  1172,   597,     0,     0,     0,\n",
       "            0,     0,     0,     0]], dtype=int32)"
      ]
     },
     "execution_count": 68,
     "metadata": {},
     "output_type": "execute_result"
    }
   ],
   "source": [
    "encoded_test_list"
   ]
  },
  {
   "cell_type": "code",
   "execution_count": 81,
   "id": "e119a0cf",
   "metadata": {
    "collapsed": true
   },
   "outputs": [
    {
     "name": "stdout",
     "output_type": "stream",
     "text": [
      "\n",
      " Example 1\n",
      "원문: The United Nations has announced that it will hold an emergency meeting to discuss the humanitarian crisis in Gaza. The meeting comes after several countries called for immediate action to address the worsening conditions. UN officials stated that they are deeply concerned about the lack of food, water, and medical supplies in the region.\n",
      "\n",
      " Example 2\n",
      "원문: Scientists at Harvard University have developed a new type of battery that can charge in under five minutes. The battery uses a special lithium-ion technology that enhances conductivity and reduces heating issues. Researchers believe that this breakthrough could revolutionize the electric vehicle industry by making charging times comparable to refueling gas-powered cars.\n",
      "\n",
      " Example 3\n",
      "원문: The global economy is expected to grow by 3.2% this year, according to the latest report by the International Monetary Fund. The report highlights that while growth remains steady in developed countries, emerging markets are experiencing fluctuations due to geopolitical tensions and supply chain disruptions. Economists warn that inflation could impact consumer spending in the coming months.\n",
      "\n",
      " Example 4\n",
      "원문: Lionel Messi led his team to victory in the latest championship match, scoring two goals and assisting another. Fans cheered as the star player delivered an outstanding performance, securing a 3-1 win for his team. With this victory, Messi's team has advanced to the final round of the tournament.\n",
      "\n",
      " Example 5\n",
      "원문: Apple has unveiled its latest iPhone model, featuring an improved camera system and a longer-lasting battery. The new device includes a more powerful processor, enabling faster performance and enhanced AI capabilities. Apple executives stated that the phone is designed to offer the best user experience yet.\n"
     ]
    }
   ],
   "source": [
    "#추출요약 결과 얻기\n",
    "result_summa = []\n",
    "\n",
    "for i, text in enumerate(test_list):\n",
    "\n",
    "    # 추출 요약\n",
    "    result_summa.append(summarize(text, words=40))"
   ]
  },
  {
   "cell_type": "code",
   "execution_count": 82,
   "id": "ce1dd5d4",
   "metadata": {},
   "outputs": [
    {
     "data": {
      "text/plain": [
       "['The United Nations has announced that it will hold an emergency meeting to discuss the humanitarian crisis in Gaza.\\nThe meeting comes after several countries called for immediate action to address the worsening conditions.',\n",
       " 'Scientists at Harvard University have developed a new type of battery that can charge in under five minutes.\\nThe battery uses a special lithium-ion technology that enhances conductivity and reduces heating issues.',\n",
       " 'The global economy is expected to grow by 3.2% this year, according to the latest report by the International Monetary Fund.\\nThe report highlights that while growth remains steady in developed countries, emerging markets are experiencing fluctuations due to geopolitical tensions and supply chain disruptions.',\n",
       " \"Lionel Messi led his team to victory in the latest championship match, scoring two goals and assisting another.\\nWith this victory, Messi's team has advanced to the final round of the tournament.\",\n",
       " 'Apple has unveiled its latest iPhone model, featuring an improved camera system and a longer-lasting battery.\\nThe new device includes a more powerful processor, enabling faster performance and enhanced AI capabilities.\\nApple executives stated that the phone is designed to offer the best user experience yet.']"
      ]
     },
     "execution_count": 82,
     "metadata": {},
     "output_type": "execute_result"
    }
   ],
   "source": [
    "result_summa"
   ]
  },
  {
   "cell_type": "code",
   "execution_count": 72,
   "id": "e945818b",
   "metadata": {},
   "outputs": [
    {
     "data": {
      "text/plain": [
       "' ai develops device detect electricity'"
      ]
     },
     "execution_count": 72,
     "metadata": {},
     "output_type": "execute_result"
    }
   ],
   "source": [
    "#decode_sequence(encoded_test_list[1].reshape(1, -1))"
   ]
  },
  {
   "cell_type": "code",
   "execution_count": 84,
   "id": "4d4e963f",
   "metadata": {},
   "outputs": [],
   "source": [
    "#추상요약 결과 얻기\n",
    "result_seq2seq = []\n",
    "\n",
    "for i, text in enumerate(encoded_test_list):\n",
    "\n",
    "    # 추상 요약\n",
    "    result_seq2seq.append(decode_sequence(text.reshape(1, -1)))"
   ]
  },
  {
   "cell_type": "code",
   "execution_count": 85,
   "id": "e68e1c2a",
   "metadata": {
    "scrolled": true
   },
   "outputs": [
    {
     "data": {
      "text/plain": [
       "[' us embassy agree un drills',\n",
       " ' ai develops device detect electricity',\n",
       " ' india ranks global global global programme imf',\n",
       " ' messi play messi play football match',\n",
       " ' apple unveils iphone screen screen']"
      ]
     },
     "execution_count": 85,
     "metadata": {},
     "output_type": "execute_result"
    }
   ],
   "source": [
    "result_seq2seq"
   ]
  },
  {
   "cell_type": "code",
   "execution_count": 87,
   "id": "5627666c",
   "metadata": {},
   "outputs": [
    {
     "data": {
      "text/html": [
       "<div>\n",
       "<style scoped>\n",
       "    .dataframe tbody tr th:only-of-type {\n",
       "        vertical-align: middle;\n",
       "    }\n",
       "\n",
       "    .dataframe tbody tr th {\n",
       "        vertical-align: top;\n",
       "    }\n",
       "\n",
       "    .dataframe thead th {\n",
       "        text-align: right;\n",
       "    }\n",
       "</style>\n",
       "<table border=\"1\" class=\"dataframe\">\n",
       "  <thead>\n",
       "    <tr style=\"text-align: right;\">\n",
       "      <th></th>\n",
       "      <th>추출 요약</th>\n",
       "      <th>추상 요약</th>\n",
       "    </tr>\n",
       "  </thead>\n",
       "  <tbody>\n",
       "    <tr>\n",
       "      <th>0</th>\n",
       "      <td>The United Nations has announced that it will ...</td>\n",
       "      <td>us embassy agree un drills</td>\n",
       "    </tr>\n",
       "    <tr>\n",
       "      <th>1</th>\n",
       "      <td>Scientists at Harvard University have develope...</td>\n",
       "      <td>ai develops device detect electricity</td>\n",
       "    </tr>\n",
       "    <tr>\n",
       "      <th>2</th>\n",
       "      <td>The global economy is expected to grow by 3.2%...</td>\n",
       "      <td>india ranks global global global programme imf</td>\n",
       "    </tr>\n",
       "    <tr>\n",
       "      <th>3</th>\n",
       "      <td>Lionel Messi led his team to victory in the la...</td>\n",
       "      <td>messi play messi play football match</td>\n",
       "    </tr>\n",
       "    <tr>\n",
       "      <th>4</th>\n",
       "      <td>Apple has unveiled its latest iPhone model, fe...</td>\n",
       "      <td>apple unveils iphone screen screen</td>\n",
       "    </tr>\n",
       "  </tbody>\n",
       "</table>\n",
       "</div>"
      ],
      "text/plain": [
       "                                               추출 요약  \\\n",
       "0  The United Nations has announced that it will ...   \n",
       "1  Scientists at Harvard University have develope...   \n",
       "2  The global economy is expected to grow by 3.2%...   \n",
       "3  Lionel Messi led his team to victory in the la...   \n",
       "4  Apple has unveiled its latest iPhone model, fe...   \n",
       "\n",
       "                                             추상 요약  \n",
       "0                       us embassy agree un drills  \n",
       "1            ai develops device detect electricity  \n",
       "2   india ranks global global global programme imf  \n",
       "3             messi play messi play football match  \n",
       "4               apple unveils iphone screen screen  "
      ]
     },
     "execution_count": 87,
     "metadata": {},
     "output_type": "execute_result"
    }
   ],
   "source": [
    "# 요약 결과 비교를 위한 데이터프레임 생성\n",
    "result_df = pd.DataFrame({'추출 요약': result_summa, '추상 요약': result_seq2seq})\n",
    "result_df"
   ]
  },
  {
   "cell_type": "markdown",
   "id": "0c3cde33",
   "metadata": {},
   "source": [
    "### 결론\n",
    " - 모델 성능이 웬만큼 좋지 않으면 추상 요약이 추출 요약보다 오히려 안좋음\n",
    " - 동일 단어가 중복되는 현상 발견(ex. global global global)"
   ]
  }
 ],
 "metadata": {
  "kernelspec": {
   "display_name": "Python 3 (ipykernel)",
   "language": "python",
   "name": "python3"
  },
  "language_info": {
   "codemirror_mode": {
    "name": "ipython",
    "version": 3
   },
   "file_extension": ".py",
   "mimetype": "text/x-python",
   "name": "python",
   "nbconvert_exporter": "python",
   "pygments_lexer": "ipython3",
   "version": "3.9.7"
  }
 },
 "nbformat": 4,
 "nbformat_minor": 5
}
